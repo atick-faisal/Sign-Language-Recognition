{
  "cells": [
    {
      "cell_type": "markdown",
      "metadata": {
        "id": "view-in-github",
        "colab_type": "text"
      },
      "source": [
        "<a href=\"https://colab.research.google.com/github/atick-faisal/Sign-Language-Recognition/blob/main/core/src/colab/Inference.ipynb\" target=\"_parent\"><img src=\"https://colab.research.google.com/assets/colab-badge.svg\" alt=\"Open In Colab\"/></a>"
      ]
    },
    {
      "cell_type": "code",
      "source": [
        "from google.colab import drive\n",
        "drive.mount('/content/drive')"
      ],
      "metadata": {
        "id": "JmRmSvWP8Ma-",
        "outputId": "9179b03b-bcf4-40ca-d596-6e7ba1afc9ce",
        "colab": {
          "base_uri": "https://localhost:8080/"
        }
      },
      "execution_count": 1,
      "outputs": [
        {
          "output_type": "stream",
          "name": "stdout",
          "text": [
            "Mounted at /content/drive\n"
          ]
        }
      ]
    },
    {
      "cell_type": "code",
      "source": [
        "!pip install rich\n",
        "!gdown \"1CACL0ogqPC87Tsqo3qxX31ve04_Cxdjf\"\n",
        "!tar -xf raw.tar.xz\n",
        "!git clone https://github.com/atick-faisal/Sign-Language-Recognition.git"
      ],
      "metadata": {
        "id": "V-n5fxnqAdnr",
        "outputId": "9d5fdf5f-e484-421f-b9c5-2e45f5bd2409",
        "colab": {
          "base_uri": "https://localhost:8080/"
        }
      },
      "execution_count": 2,
      "outputs": [
        {
          "output_type": "stream",
          "name": "stdout",
          "text": [
            "Looking in indexes: https://pypi.org/simple, https://us-python.pkg.dev/colab-wheels/public/simple/\n",
            "Collecting rich\n",
            "  Downloading rich-12.4.4-py3-none-any.whl (232 kB)\n",
            "\u001b[K     |████████████████████████████████| 232 kB 27.0 MB/s \n",
            "\u001b[?25hRequirement already satisfied: typing-extensions<5.0,>=4.0.0 in /usr/local/lib/python3.7/dist-packages (from rich) (4.1.1)\n",
            "Requirement already satisfied: pygments<3.0.0,>=2.6.0 in /usr/local/lib/python3.7/dist-packages (from rich) (2.6.1)\n",
            "Collecting commonmark<0.10.0,>=0.9.0\n",
            "  Downloading commonmark-0.9.1-py2.py3-none-any.whl (51 kB)\n",
            "\u001b[K     |████████████████████████████████| 51 kB 8.6 MB/s \n",
            "\u001b[?25hInstalling collected packages: commonmark, rich\n",
            "Successfully installed commonmark-0.9.1 rich-12.4.4\n",
            "Downloading...\n",
            "From: https://drive.google.com/uc?id=1CACL0ogqPC87Tsqo3qxX31ve04_Cxdjf\n",
            "To: /content/raw.tar.xz\n",
            "100% 21.6M/21.6M [00:00<00:00, 364MB/s]\n",
            "Cloning into 'Sign-Language-Recognition'...\n",
            "remote: Enumerating objects: 1041, done.\u001b[K\n",
            "remote: Counting objects: 100% (52/52), done.\u001b[K\n",
            "remote: Compressing objects: 100% (33/33), done.\u001b[K\n",
            "remote: Total 1041 (delta 29), reused 32 (delta 18), pack-reused 989\u001b[K\n",
            "Receiving objects: 100% (1041/1041), 4.19 MiB | 4.33 MiB/s, done.\n",
            "Resolving deltas: 100% (613/613), done.\n"
          ]
        }
      ]
    },
    {
      "cell_type": "code",
      "source": [
        "!python Sign-Language-Recognition/core/src/train_tf.py \\\n",
        "        --exp_name \"stack_cnn_160x160_lw2\" \\\n",
        "        --data_dir \"raw\" \\\n",
        "        --model_dir \"/content/drive/MyDrive/Research/Leap Motion Controller/Models\""
      ],
      "metadata": {
        "id": "LeMkJoC98cym",
        "outputId": "446efb1b-3403-4354-a189-6f7251b9146e",
        "colab": {
          "base_uri": "https://localhost:8080/"
        }
      },
      "execution_count": 3,
      "outputs": [
        {
          "output_type": "stream",
          "name": "stdout",
          "text": [
            "----------------------------------------------------------------------\n",
            "Generating Dataset\n",
            "----------------------------------------------------------------------\n",
            "\u001b[2K[ 1167/ 1178] processing files:  \u001b[91m━━━━━━━━━━━━━━━━━━━━━━━━━━━━━━━━━\u001b[0m\u001b[91m╸\u001b[0m \u001b[35m 99%\u001b[0m \u001b[36m0:00:08\u001b[0m\n",
            "\u001b[?25htcmalloc: large alloc 1262133248 bytes == 0x60948000 @  0x7f69feff61e7 0x7f69fb5870ce 0x7f69fb5e3715 0x7f69fb5e3d1b 0x7f69fb684333 0x5936cc 0x548c51 0x5127f1 0x549576 0x593fce 0x548ae9 0x5127f1 0x593dd7 0x5118f8 0x549576 0x604173 0x5f5506 0x5f8c6c 0x5f9206 0x64faf2 0x64fc4e 0x7f69febf3c87 0x5b621a\n",
            "----------------------------------------------------------------------\n",
            "Train Features Shape:  (5478, 150, 1)\n",
            "Train Images Shape:  (5478, 160, 160, 3)\n",
            "Test Features Shape:  (246, 150, 1)\n",
            "Test Images Shape:  (246, 160, 160, 3)\n",
            "Train Labels Shape:  (5478,)\n",
            "Test Labels Shape:  (246,)\n",
            "----------------------------------------------------------------------\n",
            "Downloading data from https://storage.googleapis.com/tensorflow/keras-applications/mobilenet_v2/mobilenet_v2_weights_tf_dim_ordering_tf_kernels_1.0_160_no_top.h5\n",
            "9412608/9406464 [==============================] - 0s 0us/step\n",
            "9420800/9406464 [==============================] - 0s 0us/step\n",
            "----------------------------------------------------------------------\n",
            "Training Model ... \n",
            "----------------------------------------------------------------------\n",
            "Epoch 1/300\n",
            "86/86 [==============================] - 34s 165ms/step - loss: 2.0202 - accuracy: 0.3616 - val_loss: 1.1734 - val_accuracy: 0.7480\n",
            "Epoch 2/300\n",
            "86/86 [==============================] - 11s 125ms/step - loss: 0.7812 - accuracy: 0.7514 - val_loss: 0.4410 - val_accuracy: 0.8862\n",
            "Epoch 3/300\n",
            "86/86 [==============================] - 11s 125ms/step - loss: 0.5111 - accuracy: 0.8375 - val_loss: 0.3071 - val_accuracy: 0.9024\n",
            "Epoch 4/300\n",
            "86/86 [==============================] - 11s 125ms/step - loss: 0.3939 - accuracy: 0.8779 - val_loss: 0.2412 - val_accuracy: 0.9106\n",
            "Epoch 5/300\n",
            "86/86 [==============================] - 11s 125ms/step - loss: 0.3249 - accuracy: 0.8932 - val_loss: 0.2205 - val_accuracy: 0.9106\n",
            "Epoch 6/300\n",
            "86/86 [==============================] - 11s 126ms/step - loss: 0.2687 - accuracy: 0.9116 - val_loss: 0.1959 - val_accuracy: 0.9309\n",
            "Epoch 7/300\n",
            "86/86 [==============================] - 11s 125ms/step - loss: 0.2584 - accuracy: 0.9151 - val_loss: 0.1889 - val_accuracy: 0.9390\n",
            "Epoch 8/300\n",
            "86/86 [==============================] - 11s 125ms/step - loss: 0.2387 - accuracy: 0.9208 - val_loss: 0.1971 - val_accuracy: 0.9228\n",
            "Epoch 9/300\n",
            "86/86 [==============================] - 11s 125ms/step - loss: 0.2015 - accuracy: 0.9336 - val_loss: 0.1914 - val_accuracy: 0.9228\n",
            "Epoch 10/300\n",
            "86/86 [==============================] - 11s 126ms/step - loss: 0.1963 - accuracy: 0.9337 - val_loss: 0.2062 - val_accuracy: 0.9228\n",
            "Epoch 11/300\n",
            "86/86 [==============================] - 11s 126ms/step - loss: 0.1829 - accuracy: 0.9372 - val_loss: 0.1968 - val_accuracy: 0.9228\n",
            "Epoch 12/300\n",
            "86/86 [==============================] - 11s 126ms/step - loss: 0.1665 - accuracy: 0.9449 - val_loss: 0.2007 - val_accuracy: 0.9187\n",
            "Epoch 13/300\n",
            "86/86 [==============================] - 11s 126ms/step - loss: 0.1556 - accuracy: 0.9458 - val_loss: 0.1967 - val_accuracy: 0.9268\n",
            "Epoch 14/300\n",
            "86/86 [==============================] - 11s 127ms/step - loss: 0.1453 - accuracy: 0.9511 - val_loss: 0.2077 - val_accuracy: 0.9228\n",
            "Epoch 15/300\n",
            "86/86 [==============================] - 11s 127ms/step - loss: 0.1489 - accuracy: 0.9503 - val_loss: 0.1985 - val_accuracy: 0.9268\n",
            "Epoch 16/300\n",
            "86/86 [==============================] - 11s 127ms/step - loss: 0.1450 - accuracy: 0.9518 - val_loss: 0.2039 - val_accuracy: 0.9228\n",
            "Epoch 17/300\n",
            "86/86 [==============================] - 11s 128ms/step - loss: 0.1264 - accuracy: 0.9575 - val_loss: 0.2083 - val_accuracy: 0.9187\n",
            "Epoch 18/300\n",
            "86/86 [==============================] - 11s 128ms/step - loss: 0.1252 - accuracy: 0.9598 - val_loss: 0.2122 - val_accuracy: 0.9268\n",
            "Epoch 19/300\n",
            "86/86 [==============================] - 11s 128ms/step - loss: 0.1344 - accuracy: 0.9538 - val_loss: 0.1892 - val_accuracy: 0.9228\n",
            "Epoch 20/300\n",
            "86/86 [==============================] - 11s 128ms/step - loss: 0.1073 - accuracy: 0.9626 - val_loss: 0.2211 - val_accuracy: 0.9350\n",
            "Epoch 21/300\n",
            "86/86 [==============================] - 11s 129ms/step - loss: 0.1089 - accuracy: 0.9629 - val_loss: 0.1839 - val_accuracy: 0.9390\n",
            "Epoch 22/300\n",
            "86/86 [==============================] - 11s 128ms/step - loss: 0.1053 - accuracy: 0.9628 - val_loss: 0.2080 - val_accuracy: 0.9268\n",
            "Epoch 23/300\n",
            "86/86 [==============================] - 11s 128ms/step - loss: 0.1108 - accuracy: 0.9615 - val_loss: 0.1898 - val_accuracy: 0.9309\n",
            "Epoch 24/300\n",
            "86/86 [==============================] - 11s 129ms/step - loss: 0.0933 - accuracy: 0.9681 - val_loss: 0.1541 - val_accuracy: 0.9390\n",
            "Epoch 25/300\n",
            "86/86 [==============================] - 11s 128ms/step - loss: 0.0987 - accuracy: 0.9664 - val_loss: 0.2001 - val_accuracy: 0.9309\n",
            "Epoch 26/300\n",
            "86/86 [==============================] - 11s 128ms/step - loss: 0.0930 - accuracy: 0.9690 - val_loss: 0.1847 - val_accuracy: 0.9350\n",
            "Epoch 27/300\n",
            "86/86 [==============================] - 11s 128ms/step - loss: 0.1001 - accuracy: 0.9681 - val_loss: 0.1791 - val_accuracy: 0.9309\n",
            "Epoch 28/300\n",
            "86/86 [==============================] - 11s 128ms/step - loss: 0.0855 - accuracy: 0.9684 - val_loss: 0.1909 - val_accuracy: 0.9431\n",
            "Epoch 29/300\n",
            "86/86 [==============================] - 11s 128ms/step - loss: 0.0992 - accuracy: 0.9653 - val_loss: 0.1967 - val_accuracy: 0.9431\n",
            "Epoch 30/300\n",
            "86/86 [==============================] - 11s 128ms/step - loss: 0.0794 - accuracy: 0.9693 - val_loss: 0.2220 - val_accuracy: 0.9268\n",
            "Epoch 31/300\n",
            "86/86 [==============================] - 11s 129ms/step - loss: 0.0819 - accuracy: 0.9715 - val_loss: 0.1738 - val_accuracy: 0.9390\n",
            "Epoch 32/300\n",
            "86/86 [==============================] - 11s 128ms/step - loss: 0.0820 - accuracy: 0.9695 - val_loss: 0.2011 - val_accuracy: 0.9268\n",
            "Epoch 33/300\n",
            "86/86 [==============================] - 11s 128ms/step - loss: 0.0683 - accuracy: 0.9757 - val_loss: 0.1890 - val_accuracy: 0.9309\n",
            "Epoch 34/300\n",
            "86/86 [==============================] - 11s 128ms/step - loss: 0.0703 - accuracy: 0.9737 - val_loss: 0.2002 - val_accuracy: 0.9431\n",
            "Epoch 35/300\n",
            "86/86 [==============================] - 11s 129ms/step - loss: 0.0759 - accuracy: 0.9739 - val_loss: 0.2297 - val_accuracy: 0.9350\n",
            "Epoch 36/300\n",
            "86/86 [==============================] - 11s 128ms/step - loss: 0.0751 - accuracy: 0.9737 - val_loss: 0.2618 - val_accuracy: 0.9350\n",
            "Epoch 37/300\n",
            "86/86 [==============================] - 11s 129ms/step - loss: 0.0680 - accuracy: 0.9765 - val_loss: 0.2606 - val_accuracy: 0.9390\n",
            "Epoch 38/300\n",
            "86/86 [==============================] - 11s 129ms/step - loss: 0.0698 - accuracy: 0.9750 - val_loss: 0.2459 - val_accuracy: 0.9350\n",
            "Epoch 39/300\n",
            "86/86 [==============================] - 11s 129ms/step - loss: 0.0607 - accuracy: 0.9786 - val_loss: 0.2043 - val_accuracy: 0.9431\n",
            "Epoch 40/300\n",
            "86/86 [==============================] - 11s 129ms/step - loss: 0.0698 - accuracy: 0.9761 - val_loss: 0.1965 - val_accuracy: 0.9431\n",
            "Epoch 41/300\n",
            "86/86 [==============================] - 11s 128ms/step - loss: 0.0713 - accuracy: 0.9772 - val_loss: 0.2320 - val_accuracy: 0.9431\n",
            "Epoch 42/300\n",
            "86/86 [==============================] - 11s 129ms/step - loss: 0.0615 - accuracy: 0.9788 - val_loss: 0.2332 - val_accuracy: 0.9431\n",
            "Epoch 43/300\n",
            "86/86 [==============================] - 11s 129ms/step - loss: 0.0609 - accuracy: 0.9779 - val_loss: 0.2649 - val_accuracy: 0.9309\n",
            "Epoch 44/300\n",
            "86/86 [==============================] - 11s 129ms/step - loss: 0.0690 - accuracy: 0.9761 - val_loss: 0.2753 - val_accuracy: 0.9390\n",
            "Epoch 45/300\n",
            "86/86 [==============================] - 11s 129ms/step - loss: 0.0673 - accuracy: 0.9774 - val_loss: 0.2711 - val_accuracy: 0.9309\n",
            "Epoch 46/300\n",
            "86/86 [==============================] - 11s 129ms/step - loss: 0.0672 - accuracy: 0.9766 - val_loss: 0.1896 - val_accuracy: 0.9350\n",
            "Epoch 47/300\n",
            "86/86 [==============================] - 11s 129ms/step - loss: 0.0684 - accuracy: 0.9754 - val_loss: 0.2598 - val_accuracy: 0.9431\n",
            "Epoch 48/300\n",
            "86/86 [==============================] - 11s 129ms/step - loss: 0.0656 - accuracy: 0.9772 - val_loss: 0.2311 - val_accuracy: 0.9512\n",
            "Epoch 49/300\n",
            "86/86 [==============================] - 11s 129ms/step - loss: 0.0606 - accuracy: 0.9790 - val_loss: 0.2053 - val_accuracy: 0.9472\n",
            "Epoch 50/300\n",
            "86/86 [==============================] - 11s 129ms/step - loss: 0.0579 - accuracy: 0.9817 - val_loss: 0.2132 - val_accuracy: 0.9431\n",
            "Epoch 51/300\n",
            "86/86 [==============================] - 11s 129ms/step - loss: 0.0527 - accuracy: 0.9823 - val_loss: 0.2340 - val_accuracy: 0.9512\n",
            "Epoch 52/300\n",
            "86/86 [==============================] - 11s 128ms/step - loss: 0.0557 - accuracy: 0.9796 - val_loss: 0.2685 - val_accuracy: 0.9390\n",
            "Epoch 53/300\n",
            "86/86 [==============================] - 11s 129ms/step - loss: 0.0528 - accuracy: 0.9821 - val_loss: 0.2234 - val_accuracy: 0.9512\n",
            "Epoch 54/300\n",
            "86/86 [==============================] - 11s 130ms/step - loss: 0.0568 - accuracy: 0.9799 - val_loss: 0.2319 - val_accuracy: 0.9431\n",
            "----------------------------------------------------------------------\n",
            "Metrics \n",
            "----------------------------------------------------------------------\n",
            "8/8 [==============================] - 1s 111ms/step - loss: 0.1541 - accuracy: 0.9390\n",
            "              precision    recall  f1-score   support\n",
            "\n",
            "           0       0.84      0.94      0.89        17\n",
            "           1       0.82      1.00      0.90        18\n",
            "           2       1.00      0.90      0.95        21\n",
            "           3       0.92      1.00      0.96        23\n",
            "           4       1.00      0.92      0.96        13\n",
            "           5       1.00      1.00      1.00        16\n",
            "           6       1.00      1.00      1.00        12\n",
            "           7       1.00      1.00      1.00        16\n",
            "           8       0.80      0.86      0.83        14\n",
            "           9       0.95      0.95      0.95        19\n",
            "          10       0.92      0.77      0.84        31\n",
            "          11       1.00      1.00      1.00        12\n",
            "          12       1.00      0.95      0.97        19\n",
            "          13       1.00      1.00      1.00        15\n",
            "\n",
            "    accuracy                           0.94       246\n",
            "   macro avg       0.95      0.95      0.95       246\n",
            "weighted avg       0.94      0.94      0.94       246\n",
            "\n",
            "----------------------------------------------------------------------\n",
            "Saving Results ... \n",
            "----------------------------------------------------------------------\n"
          ]
        }
      ]
    }
  ],
  "metadata": {
    "language_info": {
      "name": "python"
    },
    "orig_nbformat": 4,
    "colab": {
      "name": "Inference.ipynb",
      "provenance": [],
      "include_colab_link": true
    },
    "accelerator": "GPU",
    "gpuClass": "standard",
    "kernelspec": {
      "name": "python3",
      "display_name": "Python 3"
    }
  },
  "nbformat": 4,
  "nbformat_minor": 0
}