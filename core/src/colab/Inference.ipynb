{
  "cells": [
    {
      "cell_type": "markdown",
      "metadata": {
        "id": "view-in-github",
        "colab_type": "text"
      },
      "source": [
        "<a href=\"https://colab.research.google.com/github/atick-faisal/Sign-Language-Recognition/blob/main/core/src/colab/Inference.ipynb\" target=\"_parent\"><img src=\"https://colab.research.google.com/assets/colab-badge.svg\" alt=\"Open In Colab\"/></a>"
      ]
    },
    {
      "cell_type": "code",
      "source": [
        "from google.colab import drive\n",
        "drive.mount('/content/drive')"
      ],
      "metadata": {
        "id": "JmRmSvWP8Ma-",
        "outputId": "b68e8977-a4a2-4c83-d164-4ee295439abb",
        "colab": {
          "base_uri": "https://localhost:8080/"
        }
      },
      "execution_count": 1,
      "outputs": [
        {
          "output_type": "stream",
          "name": "stdout",
          "text": [
            "Mounted at /content/drive\n"
          ]
        }
      ]
    },
    {
      "cell_type": "code",
      "source": [
        "!pip install rich\n",
        "!gdown \"1CACL0ogqPC87Tsqo3qxX31ve04_Cxdjf\"\n",
        "!tar -xf raw.tar.xz\n",
        "!git clone https://github.com/atick-faisal/Sign-Language-Recognition.git"
      ],
      "metadata": {
        "id": "V-n5fxnqAdnr",
        "outputId": "bcd74c0b-cda9-4b52-b494-0c9ba07855f8",
        "colab": {
          "base_uri": "https://localhost:8080/"
        }
      },
      "execution_count": 2,
      "outputs": [
        {
          "output_type": "stream",
          "name": "stdout",
          "text": [
            "Looking in indexes: https://pypi.org/simple, https://us-python.pkg.dev/colab-wheels/public/simple/\n",
            "Collecting rich\n",
            "  Downloading rich-12.4.4-py3-none-any.whl (232 kB)\n",
            "\u001b[K     |████████████████████████████████| 232 kB 4.9 MB/s \n",
            "\u001b[?25hRequirement already satisfied: pygments<3.0.0,>=2.6.0 in /usr/local/lib/python3.7/dist-packages (from rich) (2.6.1)\n",
            "Collecting commonmark<0.10.0,>=0.9.0\n",
            "  Downloading commonmark-0.9.1-py2.py3-none-any.whl (51 kB)\n",
            "\u001b[K     |████████████████████████████████| 51 kB 8.2 MB/s \n",
            "\u001b[?25hRequirement already satisfied: typing-extensions<5.0,>=4.0.0 in /usr/local/lib/python3.7/dist-packages (from rich) (4.1.1)\n",
            "Installing collected packages: commonmark, rich\n",
            "Successfully installed commonmark-0.9.1 rich-12.4.4\n",
            "Downloading...\n",
            "From: https://drive.google.com/uc?id=1CACL0ogqPC87Tsqo3qxX31ve04_Cxdjf\n",
            "To: /content/raw.tar.xz\n",
            "100% 21.6M/21.6M [00:00<00:00, 88.4MB/s]\n",
            "Cloning into 'Sign-Language-Recognition'...\n",
            "remote: Enumerating objects: 1130, done.\u001b[K\n",
            "remote: Counting objects: 100% (141/141), done.\u001b[K\n",
            "remote: Compressing objects: 100% (115/115), done.\u001b[K\n",
            "remote: Total 1130 (delta 88), reused 45 (delta 25), pack-reused 989\u001b[K\n",
            "Receiving objects: 100% (1130/1130), 4.26 MiB | 18.23 MiB/s, done.\n",
            "Resolving deltas: 100% (672/672), done.\n"
          ]
        }
      ]
    },
    {
      "cell_type": "code",
      "source": [
        "!python Sign-Language-Recognition/core/src/train_tf.py \\\n",
        "        --exp_name \"stack_cnn_u003_lw2\" \\\n",
        "        --data_dir \"raw\" \\\n",
        "        --model_dir \"/content/drive/MyDrive/Research/Leap Motion Controller/Models\""
      ],
      "metadata": {
        "id": "LeMkJoC98cym",
        "outputId": "192c16eb-21bf-43e7-805d-b23d6f093930",
        "colab": {
          "base_uri": "https://localhost:8080/"
        }
      },
      "execution_count": 3,
      "outputs": [
        {
          "output_type": "stream",
          "name": "stdout",
          "text": [
            "----------------------------------------------------------------------\n",
            "Generating Dataset\n",
            "----------------------------------------------------------------------\n",
            "\u001b[2K[ 1167/ 1178] processing files:  \u001b[91m━━━━━━━━━━━━━━━━━━━━━━━━━━━━━━━━━\u001b[0m\u001b[91m╸\u001b[0m \u001b[35m 99%\u001b[0m \u001b[36m0:00:09\u001b[0m\n",
            "\u001b[?25htcmalloc: large alloc 1371340800 bytes == 0x65fcc000 @  0x7fdb3c6481e7 0x7fdb38bd90ce 0x7fdb38c35715 0x7fdb38c35d1b 0x7fdb38cd6333 0x5936cc 0x548c51 0x5127f1 0x549576 0x593fce 0x548ae9 0x5127f1 0x593dd7 0x5118f8 0x549576 0x604173 0x5f5506 0x5f8c6c 0x5f9206 0x64faf2 0x64fc4e 0x7fdb3c245c87 0x5b621a\n",
            "----------------------------------------------------------------------\n",
            "Train Features Shape:  (5952, 150, 1)\n",
            "Train Images Shape:  (5952, 160, 160, 3)\n",
            "Test Features Shape:  (167, 150, 1)\n",
            "Test Images Shape:  (167, 160, 160, 3)\n",
            "Train Labels Shape:  (5952,)\n",
            "Test Labels Shape:  (167,)\n",
            "----------------------------------------------------------------------\n",
            "Downloading data from https://storage.googleapis.com/tensorflow/keras-applications/mobilenet_v2/mobilenet_v2_weights_tf_dim_ordering_tf_kernels_1.0_160_no_top.h5\n",
            "9412608/9406464 [==============================] - 0s 0us/step\n",
            "9420800/9406464 [==============================] - 0s 0us/step\n",
            "----------------------------------------------------------------------\n",
            "Training Model ... \n",
            "----------------------------------------------------------------------\n",
            "Epoch 1/300\n",
            "93/93 [==============================] - 34s 155ms/step - loss: 1.9625 - accuracy: 0.3718 - val_loss: 1.4675 - val_accuracy: 0.4251\n",
            "Epoch 2/300\n",
            "93/93 [==============================] - 11s 121ms/step - loss: 0.8091 - accuracy: 0.7216 - val_loss: 0.5373 - val_accuracy: 0.8263\n",
            "Epoch 3/300\n",
            "93/93 [==============================] - 11s 121ms/step - loss: 0.5549 - accuracy: 0.8182 - val_loss: 0.3123 - val_accuracy: 0.8503\n",
            "Epoch 4/300\n",
            "93/93 [==============================] - 11s 122ms/step - loss: 0.4370 - accuracy: 0.8543 - val_loss: 0.2780 - val_accuracy: 0.8922\n",
            "Epoch 5/300\n",
            "93/93 [==============================] - 11s 122ms/step - loss: 0.3861 - accuracy: 0.8698 - val_loss: 0.2744 - val_accuracy: 0.9162\n",
            "Epoch 6/300\n",
            "93/93 [==============================] - 11s 123ms/step - loss: 0.3273 - accuracy: 0.8871 - val_loss: 0.2509 - val_accuracy: 0.9042\n",
            "Epoch 7/300\n",
            "93/93 [==============================] - 12s 124ms/step - loss: 0.3122 - accuracy: 0.8889 - val_loss: 0.3339 - val_accuracy: 0.8743\n",
            "Epoch 8/300\n",
            "93/93 [==============================] - 11s 123ms/step - loss: 0.2770 - accuracy: 0.9015 - val_loss: 0.5166 - val_accuracy: 0.8683\n",
            "Epoch 9/300\n",
            "93/93 [==============================] - 12s 127ms/step - loss: 0.2745 - accuracy: 0.9027 - val_loss: 0.3152 - val_accuracy: 0.8862\n",
            "Epoch 10/300\n",
            "93/93 [==============================] - 12s 125ms/step - loss: 0.2502 - accuracy: 0.9094 - val_loss: 0.3501 - val_accuracy: 0.8922\n",
            "Epoch 11/300\n",
            "93/93 [==============================] - 12s 125ms/step - loss: 0.2419 - accuracy: 0.9136 - val_loss: 0.3371 - val_accuracy: 0.8982\n",
            "Epoch 12/300\n",
            "93/93 [==============================] - 12s 125ms/step - loss: 0.2322 - accuracy: 0.9173 - val_loss: 0.2891 - val_accuracy: 0.8922\n",
            "Epoch 13/300\n",
            "93/93 [==============================] - 12s 124ms/step - loss: 0.2326 - accuracy: 0.9152 - val_loss: 0.2592 - val_accuracy: 0.9162\n",
            "Epoch 14/300\n",
            "93/93 [==============================] - 12s 124ms/step - loss: 0.2136 - accuracy: 0.9252 - val_loss: 0.2903 - val_accuracy: 0.9102\n",
            "Epoch 15/300\n",
            "93/93 [==============================] - 12s 124ms/step - loss: 0.2087 - accuracy: 0.9232 - val_loss: 0.3727 - val_accuracy: 0.8922\n",
            "Epoch 16/300\n",
            "93/93 [==============================] - 12s 124ms/step - loss: 0.2028 - accuracy: 0.9264 - val_loss: 0.3742 - val_accuracy: 0.8922\n",
            "Epoch 17/300\n",
            "93/93 [==============================] - 12s 124ms/step - loss: 0.1910 - accuracy: 0.9276 - val_loss: 0.3689 - val_accuracy: 0.8982\n",
            "Epoch 18/300\n",
            "93/93 [==============================] - 12s 124ms/step - loss: 0.1871 - accuracy: 0.9276 - val_loss: 0.5887 - val_accuracy: 0.8683\n",
            "Epoch 19/300\n",
            "93/93 [==============================] - 12s 125ms/step - loss: 0.1903 - accuracy: 0.9281 - val_loss: 0.3531 - val_accuracy: 0.9042\n",
            "Epoch 20/300\n",
            "93/93 [==============================] - 12s 124ms/step - loss: 0.1789 - accuracy: 0.9338 - val_loss: 0.3727 - val_accuracy: 0.9042\n",
            "Epoch 21/300\n",
            "93/93 [==============================] - 12s 124ms/step - loss: 0.1854 - accuracy: 0.9313 - val_loss: 0.2842 - val_accuracy: 0.9102\n",
            "Epoch 22/300\n",
            "93/93 [==============================] - 12s 124ms/step - loss: 0.1682 - accuracy: 0.9368 - val_loss: 0.4119 - val_accuracy: 0.8922\n",
            "Epoch 23/300\n",
            "93/93 [==============================] - 12s 125ms/step - loss: 0.1656 - accuracy: 0.9367 - val_loss: 0.2927 - val_accuracy: 0.9102\n",
            "Epoch 24/300\n",
            "93/93 [==============================] - 12s 125ms/step - loss: 0.1648 - accuracy: 0.9353 - val_loss: 0.3842 - val_accuracy: 0.8922\n",
            "Epoch 25/300\n",
            "93/93 [==============================] - 12s 124ms/step - loss: 0.1668 - accuracy: 0.9372 - val_loss: 0.2955 - val_accuracy: 0.8922\n",
            "Epoch 26/300\n",
            "93/93 [==============================] - 12s 124ms/step - loss: 0.1668 - accuracy: 0.9340 - val_loss: 0.3431 - val_accuracy: 0.9162\n",
            "Epoch 27/300\n",
            "93/93 [==============================] - 12s 124ms/step - loss: 0.1683 - accuracy: 0.9335 - val_loss: 0.3611 - val_accuracy: 0.9102\n",
            "Epoch 28/300\n",
            "93/93 [==============================] - 12s 124ms/step - loss: 0.1664 - accuracy: 0.9378 - val_loss: 0.4409 - val_accuracy: 0.8802\n",
            "Epoch 29/300\n",
            "93/93 [==============================] - 12s 124ms/step - loss: 0.1666 - accuracy: 0.9365 - val_loss: 0.3555 - val_accuracy: 0.9042\n",
            "Epoch 30/300\n",
            "93/93 [==============================] - 12s 125ms/step - loss: 0.1676 - accuracy: 0.9341 - val_loss: 0.2037 - val_accuracy: 0.9222\n",
            "Epoch 31/300\n",
            "93/93 [==============================] - 12s 124ms/step - loss: 0.1564 - accuracy: 0.9390 - val_loss: 0.3356 - val_accuracy: 0.9162\n",
            "Epoch 32/300\n",
            "93/93 [==============================] - 12s 124ms/step - loss: 0.1578 - accuracy: 0.9387 - val_loss: 0.3010 - val_accuracy: 0.9162\n",
            "Epoch 33/300\n",
            "93/93 [==============================] - 12s 124ms/step - loss: 0.1530 - accuracy: 0.9425 - val_loss: 0.3149 - val_accuracy: 0.9102\n",
            "Epoch 34/300\n",
            "93/93 [==============================] - 12s 124ms/step - loss: 0.1557 - accuracy: 0.9404 - val_loss: 0.3193 - val_accuracy: 0.9222\n",
            "Epoch 35/300\n",
            "93/93 [==============================] - 12s 124ms/step - loss: 0.1601 - accuracy: 0.9395 - val_loss: 0.3465 - val_accuracy: 0.9222\n",
            "Epoch 36/300\n",
            "93/93 [==============================] - 12s 125ms/step - loss: 0.1555 - accuracy: 0.9414 - val_loss: 0.2766 - val_accuracy: 0.9102\n",
            "Epoch 37/300\n",
            "93/93 [==============================] - 12s 124ms/step - loss: 0.1536 - accuracy: 0.9400 - val_loss: 0.4114 - val_accuracy: 0.9042\n",
            "Epoch 38/300\n",
            "93/93 [==============================] - 12s 124ms/step - loss: 0.1538 - accuracy: 0.9388 - val_loss: 0.3710 - val_accuracy: 0.8982\n",
            "Epoch 39/300\n",
            "93/93 [==============================] - 12s 126ms/step - loss: 0.1498 - accuracy: 0.9409 - val_loss: 0.4675 - val_accuracy: 0.8922\n",
            "Epoch 40/300\n",
            "93/93 [==============================] - 12s 124ms/step - loss: 0.1505 - accuracy: 0.9446 - val_loss: 0.4167 - val_accuracy: 0.9102\n",
            "Epoch 41/300\n",
            "93/93 [==============================] - 12s 124ms/step - loss: 0.1489 - accuracy: 0.9422 - val_loss: 0.3366 - val_accuracy: 0.9102\n",
            "Epoch 42/300\n",
            "93/93 [==============================] - 12s 124ms/step - loss: 0.1503 - accuracy: 0.9405 - val_loss: 0.4161 - val_accuracy: 0.9042\n",
            "Epoch 43/300\n",
            "93/93 [==============================] - 12s 124ms/step - loss: 0.1385 - accuracy: 0.9454 - val_loss: 0.3726 - val_accuracy: 0.9102\n",
            "Epoch 44/300\n",
            "93/93 [==============================] - 12s 124ms/step - loss: 0.1451 - accuracy: 0.9420 - val_loss: 0.4254 - val_accuracy: 0.9162\n",
            "Epoch 45/300\n",
            "93/93 [==============================] - 12s 124ms/step - loss: 0.1452 - accuracy: 0.9435 - val_loss: 0.3342 - val_accuracy: 0.9102\n",
            "Epoch 46/300\n",
            "93/93 [==============================] - 12s 124ms/step - loss: 0.1486 - accuracy: 0.9452 - val_loss: 0.5125 - val_accuracy: 0.8802\n",
            "Epoch 47/300\n",
            "93/93 [==============================] - 12s 124ms/step - loss: 0.1523 - accuracy: 0.9430 - val_loss: 0.2668 - val_accuracy: 0.9222\n",
            "Epoch 48/300\n",
            "93/93 [==============================] - 12s 125ms/step - loss: 0.1409 - accuracy: 0.9457 - val_loss: 0.3973 - val_accuracy: 0.9102\n",
            "Epoch 49/300\n",
            "93/93 [==============================] - 12s 124ms/step - loss: 0.1441 - accuracy: 0.9447 - val_loss: 0.3039 - val_accuracy: 0.9222\n",
            "Epoch 50/300\n",
            "93/93 [==============================] - 12s 124ms/step - loss: 0.1473 - accuracy: 0.9434 - val_loss: 0.3108 - val_accuracy: 0.9042\n",
            "Epoch 51/300\n",
            "93/93 [==============================] - 12s 124ms/step - loss: 0.1494 - accuracy: 0.9387 - val_loss: 0.2333 - val_accuracy: 0.9162\n",
            "Epoch 52/300\n",
            "93/93 [==============================] - 12s 124ms/step - loss: 0.1461 - accuracy: 0.9410 - val_loss: 0.3023 - val_accuracy: 0.9222\n",
            "Epoch 53/300\n",
            "93/93 [==============================] - 12s 124ms/step - loss: 0.1523 - accuracy: 0.9407 - val_loss: 0.3765 - val_accuracy: 0.9102\n",
            "Epoch 54/300\n",
            "93/93 [==============================] - 12s 124ms/step - loss: 0.1445 - accuracy: 0.9442 - val_loss: 0.3264 - val_accuracy: 0.9042\n",
            "Epoch 55/300\n",
            "93/93 [==============================] - 12s 126ms/step - loss: 0.1457 - accuracy: 0.9441 - val_loss: 0.2576 - val_accuracy: 0.9281\n",
            "Epoch 56/300\n",
            "93/93 [==============================] - 12s 124ms/step - loss: 0.1482 - accuracy: 0.9410 - val_loss: 0.4270 - val_accuracy: 0.8982\n",
            "Epoch 57/300\n",
            "93/93 [==============================] - 12s 124ms/step - loss: 0.1352 - accuracy: 0.9451 - val_loss: 0.3722 - val_accuracy: 0.9102\n",
            "Epoch 58/300\n",
            "93/93 [==============================] - 12s 124ms/step - loss: 0.1451 - accuracy: 0.9420 - val_loss: 0.3111 - val_accuracy: 0.9102\n",
            "Epoch 59/300\n",
            "93/93 [==============================] - 12s 124ms/step - loss: 0.1425 - accuracy: 0.9429 - val_loss: 0.3620 - val_accuracy: 0.9042\n",
            "Epoch 60/300\n",
            "93/93 [==============================] - 12s 126ms/step - loss: 0.1397 - accuracy: 0.9434 - val_loss: 0.3391 - val_accuracy: 0.9162\n",
            "----------------------------------------------------------------------\n",
            "Metrics \n",
            "----------------------------------------------------------------------\n",
            "6/6 [==============================] - 1s 144ms/step - loss: 0.2037 - accuracy: 0.9222\n",
            "              precision    recall  f1-score   support\n",
            "\n",
            "           0       0.75      0.50      0.60        12\n",
            "           1       1.00      1.00      1.00        12\n",
            "           2       1.00      1.00      1.00        12\n",
            "           3       1.00      1.00      1.00        12\n",
            "           4       1.00      1.00      1.00        11\n",
            "           5       1.00      1.00      1.00        12\n",
            "           6       1.00      1.00      1.00        12\n",
            "           7       1.00      1.00      1.00        12\n",
            "           8       1.00      0.42      0.59        12\n",
            "           9       0.71      1.00      0.83        12\n",
            "          10       0.67      1.00      0.80        12\n",
            "          11       1.00      1.00      1.00        12\n",
            "          12       1.00      1.00      1.00        12\n",
            "          13       1.00      1.00      1.00        12\n",
            "\n",
            "    accuracy                           0.92       167\n",
            "   macro avg       0.94      0.92      0.92       167\n",
            "weighted avg       0.94      0.92      0.91       167\n",
            "\n",
            "----------------------------------------------------------------------\n",
            "Saving Results ... \n",
            "----------------------------------------------------------------------\n",
            "No Previous Accuracy Found!\n"
          ]
        }
      ]
    }
  ],
  "metadata": {
    "language_info": {
      "name": "python"
    },
    "orig_nbformat": 4,
    "colab": {
      "name": "Inference.ipynb",
      "provenance": [],
      "include_colab_link": true
    },
    "accelerator": "GPU",
    "gpuClass": "standard",
    "kernelspec": {
      "name": "python3",
      "display_name": "Python 3"
    }
  },
  "nbformat": 4,
  "nbformat_minor": 0
}