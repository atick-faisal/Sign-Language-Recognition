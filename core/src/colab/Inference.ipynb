{
  "cells": [
    {
      "cell_type": "markdown",
      "metadata": {
        "id": "view-in-github",
        "colab_type": "text"
      },
      "source": [
        "<a href=\"https://colab.research.google.com/github/atick-faisal/Sign-Language-Recognition/blob/main/core/src/colab/Inference.ipynb\" target=\"_parent\"><img src=\"https://colab.research.google.com/assets/colab-badge.svg\" alt=\"Open In Colab\"/></a>"
      ]
    },
    {
      "cell_type": "code",
      "source": [
        "from google.colab import drive\n",
        "drive.mount('/content/drive')"
      ],
      "metadata": {
        "id": "JmRmSvWP8Ma-",
        "outputId": "d8df6095-45f8-4fa0-a705-c1621f3edb40",
        "colab": {
          "base_uri": "https://localhost:8080/"
        }
      },
      "execution_count": 1,
      "outputs": [
        {
          "output_type": "stream",
          "name": "stdout",
          "text": [
            "Mounted at /content/drive\n"
          ]
        }
      ]
    },
    {
      "cell_type": "code",
      "source": [
        "!pip install rich\n",
        "!gdown \"1CACL0ogqPC87Tsqo3qxX31ve04_Cxdjf\"\n",
        "!tar -xf raw.tar.xz\n",
        "!git clone https://github.com/atick-faisal/Sign-Language-Recognition.git"
      ],
      "metadata": {
        "id": "V-n5fxnqAdnr",
        "outputId": "df0008a0-30f2-445b-8439-df68f74ef611",
        "colab": {
          "base_uri": "https://localhost:8080/"
        }
      },
      "execution_count": 2,
      "outputs": [
        {
          "output_type": "stream",
          "name": "stdout",
          "text": [
            "Looking in indexes: https://pypi.org/simple, https://us-python.pkg.dev/colab-wheels/public/simple/\n",
            "Collecting rich\n",
            "  Downloading rich-12.4.4-py3-none-any.whl (232 kB)\n",
            "\u001b[K     |████████████████████████████████| 232 kB 32.6 MB/s \n",
            "\u001b[?25hRequirement already satisfied: typing-extensions<5.0,>=4.0.0 in /usr/local/lib/python3.7/dist-packages (from rich) (4.1.1)\n",
            "Collecting commonmark<0.10.0,>=0.9.0\n",
            "  Downloading commonmark-0.9.1-py2.py3-none-any.whl (51 kB)\n",
            "\u001b[K     |████████████████████████████████| 51 kB 8.0 MB/s \n",
            "\u001b[?25hRequirement already satisfied: pygments<3.0.0,>=2.6.0 in /usr/local/lib/python3.7/dist-packages (from rich) (2.6.1)\n",
            "Installing collected packages: commonmark, rich\n",
            "Successfully installed commonmark-0.9.1 rich-12.4.4\n",
            "Downloading...\n",
            "From: https://drive.google.com/uc?id=1CACL0ogqPC87Tsqo3qxX31ve04_Cxdjf\n",
            "To: /content/raw.tar.xz\n",
            "100% 21.6M/21.6M [00:00<00:00, 76.3MB/s]\n",
            "Cloning into 'Sign-Language-Recognition'...\n",
            "remote: Enumerating objects: 1130, done.\u001b[K\n",
            "remote: Counting objects: 100% (141/141), done.\u001b[K\n",
            "remote: Compressing objects: 100% (115/115), done.\u001b[K\n",
            "remote: Total 1130 (delta 88), reused 45 (delta 25), pack-reused 989\u001b[K\n",
            "Receiving objects: 100% (1130/1130), 4.26 MiB | 28.86 MiB/s, done.\n",
            "Resolving deltas: 100% (672/672), done.\n"
          ]
        }
      ]
    },
    {
      "cell_type": "code",
      "source": [
        "!python Sign-Language-Recognition/core/src/train_tf.py \\\n",
        "        --exp_name \"stack_cnn_u001_lw2\" \\\n",
        "        --data_dir \"raw\" \\\n",
        "        --model_dir \"/content/drive/MyDrive/Research/Leap Motion Controller/Models\""
      ],
      "metadata": {
        "id": "LeMkJoC98cym",
        "outputId": "c0a346b7-59d7-40db-80e8-992809dcf0d0",
        "colab": {
          "base_uri": "https://localhost:8080/"
        }
      },
      "execution_count": 3,
      "outputs": [
        {
          "output_type": "stream",
          "name": "stdout",
          "text": [
            "----------------------------------------------------------------------\n",
            "Generating Dataset\n",
            "----------------------------------------------------------------------\n",
            "\u001b[2K[ 1167/ 1178] processing files:  \u001b[91m━━━━━━━━━━━━━━━━━━━━━━━━━━━━━━━━━\u001b[0m\u001b[91m╸\u001b[0m \u001b[35m 99%\u001b[0m \u001b[36m0:00:02\u001b[0m\n",
            "\u001b[?25htcmalloc: large alloc 1382400000 bytes == 0x66e4e000 @  0x7ff1c40301e7 0x7ff1c05c10ce 0x7ff1c061d715 0x7ff1c061dd1b 0x7ff1c06be333 0x5936cc 0x548c51 0x5127f1 0x549576 0x593fce 0x548ae9 0x5127f1 0x593dd7 0x5118f8 0x549576 0x604173 0x5f5506 0x5f8c6c 0x5f9206 0x64faf2 0x64fc4e 0x7ff1c3c2dc87 0x5b621a\n",
            "----------------------------------------------------------------------\n",
            "Train Features Shape:  (6000, 150, 1)\n",
            "Train Images Shape:  (6000, 160, 160, 3)\n",
            "Test Features Shape:  (159, 150, 1)\n",
            "Test Images Shape:  (159, 160, 160, 3)\n",
            "Train Labels Shape:  (6000,)\n",
            "Test Labels Shape:  (159,)\n",
            "----------------------------------------------------------------------\n",
            "Downloading data from https://storage.googleapis.com/tensorflow/keras-applications/mobilenet_v2/mobilenet_v2_weights_tf_dim_ordering_tf_kernels_1.0_160_no_top.h5\n",
            "9412608/9406464 [==============================] - 0s 0us/step\n",
            "9420800/9406464 [==============================] - 0s 0us/step\n",
            "----------------------------------------------------------------------\n",
            "Training Model ... \n",
            "----------------------------------------------------------------------\n",
            "Epoch 1/300\n",
            "94/94 [==============================] - 35s 158ms/step - loss: 1.9487 - accuracy: 0.3768 - val_loss: 1.9865 - val_accuracy: 0.3459\n",
            "Epoch 2/300\n",
            "94/94 [==============================] - 11s 122ms/step - loss: 0.7439 - accuracy: 0.7528 - val_loss: 1.1207 - val_accuracy: 0.7107\n",
            "Epoch 3/300\n",
            "94/94 [==============================] - 12s 123ms/step - loss: 0.5036 - accuracy: 0.8332 - val_loss: 0.9122 - val_accuracy: 0.7358\n",
            "Epoch 4/300\n",
            "94/94 [==============================] - 11s 122ms/step - loss: 0.4098 - accuracy: 0.8590 - val_loss: 0.9218 - val_accuracy: 0.7610\n",
            "Epoch 5/300\n",
            "94/94 [==============================] - 12s 123ms/step - loss: 0.3445 - accuracy: 0.8788 - val_loss: 0.9917 - val_accuracy: 0.7547\n",
            "Epoch 6/300\n",
            "94/94 [==============================] - 12s 123ms/step - loss: 0.2989 - accuracy: 0.8958 - val_loss: 1.2877 - val_accuracy: 0.7421\n",
            "Epoch 7/300\n",
            "94/94 [==============================] - 12s 124ms/step - loss: 0.2776 - accuracy: 0.9013 - val_loss: 1.3327 - val_accuracy: 0.7421\n",
            "Epoch 8/300\n",
            "94/94 [==============================] - 12s 124ms/step - loss: 0.2605 - accuracy: 0.9028 - val_loss: 1.2209 - val_accuracy: 0.7610\n",
            "Epoch 9/300\n",
            "94/94 [==============================] - 12s 125ms/step - loss: 0.2314 - accuracy: 0.9127 - val_loss: 1.4702 - val_accuracy: 0.7673\n",
            "Epoch 10/300\n",
            "94/94 [==============================] - 12s 126ms/step - loss: 0.2300 - accuracy: 0.9125 - val_loss: 1.3995 - val_accuracy: 0.7610\n",
            "Epoch 11/300\n",
            "94/94 [==============================] - 12s 128ms/step - loss: 0.2163 - accuracy: 0.9203 - val_loss: 1.6915 - val_accuracy: 0.7358\n",
            "Epoch 12/300\n",
            "94/94 [==============================] - 12s 126ms/step - loss: 0.2025 - accuracy: 0.9225 - val_loss: 1.4542 - val_accuracy: 0.7610\n",
            "Epoch 13/300\n",
            "94/94 [==============================] - 12s 125ms/step - loss: 0.1978 - accuracy: 0.9282 - val_loss: 1.7100 - val_accuracy: 0.7484\n",
            "Epoch 14/300\n",
            "94/94 [==============================] - 12s 125ms/step - loss: 0.1948 - accuracy: 0.9258 - val_loss: 1.4592 - val_accuracy: 0.7799\n",
            "Epoch 15/300\n",
            "94/94 [==============================] - 12s 125ms/step - loss: 0.2009 - accuracy: 0.9222 - val_loss: 1.3502 - val_accuracy: 0.7673\n",
            "Epoch 16/300\n",
            "94/94 [==============================] - 12s 125ms/step - loss: 0.1798 - accuracy: 0.9295 - val_loss: 1.3915 - val_accuracy: 0.7610\n",
            "Epoch 17/300\n",
            "94/94 [==============================] - 12s 126ms/step - loss: 0.1773 - accuracy: 0.9337 - val_loss: 1.3770 - val_accuracy: 0.7673\n",
            "Epoch 18/300\n",
            "94/94 [==============================] - 12s 126ms/step - loss: 0.1804 - accuracy: 0.9315 - val_loss: 1.5298 - val_accuracy: 0.7547\n",
            "Epoch 19/300\n",
            "94/94 [==============================] - 12s 125ms/step - loss: 0.1685 - accuracy: 0.9338 - val_loss: 1.4120 - val_accuracy: 0.7799\n",
            "Epoch 20/300\n",
            "94/94 [==============================] - 12s 125ms/step - loss: 0.1632 - accuracy: 0.9362 - val_loss: 1.5970 - val_accuracy: 0.7673\n",
            "Epoch 21/300\n",
            "94/94 [==============================] - 12s 125ms/step - loss: 0.1602 - accuracy: 0.9378 - val_loss: 1.6184 - val_accuracy: 0.7547\n",
            "Epoch 22/300\n",
            "94/94 [==============================] - 12s 125ms/step - loss: 0.1597 - accuracy: 0.9383 - val_loss: 1.6783 - val_accuracy: 0.7547\n",
            "Epoch 23/300\n",
            "94/94 [==============================] - 12s 125ms/step - loss: 0.1526 - accuracy: 0.9407 - val_loss: 1.6556 - val_accuracy: 0.7610\n",
            "Epoch 24/300\n",
            "94/94 [==============================] - 12s 125ms/step - loss: 0.1545 - accuracy: 0.9375 - val_loss: 1.7995 - val_accuracy: 0.7484\n",
            "Epoch 25/300\n",
            "94/94 [==============================] - 12s 125ms/step - loss: 0.1522 - accuracy: 0.9407 - val_loss: 1.6209 - val_accuracy: 0.7736\n",
            "Epoch 26/300\n",
            "94/94 [==============================] - 12s 124ms/step - loss: 0.1536 - accuracy: 0.9400 - val_loss: 1.7320 - val_accuracy: 0.7673\n",
            "Epoch 27/300\n",
            "94/94 [==============================] - 12s 127ms/step - loss: 0.1451 - accuracy: 0.9432 - val_loss: 1.7011 - val_accuracy: 0.7610\n",
            "Epoch 28/300\n",
            "94/94 [==============================] - 12s 125ms/step - loss: 0.1484 - accuracy: 0.9405 - val_loss: 1.7437 - val_accuracy: 0.7610\n",
            "Epoch 29/300\n",
            "94/94 [==============================] - 12s 125ms/step - loss: 0.1456 - accuracy: 0.9420 - val_loss: 2.0257 - val_accuracy: 0.7547\n",
            "Epoch 30/300\n",
            "94/94 [==============================] - 12s 125ms/step - loss: 0.1389 - accuracy: 0.9438 - val_loss: 1.8752 - val_accuracy: 0.7610\n",
            "Epoch 31/300\n",
            "94/94 [==============================] - 12s 125ms/step - loss: 0.1489 - accuracy: 0.9412 - val_loss: 1.9237 - val_accuracy: 0.7610\n",
            "Epoch 32/300\n",
            "94/94 [==============================] - 12s 125ms/step - loss: 0.1426 - accuracy: 0.9455 - val_loss: 1.4994 - val_accuracy: 0.7862\n",
            "Epoch 33/300\n",
            "94/94 [==============================] - 12s 126ms/step - loss: 0.1421 - accuracy: 0.9423 - val_loss: 1.9563 - val_accuracy: 0.7673\n",
            "----------------------------------------------------------------------\n",
            "Metrics \n",
            "----------------------------------------------------------------------\n",
            "5/5 [==============================] - 1s 63ms/step - loss: 0.9122 - accuracy: 0.7358\n",
            "              precision    recall  f1-score   support\n",
            "\n",
            "           0       0.77      1.00      0.87        10\n",
            "           1       0.83      1.00      0.91        10\n",
            "           2       1.00      0.91      0.95        11\n",
            "           3       1.00      0.60      0.75        10\n",
            "           4       0.56      0.83      0.67        12\n",
            "           5       0.00      0.00      0.00        10\n",
            "           6       0.50      0.10      0.17        10\n",
            "           7       0.92      0.85      0.88        13\n",
            "           8       0.42      1.00      0.59        10\n",
            "           9       0.86      1.00      0.92        12\n",
            "          10       1.00      0.92      0.96        12\n",
            "          11       0.94      1.00      0.97        17\n",
            "          12       0.38      0.42      0.40        12\n",
            "          13       1.00      0.40      0.57        10\n",
            "\n",
            "    accuracy                           0.74       159\n",
            "   macro avg       0.73      0.72      0.69       159\n",
            "weighted avg       0.74      0.74      0.71       159\n",
            "\n",
            "----------------------------------------------------------------------\n",
            "Saving Results ... \n",
            "----------------------------------------------------------------------\n",
            "No Previous Accuracy Found!\n"
          ]
        }
      ]
    }
  ],
  "metadata": {
    "language_info": {
      "name": "python"
    },
    "orig_nbformat": 4,
    "colab": {
      "name": "Inference.ipynb",
      "provenance": [],
      "include_colab_link": true
    },
    "accelerator": "GPU",
    "gpuClass": "standard",
    "kernelspec": {
      "name": "python3",
      "display_name": "Python 3"
    }
  },
  "nbformat": 4,
  "nbformat_minor": 0
}