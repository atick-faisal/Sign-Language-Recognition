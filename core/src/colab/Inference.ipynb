{
  "cells": [
    {
      "cell_type": "markdown",
      "metadata": {
        "id": "view-in-github",
        "colab_type": "text"
      },
      "source": [
        "<a href=\"https://colab.research.google.com/github/atick-faisal/Sign-Language-Recognition/blob/main/core/src/colab/Inference.ipynb\" target=\"_parent\"><img src=\"https://colab.research.google.com/assets/colab-badge.svg\" alt=\"Open In Colab\"/></a>"
      ]
    },
    {
      "cell_type": "code",
      "source": [
        "from google.colab import drive\n",
        "drive.mount('/content/drive')"
      ],
      "metadata": {
        "id": "JmRmSvWP8Ma-",
        "outputId": "9179b03b-bcf4-40ca-d596-6e7ba1afc9ce",
        "colab": {
          "base_uri": "https://localhost:8080/"
        }
      },
      "execution_count": 1,
      "outputs": [
        {
          "output_type": "stream",
          "name": "stdout",
          "text": [
            "Mounted at /content/drive\n"
          ]
        }
      ]
    },
    {
      "cell_type": "code",
      "source": [
        "!pip install rich\n",
        "!gdown \"1CACL0ogqPC87Tsqo3qxX31ve04_Cxdjf\"\n",
        "!tar -xf raw.tar.xz\n",
        "!git clone https://github.com/atick-faisal/Sign-Language-Recognition.git"
      ],
      "metadata": {
        "id": "V-n5fxnqAdnr",
        "outputId": "9d5fdf5f-e484-421f-b9c5-2e45f5bd2409",
        "colab": {
          "base_uri": "https://localhost:8080/"
        }
      },
      "execution_count": 2,
      "outputs": [
        {
          "output_type": "stream",
          "name": "stdout",
          "text": [
            "Looking in indexes: https://pypi.org/simple, https://us-python.pkg.dev/colab-wheels/public/simple/\n",
            "Collecting rich\n",
            "  Downloading rich-12.4.4-py3-none-any.whl (232 kB)\n",
            "\u001b[K     |████████████████████████████████| 232 kB 27.0 MB/s \n",
            "\u001b[?25hRequirement already satisfied: typing-extensions<5.0,>=4.0.0 in /usr/local/lib/python3.7/dist-packages (from rich) (4.1.1)\n",
            "Requirement already satisfied: pygments<3.0.0,>=2.6.0 in /usr/local/lib/python3.7/dist-packages (from rich) (2.6.1)\n",
            "Collecting commonmark<0.10.0,>=0.9.0\n",
            "  Downloading commonmark-0.9.1-py2.py3-none-any.whl (51 kB)\n",
            "\u001b[K     |████████████████████████████████| 51 kB 8.6 MB/s \n",
            "\u001b[?25hInstalling collected packages: commonmark, rich\n",
            "Successfully installed commonmark-0.9.1 rich-12.4.4\n",
            "Downloading...\n",
            "From: https://drive.google.com/uc?id=1CACL0ogqPC87Tsqo3qxX31ve04_Cxdjf\n",
            "To: /content/raw.tar.xz\n",
            "100% 21.6M/21.6M [00:00<00:00, 364MB/s]\n",
            "Cloning into 'Sign-Language-Recognition'...\n",
            "remote: Enumerating objects: 1041, done.\u001b[K\n",
            "remote: Counting objects: 100% (52/52), done.\u001b[K\n",
            "remote: Compressing objects: 100% (33/33), done.\u001b[K\n",
            "remote: Total 1041 (delta 29), reused 32 (delta 18), pack-reused 989\u001b[K\n",
            "Receiving objects: 100% (1041/1041), 4.19 MiB | 4.33 MiB/s, done.\n",
            "Resolving deltas: 100% (613/613), done.\n"
          ]
        }
      ]
    },
    {
      "cell_type": "code",
      "source": [
        "!python Sign-Language-Recognition/core/src/train_tf.py \\\n",
        "        --exp_name \"stack_cnn_160x160_lw5\" \\\n",
        "        --data_dir \"raw\" \\\n",
        "        --model_dir \"/content/drive/MyDrive/Research/Leap Motion Controller/Models\""
      ],
      "metadata": {
        "id": "LeMkJoC98cym",
        "outputId": "1f4ef983-7394-4a7b-a3af-f0bd76d1f050",
        "colab": {
          "base_uri": "https://localhost:8080/"
        }
      },
      "execution_count": 1,
      "outputs": [
        {
          "output_type": "stream",
          "name": "stdout",
          "text": [
            "----------------------------------------------------------------------\n",
            "Generating Dataset\n",
            "----------------------------------------------------------------------\n",
            "\u001b[2K[ 1167/ 1178] processing files:  \u001b[91m━━━━━━━━━━━━━━━━━━━━━━━━━━━━━━━━━\u001b[0m\u001b[91m╸\u001b[0m \u001b[35m 99%\u001b[0m \u001b[36m0:00:08\u001b[0m\n",
            "\u001b[?25htcmalloc: large alloc 1262133248 bytes == 0x5f6e4000 @  0x7f1ef64a01e7 0x7f1ef2a310ce 0x7f1ef2a8d715 0x7f1ef2a8dd1b 0x7f1ef2b2e333 0x5936cc 0x548c51 0x5127f1 0x549576 0x593fce 0x548ae9 0x5127f1 0x593dd7 0x5118f8 0x549576 0x604173 0x5f5506 0x5f8c6c 0x5f9206 0x64faf2 0x64fc4e 0x7f1ef609dc87 0x5b621a\n",
            "----------------------------------------------------------------------\n",
            "Train Features Shape:  (5478, 150, 1)\n",
            "Train Images Shape:  (5478, 160, 160, 3)\n",
            "Test Features Shape:  (246, 150, 1)\n",
            "Test Images Shape:  (246, 160, 160, 3)\n",
            "Train Labels Shape:  (5478,)\n",
            "Test Labels Shape:  (246,)\n",
            "----------------------------------------------------------------------\n",
            "----------------------------------------------------------------------\n",
            "Training Model ... \n",
            "----------------------------------------------------------------------\n",
            "Epoch 1/300\n",
            "86/86 [==============================] - 25s 167ms/step - loss: 2.1585 - accuracy: 0.3229 - val_loss: 1.1944 - val_accuracy: 0.7439\n",
            "Epoch 2/300\n",
            "86/86 [==============================] - 11s 125ms/step - loss: 0.8512 - accuracy: 0.7309 - val_loss: 0.5300 - val_accuracy: 0.8740\n",
            "Epoch 3/300\n",
            "86/86 [==============================] - 11s 124ms/step - loss: 0.5495 - accuracy: 0.8264 - val_loss: 0.3206 - val_accuracy: 0.9187\n",
            "Epoch 4/300\n",
            "86/86 [==============================] - 11s 123ms/step - loss: 0.4315 - accuracy: 0.8635 - val_loss: 0.2654 - val_accuracy: 0.9106\n",
            "Epoch 5/300\n",
            "86/86 [==============================] - 11s 123ms/step - loss: 0.3414 - accuracy: 0.8914 - val_loss: 0.2375 - val_accuracy: 0.9146\n",
            "Epoch 6/300\n",
            "86/86 [==============================] - 11s 123ms/step - loss: 0.3067 - accuracy: 0.9018 - val_loss: 0.2298 - val_accuracy: 0.9146\n",
            "Epoch 7/300\n",
            "86/86 [==============================] - 11s 123ms/step - loss: 0.2554 - accuracy: 0.9175 - val_loss: 0.2370 - val_accuracy: 0.9146\n",
            "Epoch 8/300\n",
            "86/86 [==============================] - 11s 124ms/step - loss: 0.2384 - accuracy: 0.9193 - val_loss: 0.2051 - val_accuracy: 0.9268\n",
            "Epoch 9/300\n",
            "86/86 [==============================] - 11s 123ms/step - loss: 0.2229 - accuracy: 0.9304 - val_loss: 0.2102 - val_accuracy: 0.9146\n",
            "Epoch 10/300\n",
            "86/86 [==============================] - 11s 123ms/step - loss: 0.2043 - accuracy: 0.9348 - val_loss: 0.2243 - val_accuracy: 0.9146\n",
            "Epoch 11/300\n",
            "86/86 [==============================] - 11s 123ms/step - loss: 0.1888 - accuracy: 0.9367 - val_loss: 0.2097 - val_accuracy: 0.9187\n",
            "Epoch 12/300\n",
            "86/86 [==============================] - 11s 124ms/step - loss: 0.1745 - accuracy: 0.9398 - val_loss: 0.2292 - val_accuracy: 0.9187\n",
            "Epoch 13/300\n",
            "86/86 [==============================] - 11s 124ms/step - loss: 0.1582 - accuracy: 0.9503 - val_loss: 0.2071 - val_accuracy: 0.9228\n",
            "Epoch 14/300\n",
            "86/86 [==============================] - 11s 124ms/step - loss: 0.1574 - accuracy: 0.9485 - val_loss: 0.2074 - val_accuracy: 0.9350\n",
            "Epoch 15/300\n",
            "86/86 [==============================] - 11s 126ms/step - loss: 0.1424 - accuracy: 0.9522 - val_loss: 0.1954 - val_accuracy: 0.9350\n",
            "Epoch 16/300\n",
            "86/86 [==============================] - 11s 126ms/step - loss: 0.1350 - accuracy: 0.9545 - val_loss: 0.1837 - val_accuracy: 0.9390\n",
            "Epoch 17/300\n",
            "86/86 [==============================] - 11s 125ms/step - loss: 0.1341 - accuracy: 0.9560 - val_loss: 0.2146 - val_accuracy: 0.9390\n",
            "Epoch 18/300\n",
            "86/86 [==============================] - 11s 125ms/step - loss: 0.1264 - accuracy: 0.9558 - val_loss: 0.2247 - val_accuracy: 0.9268\n",
            "Epoch 19/300\n",
            "86/86 [==============================] - 11s 125ms/step - loss: 0.1190 - accuracy: 0.9586 - val_loss: 0.1872 - val_accuracy: 0.9390\n",
            "Epoch 20/300\n",
            "86/86 [==============================] - 11s 126ms/step - loss: 0.1169 - accuracy: 0.9593 - val_loss: 0.2067 - val_accuracy: 0.9350\n",
            "Epoch 21/300\n",
            "86/86 [==============================] - 11s 127ms/step - loss: 0.1028 - accuracy: 0.9637 - val_loss: 0.1968 - val_accuracy: 0.9309\n",
            "Epoch 22/300\n",
            "86/86 [==============================] - 11s 126ms/step - loss: 0.1112 - accuracy: 0.9604 - val_loss: 0.1740 - val_accuracy: 0.9350\n",
            "Epoch 23/300\n",
            "86/86 [==============================] - 11s 125ms/step - loss: 0.0986 - accuracy: 0.9671 - val_loss: 0.1866 - val_accuracy: 0.9309\n",
            "Epoch 24/300\n",
            "86/86 [==============================] - 11s 126ms/step - loss: 0.0935 - accuracy: 0.9682 - val_loss: 0.1974 - val_accuracy: 0.9228\n",
            "Epoch 25/300\n",
            "86/86 [==============================] - 11s 126ms/step - loss: 0.0996 - accuracy: 0.9668 - val_loss: 0.2148 - val_accuracy: 0.9390\n",
            "Epoch 26/300\n",
            "86/86 [==============================] - 11s 126ms/step - loss: 0.0919 - accuracy: 0.9675 - val_loss: 0.2023 - val_accuracy: 0.9350\n",
            "Epoch 27/300\n",
            "86/86 [==============================] - 11s 126ms/step - loss: 0.0870 - accuracy: 0.9710 - val_loss: 0.2066 - val_accuracy: 0.9390\n",
            "Epoch 28/300\n",
            "86/86 [==============================] - 11s 126ms/step - loss: 0.0889 - accuracy: 0.9686 - val_loss: 0.2358 - val_accuracy: 0.9390\n",
            "Epoch 29/300\n",
            "86/86 [==============================] - 11s 126ms/step - loss: 0.0817 - accuracy: 0.9704 - val_loss: 0.2608 - val_accuracy: 0.9390\n",
            "Epoch 30/300\n",
            "86/86 [==============================] - 11s 126ms/step - loss: 0.0815 - accuracy: 0.9712 - val_loss: 0.2139 - val_accuracy: 0.9431\n",
            "Epoch 31/300\n",
            "86/86 [==============================] - 11s 126ms/step - loss: 0.0892 - accuracy: 0.9684 - val_loss: 0.2342 - val_accuracy: 0.9268\n",
            "Epoch 32/300\n",
            "86/86 [==============================] - 11s 126ms/step - loss: 0.0812 - accuracy: 0.9708 - val_loss: 0.2412 - val_accuracy: 0.9268\n",
            "Epoch 33/300\n",
            "86/86 [==============================] - 11s 126ms/step - loss: 0.0745 - accuracy: 0.9732 - val_loss: 0.2414 - val_accuracy: 0.9350\n",
            "Epoch 34/300\n",
            "86/86 [==============================] - 11s 126ms/step - loss: 0.0741 - accuracy: 0.9723 - val_loss: 0.1999 - val_accuracy: 0.9390\n",
            "Epoch 35/300\n",
            "86/86 [==============================] - 11s 127ms/step - loss: 0.0769 - accuracy: 0.9730 - val_loss: 0.2110 - val_accuracy: 0.9390\n",
            "Epoch 36/300\n",
            "86/86 [==============================] - 11s 126ms/step - loss: 0.0696 - accuracy: 0.9779 - val_loss: 0.1857 - val_accuracy: 0.9512\n",
            "Epoch 37/300\n",
            "86/86 [==============================] - 11s 126ms/step - loss: 0.0758 - accuracy: 0.9750 - val_loss: 0.2162 - val_accuracy: 0.9431\n",
            "Epoch 38/300\n",
            "86/86 [==============================] - 11s 126ms/step - loss: 0.0719 - accuracy: 0.9766 - val_loss: 0.2253 - val_accuracy: 0.9390\n",
            "Epoch 39/300\n",
            "86/86 [==============================] - 11s 128ms/step - loss: 0.0622 - accuracy: 0.9768 - val_loss: 0.1943 - val_accuracy: 0.9512\n",
            "Epoch 40/300\n",
            "86/86 [==============================] - 11s 126ms/step - loss: 0.0673 - accuracy: 0.9770 - val_loss: 0.2232 - val_accuracy: 0.9472\n",
            "Epoch 41/300\n",
            "86/86 [==============================] - 11s 126ms/step - loss: 0.0618 - accuracy: 0.9792 - val_loss: 0.1872 - val_accuracy: 0.9553\n",
            "Epoch 42/300\n",
            "86/86 [==============================] - 11s 127ms/step - loss: 0.0652 - accuracy: 0.9772 - val_loss: 0.2349 - val_accuracy: 0.9472\n",
            "Epoch 43/300\n",
            "86/86 [==============================] - 11s 126ms/step - loss: 0.0630 - accuracy: 0.9785 - val_loss: 0.1989 - val_accuracy: 0.9472\n",
            "Epoch 44/300\n",
            "86/86 [==============================] - 11s 126ms/step - loss: 0.0526 - accuracy: 0.9797 - val_loss: 0.2050 - val_accuracy: 0.9472\n",
            "Epoch 45/300\n",
            "86/86 [==============================] - 11s 127ms/step - loss: 0.0560 - accuracy: 0.9810 - val_loss: 0.2648 - val_accuracy: 0.9309\n",
            "Epoch 46/300\n",
            "86/86 [==============================] - 11s 127ms/step - loss: 0.0646 - accuracy: 0.9786 - val_loss: 0.2520 - val_accuracy: 0.9390\n",
            "Epoch 47/300\n",
            "86/86 [==============================] - 11s 127ms/step - loss: 0.0593 - accuracy: 0.9805 - val_loss: 0.2244 - val_accuracy: 0.9431\n",
            "Epoch 48/300\n",
            "86/86 [==============================] - 11s 126ms/step - loss: 0.0624 - accuracy: 0.9808 - val_loss: 0.2185 - val_accuracy: 0.9431\n",
            "Epoch 49/300\n",
            "86/86 [==============================] - 11s 126ms/step - loss: 0.0564 - accuracy: 0.9797 - val_loss: 0.2314 - val_accuracy: 0.9512\n",
            "Epoch 50/300\n",
            "86/86 [==============================] - 11s 127ms/step - loss: 0.0571 - accuracy: 0.9790 - val_loss: 0.2282 - val_accuracy: 0.9553\n",
            "Epoch 51/300\n",
            "86/86 [==============================] - 11s 127ms/step - loss: 0.0593 - accuracy: 0.9797 - val_loss: 0.2452 - val_accuracy: 0.9431\n",
            "Epoch 52/300\n",
            "86/86 [==============================] - 11s 128ms/step - loss: 0.0573 - accuracy: 0.9786 - val_loss: 0.2727 - val_accuracy: 0.9350\n",
            "----------------------------------------------------------------------\n",
            "Metrics \n",
            "----------------------------------------------------------------------\n",
            "8/8 [==============================] - 2s 108ms/step - loss: 0.1740 - accuracy: 0.9350\n",
            "              precision    recall  f1-score   support\n",
            "\n",
            "           0       0.70      0.94      0.80        17\n",
            "           1       1.00      0.94      0.97        18\n",
            "           2       1.00      0.95      0.98        21\n",
            "           3       0.96      1.00      0.98        23\n",
            "           4       0.86      0.92      0.89        13\n",
            "           5       1.00      1.00      1.00        16\n",
            "           6       1.00      1.00      1.00        12\n",
            "           7       1.00      0.94      0.97        16\n",
            "           8       0.86      0.86      0.86        14\n",
            "           9       0.95      1.00      0.97        19\n",
            "          10       0.89      0.77      0.83        31\n",
            "          11       1.00      1.00      1.00        12\n",
            "          12       1.00      0.95      0.97        19\n",
            "          13       1.00      0.93      0.97        15\n",
            "\n",
            "    accuracy                           0.93       246\n",
            "   macro avg       0.94      0.94      0.94       246\n",
            "weighted avg       0.94      0.93      0.94       246\n",
            "\n",
            "----------------------------------------------------------------------\n",
            "Saving Results ... \n",
            "----------------------------------------------------------------------\n"
          ]
        }
      ]
    }
  ],
  "metadata": {
    "language_info": {
      "name": "python"
    },
    "orig_nbformat": 4,
    "colab": {
      "name": "Inference.ipynb",
      "provenance": [],
      "include_colab_link": true
    },
    "accelerator": "GPU",
    "gpuClass": "standard",
    "kernelspec": {
      "name": "python3",
      "display_name": "Python 3"
    }
  },
  "nbformat": 4,
  "nbformat_minor": 0
}