{
  "cells": [
    {
      "cell_type": "markdown",
      "metadata": {
        "id": "view-in-github",
        "colab_type": "text"
      },
      "source": [
        "<a href=\"https://colab.research.google.com/github/atick-faisal/Sign-Language-Recognition/blob/main/core/src/colab/Inference.ipynb\" target=\"_parent\"><img src=\"https://colab.research.google.com/assets/colab-badge.svg\" alt=\"Open In Colab\"/></a>"
      ]
    },
    {
      "cell_type": "code",
      "source": [
        "from google.colab import drive\n",
        "drive.mount('/content/drive')"
      ],
      "metadata": {
        "id": "JmRmSvWP8Ma-",
        "outputId": "faf70ff5-3e1f-49c7-8bc4-691b49360d39",
        "colab": {
          "base_uri": "https://localhost:8080/"
        }
      },
      "execution_count": 1,
      "outputs": [
        {
          "output_type": "stream",
          "name": "stdout",
          "text": [
            "Mounted at /content/drive\n"
          ]
        }
      ]
    },
    {
      "cell_type": "code",
      "source": [
        "!pip install rich\n",
        "!gdown \"1CACL0ogqPC87Tsqo3qxX31ve04_Cxdjf\"\n",
        "!tar -xf raw.tar.xz\n",
        "!git clone https://github.com/atick-faisal/Sign-Language-Recognition.git"
      ],
      "metadata": {
        "id": "V-n5fxnqAdnr",
        "outputId": "6248ce0d-7b8c-4874-b77a-bb8000e0f5c5",
        "colab": {
          "base_uri": "https://localhost:8080/"
        }
      },
      "execution_count": 2,
      "outputs": [
        {
          "output_type": "stream",
          "name": "stdout",
          "text": [
            "Looking in indexes: https://pypi.org/simple, https://us-python.pkg.dev/colab-wheels/public/simple/\n",
            "Collecting rich\n",
            "  Downloading rich-12.4.4-py3-none-any.whl (232 kB)\n",
            "\u001b[K     |████████████████████████████████| 232 kB 23.0 MB/s \n",
            "\u001b[?25hRequirement already satisfied: typing-extensions<5.0,>=4.0.0 in /usr/local/lib/python3.7/dist-packages (from rich) (4.1.1)\n",
            "Requirement already satisfied: pygments<3.0.0,>=2.6.0 in /usr/local/lib/python3.7/dist-packages (from rich) (2.6.1)\n",
            "Collecting commonmark<0.10.0,>=0.9.0\n",
            "  Downloading commonmark-0.9.1-py2.py3-none-any.whl (51 kB)\n",
            "\u001b[K     |████████████████████████████████| 51 kB 8.3 MB/s \n",
            "\u001b[?25hInstalling collected packages: commonmark, rich\n",
            "Successfully installed commonmark-0.9.1 rich-12.4.4\n",
            "Downloading...\n",
            "From: https://drive.google.com/uc?id=1CACL0ogqPC87Tsqo3qxX31ve04_Cxdjf\n",
            "To: /content/raw.tar.xz\n",
            "100% 21.6M/21.6M [00:00<00:00, 39.2MB/s]\n",
            "Cloning into 'Sign-Language-Recognition'...\n",
            "remote: Enumerating objects: 1130, done.\u001b[K\n",
            "remote: Counting objects: 100% (141/141), done.\u001b[K\n",
            "remote: Compressing objects: 100% (115/115), done.\u001b[K\n",
            "remote: Total 1130 (delta 88), reused 45 (delta 25), pack-reused 989\u001b[K\n",
            "Receiving objects: 100% (1130/1130), 4.26 MiB | 8.46 MiB/s, done.\n",
            "Resolving deltas: 100% (672/672), done.\n"
          ]
        }
      ]
    },
    {
      "cell_type": "code",
      "source": [
        "!python Sign-Language-Recognition/core/src/train_tf.py \\\n",
        "        --exp_name \"stack_cnn_u006_lw2\" \\\n",
        "        --data_dir \"raw\" \\\n",
        "        --model_dir \"/content/drive/MyDrive/Research/Leap Motion Controller/Models\""
      ],
      "metadata": {
        "id": "LeMkJoC98cym",
        "outputId": "555c4ab2-2c8b-473f-8507-6d9f088d9807",
        "colab": {
          "base_uri": "https://localhost:8080/"
        }
      },
      "execution_count": 1,
      "outputs": [
        {
          "output_type": "stream",
          "name": "stdout",
          "text": [
            "----------------------------------------------------------------------\n",
            "Generating Dataset\n",
            "----------------------------------------------------------------------\n",
            "\u001b[2K[ 1167/ 1178] processing files:  \u001b[91m━━━━━━━━━━━━━━━━━━━━━━━━━━━━━━━━━\u001b[0m\u001b[91m╸\u001b[0m \u001b[35m 99%\u001b[0m \u001b[36m0:00:09\u001b[0m\n",
            "\u001b[?25htcmalloc: large alloc 1369964544 bytes == 0x66352000 @  0x7f0ac5e461e7 0x7f0ac23d70ce 0x7f0ac2433715 0x7f0ac2433d1b 0x7f0ac24d4333 0x5936cc 0x548c51 0x5127f1 0x549576 0x593fce 0x548ae9 0x5127f1 0x593dd7 0x5118f8 0x549576 0x604173 0x5f5506 0x5f8c6c 0x5f9206 0x64faf2 0x64fc4e 0x7f0ac5a43c87 0x5b621a\n",
            "----------------------------------------------------------------------\n",
            "Train Features Shape:  (5946, 150, 1)\n",
            "Train Images Shape:  (5946, 160, 160, 3)\n",
            "Test Features Shape:  (168, 150, 1)\n",
            "Test Images Shape:  (168, 160, 160, 3)\n",
            "Train Labels Shape:  (5946,)\n",
            "Test Labels Shape:  (168,)\n",
            "----------------------------------------------------------------------\n",
            "----------------------------------------------------------------------\n",
            "Training Model ... \n",
            "----------------------------------------------------------------------\n",
            "Epoch 1/300\n",
            "93/93 [==============================] - 26s 164ms/step - loss: 1.8923 - accuracy: 0.3986 - val_loss: 1.7197 - val_accuracy: 0.4405\n",
            "Epoch 2/300\n",
            "93/93 [==============================] - 11s 122ms/step - loss: 0.7276 - accuracy: 0.7570 - val_loss: 0.9760 - val_accuracy: 0.6964\n",
            "Epoch 3/300\n",
            "93/93 [==============================] - 11s 122ms/step - loss: 0.4924 - accuracy: 0.8305 - val_loss: 0.5226 - val_accuracy: 0.8452\n",
            "Epoch 4/300\n",
            "93/93 [==============================] - 11s 123ms/step - loss: 0.4134 - accuracy: 0.8613 - val_loss: 0.4528 - val_accuracy: 0.8452\n",
            "Epoch 5/300\n",
            "93/93 [==============================] - 11s 123ms/step - loss: 0.3515 - accuracy: 0.8750 - val_loss: 0.3722 - val_accuracy: 0.8810\n",
            "Epoch 6/300\n",
            "93/93 [==============================] - 11s 122ms/step - loss: 0.3184 - accuracy: 0.8903 - val_loss: 0.3877 - val_accuracy: 0.8571\n",
            "Epoch 7/300\n",
            "93/93 [==============================] - 12s 124ms/step - loss: 0.2905 - accuracy: 0.8998 - val_loss: 0.3499 - val_accuracy: 0.8690\n",
            "Epoch 8/300\n",
            "93/93 [==============================] - 12s 124ms/step - loss: 0.2724 - accuracy: 0.9055 - val_loss: 0.4217 - val_accuracy: 0.8631\n",
            "Epoch 9/300\n",
            "93/93 [==============================] - 12s 126ms/step - loss: 0.2537 - accuracy: 0.9107 - val_loss: 0.3411 - val_accuracy: 0.8929\n",
            "Epoch 10/300\n",
            "93/93 [==============================] - 12s 125ms/step - loss: 0.2451 - accuracy: 0.9146 - val_loss: 0.3743 - val_accuracy: 0.8750\n",
            "Epoch 11/300\n",
            "93/93 [==============================] - 12s 124ms/step - loss: 0.2274 - accuracy: 0.9201 - val_loss: 0.3684 - val_accuracy: 0.8869\n",
            "Epoch 12/300\n",
            "93/93 [==============================] - 12s 125ms/step - loss: 0.2139 - accuracy: 0.9247 - val_loss: 0.3108 - val_accuracy: 0.8988\n",
            "Epoch 13/300\n",
            "93/93 [==============================] - 12s 124ms/step - loss: 0.1982 - accuracy: 0.9267 - val_loss: 0.3413 - val_accuracy: 0.8869\n",
            "Epoch 14/300\n",
            "93/93 [==============================] - 12s 126ms/step - loss: 0.2086 - accuracy: 0.9250 - val_loss: 0.3338 - val_accuracy: 0.9048\n",
            "Epoch 15/300\n",
            "93/93 [==============================] - 11s 123ms/step - loss: 0.1921 - accuracy: 0.9326 - val_loss: 0.3705 - val_accuracy: 0.8929\n",
            "Epoch 16/300\n",
            "93/93 [==============================] - 11s 123ms/step - loss: 0.1924 - accuracy: 0.9282 - val_loss: 0.3594 - val_accuracy: 0.8869\n",
            "Epoch 17/300\n",
            "93/93 [==============================] - 11s 123ms/step - loss: 0.1852 - accuracy: 0.9322 - val_loss: 0.3739 - val_accuracy: 0.8869\n",
            "Epoch 18/300\n",
            "93/93 [==============================] - 12s 128ms/step - loss: 0.1816 - accuracy: 0.9316 - val_loss: 0.2739 - val_accuracy: 0.9048\n",
            "Epoch 19/300\n",
            "93/93 [==============================] - 12s 124ms/step - loss: 0.1821 - accuracy: 0.9342 - val_loss: 0.2986 - val_accuracy: 0.8988\n",
            "Epoch 20/300\n",
            "93/93 [==============================] - 12s 124ms/step - loss: 0.1874 - accuracy: 0.9309 - val_loss: 0.2647 - val_accuracy: 0.9226\n",
            "Epoch 21/300\n",
            "93/93 [==============================] - 12s 124ms/step - loss: 0.1751 - accuracy: 0.9361 - val_loss: 0.3464 - val_accuracy: 0.9048\n",
            "Epoch 22/300\n",
            "93/93 [==============================] - 12s 124ms/step - loss: 0.1696 - accuracy: 0.9368 - val_loss: 0.4548 - val_accuracy: 0.8690\n",
            "Epoch 23/300\n",
            "93/93 [==============================] - 11s 124ms/step - loss: 0.1661 - accuracy: 0.9388 - val_loss: 0.3256 - val_accuracy: 0.9107\n",
            "Epoch 24/300\n",
            "93/93 [==============================] - 11s 123ms/step - loss: 0.1582 - accuracy: 0.9398 - val_loss: 0.4315 - val_accuracy: 0.8810\n",
            "Epoch 25/300\n",
            "93/93 [==============================] - 12s 124ms/step - loss: 0.1609 - accuracy: 0.9396 - val_loss: 0.4076 - val_accuracy: 0.8690\n",
            "Epoch 26/300\n",
            "93/93 [==============================] - 12s 126ms/step - loss: 0.1599 - accuracy: 0.9383 - val_loss: 0.3042 - val_accuracy: 0.9167\n",
            "Epoch 27/300\n",
            "93/93 [==============================] - 12s 124ms/step - loss: 0.1530 - accuracy: 0.9405 - val_loss: 0.3043 - val_accuracy: 0.9226\n",
            "Epoch 28/300\n",
            "93/93 [==============================] - 12s 124ms/step - loss: 0.1567 - accuracy: 0.9383 - val_loss: 0.3631 - val_accuracy: 0.8988\n",
            "Epoch 29/300\n",
            "93/93 [==============================] - 12s 124ms/step - loss: 0.1570 - accuracy: 0.9420 - val_loss: 0.3535 - val_accuracy: 0.9048\n",
            "Epoch 30/300\n",
            "93/93 [==============================] - 11s 123ms/step - loss: 0.1541 - accuracy: 0.9411 - val_loss: 0.3759 - val_accuracy: 0.8929\n",
            "Epoch 31/300\n",
            "93/93 [==============================] - 11s 123ms/step - loss: 0.1492 - accuracy: 0.9440 - val_loss: 0.4144 - val_accuracy: 0.8929\n",
            "Epoch 32/300\n",
            "93/93 [==============================] - 11s 123ms/step - loss: 0.1535 - accuracy: 0.9427 - val_loss: 0.4071 - val_accuracy: 0.8869\n",
            "Epoch 33/300\n",
            "93/93 [==============================] - 11s 123ms/step - loss: 0.1536 - accuracy: 0.9428 - val_loss: 0.2866 - val_accuracy: 0.9226\n",
            "Epoch 34/300\n",
            "93/93 [==============================] - 11s 124ms/step - loss: 0.1492 - accuracy: 0.9438 - val_loss: 0.3280 - val_accuracy: 0.9107\n",
            "Epoch 35/300\n",
            "93/93 [==============================] - 12s 124ms/step - loss: 0.1460 - accuracy: 0.9443 - val_loss: 0.3219 - val_accuracy: 0.9107\n",
            "Epoch 36/300\n",
            "93/93 [==============================] - 11s 124ms/step - loss: 0.1504 - accuracy: 0.9455 - val_loss: 0.2837 - val_accuracy: 0.9048\n",
            "Epoch 37/300\n",
            "93/93 [==============================] - 11s 124ms/step - loss: 0.1455 - accuracy: 0.9460 - val_loss: 0.3086 - val_accuracy: 0.9107\n",
            "Epoch 38/300\n",
            "93/93 [==============================] - 11s 123ms/step - loss: 0.1420 - accuracy: 0.9450 - val_loss: 0.3428 - val_accuracy: 0.8988\n",
            "Epoch 39/300\n",
            "93/93 [==============================] - 11s 124ms/step - loss: 0.1339 - accuracy: 0.9477 - val_loss: 0.3645 - val_accuracy: 0.9107\n",
            "Epoch 40/300\n",
            "93/93 [==============================] - 11s 123ms/step - loss: 0.1509 - accuracy: 0.9452 - val_loss: 0.3073 - val_accuracy: 0.9107\n",
            "Epoch 41/300\n",
            "93/93 [==============================] - 12s 126ms/step - loss: 0.1493 - accuracy: 0.9432 - val_loss: 0.4301 - val_accuracy: 0.8869\n",
            "Epoch 42/300\n",
            "93/93 [==============================] - 12s 124ms/step - loss: 0.1444 - accuracy: 0.9438 - val_loss: 0.3263 - val_accuracy: 0.9107\n",
            "Epoch 43/300\n",
            "93/93 [==============================] - 12s 124ms/step - loss: 0.1465 - accuracy: 0.9474 - val_loss: 0.3506 - val_accuracy: 0.9167\n",
            "Epoch 44/300\n",
            "93/93 [==============================] - 11s 124ms/step - loss: 0.1367 - accuracy: 0.9479 - val_loss: 0.3972 - val_accuracy: 0.8929\n",
            "Epoch 45/300\n",
            "93/93 [==============================] - 11s 124ms/step - loss: 0.1383 - accuracy: 0.9462 - val_loss: 0.3944 - val_accuracy: 0.8988\n",
            "Epoch 46/300\n",
            "93/93 [==============================] - 11s 124ms/step - loss: 0.1398 - accuracy: 0.9469 - val_loss: 0.4458 - val_accuracy: 0.8929\n",
            "Epoch 47/300\n",
            "93/93 [==============================] - 11s 123ms/step - loss: 0.1371 - accuracy: 0.9464 - val_loss: 0.3491 - val_accuracy: 0.9167\n",
            "Epoch 48/300\n",
            "93/93 [==============================] - 11s 124ms/step - loss: 0.1402 - accuracy: 0.9480 - val_loss: 0.3978 - val_accuracy: 0.9107\n",
            "Epoch 49/300\n",
            "93/93 [==============================] - 12s 124ms/step - loss: 0.1367 - accuracy: 0.9465 - val_loss: 0.3711 - val_accuracy: 0.9226\n",
            "Epoch 50/300\n",
            "93/93 [==============================] - 12s 124ms/step - loss: 0.1434 - accuracy: 0.9442 - val_loss: 0.3875 - val_accuracy: 0.9107\n",
            "----------------------------------------------------------------------\n",
            "Metrics \n",
            "----------------------------------------------------------------------\n",
            "6/6 [==============================] - 2s 139ms/step - loss: 0.2647 - accuracy: 0.9226\n",
            "              precision    recall  f1-score   support\n",
            "\n",
            "           0       0.71      1.00      0.83        12\n",
            "           1       1.00      1.00      1.00        12\n",
            "           2       0.92      1.00      0.96        12\n",
            "           3       0.90      0.75      0.82        12\n",
            "           4       1.00      0.83      0.91        12\n",
            "           5       1.00      1.00      1.00        12\n",
            "           6       1.00      0.67      0.80        12\n",
            "           7       0.69      0.92      0.79        12\n",
            "           8       1.00      0.92      0.96        12\n",
            "           9       1.00      0.92      0.96        12\n",
            "          10       1.00      0.92      0.96        12\n",
            "          11       1.00      1.00      1.00        12\n",
            "          12       1.00      1.00      1.00        12\n",
            "          13       0.92      1.00      0.96        12\n",
            "\n",
            "    accuracy                           0.92       168\n",
            "   macro avg       0.94      0.92      0.92       168\n",
            "weighted avg       0.94      0.92      0.92       168\n",
            "\n",
            "----------------------------------------------------------------------\n",
            "Saving Results ... \n",
            "----------------------------------------------------------------------\n",
            "No Previous Accuracy Found!\n"
          ]
        }
      ]
    }
  ],
  "metadata": {
    "language_info": {
      "name": "python"
    },
    "orig_nbformat": 4,
    "colab": {
      "name": "Inference.ipynb",
      "provenance": [],
      "include_colab_link": true
    },
    "accelerator": "GPU",
    "gpuClass": "standard",
    "kernelspec": {
      "name": "python3",
      "display_name": "Python 3"
    }
  },
  "nbformat": 4,
  "nbformat_minor": 0
}