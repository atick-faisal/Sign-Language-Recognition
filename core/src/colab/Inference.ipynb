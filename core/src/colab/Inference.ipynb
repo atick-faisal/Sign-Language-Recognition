{
  "cells": [
    {
      "cell_type": "markdown",
      "metadata": {
        "id": "view-in-github",
        "colab_type": "text"
      },
      "source": [
        "<a href=\"https://colab.research.google.com/github/atick-faisal/Sign-Language-Recognition/blob/main/core/src/colab/Inference.ipynb\" target=\"_parent\"><img src=\"https://colab.research.google.com/assets/colab-badge.svg\" alt=\"Open In Colab\"/></a>"
      ]
    },
    {
      "cell_type": "code",
      "source": [
        "from google.colab import drive\n",
        "drive.mount('/content/drive')"
      ],
      "metadata": {
        "id": "JmRmSvWP8Ma-",
        "outputId": "eef528c6-15a4-45af-f15c-cdfffe085127",
        "colab": {
          "base_uri": "https://localhost:8080/"
        }
      },
      "execution_count": 1,
      "outputs": [
        {
          "output_type": "stream",
          "name": "stdout",
          "text": [
            "Mounted at /content/drive\n"
          ]
        }
      ]
    },
    {
      "cell_type": "code",
      "source": [
        "!pip install rich\n",
        "!gdown \"1CACL0ogqPC87Tsqo3qxX31ve04_Cxdjf\"\n",
        "!tar -xf raw.tar.xz\n",
        "!git clone https://github.com/atick-faisal/Sign-Language-Recognition.git"
      ],
      "metadata": {
        "id": "V-n5fxnqAdnr",
        "outputId": "128743dc-60f2-49ae-bba6-8f01a2fca499",
        "colab": {
          "base_uri": "https://localhost:8080/"
        }
      },
      "execution_count": 2,
      "outputs": [
        {
          "output_type": "stream",
          "name": "stdout",
          "text": [
            "Looking in indexes: https://pypi.org/simple, https://us-python.pkg.dev/colab-wheels/public/simple/\n",
            "Collecting rich\n",
            "  Downloading rich-12.4.4-py3-none-any.whl (232 kB)\n",
            "\u001b[K     |████████████████████████████████| 232 kB 36.0 MB/s \n",
            "\u001b[?25hCollecting commonmark<0.10.0,>=0.9.0\n",
            "  Downloading commonmark-0.9.1-py2.py3-none-any.whl (51 kB)\n",
            "\u001b[K     |████████████████████████████████| 51 kB 8.2 MB/s \n",
            "\u001b[?25hRequirement already satisfied: pygments<3.0.0,>=2.6.0 in /usr/local/lib/python3.7/dist-packages (from rich) (2.6.1)\n",
            "Requirement already satisfied: typing-extensions<5.0,>=4.0.0 in /usr/local/lib/python3.7/dist-packages (from rich) (4.1.1)\n",
            "Installing collected packages: commonmark, rich\n",
            "Successfully installed commonmark-0.9.1 rich-12.4.4\n",
            "Downloading...\n",
            "From: https://drive.google.com/uc?id=1CACL0ogqPC87Tsqo3qxX31ve04_Cxdjf\n",
            "To: /content/raw.tar.xz\n",
            "100% 21.6M/21.6M [00:00<00:00, 37.4MB/s]\n",
            "Cloning into 'Sign-Language-Recognition'...\n",
            "remote: Enumerating objects: 1041, done.\u001b[K\n",
            "remote: Counting objects: 100% (52/52), done.\u001b[K\n",
            "remote: Compressing objects: 100% (33/33), done.\u001b[K\n",
            "remote: Total 1041 (delta 29), reused 32 (delta 18), pack-reused 989\u001b[K\n",
            "Receiving objects: 100% (1041/1041), 4.19 MiB | 5.82 MiB/s, done.\n",
            "Resolving deltas: 100% (613/613), done.\n"
          ]
        }
      ]
    },
    {
      "cell_type": "code",
      "source": [
        "!python Sign-Language-Recognition/core/src/train_tf.py \\\n",
        "        --exp_name \"stack_cnn_160x160_lw3\" \\\n",
        "        --data_dir \"raw\" \\\n",
        "        --model_dir \"/content/drive/MyDrive/Research/Leap Motion Controller/Models\""
      ],
      "metadata": {
        "id": "LeMkJoC98cym",
        "outputId": "b12e37f4-3c93-46ca-8e69-5b896eb4d98a",
        "colab": {
          "base_uri": "https://localhost:8080/"
        }
      },
      "execution_count": 3,
      "outputs": [
        {
          "output_type": "stream",
          "name": "stdout",
          "text": [
            "----------------------------------------------------------------------\n",
            "Generating Dataset\n",
            "----------------------------------------------------------------------\n",
            "\u001b[2K[ 1167/ 1178] processing files:  \u001b[91m━━━━━━━━━━━━━━━━━━━━━━━━━━━━━━━━━\u001b[0m\u001b[91m╸\u001b[0m \u001b[35m 99%\u001b[0m \u001b[36m0:00:08\u001b[0m\n",
            "\u001b[?25htcmalloc: large alloc 1262133248 bytes == 0x60be4000 @  0x7f59b065a1e7 0x7f59acbeb0ce 0x7f59acc47715 0x7f59acc47d1b 0x7f59acce8333 0x5936cc 0x548c51 0x5127f1 0x549576 0x593fce 0x548ae9 0x5127f1 0x593dd7 0x5118f8 0x549576 0x604173 0x5f5506 0x5f8c6c 0x5f9206 0x64faf2 0x64fc4e 0x7f59b0257c87 0x5b621a\n",
            "----------------------------------------------------------------------\n",
            "Train Features Shape:  (5478, 150, 1)\n",
            "Train Images Shape:  (5478, 160, 160, 3)\n",
            "Test Features Shape:  (246, 150, 1)\n",
            "Test Images Shape:  (246, 160, 160, 3)\n",
            "Train Labels Shape:  (5478,)\n",
            "Test Labels Shape:  (246,)\n",
            "----------------------------------------------------------------------\n",
            "Downloading data from https://storage.googleapis.com/tensorflow/keras-applications/mobilenet_v2/mobilenet_v2_weights_tf_dim_ordering_tf_kernels_1.0_160_no_top.h5\n",
            "9412608/9406464 [==============================] - 0s 0us/step\n",
            "9420800/9406464 [==============================] - 0s 0us/step\n",
            "----------------------------------------------------------------------\n",
            "Training Model ... \n",
            "----------------------------------------------------------------------\n",
            "Epoch 1/300\n",
            "86/86 [==============================] - 34s 161ms/step - loss: 2.1924 - accuracy: 0.3094 - val_loss: 1.2761 - val_accuracy: 0.7276\n",
            "Epoch 2/300\n",
            "86/86 [==============================] - 10s 122ms/step - loss: 0.8740 - accuracy: 0.7141 - val_loss: 0.4506 - val_accuracy: 0.9106\n",
            "Epoch 3/300\n",
            "86/86 [==============================] - 10s 122ms/step - loss: 0.5356 - accuracy: 0.8304 - val_loss: 0.2607 - val_accuracy: 0.9228\n",
            "Epoch 4/300\n",
            "86/86 [==============================] - 11s 123ms/step - loss: 0.4051 - accuracy: 0.8653 - val_loss: 0.2323 - val_accuracy: 0.9146\n",
            "Epoch 5/300\n",
            "86/86 [==============================] - 11s 123ms/step - loss: 0.3221 - accuracy: 0.8941 - val_loss: 0.2293 - val_accuracy: 0.9187\n",
            "Epoch 6/300\n",
            "86/86 [==============================] - 11s 123ms/step - loss: 0.3046 - accuracy: 0.8987 - val_loss: 0.2004 - val_accuracy: 0.9228\n",
            "Epoch 7/300\n",
            "86/86 [==============================] - 11s 123ms/step - loss: 0.2490 - accuracy: 0.9142 - val_loss: 0.1922 - val_accuracy: 0.9268\n",
            "Epoch 8/300\n",
            "86/86 [==============================] - 11s 123ms/step - loss: 0.2366 - accuracy: 0.9184 - val_loss: 0.1997 - val_accuracy: 0.9268\n",
            "Epoch 9/300\n",
            "86/86 [==============================] - 11s 123ms/step - loss: 0.2023 - accuracy: 0.9319 - val_loss: 0.2005 - val_accuracy: 0.9268\n",
            "Epoch 10/300\n",
            "86/86 [==============================] - 11s 124ms/step - loss: 0.1842 - accuracy: 0.9396 - val_loss: 0.2074 - val_accuracy: 0.9228\n",
            "Epoch 11/300\n",
            "86/86 [==============================] - 11s 124ms/step - loss: 0.1881 - accuracy: 0.9399 - val_loss: 0.2034 - val_accuracy: 0.9187\n",
            "Epoch 12/300\n",
            "86/86 [==============================] - 11s 124ms/step - loss: 0.1571 - accuracy: 0.9485 - val_loss: 0.2008 - val_accuracy: 0.9268\n",
            "Epoch 13/300\n",
            "86/86 [==============================] - 11s 124ms/step - loss: 0.1628 - accuracy: 0.9419 - val_loss: 0.2038 - val_accuracy: 0.9350\n",
            "Epoch 14/300\n",
            "86/86 [==============================] - 11s 123ms/step - loss: 0.1527 - accuracy: 0.9489 - val_loss: 0.1964 - val_accuracy: 0.9350\n",
            "Epoch 15/300\n",
            "86/86 [==============================] - 11s 123ms/step - loss: 0.1426 - accuracy: 0.9494 - val_loss: 0.2111 - val_accuracy: 0.9350\n",
            "Epoch 16/300\n",
            "86/86 [==============================] - 11s 123ms/step - loss: 0.1277 - accuracy: 0.9542 - val_loss: 0.1996 - val_accuracy: 0.9309\n",
            "Epoch 17/300\n",
            "86/86 [==============================] - 11s 123ms/step - loss: 0.1261 - accuracy: 0.9564 - val_loss: 0.2065 - val_accuracy: 0.9390\n",
            "Epoch 18/300\n",
            "86/86 [==============================] - 11s 123ms/step - loss: 0.1188 - accuracy: 0.9606 - val_loss: 0.2221 - val_accuracy: 0.9309\n",
            "Epoch 19/300\n",
            "86/86 [==============================] - 11s 125ms/step - loss: 0.1202 - accuracy: 0.9587 - val_loss: 0.1792 - val_accuracy: 0.9390\n",
            "Epoch 20/300\n",
            "86/86 [==============================] - 11s 124ms/step - loss: 0.1157 - accuracy: 0.9622 - val_loss: 0.2010 - val_accuracy: 0.9390\n",
            "Epoch 21/300\n",
            "86/86 [==============================] - 11s 124ms/step - loss: 0.1093 - accuracy: 0.9608 - val_loss: 0.1976 - val_accuracy: 0.9390\n",
            "Epoch 22/300\n",
            "86/86 [==============================] - 11s 124ms/step - loss: 0.1077 - accuracy: 0.9650 - val_loss: 0.2038 - val_accuracy: 0.9431\n",
            "Epoch 23/300\n",
            "86/86 [==============================] - 11s 124ms/step - loss: 0.0971 - accuracy: 0.9651 - val_loss: 0.1948 - val_accuracy: 0.9309\n",
            "Epoch 24/300\n",
            "86/86 [==============================] - 11s 124ms/step - loss: 0.1027 - accuracy: 0.9640 - val_loss: 0.1729 - val_accuracy: 0.9390\n",
            "Epoch 25/300\n",
            "86/86 [==============================] - 11s 123ms/step - loss: 0.0951 - accuracy: 0.9670 - val_loss: 0.1918 - val_accuracy: 0.9512\n",
            "Epoch 26/300\n",
            "86/86 [==============================] - 11s 123ms/step - loss: 0.0987 - accuracy: 0.9646 - val_loss: 0.2113 - val_accuracy: 0.9431\n",
            "Epoch 27/300\n",
            "86/86 [==============================] - 11s 124ms/step - loss: 0.0856 - accuracy: 0.9686 - val_loss: 0.1977 - val_accuracy: 0.9431\n",
            "Epoch 28/300\n",
            "86/86 [==============================] - 11s 124ms/step - loss: 0.0892 - accuracy: 0.9688 - val_loss: 0.2051 - val_accuracy: 0.9390\n",
            "Epoch 29/300\n",
            "86/86 [==============================] - 11s 123ms/step - loss: 0.0902 - accuracy: 0.9681 - val_loss: 0.1918 - val_accuracy: 0.9309\n",
            "Epoch 30/300\n",
            "86/86 [==============================] - 11s 123ms/step - loss: 0.0833 - accuracy: 0.9715 - val_loss: 0.2129 - val_accuracy: 0.9390\n",
            "Epoch 31/300\n",
            "86/86 [==============================] - 11s 123ms/step - loss: 0.0736 - accuracy: 0.9746 - val_loss: 0.2174 - val_accuracy: 0.9390\n",
            "Epoch 32/300\n",
            "86/86 [==============================] - 11s 123ms/step - loss: 0.0821 - accuracy: 0.9701 - val_loss: 0.2515 - val_accuracy: 0.9390\n",
            "Epoch 33/300\n",
            "86/86 [==============================] - 11s 123ms/step - loss: 0.0787 - accuracy: 0.9712 - val_loss: 0.2143 - val_accuracy: 0.9390\n",
            "Epoch 34/300\n",
            "86/86 [==============================] - 11s 123ms/step - loss: 0.0724 - accuracy: 0.9757 - val_loss: 0.1998 - val_accuracy: 0.9390\n",
            "Epoch 35/300\n",
            "86/86 [==============================] - 11s 124ms/step - loss: 0.0722 - accuracy: 0.9757 - val_loss: 0.1896 - val_accuracy: 0.9268\n",
            "Epoch 36/300\n",
            "86/86 [==============================] - 11s 123ms/step - loss: 0.0707 - accuracy: 0.9733 - val_loss: 0.2479 - val_accuracy: 0.9309\n",
            "Epoch 37/300\n",
            "86/86 [==============================] - 11s 124ms/step - loss: 0.0653 - accuracy: 0.9765 - val_loss: 0.2205 - val_accuracy: 0.9350\n",
            "Epoch 38/300\n",
            "86/86 [==============================] - 11s 123ms/step - loss: 0.0670 - accuracy: 0.9779 - val_loss: 0.1838 - val_accuracy: 0.9472\n",
            "Epoch 39/300\n",
            "86/86 [==============================] - 11s 123ms/step - loss: 0.0748 - accuracy: 0.9733 - val_loss: 0.1898 - val_accuracy: 0.9390\n",
            "Epoch 40/300\n",
            "86/86 [==============================] - 11s 124ms/step - loss: 0.0663 - accuracy: 0.9774 - val_loss: 0.1968 - val_accuracy: 0.9431\n",
            "Epoch 41/300\n",
            "86/86 [==============================] - 11s 124ms/step - loss: 0.0681 - accuracy: 0.9763 - val_loss: 0.2311 - val_accuracy: 0.9390\n",
            "Epoch 42/300\n",
            "86/86 [==============================] - 11s 124ms/step - loss: 0.0610 - accuracy: 0.9786 - val_loss: 0.1966 - val_accuracy: 0.9350\n",
            "Epoch 43/300\n",
            "86/86 [==============================] - 11s 124ms/step - loss: 0.0719 - accuracy: 0.9755 - val_loss: 0.2136 - val_accuracy: 0.9431\n",
            "Epoch 44/300\n",
            "86/86 [==============================] - 11s 123ms/step - loss: 0.0628 - accuracy: 0.9743 - val_loss: 0.2242 - val_accuracy: 0.9390\n",
            "Epoch 45/300\n",
            "86/86 [==============================] - 11s 124ms/step - loss: 0.0658 - accuracy: 0.9759 - val_loss: 0.2266 - val_accuracy: 0.9512\n",
            "Epoch 46/300\n",
            "86/86 [==============================] - 11s 123ms/step - loss: 0.0668 - accuracy: 0.9770 - val_loss: 0.2043 - val_accuracy: 0.9431\n",
            "Epoch 47/300\n",
            "86/86 [==============================] - 11s 123ms/step - loss: 0.0653 - accuracy: 0.9779 - val_loss: 0.2670 - val_accuracy: 0.9350\n",
            "Epoch 48/300\n",
            "86/86 [==============================] - 11s 124ms/step - loss: 0.0615 - accuracy: 0.9783 - val_loss: 0.2443 - val_accuracy: 0.9431\n",
            "Epoch 49/300\n",
            "86/86 [==============================] - 11s 124ms/step - loss: 0.0648 - accuracy: 0.9774 - val_loss: 0.2223 - val_accuracy: 0.9431\n",
            "Epoch 50/300\n",
            "86/86 [==============================] - 11s 124ms/step - loss: 0.0573 - accuracy: 0.9779 - val_loss: 0.2096 - val_accuracy: 0.9472\n",
            "Epoch 51/300\n",
            "86/86 [==============================] - 11s 124ms/step - loss: 0.0580 - accuracy: 0.9823 - val_loss: 0.2233 - val_accuracy: 0.9390\n",
            "Epoch 52/300\n",
            "86/86 [==============================] - 11s 123ms/step - loss: 0.0640 - accuracy: 0.9770 - val_loss: 0.2497 - val_accuracy: 0.9512\n",
            "Epoch 53/300\n",
            "86/86 [==============================] - 11s 123ms/step - loss: 0.0479 - accuracy: 0.9825 - val_loss: 0.2550 - val_accuracy: 0.9431\n",
            "Epoch 54/300\n",
            "86/86 [==============================] - 11s 124ms/step - loss: 0.0561 - accuracy: 0.9799 - val_loss: 0.2733 - val_accuracy: 0.9390\n",
            "----------------------------------------------------------------------\n",
            "Metrics \n",
            "----------------------------------------------------------------------\n",
            "8/8 [==============================] - 2s 135ms/step - loss: 0.1729 - accuracy: 0.9390\n",
            "              precision    recall  f1-score   support\n",
            "\n",
            "           0       0.73      0.94      0.82        17\n",
            "           1       1.00      0.94      0.97        18\n",
            "           2       1.00      0.95      0.98        21\n",
            "           3       0.88      1.00      0.94        23\n",
            "           4       1.00      0.92      0.96        13\n",
            "           5       1.00      1.00      1.00        16\n",
            "           6       1.00      1.00      1.00        12\n",
            "           7       1.00      1.00      1.00        16\n",
            "           8       0.86      0.86      0.86        14\n",
            "           9       0.90      1.00      0.95        19\n",
            "          10       0.92      0.77      0.84        31\n",
            "          11       1.00      1.00      1.00        12\n",
            "          12       1.00      0.89      0.94        19\n",
            "          13       1.00      1.00      1.00        15\n",
            "\n",
            "    accuracy                           0.94       246\n",
            "   macro avg       0.95      0.95      0.95       246\n",
            "weighted avg       0.95      0.94      0.94       246\n",
            "\n",
            "----------------------------------------------------------------------\n",
            "Saving Results ... \n",
            "----------------------------------------------------------------------\n"
          ]
        }
      ]
    }
  ],
  "metadata": {
    "language_info": {
      "name": "python"
    },
    "orig_nbformat": 4,
    "colab": {
      "name": "Inference.ipynb",
      "provenance": [],
      "include_colab_link": true
    },
    "accelerator": "GPU",
    "gpuClass": "standard",
    "kernelspec": {
      "name": "python3",
      "display_name": "Python 3"
    }
  },
  "nbformat": 4,
  "nbformat_minor": 0
}