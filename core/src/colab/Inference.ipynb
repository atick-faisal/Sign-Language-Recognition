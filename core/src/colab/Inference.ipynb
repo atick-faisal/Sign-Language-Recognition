{
  "cells": [
    {
      "cell_type": "markdown",
      "metadata": {
        "id": "view-in-github",
        "colab_type": "text"
      },
      "source": [
        "<a href=\"https://colab.research.google.com/github/atick-faisal/Sign-Language-Recognition/blob/main/core/src/colab/Inference.ipynb\" target=\"_parent\"><img src=\"https://colab.research.google.com/assets/colab-badge.svg\" alt=\"Open In Colab\"/></a>"
      ]
    },
    {
      "cell_type": "code",
      "source": [
        "from google.colab import drive\n",
        "drive.mount('/content/drive')"
      ],
      "metadata": {
        "id": "JmRmSvWP8Ma-",
        "outputId": "ccf4cf3d-6962-4bc3-95a1-e5f8cd6e3cbd",
        "colab": {
          "base_uri": "https://localhost:8080/"
        }
      },
      "execution_count": 1,
      "outputs": [
        {
          "output_type": "stream",
          "name": "stdout",
          "text": [
            "Mounted at /content/drive\n"
          ]
        }
      ]
    },
    {
      "cell_type": "code",
      "source": [
        "!pip install rich\n",
        "!gdown \"1CACL0ogqPC87Tsqo3qxX31ve04_Cxdjf\"\n",
        "!tar -xf raw.tar.xz\n",
        "!git clone https://github.com/atick-faisal/Sign-Language-Recognition.git"
      ],
      "metadata": {
        "id": "V-n5fxnqAdnr",
        "outputId": "8cede53a-7193-4620-9e47-9ed2c9a2dba1",
        "colab": {
          "base_uri": "https://localhost:8080/"
        }
      },
      "execution_count": 2,
      "outputs": [
        {
          "output_type": "stream",
          "name": "stdout",
          "text": [
            "Looking in indexes: https://pypi.org/simple, https://us-python.pkg.dev/colab-wheels/public/simple/\n",
            "Collecting rich\n",
            "  Downloading rich-12.4.4-py3-none-any.whl (232 kB)\n",
            "\u001b[K     |████████████████████████████████| 232 kB 28.7 MB/s \n",
            "\u001b[?25hCollecting commonmark<0.10.0,>=0.9.0\n",
            "  Downloading commonmark-0.9.1-py2.py3-none-any.whl (51 kB)\n",
            "\u001b[K     |████████████████████████████████| 51 kB 10.0 MB/s \n",
            "\u001b[?25hRequirement already satisfied: pygments<3.0.0,>=2.6.0 in /usr/local/lib/python3.7/dist-packages (from rich) (2.6.1)\n",
            "Requirement already satisfied: typing-extensions<5.0,>=4.0.0 in /usr/local/lib/python3.7/dist-packages (from rich) (4.1.1)\n",
            "Installing collected packages: commonmark, rich\n",
            "Successfully installed commonmark-0.9.1 rich-12.4.4\n",
            "Downloading...\n",
            "From: https://drive.google.com/uc?id=1CACL0ogqPC87Tsqo3qxX31ve04_Cxdjf\n",
            "To: /content/raw.tar.xz\n",
            "100% 21.6M/21.6M [00:00<00:00, 212MB/s]\n",
            "Cloning into 'Sign-Language-Recognition'...\n",
            "remote: Enumerating objects: 1082, done.\u001b[K\n",
            "remote: Counting objects: 100% (93/93), done.\u001b[K\n",
            "remote: Compressing objects: 100% (74/74), done.\u001b[K\n",
            "remote: Total 1082 (delta 56), reused 34 (delta 18), pack-reused 989\u001b[K\n",
            "Receiving objects: 100% (1082/1082), 4.20 MiB | 31.19 MiB/s, done.\n",
            "Resolving deltas: 100% (640/640), done.\n"
          ]
        }
      ]
    },
    {
      "cell_type": "code",
      "source": [
        "!python Sign-Language-Recognition/core/src/train_tf.py \\\n",
        "        --exp_name \"stack_cnn_u007_lw1\" \\\n",
        "        --data_dir \"raw\" \\\n",
        "        --model_dir \"/content/drive/MyDrive/Research/Leap Motion Controller/Models\""
      ],
      "metadata": {
        "id": "LeMkJoC98cym",
        "outputId": "191175ab-3097-4638-e5f8-2449cfb049a9",
        "colab": {
          "base_uri": "https://localhost:8080/"
        }
      },
      "execution_count": 3,
      "outputs": [
        {
          "output_type": "stream",
          "name": "stdout",
          "text": [
            "----------------------------------------------------------------------\n",
            "Generating Dataset\n",
            "----------------------------------------------------------------------\n",
            "\u001b[2K[ 1167/ 1178] processing files:  \u001b[91m━━━━━━━━━━━━━━━━━━━━━━━━━━━━━━━━━\u001b[0m\u001b[91m╸\u001b[0m \u001b[35m 99%\u001b[0m \u001b[36m0:00:08\u001b[0m\n",
            "\u001b[?25htcmalloc: large alloc 1379639296 bytes == 0x65b80000 @  0x7fbe8b6681e7 0x7fbe87bf90ce 0x7fbe87c55715 0x7fbe87c55d1b 0x7fbe87cf6333 0x5936cc 0x548c51 0x5127f1 0x549576 0x593fce 0x548ae9 0x5127f1 0x593dd7 0x5118f8 0x549576 0x604173 0x5f5506 0x5f8c6c 0x5f9206 0x64faf2 0x64fc4e 0x7fbe8b265c87 0x5b621a\n",
            "----------------------------------------------------------------------\n",
            "Train Features Shape:  (5988, 150, 1)\n",
            "Train Images Shape:  (5988, 160, 160, 3)\n",
            "Test Features Shape:  (161, 150, 1)\n",
            "Test Images Shape:  (161, 160, 160, 3)\n",
            "Train Labels Shape:  (5988,)\n",
            "Test Labels Shape:  (161,)\n",
            "----------------------------------------------------------------------\n",
            "Downloading data from https://storage.googleapis.com/tensorflow/keras-applications/mobilenet_v2/mobilenet_v2_weights_tf_dim_ordering_tf_kernels_1.0_160_no_top.h5\n",
            "9412608/9406464 [==============================] - 0s 0us/step\n",
            "9420800/9406464 [==============================] - 0s 0us/step\n",
            "----------------------------------------------------------------------\n",
            "Training Model ... \n",
            "----------------------------------------------------------------------\n",
            "Epoch 1/300\n",
            "94/94 [==============================] - 34s 156ms/step - loss: 1.9104 - accuracy: 0.3923 - val_loss: 1.0338 - val_accuracy: 0.7019\n",
            "Epoch 2/300\n",
            "94/94 [==============================] - 12s 124ms/step - loss: 0.7316 - accuracy: 0.7694 - val_loss: 0.6096 - val_accuracy: 0.7516\n",
            "Epoch 3/300\n",
            "94/94 [==============================] - 11s 122ms/step - loss: 0.4710 - accuracy: 0.8460 - val_loss: 0.5926 - val_accuracy: 0.8075\n",
            "Epoch 4/300\n",
            "94/94 [==============================] - 11s 122ms/step - loss: 0.3799 - accuracy: 0.8789 - val_loss: 0.6144 - val_accuracy: 0.8137\n",
            "Epoch 5/300\n",
            "94/94 [==============================] - 11s 122ms/step - loss: 0.3360 - accuracy: 0.8903 - val_loss: 0.8940 - val_accuracy: 0.7826\n",
            "Epoch 6/300\n",
            "94/94 [==============================] - 11s 122ms/step - loss: 0.3109 - accuracy: 0.8938 - val_loss: 0.8068 - val_accuracy: 0.7888\n",
            "Epoch 7/300\n",
            "94/94 [==============================] - 12s 123ms/step - loss: 0.2531 - accuracy: 0.9110 - val_loss: 0.8162 - val_accuracy: 0.7764\n",
            "Epoch 8/300\n",
            "94/94 [==============================] - 12s 124ms/step - loss: 0.2303 - accuracy: 0.9207 - val_loss: 0.8766 - val_accuracy: 0.7764\n",
            "Epoch 9/300\n",
            "94/94 [==============================] - 12s 125ms/step - loss: 0.2166 - accuracy: 0.9272 - val_loss: 0.8251 - val_accuracy: 0.7640\n",
            "Epoch 10/300\n",
            "94/94 [==============================] - 12s 126ms/step - loss: 0.2113 - accuracy: 0.9280 - val_loss: 0.8060 - val_accuracy: 0.7764\n",
            "Epoch 11/300\n",
            "94/94 [==============================] - 12s 126ms/step - loss: 0.1970 - accuracy: 0.9344 - val_loss: 0.7917 - val_accuracy: 0.7950\n",
            "Epoch 12/300\n",
            "94/94 [==============================] - 12s 125ms/step - loss: 0.1712 - accuracy: 0.9410 - val_loss: 1.0367 - val_accuracy: 0.7578\n",
            "Epoch 13/300\n",
            "94/94 [==============================] - 12s 124ms/step - loss: 0.1659 - accuracy: 0.9405 - val_loss: 0.9848 - val_accuracy: 0.7826\n",
            "Epoch 14/300\n",
            "94/94 [==============================] - 12s 125ms/step - loss: 0.1663 - accuracy: 0.9424 - val_loss: 1.0498 - val_accuracy: 0.7702\n",
            "Epoch 15/300\n",
            "94/94 [==============================] - 12s 125ms/step - loss: 0.1468 - accuracy: 0.9461 - val_loss: 0.9010 - val_accuracy: 0.7516\n",
            "Epoch 16/300\n",
            "94/94 [==============================] - 12s 125ms/step - loss: 0.1394 - accuracy: 0.9496 - val_loss: 0.8923 - val_accuracy: 0.7702\n",
            "Epoch 17/300\n",
            "94/94 [==============================] - 12s 126ms/step - loss: 0.1390 - accuracy: 0.9527 - val_loss: 0.9954 - val_accuracy: 0.7888\n",
            "Epoch 18/300\n",
            "94/94 [==============================] - 12s 127ms/step - loss: 0.1330 - accuracy: 0.9526 - val_loss: 0.9854 - val_accuracy: 0.7640\n",
            "Epoch 19/300\n",
            "94/94 [==============================] - 12s 125ms/step - loss: 0.1260 - accuracy: 0.9564 - val_loss: 1.0466 - val_accuracy: 0.7888\n",
            "Epoch 20/300\n",
            "94/94 [==============================] - 12s 125ms/step - loss: 0.1299 - accuracy: 0.9536 - val_loss: 1.1477 - val_accuracy: 0.7578\n",
            "Epoch 21/300\n",
            "94/94 [==============================] - 12s 125ms/step - loss: 0.1262 - accuracy: 0.9562 - val_loss: 0.8879 - val_accuracy: 0.8012\n",
            "Epoch 22/300\n",
            "94/94 [==============================] - 12s 125ms/step - loss: 0.1165 - accuracy: 0.9586 - val_loss: 0.8367 - val_accuracy: 0.7950\n",
            "Epoch 23/300\n",
            "94/94 [==============================] - 12s 125ms/step - loss: 0.1088 - accuracy: 0.9626 - val_loss: 0.9168 - val_accuracy: 0.7640\n",
            "Epoch 24/300\n",
            "94/94 [==============================] - 12s 125ms/step - loss: 0.1126 - accuracy: 0.9603 - val_loss: 0.9620 - val_accuracy: 0.7640\n",
            "Epoch 25/300\n",
            "94/94 [==============================] - 12s 125ms/step - loss: 0.0963 - accuracy: 0.9659 - val_loss: 1.1146 - val_accuracy: 0.7578\n",
            "Epoch 26/300\n",
            "94/94 [==============================] - 12s 125ms/step - loss: 0.1092 - accuracy: 0.9643 - val_loss: 0.8829 - val_accuracy: 0.8075\n",
            "Epoch 27/300\n",
            "94/94 [==============================] - 12s 125ms/step - loss: 0.1013 - accuracy: 0.9656 - val_loss: 0.9664 - val_accuracy: 0.7578\n",
            "Epoch 28/300\n",
            "94/94 [==============================] - 12s 125ms/step - loss: 0.0970 - accuracy: 0.9648 - val_loss: 0.9532 - val_accuracy: 0.7640\n",
            "Epoch 29/300\n",
            "94/94 [==============================] - 12s 125ms/step - loss: 0.0881 - accuracy: 0.9698 - val_loss: 0.9695 - val_accuracy: 0.7640\n",
            "Epoch 30/300\n",
            "94/94 [==============================] - 12s 125ms/step - loss: 0.0960 - accuracy: 0.9668 - val_loss: 0.7854 - val_accuracy: 0.8075\n",
            "Epoch 31/300\n",
            "94/94 [==============================] - 12s 125ms/step - loss: 0.0868 - accuracy: 0.9699 - val_loss: 1.0700 - val_accuracy: 0.7640\n",
            "Epoch 32/300\n",
            "94/94 [==============================] - 12s 125ms/step - loss: 0.0888 - accuracy: 0.9688 - val_loss: 0.9941 - val_accuracy: 0.8012\n",
            "Epoch 33/300\n",
            "94/94 [==============================] - 12s 127ms/step - loss: 0.0771 - accuracy: 0.9733 - val_loss: 0.9595 - val_accuracy: 0.7888\n",
            "----------------------------------------------------------------------\n",
            "Metrics \n",
            "----------------------------------------------------------------------\n",
            "6/6 [==============================] - 1s 111ms/step - loss: 0.5926 - accuracy: 0.8075\n",
            "              precision    recall  f1-score   support\n",
            "\n",
            "           0       0.71      0.42      0.53        12\n",
            "           1       1.00      0.92      0.96        12\n",
            "           2       0.92      0.92      0.92        12\n",
            "           3       1.00      0.67      0.80        12\n",
            "           4       1.00      1.00      1.00        12\n",
            "           5       1.00      0.17      0.29        12\n",
            "           6       1.00      0.50      0.67        12\n",
            "           7       1.00      1.00      1.00        12\n",
            "           8       0.67      1.00      0.80        12\n",
            "           9       1.00      0.92      0.96        12\n",
            "          10       0.61      0.92      0.73        12\n",
            "          11       0.36      1.00      0.53         5\n",
            "          12       0.67      1.00      0.80        12\n",
            "          13       1.00      1.00      1.00        12\n",
            "\n",
            "    accuracy                           0.81       161\n",
            "   macro avg       0.85      0.82      0.78       161\n",
            "weighted avg       0.87      0.81      0.79       161\n",
            "\n",
            "----------------------------------------------------------------------\n",
            "Saving Results ... \n",
            "----------------------------------------------------------------------\n",
            "No Previous Accuracy Found!\n"
          ]
        }
      ]
    }
  ],
  "metadata": {
    "language_info": {
      "name": "python"
    },
    "orig_nbformat": 4,
    "colab": {
      "name": "Inference.ipynb",
      "provenance": [],
      "include_colab_link": true
    },
    "accelerator": "GPU",
    "gpuClass": "standard",
    "kernelspec": {
      "name": "python3",
      "display_name": "Python 3"
    }
  },
  "nbformat": 4,
  "nbformat_minor": 0
}