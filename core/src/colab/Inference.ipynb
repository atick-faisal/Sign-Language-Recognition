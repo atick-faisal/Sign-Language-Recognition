{
  "cells": [
    {
      "cell_type": "markdown",
      "metadata": {
        "id": "view-in-github",
        "colab_type": "text"
      },
      "source": [
        "<a href=\"https://colab.research.google.com/github/atick-faisal/Sign-Language-Recognition/blob/main/core/src/colab/Inference.ipynb\" target=\"_parent\"><img src=\"https://colab.research.google.com/assets/colab-badge.svg\" alt=\"Open In Colab\"/></a>"
      ]
    },
    {
      "cell_type": "code",
      "source": [
        "from google.colab import drive\n",
        "drive.mount('/content/drive')"
      ],
      "metadata": {
        "id": "JmRmSvWP8Ma-",
        "outputId": "dd1caad5-5fce-4927-e30a-f715ee3b1bf7",
        "colab": {
          "base_uri": "https://localhost:8080/"
        }
      },
      "execution_count": 1,
      "outputs": [
        {
          "output_type": "stream",
          "name": "stdout",
          "text": [
            "Mounted at /content/drive\n"
          ]
        }
      ]
    },
    {
      "cell_type": "code",
      "source": [
        "!pip install rich\n",
        "!gdown \"1CACL0ogqPC87Tsqo3qxX31ve04_Cxdjf\"\n",
        "!tar -xf raw.tar.xz\n",
        "!git clone https://github.com/atick-faisal/Sign-Language-Recognition.git"
      ],
      "metadata": {
        "id": "V-n5fxnqAdnr",
        "outputId": "223a9d30-47a0-49be-9707-1c1dd07b99f5",
        "colab": {
          "base_uri": "https://localhost:8080/"
        }
      },
      "execution_count": 2,
      "outputs": [
        {
          "output_type": "stream",
          "name": "stdout",
          "text": [
            "Looking in indexes: https://pypi.org/simple, https://us-python.pkg.dev/colab-wheels/public/simple/\n",
            "Collecting rich\n",
            "  Downloading rich-12.4.4-py3-none-any.whl (232 kB)\n",
            "\u001b[K     |████████████████████████████████| 232 kB 28.2 MB/s \n",
            "\u001b[?25hRequirement already satisfied: pygments<3.0.0,>=2.6.0 in /usr/local/lib/python3.7/dist-packages (from rich) (2.6.1)\n",
            "Collecting commonmark<0.10.0,>=0.9.0\n",
            "  Downloading commonmark-0.9.1-py2.py3-none-any.whl (51 kB)\n",
            "\u001b[K     |████████████████████████████████| 51 kB 7.5 MB/s \n",
            "\u001b[?25hRequirement already satisfied: typing-extensions<5.0,>=4.0.0 in /usr/local/lib/python3.7/dist-packages (from rich) (4.1.1)\n",
            "Installing collected packages: commonmark, rich\n",
            "Successfully installed commonmark-0.9.1 rich-12.4.4\n",
            "Downloading...\n",
            "From: https://drive.google.com/uc?id=1CACL0ogqPC87Tsqo3qxX31ve04_Cxdjf\n",
            "To: /content/raw.tar.xz\n",
            "100% 21.6M/21.6M [00:00<00:00, 366MB/s]\n",
            "Cloning into 'Sign-Language-Recognition'...\n",
            "remote: Enumerating objects: 1041, done.\u001b[K\n",
            "remote: Counting objects: 100% (52/52), done.\u001b[K\n",
            "remote: Compressing objects: 100% (33/33), done.\u001b[K\n",
            "remote: Total 1041 (delta 29), reused 32 (delta 18), pack-reused 989\u001b[K\n",
            "Receiving objects: 100% (1041/1041), 4.19 MiB | 18.42 MiB/s, done.\n",
            "Resolving deltas: 100% (613/613), done.\n"
          ]
        }
      ]
    },
    {
      "cell_type": "code",
      "source": [
        "!python Sign-Language-Recognition/core/src/train_tf.py \\\n",
        "        --exp_name \"stack_cnn_160x160_lw4\" \\\n",
        "        --data_dir \"raw\" \\\n",
        "        --model_dir \"/content/drive/MyDrive/Research/Leap Motion Controller/Models\""
      ],
      "metadata": {
        "id": "LeMkJoC98cym",
        "outputId": "55263686-7e55-4873-d021-dc3dc421c74b",
        "colab": {
          "base_uri": "https://localhost:8080/"
        }
      },
      "execution_count": 1,
      "outputs": [
        {
          "output_type": "stream",
          "name": "stdout",
          "text": [
            "----------------------------------------------------------------------\n",
            "Generating Dataset\n",
            "----------------------------------------------------------------------\n",
            "\u001b[2K[ 1167/ 1178] processing files:  \u001b[91m━━━━━━━━━━━━━━━━━━━━━━━━━━━━━━━━━\u001b[0m\u001b[91m╸\u001b[0m \u001b[35m 99%\u001b[0m \u001b[36m0:00:09\u001b[0m\n",
            "\u001b[?25htcmalloc: large alloc 1262133248 bytes == 0x5f5ee000 @  0x7fd3cb61b1e7 0x7fd3c7bac0ce 0x7fd3c7c08715 0x7fd3c7c08d1b 0x7fd3c7ca9333 0x5936cc 0x548c51 0x5127f1 0x549576 0x593fce 0x548ae9 0x5127f1 0x593dd7 0x5118f8 0x549576 0x604173 0x5f5506 0x5f8c6c 0x5f9206 0x64faf2 0x64fc4e 0x7fd3cb218c87 0x5b621a\n",
            "----------------------------------------------------------------------\n",
            "Train Features Shape:  (5478, 150, 1)\n",
            "Train Images Shape:  (5478, 160, 160, 3)\n",
            "Test Features Shape:  (246, 150, 1)\n",
            "Test Images Shape:  (246, 160, 160, 3)\n",
            "Train Labels Shape:  (5478,)\n",
            "Test Labels Shape:  (246,)\n",
            "----------------------------------------------------------------------\n",
            "----------------------------------------------------------------------\n",
            "Training Model ... \n",
            "----------------------------------------------------------------------\n",
            "Epoch 1/300\n",
            "86/86 [==============================] - 25s 167ms/step - loss: 2.0746 - accuracy: 0.3379 - val_loss: 1.1964 - val_accuracy: 0.7033\n",
            "Epoch 2/300\n",
            "86/86 [==============================] - 10s 122ms/step - loss: 0.7767 - accuracy: 0.7464 - val_loss: 0.5097 - val_accuracy: 0.8618\n",
            "Epoch 3/300\n",
            "86/86 [==============================] - 11s 122ms/step - loss: 0.5141 - accuracy: 0.8337 - val_loss: 0.3018 - val_accuracy: 0.9146\n",
            "Epoch 4/300\n",
            "86/86 [==============================] - 11s 123ms/step - loss: 0.3912 - accuracy: 0.8695 - val_loss: 0.2519 - val_accuracy: 0.9187\n",
            "Epoch 5/300\n",
            "86/86 [==============================] - 11s 123ms/step - loss: 0.3115 - accuracy: 0.8978 - val_loss: 0.2304 - val_accuracy: 0.9146\n",
            "Epoch 6/300\n",
            "86/86 [==============================] - 11s 123ms/step - loss: 0.2889 - accuracy: 0.9003 - val_loss: 0.2137 - val_accuracy: 0.9228\n",
            "Epoch 7/300\n",
            "86/86 [==============================] - 11s 124ms/step - loss: 0.2517 - accuracy: 0.9180 - val_loss: 0.2132 - val_accuracy: 0.9146\n",
            "Epoch 8/300\n",
            "86/86 [==============================] - 11s 124ms/step - loss: 0.2269 - accuracy: 0.9226 - val_loss: 0.1937 - val_accuracy: 0.9228\n",
            "Epoch 9/300\n",
            "86/86 [==============================] - 11s 125ms/step - loss: 0.2064 - accuracy: 0.9321 - val_loss: 0.1876 - val_accuracy: 0.9309\n",
            "Epoch 10/300\n",
            "86/86 [==============================] - 11s 126ms/step - loss: 0.1866 - accuracy: 0.9354 - val_loss: 0.1753 - val_accuracy: 0.9268\n",
            "Epoch 11/300\n",
            "86/86 [==============================] - 11s 126ms/step - loss: 0.1635 - accuracy: 0.9441 - val_loss: 0.1928 - val_accuracy: 0.9187\n",
            "Epoch 12/300\n",
            "86/86 [==============================] - 11s 128ms/step - loss: 0.1642 - accuracy: 0.9419 - val_loss: 0.1762 - val_accuracy: 0.9309\n",
            "Epoch 13/300\n",
            "86/86 [==============================] - 11s 129ms/step - loss: 0.1424 - accuracy: 0.9493 - val_loss: 0.1709 - val_accuracy: 0.9309\n",
            "Epoch 14/300\n",
            "86/86 [==============================] - 11s 126ms/step - loss: 0.1408 - accuracy: 0.9538 - val_loss: 0.1727 - val_accuracy: 0.9309\n",
            "Epoch 15/300\n",
            "86/86 [==============================] - 11s 126ms/step - loss: 0.1326 - accuracy: 0.9535 - val_loss: 0.1714 - val_accuracy: 0.9268\n",
            "Epoch 16/300\n",
            "86/86 [==============================] - 11s 126ms/step - loss: 0.1279 - accuracy: 0.9551 - val_loss: 0.1760 - val_accuracy: 0.9309\n",
            "Epoch 17/300\n",
            "86/86 [==============================] - 11s 125ms/step - loss: 0.1216 - accuracy: 0.9571 - val_loss: 0.2116 - val_accuracy: 0.9268\n",
            "Epoch 18/300\n",
            "86/86 [==============================] - 11s 126ms/step - loss: 0.1190 - accuracy: 0.9566 - val_loss: 0.1561 - val_accuracy: 0.9350\n",
            "Epoch 19/300\n",
            "86/86 [==============================] - 11s 126ms/step - loss: 0.1096 - accuracy: 0.9611 - val_loss: 0.1902 - val_accuracy: 0.9350\n",
            "Epoch 20/300\n",
            "86/86 [==============================] - 11s 126ms/step - loss: 0.1116 - accuracy: 0.9629 - val_loss: 0.1795 - val_accuracy: 0.9309\n",
            "Epoch 21/300\n",
            "86/86 [==============================] - 11s 126ms/step - loss: 0.0978 - accuracy: 0.9657 - val_loss: 0.1824 - val_accuracy: 0.9431\n",
            "Epoch 22/300\n",
            "86/86 [==============================] - 11s 126ms/step - loss: 0.0964 - accuracy: 0.9671 - val_loss: 0.1767 - val_accuracy: 0.9390\n",
            "Epoch 23/300\n",
            "86/86 [==============================] - 11s 126ms/step - loss: 0.0915 - accuracy: 0.9719 - val_loss: 0.1969 - val_accuracy: 0.9350\n",
            "Epoch 24/300\n",
            "86/86 [==============================] - 11s 126ms/step - loss: 0.0870 - accuracy: 0.9688 - val_loss: 0.2153 - val_accuracy: 0.9350\n",
            "Epoch 25/300\n",
            "86/86 [==============================] - 11s 126ms/step - loss: 0.0851 - accuracy: 0.9724 - val_loss: 0.2174 - val_accuracy: 0.9390\n",
            "Epoch 26/300\n",
            "86/86 [==============================] - 11s 126ms/step - loss: 0.0847 - accuracy: 0.9697 - val_loss: 0.2327 - val_accuracy: 0.9350\n",
            "Epoch 27/300\n",
            "86/86 [==============================] - 11s 126ms/step - loss: 0.0822 - accuracy: 0.9715 - val_loss: 0.2098 - val_accuracy: 0.9390\n",
            "Epoch 28/300\n",
            "86/86 [==============================] - 11s 126ms/step - loss: 0.0857 - accuracy: 0.9688 - val_loss: 0.1602 - val_accuracy: 0.9512\n",
            "Epoch 29/300\n",
            "86/86 [==============================] - 11s 125ms/step - loss: 0.0754 - accuracy: 0.9730 - val_loss: 0.2221 - val_accuracy: 0.9390\n",
            "Epoch 30/300\n",
            "86/86 [==============================] - 11s 127ms/step - loss: 0.0800 - accuracy: 0.9702 - val_loss: 0.2189 - val_accuracy: 0.9472\n",
            "Epoch 31/300\n",
            "86/86 [==============================] - 11s 127ms/step - loss: 0.0722 - accuracy: 0.9746 - val_loss: 0.2188 - val_accuracy: 0.9431\n",
            "Epoch 32/300\n",
            "86/86 [==============================] - 11s 126ms/step - loss: 0.0748 - accuracy: 0.9724 - val_loss: 0.1968 - val_accuracy: 0.9512\n",
            "Epoch 33/300\n",
            "86/86 [==============================] - 11s 127ms/step - loss: 0.0740 - accuracy: 0.9739 - val_loss: 0.1730 - val_accuracy: 0.9431\n",
            "Epoch 34/300\n",
            "86/86 [==============================] - 11s 126ms/step - loss: 0.0728 - accuracy: 0.9732 - val_loss: 0.2056 - val_accuracy: 0.9431\n",
            "Epoch 35/300\n",
            "86/86 [==============================] - 11s 126ms/step - loss: 0.0637 - accuracy: 0.9790 - val_loss: 0.1726 - val_accuracy: 0.9512\n",
            "Epoch 36/300\n",
            "86/86 [==============================] - 11s 126ms/step - loss: 0.0596 - accuracy: 0.9788 - val_loss: 0.2401 - val_accuracy: 0.9431\n",
            "Epoch 37/300\n",
            "86/86 [==============================] - 11s 125ms/step - loss: 0.0739 - accuracy: 0.9733 - val_loss: 0.2212 - val_accuracy: 0.9390\n",
            "Epoch 38/300\n",
            "86/86 [==============================] - 11s 126ms/step - loss: 0.0666 - accuracy: 0.9759 - val_loss: 0.2344 - val_accuracy: 0.9431\n",
            "Epoch 39/300\n",
            "86/86 [==============================] - 11s 126ms/step - loss: 0.0584 - accuracy: 0.9797 - val_loss: 0.2329 - val_accuracy: 0.9431\n",
            "Epoch 40/300\n",
            "86/86 [==============================] - 11s 126ms/step - loss: 0.0624 - accuracy: 0.9770 - val_loss: 0.1818 - val_accuracy: 0.9512\n",
            "Epoch 41/300\n",
            "86/86 [==============================] - 11s 126ms/step - loss: 0.0586 - accuracy: 0.9799 - val_loss: 0.2182 - val_accuracy: 0.9472\n",
            "Epoch 42/300\n",
            "86/86 [==============================] - 11s 126ms/step - loss: 0.0607 - accuracy: 0.9775 - val_loss: 0.2218 - val_accuracy: 0.9553\n",
            "Epoch 43/300\n",
            "86/86 [==============================] - 11s 126ms/step - loss: 0.0629 - accuracy: 0.9770 - val_loss: 0.2320 - val_accuracy: 0.9431\n",
            "Epoch 44/300\n",
            "86/86 [==============================] - 11s 126ms/step - loss: 0.0622 - accuracy: 0.9777 - val_loss: 0.2251 - val_accuracy: 0.9472\n",
            "Epoch 45/300\n",
            "86/86 [==============================] - 11s 126ms/step - loss: 0.0614 - accuracy: 0.9777 - val_loss: 0.2011 - val_accuracy: 0.9472\n",
            "Epoch 46/300\n",
            "86/86 [==============================] - 11s 126ms/step - loss: 0.0602 - accuracy: 0.9808 - val_loss: 0.2674 - val_accuracy: 0.9431\n",
            "Epoch 47/300\n",
            "86/86 [==============================] - 11s 126ms/step - loss: 0.0592 - accuracy: 0.9786 - val_loss: 0.2545 - val_accuracy: 0.9431\n",
            "Epoch 48/300\n",
            "86/86 [==============================] - 11s 130ms/step - loss: 0.0516 - accuracy: 0.9817 - val_loss: 0.2574 - val_accuracy: 0.9472\n",
            "----------------------------------------------------------------------\n",
            "Metrics \n",
            "----------------------------------------------------------------------\n",
            "8/8 [==============================] - 2s 115ms/step - loss: 0.1561 - accuracy: 0.9350\n",
            "              precision    recall  f1-score   support\n",
            "\n",
            "           0       0.70      0.94      0.80        17\n",
            "           1       1.00      0.94      0.97        18\n",
            "           2       1.00      0.90      0.95        21\n",
            "           3       0.96      1.00      0.98        23\n",
            "           4       0.92      0.92      0.92        13\n",
            "           5       1.00      1.00      1.00        16\n",
            "           6       1.00      1.00      1.00        12\n",
            "           7       1.00      0.94      0.97        16\n",
            "           8       0.86      0.86      0.86        14\n",
            "           9       0.90      1.00      0.95        19\n",
            "          10       0.89      0.81      0.85        31\n",
            "          11       1.00      1.00      1.00        12\n",
            "          12       1.00      0.89      0.94        19\n",
            "          13       1.00      1.00      1.00        15\n",
            "\n",
            "    accuracy                           0.93       246\n",
            "   macro avg       0.95      0.94      0.94       246\n",
            "weighted avg       0.94      0.93      0.94       246\n",
            "\n",
            "----------------------------------------------------------------------\n",
            "Saving Results ... \n",
            "----------------------------------------------------------------------\n",
            "No Previous Accuracy Found!\n"
          ]
        }
      ]
    }
  ],
  "metadata": {
    "language_info": {
      "name": "python"
    },
    "orig_nbformat": 4,
    "colab": {
      "name": "Inference.ipynb",
      "provenance": [],
      "include_colab_link": true
    },
    "accelerator": "GPU",
    "gpuClass": "standard",
    "kernelspec": {
      "name": "python3",
      "display_name": "Python 3"
    }
  },
  "nbformat": 4,
  "nbformat_minor": 0
}