{
  "cells": [
    {
      "cell_type": "markdown",
      "metadata": {
        "id": "view-in-github",
        "colab_type": "text"
      },
      "source": [
        "<a href=\"https://colab.research.google.com/github/atick-faisal/Sign-Language-Recognition/blob/main/core/src/colab/Inference.ipynb\" target=\"_parent\"><img src=\"https://colab.research.google.com/assets/colab-badge.svg\" alt=\"Open In Colab\"/></a>"
      ]
    },
    {
      "cell_type": "code",
      "source": [
        "from google.colab import drive\n",
        "drive.mount('/content/drive')"
      ],
      "metadata": {
        "id": "JmRmSvWP8Ma-",
        "outputId": "c2c60e07-88bb-4406-a082-83d26d748915",
        "colab": {
          "base_uri": "https://localhost:8080/"
        }
      },
      "execution_count": null,
      "outputs": [
        {
          "output_type": "stream",
          "name": "stdout",
          "text": [
            "Mounted at /content/drive\n"
          ]
        }
      ]
    },
    {
      "cell_type": "code",
      "source": [
        "!pip install rich\n",
        "!gdown \"1CACL0ogqPC87Tsqo3qxX31ve04_Cxdjf\"\n",
        "!tar -xf raw.tar.xz\n",
        "!git clone https://github.com/atick-faisal/Sign-Language-Recognition.git"
      ],
      "metadata": {
        "id": "V-n5fxnqAdnr",
        "outputId": "155da70d-6f1b-4009-bd3f-048e0de28ed8",
        "colab": {
          "base_uri": "https://localhost:8080/"
        }
      },
      "execution_count": 1,
      "outputs": [
        {
          "output_type": "stream",
          "name": "stdout",
          "text": [
            "Looking in indexes: https://pypi.org/simple, https://us-python.pkg.dev/colab-wheels/public/simple/\n",
            "Collecting rich\n",
            "  Downloading rich-12.4.4-py3-none-any.whl (232 kB)\n",
            "\u001b[K     |████████████████████████████████| 232 kB 5.2 MB/s \n",
            "\u001b[?25hCollecting commonmark<0.10.0,>=0.9.0\n",
            "  Downloading commonmark-0.9.1-py2.py3-none-any.whl (51 kB)\n",
            "\u001b[K     |████████████████████████████████| 51 kB 9.4 MB/s \n",
            "\u001b[?25hRequirement already satisfied: pygments<3.0.0,>=2.6.0 in /usr/local/lib/python3.7/dist-packages (from rich) (2.6.1)\n",
            "Requirement already satisfied: typing-extensions<5.0,>=4.0.0 in /usr/local/lib/python3.7/dist-packages (from rich) (4.1.1)\n",
            "Installing collected packages: commonmark, rich\n",
            "Successfully installed commonmark-0.9.1 rich-12.4.4\n",
            "Downloading...\n",
            "From: https://drive.google.com/uc?id=1CACL0ogqPC87Tsqo3qxX31ve04_Cxdjf\n",
            "To: /content/raw.tar.xz\n",
            "100% 21.6M/21.6M [00:00<00:00, 89.0MB/s]\n",
            "Cloning into 'Sign-Language-Recognition'...\n",
            "remote: Enumerating objects: 1130, done.\u001b[K\n",
            "remote: Counting objects: 100% (141/141), done.\u001b[K\n",
            "remote: Compressing objects: 100% (115/115), done.\u001b[K\n",
            "remote: Total 1130 (delta 88), reused 45 (delta 25), pack-reused 989\u001b[K\n",
            "Receiving objects: 100% (1130/1130), 4.26 MiB | 17.79 MiB/s, done.\n",
            "Resolving deltas: 100% (672/672), done.\n"
          ]
        }
      ]
    },
    {
      "cell_type": "code",
      "source": [
        "!python Sign-Language-Recognition/core/src/train_tf.py \\\n",
        "        --exp_name \"stack_cnn_u004_lw3\" \\\n",
        "        --data_dir \"raw\" \\\n",
        "        --model_dir \"/content/drive/MyDrive/Research/Leap Motion Controller/Models\""
      ],
      "metadata": {
        "id": "LeMkJoC98cym",
        "outputId": "095afd6c-29a2-49c7-b84e-c22aa17124de",
        "colab": {
          "base_uri": "https://localhost:8080/"
        }
      },
      "execution_count": 1,
      "outputs": [
        {
          "output_type": "stream",
          "name": "stdout",
          "text": [
            "----------------------------------------------------------------------\n",
            "Generating Dataset\n",
            "----------------------------------------------------------------------\n",
            "\u001b[2K[ 1167/ 1178] processing files:  \u001b[91m━━━━━━━━━━━━━━━━━━━━━━━━━━━━━━━━━\u001b[0m\u001b[91m╸\u001b[0m \u001b[35m 99%\u001b[0m \u001b[36m0:00:09\u001b[0m\n",
            "\u001b[?25htcmalloc: large alloc 1369964544 bytes == 0x65932000 @  0x7f32b29881e7 0x7f32aef190ce 0x7f32aef75715 0x7f32aef75d1b 0x7f32af016333 0x5936cc 0x548c51 0x5127f1 0x549576 0x593fce 0x548ae9 0x5127f1 0x593dd7 0x5118f8 0x549576 0x604173 0x5f5506 0x5f8c6c 0x5f9206 0x64faf2 0x64fc4e 0x7f32b2585c87 0x5b621a\n",
            "----------------------------------------------------------------------\n",
            "Train Features Shape:  (5946, 150, 1)\n",
            "Train Images Shape:  (5946, 160, 160, 3)\n",
            "Test Features Shape:  (168, 150, 1)\n",
            "Test Images Shape:  (168, 160, 160, 3)\n",
            "Train Labels Shape:  (5946,)\n",
            "Test Labels Shape:  (168,)\n",
            "----------------------------------------------------------------------\n",
            "----------------------------------------------------------------------\n",
            "Training Model ... \n",
            "----------------------------------------------------------------------\n",
            "Epoch 1/300\n",
            "93/93 [==============================] - 25s 156ms/step - loss: 2.0400 - accuracy: 0.3486 - val_loss: 1.7233 - val_accuracy: 0.4583\n",
            "Epoch 2/300\n",
            "93/93 [==============================] - 11s 120ms/step - loss: 0.7373 - accuracy: 0.7625 - val_loss: 0.7941 - val_accuracy: 0.7857\n",
            "Epoch 3/300\n",
            "93/93 [==============================] - 11s 120ms/step - loss: 0.4848 - accuracy: 0.8342 - val_loss: 0.5513 - val_accuracy: 0.8214\n",
            "Epoch 4/300\n",
            "93/93 [==============================] - 11s 122ms/step - loss: 0.3990 - accuracy: 0.8638 - val_loss: 0.4830 - val_accuracy: 0.8036\n",
            "Epoch 5/300\n",
            "93/93 [==============================] - 11s 121ms/step - loss: 0.3378 - accuracy: 0.8836 - val_loss: 0.4868 - val_accuracy: 0.7976\n",
            "Epoch 6/300\n",
            "93/93 [==============================] - 11s 121ms/step - loss: 0.2968 - accuracy: 0.8974 - val_loss: 0.5166 - val_accuracy: 0.7798\n",
            "Epoch 7/300\n",
            "93/93 [==============================] - 11s 121ms/step - loss: 0.2701 - accuracy: 0.9060 - val_loss: 0.7538 - val_accuracy: 0.7202\n",
            "Epoch 8/300\n",
            "93/93 [==============================] - 11s 122ms/step - loss: 0.2631 - accuracy: 0.9092 - val_loss: 0.5810 - val_accuracy: 0.7798\n",
            "Epoch 9/300\n",
            "93/93 [==============================] - 11s 122ms/step - loss: 0.2265 - accuracy: 0.9198 - val_loss: 0.5553 - val_accuracy: 0.7917\n",
            "Epoch 10/300\n",
            "93/93 [==============================] - 11s 122ms/step - loss: 0.2217 - accuracy: 0.9173 - val_loss: 0.6252 - val_accuracy: 0.7857\n",
            "Epoch 11/300\n",
            "93/93 [==============================] - 11s 123ms/step - loss: 0.2152 - accuracy: 0.9213 - val_loss: 0.5460 - val_accuracy: 0.7857\n",
            "Epoch 12/300\n",
            "93/93 [==============================] - 11s 123ms/step - loss: 0.2081 - accuracy: 0.9255 - val_loss: 0.5113 - val_accuracy: 0.8095\n",
            "Epoch 13/300\n",
            "93/93 [==============================] - 11s 123ms/step - loss: 0.1898 - accuracy: 0.9317 - val_loss: 0.5426 - val_accuracy: 0.7917\n",
            "Epoch 14/300\n",
            "93/93 [==============================] - 11s 123ms/step - loss: 0.1967 - accuracy: 0.9322 - val_loss: 0.5855 - val_accuracy: 0.8036\n",
            "Epoch 15/300\n",
            "93/93 [==============================] - 11s 123ms/step - loss: 0.1876 - accuracy: 0.9305 - val_loss: 0.5563 - val_accuracy: 0.8036\n",
            "Epoch 16/300\n",
            "93/93 [==============================] - 11s 123ms/step - loss: 0.1778 - accuracy: 0.9349 - val_loss: 0.5992 - val_accuracy: 0.7798\n",
            "Epoch 17/300\n",
            "93/93 [==============================] - 12s 124ms/step - loss: 0.1730 - accuracy: 0.9384 - val_loss: 0.6104 - val_accuracy: 0.7857\n",
            "Epoch 18/300\n",
            "93/93 [==============================] - 11s 123ms/step - loss: 0.1840 - accuracy: 0.9307 - val_loss: 0.5999 - val_accuracy: 0.7976\n",
            "Epoch 19/300\n",
            "93/93 [==============================] - 11s 123ms/step - loss: 0.1707 - accuracy: 0.9371 - val_loss: 0.6554 - val_accuracy: 0.7917\n",
            "Epoch 20/300\n",
            "93/93 [==============================] - 11s 122ms/step - loss: 0.1672 - accuracy: 0.9374 - val_loss: 0.7020 - val_accuracy: 0.7679\n",
            "Epoch 21/300\n",
            "93/93 [==============================] - 11s 123ms/step - loss: 0.1711 - accuracy: 0.9364 - val_loss: 0.6970 - val_accuracy: 0.7560\n",
            "Epoch 22/300\n",
            "93/93 [==============================] - 11s 123ms/step - loss: 0.1616 - accuracy: 0.9388 - val_loss: 0.5142 - val_accuracy: 0.8214\n",
            "Epoch 23/300\n",
            "93/93 [==============================] - 11s 123ms/step - loss: 0.1676 - accuracy: 0.9390 - val_loss: 0.4951 - val_accuracy: 0.8095\n",
            "Epoch 24/300\n",
            "93/93 [==============================] - 11s 123ms/step - loss: 0.1647 - accuracy: 0.9369 - val_loss: 0.5236 - val_accuracy: 0.8095\n",
            "Epoch 25/300\n",
            "93/93 [==============================] - 11s 123ms/step - loss: 0.1545 - accuracy: 0.9450 - val_loss: 0.5437 - val_accuracy: 0.8095\n",
            "Epoch 26/300\n",
            "93/93 [==============================] - 11s 123ms/step - loss: 0.1547 - accuracy: 0.9450 - val_loss: 0.5567 - val_accuracy: 0.7917\n",
            "Epoch 27/300\n",
            "93/93 [==============================] - 11s 123ms/step - loss: 0.1552 - accuracy: 0.9464 - val_loss: 0.5973 - val_accuracy: 0.7976\n",
            "Epoch 28/300\n",
            "93/93 [==============================] - 11s 123ms/step - loss: 0.1445 - accuracy: 0.9489 - val_loss: 0.5790 - val_accuracy: 0.8036\n",
            "Epoch 29/300\n",
            "93/93 [==============================] - 11s 123ms/step - loss: 0.1500 - accuracy: 0.9457 - val_loss: 0.5636 - val_accuracy: 0.8095\n",
            "Epoch 30/300\n",
            "93/93 [==============================] - 11s 123ms/step - loss: 0.1575 - accuracy: 0.9425 - val_loss: 0.5859 - val_accuracy: 0.7679\n",
            "Epoch 31/300\n",
            "93/93 [==============================] - 11s 124ms/step - loss: 0.1476 - accuracy: 0.9469 - val_loss: 0.9507 - val_accuracy: 0.7381\n",
            "Epoch 32/300\n",
            "93/93 [==============================] - 11s 123ms/step - loss: 0.1452 - accuracy: 0.9472 - val_loss: 0.7366 - val_accuracy: 0.7679\n",
            "Epoch 33/300\n",
            "93/93 [==============================] - 11s 123ms/step - loss: 0.1409 - accuracy: 0.9474 - val_loss: 0.5493 - val_accuracy: 0.7917\n",
            "Epoch 34/300\n",
            "93/93 [==============================] - 12s 124ms/step - loss: 0.1426 - accuracy: 0.9472 - val_loss: 0.5159 - val_accuracy: 0.8155\n",
            "----------------------------------------------------------------------\n",
            "Metrics \n",
            "----------------------------------------------------------------------\n",
            "6/6 [==============================] - 1s 109ms/step - loss: 0.4830 - accuracy: 0.8036\n",
            "              precision    recall  f1-score   support\n",
            "\n",
            "           0       0.50      0.50      0.50        12\n",
            "           1       1.00      0.92      0.96        12\n",
            "           2       1.00      1.00      1.00        12\n",
            "           3       1.00      1.00      1.00        12\n",
            "           4       1.00      0.75      0.86        12\n",
            "           5       1.00      1.00      1.00        12\n",
            "           6       0.58      0.92      0.71        12\n",
            "           7       0.79      0.92      0.85        12\n",
            "           8       0.60      1.00      0.75        12\n",
            "           9       1.00      0.58      0.74        12\n",
            "          10       1.00      0.42      0.59        12\n",
            "          11       1.00      1.00      1.00        12\n",
            "          12       0.56      0.42      0.48        12\n",
            "          13       0.71      0.83      0.77        12\n",
            "\n",
            "    accuracy                           0.80       168\n",
            "   macro avg       0.84      0.80      0.80       168\n",
            "weighted avg       0.84      0.80      0.80       168\n",
            "\n",
            "----------------------------------------------------------------------\n",
            "Saving Results ... \n",
            "----------------------------------------------------------------------\n",
            "No Previous Accuracy Found!\n"
          ]
        }
      ]
    }
  ],
  "metadata": {
    "language_info": {
      "name": "python"
    },
    "orig_nbformat": 4,
    "colab": {
      "name": "Inference.ipynb",
      "provenance": [],
      "include_colab_link": true
    },
    "accelerator": "GPU",
    "gpuClass": "standard",
    "kernelspec": {
      "name": "python3",
      "display_name": "Python 3"
    }
  },
  "nbformat": 4,
  "nbformat_minor": 0
}