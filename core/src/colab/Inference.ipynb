{
  "cells": [
    {
      "cell_type": "markdown",
      "metadata": {
        "id": "view-in-github",
        "colab_type": "text"
      },
      "source": [
        "<a href=\"https://colab.research.google.com/github/atick-faisal/Sign-Language-Recognition/blob/main/core/src/colab/Inference.ipynb\" target=\"_parent\"><img src=\"https://colab.research.google.com/assets/colab-badge.svg\" alt=\"Open In Colab\"/></a>"
      ]
    },
    {
      "cell_type": "code",
      "source": [
        "from google.colab import drive\n",
        "drive.mount('/content/drive')"
      ],
      "metadata": {
        "id": "JmRmSvWP8Ma-",
        "outputId": "b68e8977-a4a2-4c83-d164-4ee295439abb",
        "colab": {
          "base_uri": "https://localhost:8080/"
        }
      },
      "execution_count": 1,
      "outputs": [
        {
          "output_type": "stream",
          "name": "stdout",
          "text": [
            "Mounted at /content/drive\n"
          ]
        }
      ]
    },
    {
      "cell_type": "code",
      "source": [
        "!pip install rich\n",
        "!gdown \"1CACL0ogqPC87Tsqo3qxX31ve04_Cxdjf\"\n",
        "!tar -xf raw.tar.xz\n",
        "!git clone https://github.com/atick-faisal/Sign-Language-Recognition.git"
      ],
      "metadata": {
        "id": "V-n5fxnqAdnr",
        "outputId": "bcd74c0b-cda9-4b52-b494-0c9ba07855f8",
        "colab": {
          "base_uri": "https://localhost:8080/"
        }
      },
      "execution_count": 2,
      "outputs": [
        {
          "output_type": "stream",
          "name": "stdout",
          "text": [
            "Looking in indexes: https://pypi.org/simple, https://us-python.pkg.dev/colab-wheels/public/simple/\n",
            "Collecting rich\n",
            "  Downloading rich-12.4.4-py3-none-any.whl (232 kB)\n",
            "\u001b[K     |████████████████████████████████| 232 kB 4.9 MB/s \n",
            "\u001b[?25hRequirement already satisfied: pygments<3.0.0,>=2.6.0 in /usr/local/lib/python3.7/dist-packages (from rich) (2.6.1)\n",
            "Collecting commonmark<0.10.0,>=0.9.0\n",
            "  Downloading commonmark-0.9.1-py2.py3-none-any.whl (51 kB)\n",
            "\u001b[K     |████████████████████████████████| 51 kB 8.2 MB/s \n",
            "\u001b[?25hRequirement already satisfied: typing-extensions<5.0,>=4.0.0 in /usr/local/lib/python3.7/dist-packages (from rich) (4.1.1)\n",
            "Installing collected packages: commonmark, rich\n",
            "Successfully installed commonmark-0.9.1 rich-12.4.4\n",
            "Downloading...\n",
            "From: https://drive.google.com/uc?id=1CACL0ogqPC87Tsqo3qxX31ve04_Cxdjf\n",
            "To: /content/raw.tar.xz\n",
            "100% 21.6M/21.6M [00:00<00:00, 88.4MB/s]\n",
            "Cloning into 'Sign-Language-Recognition'...\n",
            "remote: Enumerating objects: 1130, done.\u001b[K\n",
            "remote: Counting objects: 100% (141/141), done.\u001b[K\n",
            "remote: Compressing objects: 100% (115/115), done.\u001b[K\n",
            "remote: Total 1130 (delta 88), reused 45 (delta 25), pack-reused 989\u001b[K\n",
            "Receiving objects: 100% (1130/1130), 4.26 MiB | 18.23 MiB/s, done.\n",
            "Resolving deltas: 100% (672/672), done.\n"
          ]
        }
      ]
    },
    {
      "cell_type": "code",
      "source": [
        "!python Sign-Language-Recognition/core/src/train_tf.py \\\n",
        "        --exp_name \"stack_cnn_u001_lw3\" \\\n",
        "        --data_dir \"raw\" \\\n",
        "        --model_dir \"/content/drive/MyDrive/Research/Leap Motion Controller/Models\""
      ],
      "metadata": {
        "id": "LeMkJoC98cym",
        "outputId": "eaede932-4e72-4177-edb4-98756eb5baee",
        "colab": {
          "base_uri": "https://localhost:8080/"
        }
      },
      "execution_count": 1,
      "outputs": [
        {
          "output_type": "stream",
          "name": "stdout",
          "text": [
            "----------------------------------------------------------------------\n",
            "Generating Dataset\n",
            "----------------------------------------------------------------------\n",
            "\u001b[2K[ 1167/ 1178] processing files:  \u001b[91m━━━━━━━━━━━━━━━━━━━━━━━━━━━━━━━━━\u001b[0m\u001b[91m╸\u001b[0m \u001b[35m 99%\u001b[0m \u001b[36m0:00:02\u001b[0m\n",
            "\u001b[?25htcmalloc: large alloc 1382400000 bytes == 0x65d02000 @  0x7f58a81521e7 0x7f58a46e30ce 0x7f58a473f715 0x7f58a473fd1b 0x7f58a47e0333 0x5936cc 0x548c51 0x5127f1 0x549576 0x593fce 0x548ae9 0x5127f1 0x593dd7 0x5118f8 0x549576 0x604173 0x5f5506 0x5f8c6c 0x5f9206 0x64faf2 0x64fc4e 0x7f58a7d4fc87 0x5b621a\n",
            "----------------------------------------------------------------------\n",
            "Train Features Shape:  (6000, 150, 1)\n",
            "Train Images Shape:  (6000, 160, 160, 3)\n",
            "Test Features Shape:  (159, 150, 1)\n",
            "Test Images Shape:  (159, 160, 160, 3)\n",
            "Train Labels Shape:  (6000,)\n",
            "Test Labels Shape:  (159,)\n",
            "----------------------------------------------------------------------\n",
            "----------------------------------------------------------------------\n",
            "Training Model ... \n",
            "----------------------------------------------------------------------\n",
            "Epoch 1/300\n",
            "94/94 [==============================] - 26s 164ms/step - loss: 1.8663 - accuracy: 0.4150 - val_loss: 2.1166 - val_accuracy: 0.2830\n",
            "Epoch 2/300\n",
            "94/94 [==============================] - 12s 125ms/step - loss: 0.6702 - accuracy: 0.7732 - val_loss: 1.2173 - val_accuracy: 0.6667\n",
            "Epoch 3/300\n",
            "94/94 [==============================] - 12s 126ms/step - loss: 0.4461 - accuracy: 0.8405 - val_loss: 0.9939 - val_accuracy: 0.7233\n",
            "Epoch 4/300\n",
            "94/94 [==============================] - 12s 126ms/step - loss: 0.3717 - accuracy: 0.8675 - val_loss: 0.8571 - val_accuracy: 0.7862\n",
            "Epoch 5/300\n",
            "94/94 [==============================] - 12s 125ms/step - loss: 0.3242 - accuracy: 0.8875 - val_loss: 0.9900 - val_accuracy: 0.7736\n",
            "Epoch 6/300\n",
            "94/94 [==============================] - 12s 126ms/step - loss: 0.2766 - accuracy: 0.8972 - val_loss: 1.1995 - val_accuracy: 0.7107\n",
            "Epoch 7/300\n",
            "94/94 [==============================] - 12s 129ms/step - loss: 0.2589 - accuracy: 0.9065 - val_loss: 1.1482 - val_accuracy: 0.7736\n",
            "Epoch 8/300\n",
            "94/94 [==============================] - 12s 127ms/step - loss: 0.2622 - accuracy: 0.9090 - val_loss: 1.0716 - val_accuracy: 0.7610\n",
            "Epoch 9/300\n",
            "94/94 [==============================] - 12s 128ms/step - loss: 0.2178 - accuracy: 0.9177 - val_loss: 1.2381 - val_accuracy: 0.7421\n",
            "Epoch 10/300\n",
            "94/94 [==============================] - 12s 128ms/step - loss: 0.2131 - accuracy: 0.9195 - val_loss: 1.1109 - val_accuracy: 0.7799\n",
            "Epoch 11/300\n",
            "94/94 [==============================] - 12s 128ms/step - loss: 0.2005 - accuracy: 0.9257 - val_loss: 1.0890 - val_accuracy: 0.7799\n",
            "Epoch 12/300\n",
            "94/94 [==============================] - 12s 128ms/step - loss: 0.2006 - accuracy: 0.9225 - val_loss: 1.3029 - val_accuracy: 0.7484\n",
            "Epoch 13/300\n",
            "94/94 [==============================] - 12s 128ms/step - loss: 0.1961 - accuracy: 0.9255 - val_loss: 1.2451 - val_accuracy: 0.7547\n",
            "Epoch 14/300\n",
            "94/94 [==============================] - 12s 128ms/step - loss: 0.1872 - accuracy: 0.9312 - val_loss: 1.3356 - val_accuracy: 0.7673\n",
            "Epoch 15/300\n",
            "94/94 [==============================] - 12s 128ms/step - loss: 0.1823 - accuracy: 0.9312 - val_loss: 1.4486 - val_accuracy: 0.7610\n",
            "Epoch 16/300\n",
            "94/94 [==============================] - 12s 127ms/step - loss: 0.1704 - accuracy: 0.9333 - val_loss: 1.2996 - val_accuracy: 0.7484\n",
            "Epoch 17/300\n",
            "94/94 [==============================] - 12s 128ms/step - loss: 0.1698 - accuracy: 0.9325 - val_loss: 1.2507 - val_accuracy: 0.7610\n",
            "Epoch 18/300\n",
            "94/94 [==============================] - 12s 128ms/step - loss: 0.1733 - accuracy: 0.9310 - val_loss: 1.3753 - val_accuracy: 0.7421\n",
            "Epoch 19/300\n",
            "94/94 [==============================] - 12s 128ms/step - loss: 0.1688 - accuracy: 0.9338 - val_loss: 1.3174 - val_accuracy: 0.7484\n",
            "Epoch 20/300\n",
            "94/94 [==============================] - 12s 130ms/step - loss: 0.1567 - accuracy: 0.9397 - val_loss: 1.3395 - val_accuracy: 0.7736\n",
            "Epoch 21/300\n",
            "94/94 [==============================] - 12s 128ms/step - loss: 0.1648 - accuracy: 0.9360 - val_loss: 1.3464 - val_accuracy: 0.7673\n",
            "Epoch 22/300\n",
            "94/94 [==============================] - 12s 127ms/step - loss: 0.1668 - accuracy: 0.9337 - val_loss: 1.3089 - val_accuracy: 0.7484\n",
            "Epoch 23/300\n",
            "94/94 [==============================] - 12s 128ms/step - loss: 0.1507 - accuracy: 0.9383 - val_loss: 1.4462 - val_accuracy: 0.7673\n",
            "Epoch 24/300\n",
            "94/94 [==============================] - 12s 128ms/step - loss: 0.1419 - accuracy: 0.9445 - val_loss: 1.5513 - val_accuracy: 0.7673\n",
            "Epoch 25/300\n",
            "94/94 [==============================] - 12s 127ms/step - loss: 0.1453 - accuracy: 0.9417 - val_loss: 1.4534 - val_accuracy: 0.7421\n",
            "Epoch 26/300\n",
            "94/94 [==============================] - 12s 128ms/step - loss: 0.1419 - accuracy: 0.9433 - val_loss: 1.3710 - val_accuracy: 0.7862\n",
            "Epoch 27/300\n",
            "94/94 [==============================] - 12s 128ms/step - loss: 0.1458 - accuracy: 0.9418 - val_loss: 1.2991 - val_accuracy: 0.7736\n",
            "Epoch 28/300\n",
            "94/94 [==============================] - 12s 128ms/step - loss: 0.1427 - accuracy: 0.9430 - val_loss: 1.3495 - val_accuracy: 0.7799\n",
            "Epoch 29/300\n",
            "94/94 [==============================] - 12s 128ms/step - loss: 0.1427 - accuracy: 0.9450 - val_loss: 1.5874 - val_accuracy: 0.7736\n",
            "Epoch 30/300\n",
            "94/94 [==============================] - 12s 128ms/step - loss: 0.1399 - accuracy: 0.9450 - val_loss: 1.5192 - val_accuracy: 0.7610\n",
            "Epoch 31/300\n",
            "94/94 [==============================] - 12s 128ms/step - loss: 0.1405 - accuracy: 0.9443 - val_loss: 1.4545 - val_accuracy: 0.7673\n",
            "Epoch 32/300\n",
            "94/94 [==============================] - 12s 128ms/step - loss: 0.1350 - accuracy: 0.9430 - val_loss: 1.6104 - val_accuracy: 0.7421\n",
            "Epoch 33/300\n",
            "94/94 [==============================] - 12s 130ms/step - loss: 0.1381 - accuracy: 0.9427 - val_loss: 1.4232 - val_accuracy: 0.7610\n",
            "Epoch 34/300\n",
            "94/94 [==============================] - 12s 129ms/step - loss: 0.1376 - accuracy: 0.9450 - val_loss: 1.4380 - val_accuracy: 0.7547\n",
            "----------------------------------------------------------------------\n",
            "Metrics \n",
            "----------------------------------------------------------------------\n",
            "5/5 [==============================] - 1s 63ms/step - loss: 0.8571 - accuracy: 0.7862\n",
            "              precision    recall  f1-score   support\n",
            "\n",
            "           0       0.82      0.90      0.86        10\n",
            "           1       0.62      1.00      0.77        10\n",
            "           2       0.92      1.00      0.96        11\n",
            "           3       1.00      0.80      0.89        10\n",
            "           4       0.77      0.83      0.80        12\n",
            "           5       0.00      0.00      0.00        10\n",
            "           6       0.50      0.20      0.29        10\n",
            "           7       0.81      1.00      0.90        13\n",
            "           8       0.59      1.00      0.74        10\n",
            "           9       0.71      1.00      0.83        12\n",
            "          10       0.92      1.00      0.96        12\n",
            "          11       1.00      1.00      1.00        17\n",
            "          12       0.60      0.50      0.55        12\n",
            "          13       1.00      0.50      0.67        10\n",
            "\n",
            "    accuracy                           0.79       159\n",
            "   macro avg       0.73      0.77      0.73       159\n",
            "weighted avg       0.75      0.79      0.75       159\n",
            "\n",
            "----------------------------------------------------------------------\n",
            "Saving Results ... \n",
            "----------------------------------------------------------------------\n",
            "No Previous Accuracy Found!\n"
          ]
        }
      ]
    }
  ],
  "metadata": {
    "language_info": {
      "name": "python"
    },
    "orig_nbformat": 4,
    "colab": {
      "name": "Inference.ipynb",
      "provenance": [],
      "include_colab_link": true
    },
    "accelerator": "GPU",
    "gpuClass": "standard",
    "kernelspec": {
      "name": "python3",
      "display_name": "Python 3"
    }
  },
  "nbformat": 4,
  "nbformat_minor": 0
}