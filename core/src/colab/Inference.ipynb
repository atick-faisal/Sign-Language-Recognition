{
  "cells": [
    {
      "cell_type": "markdown",
      "metadata": {
        "id": "view-in-github",
        "colab_type": "text"
      },
      "source": [
        "<a href=\"https://colab.research.google.com/github/atick-faisal/Sign-Language-Recognition/blob/main/core/src/colab/Inference.ipynb\" target=\"_parent\"><img src=\"https://colab.research.google.com/assets/colab-badge.svg\" alt=\"Open In Colab\"/></a>"
      ]
    },
    {
      "cell_type": "code",
      "source": [
        "from google.colab import drive\n",
        "drive.mount('/content/drive')"
      ],
      "metadata": {
        "id": "JmRmSvWP8Ma-",
        "outputId": "94399e05-53b9-48a5-f2a9-4d973df1f8e8",
        "colab": {
          "base_uri": "https://localhost:8080/"
        }
      },
      "execution_count": 1,
      "outputs": [
        {
          "output_type": "stream",
          "name": "stdout",
          "text": [
            "Mounted at /content/drive\n"
          ]
        }
      ]
    },
    {
      "cell_type": "code",
      "source": [
        "!pip install rich\n",
        "!gdown \"1CACL0ogqPC87Tsqo3qxX31ve04_Cxdjf\"\n",
        "!tar -xf raw.tar.xz\n",
        "!git clone https://github.com/atick-faisal/Sign-Language-Recognition.git"
      ],
      "metadata": {
        "id": "V-n5fxnqAdnr",
        "outputId": "51168c23-7664-43b8-d658-bc9045f88ee9",
        "colab": {
          "base_uri": "https://localhost:8080/"
        }
      },
      "execution_count": 2,
      "outputs": [
        {
          "output_type": "stream",
          "name": "stdout",
          "text": [
            "Looking in indexes: https://pypi.org/simple, https://us-python.pkg.dev/colab-wheels/public/simple/\n",
            "Collecting rich\n",
            "  Downloading rich-12.4.4-py3-none-any.whl (232 kB)\n",
            "\u001b[K     |████████████████████████████████| 232 kB 9.6 MB/s \n",
            "\u001b[?25hRequirement already satisfied: typing-extensions<5.0,>=4.0.0 in /usr/local/lib/python3.7/dist-packages (from rich) (4.1.1)\n",
            "Requirement already satisfied: pygments<3.0.0,>=2.6.0 in /usr/local/lib/python3.7/dist-packages (from rich) (2.6.1)\n",
            "Collecting commonmark<0.10.0,>=0.9.0\n",
            "  Downloading commonmark-0.9.1-py2.py3-none-any.whl (51 kB)\n",
            "\u001b[K     |████████████████████████████████| 51 kB 7.2 MB/s \n",
            "\u001b[?25hInstalling collected packages: commonmark, rich\n",
            "Successfully installed commonmark-0.9.1 rich-12.4.4\n",
            "Downloading...\n",
            "From: https://drive.google.com/uc?id=1CACL0ogqPC87Tsqo3qxX31ve04_Cxdjf\n",
            "To: /content/raw.tar.xz\n",
            "100% 21.6M/21.6M [00:00<00:00, 251MB/s]\n",
            "Cloning into 'Sign-Language-Recognition'...\n",
            "remote: Enumerating objects: 1082, done.\u001b[K\n",
            "remote: Counting objects: 100% (93/93), done.\u001b[K\n",
            "remote: Compressing objects: 100% (74/74), done.\u001b[K\n",
            "remote: Total 1082 (delta 56), reused 34 (delta 18), pack-reused 989\u001b[K\n",
            "Receiving objects: 100% (1082/1082), 4.20 MiB | 5.09 MiB/s, done.\n",
            "Resolving deltas: 100% (640/640), done.\n"
          ]
        }
      ]
    },
    {
      "cell_type": "code",
      "source": [
        "!python Sign-Language-Recognition/core/src/train_tf.py \\\n",
        "        --exp_name \"stack_cnn_u007_lw2\" \\\n",
        "        --data_dir \"raw\" \\\n",
        "        --model_dir \"/content/drive/MyDrive/Research/Leap Motion Controller/Models\""
      ],
      "metadata": {
        "id": "LeMkJoC98cym",
        "outputId": "7114dfa3-b200-4090-a884-cfbaeb562297",
        "colab": {
          "base_uri": "https://localhost:8080/"
        }
      },
      "execution_count": 1,
      "outputs": [
        {
          "output_type": "stream",
          "name": "stdout",
          "text": [
            "----------------------------------------------------------------------\n",
            "Generating Dataset\n",
            "----------------------------------------------------------------------\n",
            "\u001b[2K[ 1167/ 1178] processing files:  \u001b[91m━━━━━━━━━━━━━━━━━━━━━━━━━━━━━━━━━\u001b[0m\u001b[91m╸\u001b[0m \u001b[35m 99%\u001b[0m \u001b[36m0:00:09\u001b[0m\n",
            "\u001b[?25htcmalloc: large alloc 1379639296 bytes == 0x65778000 @  0x7feaaa46c1e7 0x7feaa69fd0ce 0x7feaa6a59715 0x7feaa6a59d1b 0x7feaa6afa333 0x5936cc 0x548c51 0x5127f1 0x549576 0x593fce 0x548ae9 0x5127f1 0x593dd7 0x5118f8 0x549576 0x604173 0x5f5506 0x5f8c6c 0x5f9206 0x64faf2 0x64fc4e 0x7feaaa069c87 0x5b621a\n",
            "----------------------------------------------------------------------\n",
            "Train Features Shape:  (5988, 150, 1)\n",
            "Train Images Shape:  (5988, 160, 160, 3)\n",
            "Test Features Shape:  (161, 150, 1)\n",
            "Test Images Shape:  (161, 160, 160, 3)\n",
            "Train Labels Shape:  (5988,)\n",
            "Test Labels Shape:  (161,)\n",
            "----------------------------------------------------------------------\n",
            "Downloading data from https://storage.googleapis.com/tensorflow/keras-applications/mobilenet_v2/mobilenet_v2_weights_tf_dim_ordering_tf_kernels_1.0_160_no_top.h5\n",
            "9412608/9406464 [==============================] - 0s 0us/step\n",
            "9420800/9406464 [==============================] - 0s 0us/step\n",
            "----------------------------------------------------------------------\n",
            "Training Model ... \n",
            "----------------------------------------------------------------------\n",
            "Epoch 1/300\n",
            "94/94 [==============================] - 34s 155ms/step - loss: 1.9459 - accuracy: 0.3891 - val_loss: 1.1525 - val_accuracy: 0.6025\n",
            "Epoch 2/300\n",
            "94/94 [==============================] - 11s 122ms/step - loss: 0.7132 - accuracy: 0.7702 - val_loss: 0.5723 - val_accuracy: 0.7640\n",
            "Epoch 3/300\n",
            "94/94 [==============================] - 11s 119ms/step - loss: 0.4533 - accuracy: 0.8522 - val_loss: 0.6045 - val_accuracy: 0.7702\n",
            "Epoch 4/300\n",
            "94/94 [==============================] - 11s 119ms/step - loss: 0.3682 - accuracy: 0.8788 - val_loss: 0.6333 - val_accuracy: 0.8137\n",
            "Epoch 5/300\n",
            "94/94 [==============================] - 11s 119ms/step - loss: 0.3140 - accuracy: 0.8946 - val_loss: 0.7484 - val_accuracy: 0.7826\n",
            "Epoch 6/300\n",
            "94/94 [==============================] - 11s 120ms/step - loss: 0.2672 - accuracy: 0.9115 - val_loss: 0.7235 - val_accuracy: 0.7888\n",
            "Epoch 7/300\n",
            "94/94 [==============================] - 11s 121ms/step - loss: 0.2371 - accuracy: 0.9242 - val_loss: 0.6592 - val_accuracy: 0.8075\n",
            "Epoch 8/300\n",
            "94/94 [==============================] - 11s 121ms/step - loss: 0.2128 - accuracy: 0.9260 - val_loss: 0.7711 - val_accuracy: 0.7888\n",
            "Epoch 9/300\n",
            "94/94 [==============================] - 11s 121ms/step - loss: 0.1939 - accuracy: 0.9322 - val_loss: 0.6252 - val_accuracy: 0.7826\n",
            "Epoch 10/300\n",
            "94/94 [==============================] - 11s 121ms/step - loss: 0.1811 - accuracy: 0.9374 - val_loss: 0.6553 - val_accuracy: 0.7950\n",
            "Epoch 11/300\n",
            "94/94 [==============================] - 11s 122ms/step - loss: 0.1644 - accuracy: 0.9437 - val_loss: 0.7873 - val_accuracy: 0.7578\n",
            "Epoch 12/300\n",
            "94/94 [==============================] - 12s 123ms/step - loss: 0.1614 - accuracy: 0.9431 - val_loss: 0.7953 - val_accuracy: 0.7516\n",
            "Epoch 13/300\n",
            "94/94 [==============================] - 12s 123ms/step - loss: 0.1522 - accuracy: 0.9459 - val_loss: 0.8355 - val_accuracy: 0.7950\n",
            "Epoch 14/300\n",
            "94/94 [==============================] - 12s 123ms/step - loss: 0.1309 - accuracy: 0.9532 - val_loss: 0.8407 - val_accuracy: 0.8012\n",
            "Epoch 15/300\n",
            "94/94 [==============================] - 12s 124ms/step - loss: 0.1226 - accuracy: 0.9572 - val_loss: 0.8562 - val_accuracy: 0.8075\n",
            "Epoch 16/300\n",
            "94/94 [==============================] - 12s 123ms/step - loss: 0.1198 - accuracy: 0.9551 - val_loss: 0.7912 - val_accuracy: 0.8075\n",
            "Epoch 17/300\n",
            "94/94 [==============================] - 12s 123ms/step - loss: 0.1184 - accuracy: 0.9576 - val_loss: 1.0983 - val_accuracy: 0.7764\n",
            "Epoch 18/300\n",
            "94/94 [==============================] - 12s 123ms/step - loss: 0.1191 - accuracy: 0.9574 - val_loss: 0.8039 - val_accuracy: 0.7950\n",
            "Epoch 19/300\n",
            "94/94 [==============================] - 12s 123ms/step - loss: 0.1138 - accuracy: 0.9603 - val_loss: 0.7990 - val_accuracy: 0.7640\n",
            "Epoch 20/300\n",
            "94/94 [==============================] - 12s 123ms/step - loss: 0.1049 - accuracy: 0.9641 - val_loss: 0.7711 - val_accuracy: 0.8012\n",
            "Epoch 21/300\n",
            "94/94 [==============================] - 12s 125ms/step - loss: 0.1021 - accuracy: 0.9618 - val_loss: 0.7617 - val_accuracy: 0.8137\n",
            "Epoch 22/300\n",
            "94/94 [==============================] - 12s 123ms/step - loss: 0.0992 - accuracy: 0.9653 - val_loss: 0.7389 - val_accuracy: 0.8261\n",
            "Epoch 23/300\n",
            "94/94 [==============================] - 12s 123ms/step - loss: 0.1033 - accuracy: 0.9639 - val_loss: 0.8655 - val_accuracy: 0.8075\n",
            "Epoch 24/300\n",
            "94/94 [==============================] - 12s 123ms/step - loss: 0.0952 - accuracy: 0.9664 - val_loss: 1.0244 - val_accuracy: 0.7826\n",
            "Epoch 25/300\n",
            "94/94 [==============================] - 12s 123ms/step - loss: 0.0872 - accuracy: 0.9688 - val_loss: 0.9714 - val_accuracy: 0.7826\n",
            "Epoch 26/300\n",
            "94/94 [==============================] - 12s 124ms/step - loss: 0.0908 - accuracy: 0.9674 - val_loss: 0.7805 - val_accuracy: 0.7888\n",
            "Epoch 27/300\n",
            "94/94 [==============================] - 12s 123ms/step - loss: 0.0865 - accuracy: 0.9688 - val_loss: 0.8113 - val_accuracy: 0.7888\n",
            "Epoch 28/300\n",
            "94/94 [==============================] - 12s 123ms/step - loss: 0.0762 - accuracy: 0.9724 - val_loss: 0.9348 - val_accuracy: 0.8323\n",
            "Epoch 29/300\n",
            "94/94 [==============================] - 12s 123ms/step - loss: 0.0834 - accuracy: 0.9694 - val_loss: 1.1098 - val_accuracy: 0.7950\n",
            "Epoch 30/300\n",
            "94/94 [==============================] - 12s 123ms/step - loss: 0.0781 - accuracy: 0.9729 - val_loss: 1.1950 - val_accuracy: 0.7888\n",
            "Epoch 31/300\n",
            "94/94 [==============================] - 12s 123ms/step - loss: 0.0800 - accuracy: 0.9733 - val_loss: 1.0358 - val_accuracy: 0.8075\n",
            "Epoch 32/300\n",
            "94/94 [==============================] - 12s 124ms/step - loss: 0.0739 - accuracy: 0.9733 - val_loss: 0.8764 - val_accuracy: 0.8137\n",
            "----------------------------------------------------------------------\n",
            "Metrics \n",
            "----------------------------------------------------------------------\n",
            "6/6 [==============================] - 1s 118ms/step - loss: 0.5723 - accuracy: 0.7640\n",
            "              precision    recall  f1-score   support\n",
            "\n",
            "           0       1.00      0.33      0.50        12\n",
            "           1       0.85      0.92      0.88        12\n",
            "           2       1.00      0.92      0.96        12\n",
            "           3       1.00      0.67      0.80        12\n",
            "           4       0.92      1.00      0.96        12\n",
            "           5       1.00      0.50      0.67        12\n",
            "           6       1.00      0.25      0.40        12\n",
            "           7       1.00      0.92      0.96        12\n",
            "           8       0.57      1.00      0.73        12\n",
            "           9       1.00      0.58      0.74        12\n",
            "          10       0.50      0.92      0.65        12\n",
            "          11       0.45      1.00      0.62         5\n",
            "          12       0.57      1.00      0.73        12\n",
            "          13       1.00      0.83      0.91        12\n",
            "\n",
            "    accuracy                           0.76       161\n",
            "   macro avg       0.85      0.77      0.75       161\n",
            "weighted avg       0.86      0.76      0.75       161\n",
            "\n",
            "----------------------------------------------------------------------\n",
            "Saving Results ... \n",
            "----------------------------------------------------------------------\n",
            "No Previous Accuracy Found!\n"
          ]
        }
      ]
    }
  ],
  "metadata": {
    "language_info": {
      "name": "python"
    },
    "orig_nbformat": 4,
    "colab": {
      "name": "Inference.ipynb",
      "provenance": [],
      "include_colab_link": true
    },
    "accelerator": "GPU",
    "gpuClass": "standard",
    "kernelspec": {
      "name": "python3",
      "display_name": "Python 3"
    }
  },
  "nbformat": 4,
  "nbformat_minor": 0
}