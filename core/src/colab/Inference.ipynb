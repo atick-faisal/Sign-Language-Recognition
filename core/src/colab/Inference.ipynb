{
  "cells": [
    {
      "cell_type": "markdown",
      "metadata": {
        "id": "view-in-github",
        "colab_type": "text"
      },
      "source": [
        "<a href=\"https://colab.research.google.com/github/atick-faisal/Sign-Language-Recognition/blob/main/core/src/colab/Inference.ipynb\" target=\"_parent\"><img src=\"https://colab.research.google.com/assets/colab-badge.svg\" alt=\"Open In Colab\"/></a>"
      ]
    },
    {
      "cell_type": "code",
      "source": [
        "from google.colab import drive\n",
        "drive.mount('/content/drive')"
      ],
      "metadata": {
        "id": "JmRmSvWP8Ma-",
        "outputId": "eef528c6-15a4-45af-f15c-cdfffe085127",
        "colab": {
          "base_uri": "https://localhost:8080/"
        }
      },
      "execution_count": 1,
      "outputs": [
        {
          "output_type": "stream",
          "name": "stdout",
          "text": [
            "Mounted at /content/drive\n"
          ]
        }
      ]
    },
    {
      "cell_type": "code",
      "source": [
        "!pip install rich\n",
        "!gdown \"1CACL0ogqPC87Tsqo3qxX31ve04_Cxdjf\"\n",
        "!tar -xf raw.tar.xz\n",
        "!git clone https://github.com/atick-faisal/Sign-Language-Recognition.git"
      ],
      "metadata": {
        "id": "V-n5fxnqAdnr",
        "outputId": "128743dc-60f2-49ae-bba6-8f01a2fca499",
        "colab": {
          "base_uri": "https://localhost:8080/"
        }
      },
      "execution_count": 2,
      "outputs": [
        {
          "output_type": "stream",
          "name": "stdout",
          "text": [
            "Looking in indexes: https://pypi.org/simple, https://us-python.pkg.dev/colab-wheels/public/simple/\n",
            "Collecting rich\n",
            "  Downloading rich-12.4.4-py3-none-any.whl (232 kB)\n",
            "\u001b[K     |████████████████████████████████| 232 kB 36.0 MB/s \n",
            "\u001b[?25hCollecting commonmark<0.10.0,>=0.9.0\n",
            "  Downloading commonmark-0.9.1-py2.py3-none-any.whl (51 kB)\n",
            "\u001b[K     |████████████████████████████████| 51 kB 8.2 MB/s \n",
            "\u001b[?25hRequirement already satisfied: pygments<3.0.0,>=2.6.0 in /usr/local/lib/python3.7/dist-packages (from rich) (2.6.1)\n",
            "Requirement already satisfied: typing-extensions<5.0,>=4.0.0 in /usr/local/lib/python3.7/dist-packages (from rich) (4.1.1)\n",
            "Installing collected packages: commonmark, rich\n",
            "Successfully installed commonmark-0.9.1 rich-12.4.4\n",
            "Downloading...\n",
            "From: https://drive.google.com/uc?id=1CACL0ogqPC87Tsqo3qxX31ve04_Cxdjf\n",
            "To: /content/raw.tar.xz\n",
            "100% 21.6M/21.6M [00:00<00:00, 37.4MB/s]\n",
            "Cloning into 'Sign-Language-Recognition'...\n",
            "remote: Enumerating objects: 1041, done.\u001b[K\n",
            "remote: Counting objects: 100% (52/52), done.\u001b[K\n",
            "remote: Compressing objects: 100% (33/33), done.\u001b[K\n",
            "remote: Total 1041 (delta 29), reused 32 (delta 18), pack-reused 989\u001b[K\n",
            "Receiving objects: 100% (1041/1041), 4.19 MiB | 5.82 MiB/s, done.\n",
            "Resolving deltas: 100% (613/613), done.\n"
          ]
        }
      ]
    },
    {
      "cell_type": "code",
      "source": [
        "!python Sign-Language-Recognition/core/src/train_tf.py \\\n",
        "        --exp_name \"stack_cnn_160x160_lw6\" \\\n",
        "        --data_dir \"raw\" \\\n",
        "        --model_dir \"/content/drive/MyDrive/Research/Leap Motion Controller/Models\""
      ],
      "metadata": {
        "id": "LeMkJoC98cym",
        "outputId": "8b6e7433-ea15-438d-9098-b21f9f66b31f",
        "colab": {
          "base_uri": "https://localhost:8080/"
        }
      },
      "execution_count": 1,
      "outputs": [
        {
          "output_type": "stream",
          "name": "stdout",
          "text": [
            "----------------------------------------------------------------------\n",
            "Generating Dataset\n",
            "----------------------------------------------------------------------\n",
            "\u001b[2K[ 1167/ 1178] processing files:  \u001b[91m━━━━━━━━━━━━━━━━━━━━━━━━━━━━━━━━━\u001b[0m\u001b[91m╸\u001b[0m \u001b[35m 99%\u001b[0m \u001b[36m0:00:08\u001b[0m\n",
            "\u001b[?25htcmalloc: large alloc 1262133248 bytes == 0x602fe000 @  0x7fa10960c1e7 0x7fa105b9d0ce 0x7fa105bf9715 0x7fa105bf9d1b 0x7fa105c9a333 0x5936cc 0x548c51 0x5127f1 0x549576 0x593fce 0x548ae9 0x5127f1 0x593dd7 0x5118f8 0x549576 0x604173 0x5f5506 0x5f8c6c 0x5f9206 0x64faf2 0x64fc4e 0x7fa109209c87 0x5b621a\n",
            "----------------------------------------------------------------------\n",
            "Train Features Shape:  (5478, 150, 1)\n",
            "Train Images Shape:  (5478, 160, 160, 3)\n",
            "Test Features Shape:  (246, 150, 1)\n",
            "Test Images Shape:  (246, 160, 160, 3)\n",
            "Train Labels Shape:  (5478,)\n",
            "Test Labels Shape:  (246,)\n",
            "----------------------------------------------------------------------\n",
            "----------------------------------------------------------------------\n",
            "Training Model ... \n",
            "----------------------------------------------------------------------\n",
            "Epoch 1/300\n",
            "86/86 [==============================] - 24s 161ms/step - loss: 1.9559 - accuracy: 0.3923 - val_loss: 0.9980 - val_accuracy: 0.7642\n",
            "Epoch 2/300\n",
            "86/86 [==============================] - 10s 120ms/step - loss: 0.7360 - accuracy: 0.7652 - val_loss: 0.4499 - val_accuracy: 0.8902\n",
            "Epoch 3/300\n",
            "86/86 [==============================] - 10s 121ms/step - loss: 0.4878 - accuracy: 0.8419 - val_loss: 0.2958 - val_accuracy: 0.8943\n",
            "Epoch 4/300\n",
            "86/86 [==============================] - 10s 121ms/step - loss: 0.3751 - accuracy: 0.8846 - val_loss: 0.2308 - val_accuracy: 0.9309\n",
            "Epoch 5/300\n",
            "86/86 [==============================] - 10s 121ms/step - loss: 0.3130 - accuracy: 0.8963 - val_loss: 0.2141 - val_accuracy: 0.9146\n",
            "Epoch 6/300\n",
            "86/86 [==============================] - 10s 121ms/step - loss: 0.2538 - accuracy: 0.9160 - val_loss: 0.2072 - val_accuracy: 0.9024\n",
            "Epoch 7/300\n",
            "86/86 [==============================] - 11s 122ms/step - loss: 0.2317 - accuracy: 0.9211 - val_loss: 0.2097 - val_accuracy: 0.9106\n",
            "Epoch 8/300\n",
            "86/86 [==============================] - 11s 123ms/step - loss: 0.2110 - accuracy: 0.9294 - val_loss: 0.1980 - val_accuracy: 0.9146\n",
            "Epoch 9/300\n",
            "86/86 [==============================] - 10s 121ms/step - loss: 0.2019 - accuracy: 0.9343 - val_loss: 0.2034 - val_accuracy: 0.9187\n",
            "Epoch 10/300\n",
            "86/86 [==============================] - 10s 121ms/step - loss: 0.1652 - accuracy: 0.9414 - val_loss: 0.2292 - val_accuracy: 0.9187\n",
            "Epoch 11/300\n",
            "86/86 [==============================] - 10s 122ms/step - loss: 0.1606 - accuracy: 0.9425 - val_loss: 0.1996 - val_accuracy: 0.9390\n",
            "Epoch 12/300\n",
            "86/86 [==============================] - 11s 122ms/step - loss: 0.1647 - accuracy: 0.9429 - val_loss: 0.2062 - val_accuracy: 0.9390\n",
            "Epoch 13/300\n",
            "86/86 [==============================] - 10s 122ms/step - loss: 0.1466 - accuracy: 0.9471 - val_loss: 0.2026 - val_accuracy: 0.9350\n",
            "Epoch 14/300\n",
            "86/86 [==============================] - 10s 122ms/step - loss: 0.1385 - accuracy: 0.9516 - val_loss: 0.2341 - val_accuracy: 0.9228\n",
            "Epoch 15/300\n",
            "86/86 [==============================] - 10s 122ms/step - loss: 0.1285 - accuracy: 0.9575 - val_loss: 0.2306 - val_accuracy: 0.9268\n",
            "Epoch 16/300\n",
            "86/86 [==============================] - 11s 124ms/step - loss: 0.1264 - accuracy: 0.9573 - val_loss: 0.2099 - val_accuracy: 0.9350\n",
            "Epoch 17/300\n",
            "86/86 [==============================] - 10s 122ms/step - loss: 0.1152 - accuracy: 0.9635 - val_loss: 0.2018 - val_accuracy: 0.9309\n",
            "Epoch 18/300\n",
            "86/86 [==============================] - 10s 122ms/step - loss: 0.1117 - accuracy: 0.9618 - val_loss: 0.2080 - val_accuracy: 0.9228\n",
            "Epoch 19/300\n",
            "86/86 [==============================] - 10s 122ms/step - loss: 0.1104 - accuracy: 0.9624 - val_loss: 0.2691 - val_accuracy: 0.9146\n",
            "Epoch 20/300\n",
            "86/86 [==============================] - 11s 122ms/step - loss: 0.1126 - accuracy: 0.9622 - val_loss: 0.2069 - val_accuracy: 0.9350\n",
            "Epoch 21/300\n",
            "86/86 [==============================] - 10s 122ms/step - loss: 0.1043 - accuracy: 0.9639 - val_loss: 0.2154 - val_accuracy: 0.9390\n",
            "Epoch 22/300\n",
            "86/86 [==============================] - 11s 123ms/step - loss: 0.0857 - accuracy: 0.9695 - val_loss: 0.1971 - val_accuracy: 0.9390\n",
            "Epoch 23/300\n",
            "86/86 [==============================] - 10s 122ms/step - loss: 0.0937 - accuracy: 0.9657 - val_loss: 0.2342 - val_accuracy: 0.9390\n",
            "Epoch 24/300\n",
            "86/86 [==============================] - 10s 121ms/step - loss: 0.0896 - accuracy: 0.9681 - val_loss: 0.2481 - val_accuracy: 0.9390\n",
            "Epoch 25/300\n",
            "86/86 [==============================] - 10s 122ms/step - loss: 0.0738 - accuracy: 0.9733 - val_loss: 0.2464 - val_accuracy: 0.9390\n",
            "Epoch 26/300\n",
            "86/86 [==============================] - 11s 124ms/step - loss: 0.0825 - accuracy: 0.9712 - val_loss: 0.2627 - val_accuracy: 0.9431\n",
            "Epoch 27/300\n",
            "86/86 [==============================] - 10s 122ms/step - loss: 0.0824 - accuracy: 0.9708 - val_loss: 0.2669 - val_accuracy: 0.9350\n",
            "Epoch 28/300\n",
            "86/86 [==============================] - 10s 122ms/step - loss: 0.0785 - accuracy: 0.9743 - val_loss: 0.2317 - val_accuracy: 0.9431\n",
            "Epoch 29/300\n",
            "86/86 [==============================] - 11s 123ms/step - loss: 0.0721 - accuracy: 0.9750 - val_loss: 0.2814 - val_accuracy: 0.9472\n",
            "Epoch 30/300\n",
            "86/86 [==============================] - 11s 122ms/step - loss: 0.0755 - accuracy: 0.9754 - val_loss: 0.2500 - val_accuracy: 0.9390\n",
            "Epoch 31/300\n",
            "86/86 [==============================] - 10s 121ms/step - loss: 0.0672 - accuracy: 0.9781 - val_loss: 0.2371 - val_accuracy: 0.9431\n",
            "Epoch 32/300\n",
            "86/86 [==============================] - 10s 122ms/step - loss: 0.0659 - accuracy: 0.9772 - val_loss: 0.2714 - val_accuracy: 0.9390\n",
            "Epoch 33/300\n",
            "86/86 [==============================] - 10s 122ms/step - loss: 0.0687 - accuracy: 0.9777 - val_loss: 0.2364 - val_accuracy: 0.9431\n",
            "Epoch 34/300\n",
            "86/86 [==============================] - 10s 122ms/step - loss: 0.0661 - accuracy: 0.9768 - val_loss: 0.2776 - val_accuracy: 0.9431\n",
            "Epoch 35/300\n",
            "86/86 [==============================] - 10s 121ms/step - loss: 0.0671 - accuracy: 0.9766 - val_loss: 0.2052 - val_accuracy: 0.9472\n",
            "Epoch 36/300\n",
            "86/86 [==============================] - 10s 122ms/step - loss: 0.0650 - accuracy: 0.9796 - val_loss: 0.2591 - val_accuracy: 0.9431\n",
            "Epoch 37/300\n",
            "86/86 [==============================] - 10s 122ms/step - loss: 0.0673 - accuracy: 0.9759 - val_loss: 0.2069 - val_accuracy: 0.9472\n",
            "Epoch 38/300\n",
            "86/86 [==============================] - 10s 121ms/step - loss: 0.0604 - accuracy: 0.9772 - val_loss: 0.2407 - val_accuracy: 0.9472\n",
            "Epoch 39/300\n",
            "86/86 [==============================] - 10s 122ms/step - loss: 0.0600 - accuracy: 0.9785 - val_loss: 0.2859 - val_accuracy: 0.9350\n",
            "Epoch 40/300\n",
            "86/86 [==============================] - 10s 122ms/step - loss: 0.0575 - accuracy: 0.9797 - val_loss: 0.2500 - val_accuracy: 0.9390\n",
            "Epoch 41/300\n",
            "86/86 [==============================] - 10s 122ms/step - loss: 0.0562 - accuracy: 0.9790 - val_loss: 0.3113 - val_accuracy: 0.9390\n",
            "Epoch 42/300\n",
            "86/86 [==============================] - 10s 122ms/step - loss: 0.0592 - accuracy: 0.9805 - val_loss: 0.2529 - val_accuracy: 0.9472\n",
            "Epoch 43/300\n",
            "86/86 [==============================] - 10s 122ms/step - loss: 0.0543 - accuracy: 0.9812 - val_loss: 0.2834 - val_accuracy: 0.9472\n",
            "Epoch 44/300\n",
            "86/86 [==============================] - 10s 122ms/step - loss: 0.0503 - accuracy: 0.9817 - val_loss: 0.3008 - val_accuracy: 0.9431\n",
            "Epoch 45/300\n",
            "86/86 [==============================] - 11s 124ms/step - loss: 0.0571 - accuracy: 0.9816 - val_loss: 0.2379 - val_accuracy: 0.9431\n",
            "Epoch 46/300\n",
            "86/86 [==============================] - 11s 122ms/step - loss: 0.0463 - accuracy: 0.9852 - val_loss: 0.2687 - val_accuracy: 0.9472\n",
            "Epoch 47/300\n",
            "86/86 [==============================] - 10s 122ms/step - loss: 0.0531 - accuracy: 0.9817 - val_loss: 0.2527 - val_accuracy: 0.9431\n",
            "Epoch 48/300\n",
            "86/86 [==============================] - 10s 122ms/step - loss: 0.0457 - accuracy: 0.9832 - val_loss: 0.2594 - val_accuracy: 0.9431\n",
            "Epoch 49/300\n",
            "86/86 [==============================] - 10s 121ms/step - loss: 0.0376 - accuracy: 0.9841 - val_loss: 0.3017 - val_accuracy: 0.9390\n",
            "Epoch 50/300\n",
            "86/86 [==============================] - 10s 122ms/step - loss: 0.0517 - accuracy: 0.9825 - val_loss: 0.2445 - val_accuracy: 0.9472\n",
            "Epoch 51/300\n",
            "86/86 [==============================] - 10s 122ms/step - loss: 0.0500 - accuracy: 0.9816 - val_loss: 0.2471 - val_accuracy: 0.9431\n",
            "Epoch 52/300\n",
            "86/86 [==============================] - 11s 122ms/step - loss: 0.0440 - accuracy: 0.9834 - val_loss: 0.2454 - val_accuracy: 0.9512\n",
            "----------------------------------------------------------------------\n",
            "Metrics \n",
            "----------------------------------------------------------------------\n",
            "8/8 [==============================] - 2s 160ms/step - loss: 0.1971 - accuracy: 0.9390\n",
            "              precision    recall  f1-score   support\n",
            "\n",
            "           0       0.74      1.00      0.85        17\n",
            "           1       1.00      0.94      0.97        18\n",
            "           2       1.00      0.90      0.95        21\n",
            "           3       0.96      1.00      0.98        23\n",
            "           4       0.93      1.00      0.96        13\n",
            "           5       1.00      1.00      1.00        16\n",
            "           6       0.92      1.00      0.96        12\n",
            "           7       1.00      0.94      0.97        16\n",
            "           8       0.86      0.86      0.86        14\n",
            "           9       0.90      0.95      0.92        19\n",
            "          10       0.93      0.81      0.86        31\n",
            "          11       1.00      1.00      1.00        12\n",
            "          12       1.00      0.89      0.94        19\n",
            "          13       1.00      1.00      1.00        15\n",
            "\n",
            "    accuracy                           0.94       246\n",
            "   macro avg       0.95      0.95      0.94       246\n",
            "weighted avg       0.95      0.94      0.94       246\n",
            "\n",
            "----------------------------------------------------------------------\n",
            "Saving Results ... \n",
            "----------------------------------------------------------------------\n"
          ]
        }
      ]
    }
  ],
  "metadata": {
    "language_info": {
      "name": "python"
    },
    "orig_nbformat": 4,
    "colab": {
      "name": "Inference.ipynb",
      "provenance": [],
      "include_colab_link": true
    },
    "accelerator": "GPU",
    "gpuClass": "standard",
    "kernelspec": {
      "name": "python3",
      "display_name": "Python 3"
    }
  },
  "nbformat": 4,
  "nbformat_minor": 0
}