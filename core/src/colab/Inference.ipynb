{
  "cells": [
    {
      "cell_type": "markdown",
      "metadata": {
        "id": "view-in-github",
        "colab_type": "text"
      },
      "source": [
        "<a href=\"https://colab.research.google.com/github/atick-faisal/Sign-Language-Recognition/blob/main/core/src/colab/Inference.ipynb\" target=\"_parent\"><img src=\"https://colab.research.google.com/assets/colab-badge.svg\" alt=\"Open In Colab\"/></a>"
      ]
    },
    {
      "cell_type": "code",
      "source": [
        "from google.colab import drive\n",
        "drive.mount('/content/drive')"
      ],
      "metadata": {
        "id": "JmRmSvWP8Ma-",
        "outputId": "d8df6095-45f8-4fa0-a705-c1621f3edb40",
        "colab": {
          "base_uri": "https://localhost:8080/"
        }
      },
      "execution_count": 1,
      "outputs": [
        {
          "output_type": "stream",
          "name": "stdout",
          "text": [
            "Mounted at /content/drive\n"
          ]
        }
      ]
    },
    {
      "cell_type": "code",
      "source": [
        "!pip install rich\n",
        "!gdown \"1CACL0ogqPC87Tsqo3qxX31ve04_Cxdjf\"\n",
        "!tar -xf raw.tar.xz\n",
        "!git clone https://github.com/atick-faisal/Sign-Language-Recognition.git"
      ],
      "metadata": {
        "id": "V-n5fxnqAdnr",
        "outputId": "df0008a0-30f2-445b-8439-df68f74ef611",
        "colab": {
          "base_uri": "https://localhost:8080/"
        }
      },
      "execution_count": 2,
      "outputs": [
        {
          "output_type": "stream",
          "name": "stdout",
          "text": [
            "Looking in indexes: https://pypi.org/simple, https://us-python.pkg.dev/colab-wheels/public/simple/\n",
            "Collecting rich\n",
            "  Downloading rich-12.4.4-py3-none-any.whl (232 kB)\n",
            "\u001b[K     |████████████████████████████████| 232 kB 32.6 MB/s \n",
            "\u001b[?25hRequirement already satisfied: typing-extensions<5.0,>=4.0.0 in /usr/local/lib/python3.7/dist-packages (from rich) (4.1.1)\n",
            "Collecting commonmark<0.10.0,>=0.9.0\n",
            "  Downloading commonmark-0.9.1-py2.py3-none-any.whl (51 kB)\n",
            "\u001b[K     |████████████████████████████████| 51 kB 8.0 MB/s \n",
            "\u001b[?25hRequirement already satisfied: pygments<3.0.0,>=2.6.0 in /usr/local/lib/python3.7/dist-packages (from rich) (2.6.1)\n",
            "Installing collected packages: commonmark, rich\n",
            "Successfully installed commonmark-0.9.1 rich-12.4.4\n",
            "Downloading...\n",
            "From: https://drive.google.com/uc?id=1CACL0ogqPC87Tsqo3qxX31ve04_Cxdjf\n",
            "To: /content/raw.tar.xz\n",
            "100% 21.6M/21.6M [00:00<00:00, 76.3MB/s]\n",
            "Cloning into 'Sign-Language-Recognition'...\n",
            "remote: Enumerating objects: 1130, done.\u001b[K\n",
            "remote: Counting objects: 100% (141/141), done.\u001b[K\n",
            "remote: Compressing objects: 100% (115/115), done.\u001b[K\n",
            "remote: Total 1130 (delta 88), reused 45 (delta 25), pack-reused 989\u001b[K\n",
            "Receiving objects: 100% (1130/1130), 4.26 MiB | 28.86 MiB/s, done.\n",
            "Resolving deltas: 100% (672/672), done.\n"
          ]
        }
      ]
    },
    {
      "cell_type": "code",
      "source": [
        "!python Sign-Language-Recognition/core/src/train_tf.py \\\n",
        "        --exp_name \"stack_cnn_u005_lw2\" \\\n",
        "        --data_dir \"raw\" \\\n",
        "        --model_dir \"/content/drive/MyDrive/Research/Leap Motion Controller/Models\""
      ],
      "metadata": {
        "id": "LeMkJoC98cym",
        "outputId": "5499f78b-f225-40a6-c3c6-bd2523b678e5",
        "colab": {
          "base_uri": "https://localhost:8080/"
        }
      },
      "execution_count": 1,
      "outputs": [
        {
          "output_type": "stream",
          "name": "stdout",
          "text": [
            "----------------------------------------------------------------------\n",
            "Generating Dataset\n",
            "----------------------------------------------------------------------\n",
            "\u001b[2K[ 1167/ 1178] processing files:  \u001b[91m━━━━━━━━━━━━━━━━━━━━━━━━━━━━━━━━━\u001b[0m\u001b[91m╸\u001b[0m \u001b[35m 99%\u001b[0m \u001b[36m0:00:09\u001b[0m\n",
            "\u001b[?25htcmalloc: large alloc 1369964544 bytes == 0x654e4000 @  0x7f55a77751e7 0x7f55a3d060ce 0x7f55a3d62715 0x7f55a3d62d1b 0x7f55a3e03333 0x5936cc 0x548c51 0x5127f1 0x549576 0x593fce 0x548ae9 0x5127f1 0x593dd7 0x5118f8 0x549576 0x604173 0x5f5506 0x5f8c6c 0x5f9206 0x64faf2 0x64fc4e 0x7f55a7372c87 0x5b621a\n",
            "----------------------------------------------------------------------\n",
            "Train Features Shape:  (5946, 150, 1)\n",
            "Train Images Shape:  (5946, 160, 160, 3)\n",
            "Test Features Shape:  (168, 150, 1)\n",
            "Test Images Shape:  (168, 160, 160, 3)\n",
            "Train Labels Shape:  (5946,)\n",
            "Test Labels Shape:  (168,)\n",
            "----------------------------------------------------------------------\n",
            "----------------------------------------------------------------------\n",
            "Training Model ... \n",
            "----------------------------------------------------------------------\n",
            "Epoch 1/300\n",
            "93/93 [==============================] - 25s 157ms/step - loss: 1.8144 - accuracy: 0.4205 - val_loss: 1.6146 - val_accuracy: 0.4048\n",
            "Epoch 2/300\n",
            "93/93 [==============================] - 11s 117ms/step - loss: 0.7035 - accuracy: 0.7758 - val_loss: 0.9666 - val_accuracy: 0.6845\n",
            "Epoch 3/300\n",
            "93/93 [==============================] - 11s 117ms/step - loss: 0.4638 - accuracy: 0.8508 - val_loss: 0.6671 - val_accuracy: 0.7560\n",
            "Epoch 4/300\n",
            "93/93 [==============================] - 11s 117ms/step - loss: 0.3492 - accuracy: 0.8824 - val_loss: 0.6978 - val_accuracy: 0.7560\n",
            "Epoch 5/300\n",
            "93/93 [==============================] - 11s 118ms/step - loss: 0.2941 - accuracy: 0.9040 - val_loss: 0.6133 - val_accuracy: 0.7857\n",
            "Epoch 6/300\n",
            "93/93 [==============================] - 11s 118ms/step - loss: 0.2573 - accuracy: 0.9122 - val_loss: 0.5947 - val_accuracy: 0.7857\n",
            "Epoch 7/300\n",
            "93/93 [==============================] - 11s 119ms/step - loss: 0.2153 - accuracy: 0.9302 - val_loss: 0.5820 - val_accuracy: 0.7500\n",
            "Epoch 8/300\n",
            "93/93 [==============================] - 11s 119ms/step - loss: 0.1855 - accuracy: 0.9373 - val_loss: 0.6352 - val_accuracy: 0.7619\n",
            "Epoch 9/300\n",
            "93/93 [==============================] - 11s 119ms/step - loss: 0.1818 - accuracy: 0.9411 - val_loss: 0.6179 - val_accuracy: 0.7738\n",
            "Epoch 10/300\n",
            "93/93 [==============================] - 11s 119ms/step - loss: 0.1662 - accuracy: 0.9440 - val_loss: 0.6345 - val_accuracy: 0.7738\n",
            "Epoch 11/300\n",
            "93/93 [==============================] - 11s 119ms/step - loss: 0.1655 - accuracy: 0.9428 - val_loss: 0.6179 - val_accuracy: 0.7798\n",
            "Epoch 12/300\n",
            "93/93 [==============================] - 11s 120ms/step - loss: 0.1550 - accuracy: 0.9455 - val_loss: 0.6087 - val_accuracy: 0.7679\n",
            "Epoch 13/300\n",
            "93/93 [==============================] - 11s 119ms/step - loss: 0.1607 - accuracy: 0.9464 - val_loss: 0.6099 - val_accuracy: 0.7798\n",
            "Epoch 14/300\n",
            "93/93 [==============================] - 11s 119ms/step - loss: 0.1345 - accuracy: 0.9531 - val_loss: 0.6129 - val_accuracy: 0.7619\n",
            "Epoch 15/300\n",
            "93/93 [==============================] - 11s 119ms/step - loss: 0.1516 - accuracy: 0.9487 - val_loss: 0.6252 - val_accuracy: 0.7738\n",
            "Epoch 16/300\n",
            "93/93 [==============================] - 11s 121ms/step - loss: 0.1346 - accuracy: 0.9554 - val_loss: 0.5722 - val_accuracy: 0.7917\n",
            "Epoch 17/300\n",
            "93/93 [==============================] - 11s 119ms/step - loss: 0.1346 - accuracy: 0.9543 - val_loss: 0.5982 - val_accuracy: 0.7798\n",
            "Epoch 18/300\n",
            "93/93 [==============================] - 11s 119ms/step - loss: 0.1246 - accuracy: 0.9558 - val_loss: 0.6364 - val_accuracy: 0.7798\n",
            "Epoch 19/300\n",
            "93/93 [==============================] - 11s 121ms/step - loss: 0.1173 - accuracy: 0.9581 - val_loss: 0.6089 - val_accuracy: 0.7798\n",
            "Epoch 20/300\n",
            "93/93 [==============================] - 11s 119ms/step - loss: 0.1112 - accuracy: 0.9627 - val_loss: 0.6220 - val_accuracy: 0.7738\n",
            "Epoch 21/300\n",
            "93/93 [==============================] - 11s 119ms/step - loss: 0.1135 - accuracy: 0.9622 - val_loss: 0.6149 - val_accuracy: 0.7679\n",
            "Epoch 22/300\n",
            "93/93 [==============================] - 11s 119ms/step - loss: 0.1054 - accuracy: 0.9620 - val_loss: 0.6110 - val_accuracy: 0.7738\n",
            "Epoch 23/300\n",
            "93/93 [==============================] - 11s 119ms/step - loss: 0.1098 - accuracy: 0.9642 - val_loss: 0.5947 - val_accuracy: 0.7798\n",
            "Epoch 24/300\n",
            "93/93 [==============================] - 11s 119ms/step - loss: 0.1067 - accuracy: 0.9652 - val_loss: 0.6203 - val_accuracy: 0.7738\n",
            "Epoch 25/300\n",
            "93/93 [==============================] - 11s 119ms/step - loss: 0.1051 - accuracy: 0.9622 - val_loss: 0.5938 - val_accuracy: 0.7679\n",
            "Epoch 26/300\n",
            "93/93 [==============================] - 11s 119ms/step - loss: 0.0969 - accuracy: 0.9670 - val_loss: 0.6143 - val_accuracy: 0.7738\n",
            "Epoch 27/300\n",
            "93/93 [==============================] - 11s 119ms/step - loss: 0.0995 - accuracy: 0.9665 - val_loss: 0.6099 - val_accuracy: 0.7679\n",
            "Epoch 28/300\n",
            "93/93 [==============================] - 11s 120ms/step - loss: 0.0949 - accuracy: 0.9672 - val_loss: 0.6230 - val_accuracy: 0.7679\n",
            "Epoch 29/300\n",
            "93/93 [==============================] - 11s 119ms/step - loss: 0.0939 - accuracy: 0.9674 - val_loss: 0.6494 - val_accuracy: 0.7679\n",
            "Epoch 30/300\n",
            "93/93 [==============================] - 11s 120ms/step - loss: 0.0980 - accuracy: 0.9677 - val_loss: 0.6053 - val_accuracy: 0.7798\n",
            "Epoch 31/300\n",
            "93/93 [==============================] - 11s 120ms/step - loss: 0.0923 - accuracy: 0.9682 - val_loss: 0.6841 - val_accuracy: 0.7500\n",
            "Epoch 32/300\n",
            "93/93 [==============================] - 11s 123ms/step - loss: 0.0928 - accuracy: 0.9669 - val_loss: 0.6309 - val_accuracy: 0.7679\n",
            "Epoch 33/300\n",
            "93/93 [==============================] - 11s 120ms/step - loss: 0.0923 - accuracy: 0.9679 - val_loss: 0.6315 - val_accuracy: 0.7738\n",
            "Epoch 34/300\n",
            "93/93 [==============================] - 11s 120ms/step - loss: 0.0862 - accuracy: 0.9707 - val_loss: 0.6320 - val_accuracy: 0.7738\n",
            "Epoch 35/300\n",
            "93/93 [==============================] - 11s 120ms/step - loss: 0.0884 - accuracy: 0.9712 - val_loss: 0.6605 - val_accuracy: 0.7619\n",
            "Epoch 36/300\n",
            "93/93 [==============================] - 11s 119ms/step - loss: 0.0923 - accuracy: 0.9680 - val_loss: 0.6408 - val_accuracy: 0.7679\n",
            "Epoch 37/300\n",
            "93/93 [==============================] - 11s 119ms/step - loss: 0.0904 - accuracy: 0.9707 - val_loss: 0.6432 - val_accuracy: 0.7619\n",
            "Epoch 38/300\n",
            "93/93 [==============================] - 11s 120ms/step - loss: 0.0893 - accuracy: 0.9692 - val_loss: 0.6354 - val_accuracy: 0.7857\n",
            "Epoch 39/300\n",
            "93/93 [==============================] - 11s 120ms/step - loss: 0.0877 - accuracy: 0.9691 - val_loss: 0.5958 - val_accuracy: 0.7798\n",
            "Epoch 40/300\n",
            "93/93 [==============================] - 11s 119ms/step - loss: 0.0840 - accuracy: 0.9714 - val_loss: 0.6149 - val_accuracy: 0.7857\n",
            "Epoch 41/300\n",
            "93/93 [==============================] - 11s 119ms/step - loss: 0.0801 - accuracy: 0.9712 - val_loss: 0.5762 - val_accuracy: 0.7857\n",
            "Epoch 42/300\n",
            "93/93 [==============================] - 11s 120ms/step - loss: 0.0850 - accuracy: 0.9712 - val_loss: 0.6834 - val_accuracy: 0.7738\n",
            "Epoch 43/300\n",
            "93/93 [==============================] - 11s 120ms/step - loss: 0.0810 - accuracy: 0.9726 - val_loss: 0.6175 - val_accuracy: 0.7976\n",
            "Epoch 44/300\n",
            "93/93 [==============================] - 11s 119ms/step - loss: 0.0821 - accuracy: 0.9711 - val_loss: 0.6047 - val_accuracy: 0.7857\n",
            "Epoch 45/300\n",
            "93/93 [==============================] - 11s 121ms/step - loss: 0.0799 - accuracy: 0.9738 - val_loss: 0.5983 - val_accuracy: 0.7798\n",
            "Epoch 46/300\n",
            "93/93 [==============================] - 11s 121ms/step - loss: 0.0796 - accuracy: 0.9728 - val_loss: 0.6081 - val_accuracy: 0.7976\n",
            "----------------------------------------------------------------------\n",
            "Metrics \n",
            "----------------------------------------------------------------------\n",
            "6/6 [==============================] - 1s 111ms/step - loss: 0.5722 - accuracy: 0.7917\n",
            "              precision    recall  f1-score   support\n",
            "\n",
            "           0       0.28      1.00      0.44        12\n",
            "           1       1.00      0.67      0.80        12\n",
            "           2       1.00      0.50      0.67        12\n",
            "           3       1.00      1.00      1.00        12\n",
            "           4       1.00      1.00      1.00        12\n",
            "           5       1.00      1.00      1.00        12\n",
            "           6       1.00      0.75      0.86        12\n",
            "           7       0.92      1.00      0.96        12\n",
            "           8       0.00      0.00      0.00        12\n",
            "           9       0.86      1.00      0.92        12\n",
            "          10       1.00      0.25      0.40        12\n",
            "          11       1.00      1.00      1.00        12\n",
            "          12       0.92      0.92      0.92        12\n",
            "          13       1.00      1.00      1.00        12\n",
            "\n",
            "    accuracy                           0.79       168\n",
            "   macro avg       0.86      0.79      0.78       168\n",
            "weighted avg       0.86      0.79      0.78       168\n",
            "\n",
            "----------------------------------------------------------------------\n",
            "Saving Results ... \n",
            "----------------------------------------------------------------------\n",
            "No Previous Accuracy Found!\n"
          ]
        }
      ]
    }
  ],
  "metadata": {
    "language_info": {
      "name": "python"
    },
    "orig_nbformat": 4,
    "colab": {
      "name": "Inference.ipynb",
      "provenance": [],
      "include_colab_link": true
    },
    "accelerator": "GPU",
    "gpuClass": "standard",
    "kernelspec": {
      "name": "python3",
      "display_name": "Python 3"
    }
  },
  "nbformat": 4,
  "nbformat_minor": 0
}