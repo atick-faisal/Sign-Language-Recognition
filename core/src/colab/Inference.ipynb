{
  "cells": [
    {
      "cell_type": "markdown",
      "metadata": {
        "id": "view-in-github",
        "colab_type": "text"
      },
      "source": [
        "<a href=\"https://colab.research.google.com/github/atick-faisal/Sign-Language-Recognition/blob/main/core/src/colab/Inference.ipynb\" target=\"_parent\"><img src=\"https://colab.research.google.com/assets/colab-badge.svg\" alt=\"Open In Colab\"/></a>"
      ]
    },
    {
      "cell_type": "code",
      "source": [
        "from google.colab import drive\n",
        "drive.mount('/content/drive')"
      ],
      "metadata": {
        "id": "JmRmSvWP8Ma-",
        "outputId": "5f71db40-7456-41e5-c04d-067d1d7764b4",
        "colab": {
          "base_uri": "https://localhost:8080/"
        }
      },
      "execution_count": 1,
      "outputs": [
        {
          "output_type": "stream",
          "name": "stdout",
          "text": [
            "Drive already mounted at /content/drive; to attempt to forcibly remount, call drive.mount(\"/content/drive\", force_remount=True).\n"
          ]
        }
      ]
    },
    {
      "cell_type": "code",
      "source": [
        "!pip install rich\n",
        "# !gdown \"1CACL0ogqPC87Tsqo3qxX31ve04_Cxdjf\"\n",
        "# !tar -xf raw.tar.xz\n",
        "!git clone https://github.com/atick-faisal/Sign-Language-Recognition.git"
      ],
      "metadata": {
        "id": "V-n5fxnqAdnr",
        "outputId": "db00a466-38b6-47e0-e715-07995390519e",
        "colab": {
          "base_uri": "https://localhost:8080/"
        }
      },
      "execution_count": 2,
      "outputs": [
        {
          "output_type": "stream",
          "name": "stdout",
          "text": [
            "Looking in indexes: https://pypi.org/simple, https://us-python.pkg.dev/colab-wheels/public/simple/\n",
            "Requirement already satisfied: rich in /usr/local/lib/python3.7/dist-packages (12.4.4)\n",
            "Requirement already satisfied: pygments<3.0.0,>=2.6.0 in /usr/local/lib/python3.7/dist-packages (from rich) (2.6.1)\n",
            "Requirement already satisfied: commonmark<0.10.0,>=0.9.0 in /usr/local/lib/python3.7/dist-packages (from rich) (0.9.1)\n",
            "Requirement already satisfied: typing-extensions<5.0,>=4.0.0 in /usr/local/lib/python3.7/dist-packages (from rich) (4.1.1)\n",
            "fatal: destination path 'Sign-Language-Recognition' already exists and is not an empty directory.\n"
          ]
        }
      ]
    },
    {
      "cell_type": "code",
      "source": [
        "!python Sign-Language-Recognition/core/src/train_tf.py \\\n",
        "        --exp_name \"projection_net_u007\" \\\n",
        "        --data_dir \"/content/drive/MyDrive/Research/Leap Motion Controller/Dataset\" \\\n",
        "        --model_dir \"/content/drive/MyDrive/Research/Leap Motion Controller/Models\""
      ],
      "metadata": {
        "id": "LeMkJoC98cym",
        "outputId": "bccb530b-5fb3-4ce5-b999-9771fcf8326f",
        "colab": {
          "base_uri": "https://localhost:8080/"
        }
      },
      "execution_count": 3,
      "outputs": [
        {
          "output_type": "stream",
          "name": "stdout",
          "text": [
            "----------------------------------------------------------------------\n",
            "Generating Dataset\n",
            "----------------------------------------------------------------------\n",
            "----------------------------------------------------------------------\n",
            "Training Model ... \n",
            "----------------------------------------------------------------------\n",
            "Epoch 1/300\n",
            "94/94 [==============================] - 28s 168ms/step - loss: 2.7002 - accuracy: 0.1617 - val_loss: 1.9820 - val_accuracy: 0.5155\n",
            "Epoch 2/300\n",
            "94/94 [==============================] - 12s 125ms/step - loss: 1.6664 - accuracy: 0.4315 - val_loss: 0.7411 - val_accuracy: 0.7205\n",
            "Epoch 3/300\n",
            "94/94 [==============================] - 12s 125ms/step - loss: 1.0019 - accuracy: 0.6702 - val_loss: 0.5385 - val_accuracy: 0.8012\n",
            "Epoch 4/300\n",
            "94/94 [==============================] - 12s 125ms/step - loss: 0.7518 - accuracy: 0.7478 - val_loss: 0.4694 - val_accuracy: 0.8199\n",
            "Epoch 5/300\n",
            "94/94 [==============================] - 12s 125ms/step - loss: 0.6292 - accuracy: 0.7958 - val_loss: 0.4353 - val_accuracy: 0.8137\n",
            "Epoch 6/300\n",
            "94/94 [==============================] - 12s 125ms/step - loss: 0.5429 - accuracy: 0.8241 - val_loss: 0.3489 - val_accuracy: 0.8571\n",
            "Epoch 7/300\n",
            "94/94 [==============================] - 12s 124ms/step - loss: 0.4600 - accuracy: 0.8447 - val_loss: 0.3614 - val_accuracy: 0.8447\n",
            "Epoch 8/300\n",
            "94/94 [==============================] - 12s 125ms/step - loss: 0.4233 - accuracy: 0.8560 - val_loss: 0.3198 - val_accuracy: 0.8634\n",
            "Epoch 9/300\n",
            "94/94 [==============================] - 12s 125ms/step - loss: 0.3912 - accuracy: 0.8696 - val_loss: 0.2996 - val_accuracy: 0.8758\n",
            "Epoch 10/300\n",
            "94/94 [==============================] - 12s 124ms/step - loss: 0.3617 - accuracy: 0.8761 - val_loss: 0.3024 - val_accuracy: 0.8882\n",
            "Epoch 11/300\n",
            "94/94 [==============================] - 12s 124ms/step - loss: 0.3532 - accuracy: 0.8833 - val_loss: 0.3556 - val_accuracy: 0.8571\n",
            "Epoch 12/300\n",
            "94/94 [==============================] - 12s 125ms/step - loss: 0.3209 - accuracy: 0.8911 - val_loss: 0.3225 - val_accuracy: 0.8820\n",
            "Epoch 13/300\n",
            "94/94 [==============================] - 12s 126ms/step - loss: 0.3085 - accuracy: 0.8966 - val_loss: 0.3105 - val_accuracy: 0.8758\n",
            "Epoch 14/300\n",
            "94/94 [==============================] - 12s 124ms/step - loss: 0.2905 - accuracy: 0.9016 - val_loss: 0.3158 - val_accuracy: 0.8758\n",
            "Epoch 15/300\n",
            "94/94 [==============================] - 12s 124ms/step - loss: 0.2917 - accuracy: 0.9043 - val_loss: 0.3275 - val_accuracy: 0.8634\n",
            "Epoch 16/300\n",
            "94/94 [==============================] - 12s 124ms/step - loss: 0.2584 - accuracy: 0.9137 - val_loss: 0.3536 - val_accuracy: 0.8571\n",
            "Epoch 17/300\n",
            "94/94 [==============================] - 12s 124ms/step - loss: 0.2678 - accuracy: 0.9056 - val_loss: 0.3059 - val_accuracy: 0.8634\n",
            "Epoch 18/300\n",
            "94/94 [==============================] - 12s 124ms/step - loss: 0.2573 - accuracy: 0.9110 - val_loss: 0.3257 - val_accuracy: 0.8758\n",
            "Epoch 19/300\n",
            "94/94 [==============================] - 12s 124ms/step - loss: 0.2449 - accuracy: 0.9163 - val_loss: 0.3084 - val_accuracy: 0.8571\n",
            "Epoch 20/300\n",
            "94/94 [==============================] - 12s 124ms/step - loss: 0.2339 - accuracy: 0.9190 - val_loss: 0.3037 - val_accuracy: 0.8634\n",
            "Epoch 21/300\n",
            "94/94 [==============================] - 12s 125ms/step - loss: 0.2160 - accuracy: 0.9238 - val_loss: 0.2674 - val_accuracy: 0.8944\n",
            "Epoch 22/300\n",
            "94/94 [==============================] - 12s 124ms/step - loss: 0.2202 - accuracy: 0.9222 - val_loss: 0.3107 - val_accuracy: 0.8696\n",
            "Epoch 23/300\n",
            "94/94 [==============================] - 12s 124ms/step - loss: 0.2043 - accuracy: 0.9292 - val_loss: 0.3002 - val_accuracy: 0.8634\n",
            "Epoch 24/300\n",
            "94/94 [==============================] - 12s 124ms/step - loss: 0.2024 - accuracy: 0.9275 - val_loss: 0.3217 - val_accuracy: 0.8758\n",
            "Epoch 25/300\n",
            "94/94 [==============================] - 12s 124ms/step - loss: 0.2110 - accuracy: 0.9257 - val_loss: 0.3411 - val_accuracy: 0.8696\n",
            "Epoch 26/300\n",
            "94/94 [==============================] - 12s 124ms/step - loss: 0.1987 - accuracy: 0.9325 - val_loss: 0.2881 - val_accuracy: 0.8634\n",
            "Epoch 27/300\n",
            "94/94 [==============================] - 12s 124ms/step - loss: 0.1975 - accuracy: 0.9295 - val_loss: 0.2697 - val_accuracy: 0.8758\n",
            "Epoch 28/300\n",
            "94/94 [==============================] - 12s 124ms/step - loss: 0.1954 - accuracy: 0.9285 - val_loss: 0.3433 - val_accuracy: 0.8571\n",
            "Epoch 29/300\n",
            "94/94 [==============================] - 12s 124ms/step - loss: 0.1913 - accuracy: 0.9305 - val_loss: 0.2988 - val_accuracy: 0.8696\n",
            "Epoch 30/300\n",
            "94/94 [==============================] - 12s 124ms/step - loss: 0.1865 - accuracy: 0.9315 - val_loss: 0.3394 - val_accuracy: 0.8634\n",
            "Epoch 31/300\n",
            "94/94 [==============================] - 12s 124ms/step - loss: 0.1796 - accuracy: 0.9359 - val_loss: 0.3210 - val_accuracy: 0.8509\n",
            "Epoch 32/300\n",
            "94/94 [==============================] - 12s 124ms/step - loss: 0.1767 - accuracy: 0.9350 - val_loss: 0.2997 - val_accuracy: 0.8696\n",
            "Epoch 33/300\n",
            "94/94 [==============================] - 12s 125ms/step - loss: 0.1774 - accuracy: 0.9347 - val_loss: 0.3543 - val_accuracy: 0.8447\n",
            "Epoch 34/300\n",
            "94/94 [==============================] - 12s 125ms/step - loss: 0.1777 - accuracy: 0.9327 - val_loss: 0.3100 - val_accuracy: 0.8634\n",
            "Epoch 35/300\n",
            "94/94 [==============================] - 12s 124ms/step - loss: 0.1718 - accuracy: 0.9389 - val_loss: 0.2731 - val_accuracy: 0.8696\n",
            "Epoch 36/300\n",
            "94/94 [==============================] - 12s 125ms/step - loss: 0.1696 - accuracy: 0.9379 - val_loss: 0.2432 - val_accuracy: 0.8882\n",
            "Epoch 37/300\n",
            "94/94 [==============================] - 12s 124ms/step - loss: 0.1669 - accuracy: 0.9399 - val_loss: 0.2851 - val_accuracy: 0.8758\n",
            "Epoch 38/300\n",
            "94/94 [==============================] - 12s 124ms/step - loss: 0.1645 - accuracy: 0.9397 - val_loss: 0.3033 - val_accuracy: 0.8634\n",
            "Epoch 39/300\n",
            "94/94 [==============================] - 12s 124ms/step - loss: 0.1681 - accuracy: 0.9369 - val_loss: 0.2984 - val_accuracy: 0.8820\n",
            "Epoch 40/300\n",
            "94/94 [==============================] - 12s 124ms/step - loss: 0.1631 - accuracy: 0.9400 - val_loss: 0.2761 - val_accuracy: 0.8758\n",
            "Epoch 41/300\n",
            "94/94 [==============================] - 12s 124ms/step - loss: 0.1544 - accuracy: 0.9439 - val_loss: 0.2983 - val_accuracy: 0.8571\n",
            "Epoch 42/300\n",
            "94/94 [==============================] - 12s 124ms/step - loss: 0.1597 - accuracy: 0.9426 - val_loss: 0.2929 - val_accuracy: 0.8571\n",
            "Epoch 43/300\n",
            "94/94 [==============================] - 12s 124ms/step - loss: 0.1595 - accuracy: 0.9431 - val_loss: 0.2635 - val_accuracy: 0.8634\n",
            "Epoch 44/300\n",
            "94/94 [==============================] - 12s 124ms/step - loss: 0.1550 - accuracy: 0.9429 - val_loss: 0.2532 - val_accuracy: 0.8820\n",
            "Epoch 45/300\n",
            "94/94 [==============================] - 12s 124ms/step - loss: 0.1574 - accuracy: 0.9441 - val_loss: 0.3312 - val_accuracy: 0.8385\n",
            "Epoch 46/300\n",
            "94/94 [==============================] - 12s 124ms/step - loss: 0.1559 - accuracy: 0.9441 - val_loss: 0.3013 - val_accuracy: 0.8571\n",
            "Epoch 47/300\n",
            "94/94 [==============================] - 12s 124ms/step - loss: 0.1478 - accuracy: 0.9452 - val_loss: 0.2994 - val_accuracy: 0.8634\n",
            "Epoch 48/300\n",
            "94/94 [==============================] - 12s 124ms/step - loss: 0.1544 - accuracy: 0.9437 - val_loss: 0.2694 - val_accuracy: 0.8758\n",
            "Epoch 49/300\n",
            "94/94 [==============================] - 12s 124ms/step - loss: 0.1482 - accuracy: 0.9454 - val_loss: 0.2806 - val_accuracy: 0.8758\n",
            "Epoch 50/300\n",
            "94/94 [==============================] - 12s 124ms/step - loss: 0.1468 - accuracy: 0.9462 - val_loss: 0.2958 - val_accuracy: 0.8634\n",
            "Epoch 51/300\n",
            "94/94 [==============================] - 12s 124ms/step - loss: 0.1455 - accuracy: 0.9469 - val_loss: 0.3117 - val_accuracy: 0.8758\n",
            "Epoch 52/300\n",
            "94/94 [==============================] - 12s 124ms/step - loss: 0.1451 - accuracy: 0.9476 - val_loss: 0.2872 - val_accuracy: 0.8882\n",
            "Epoch 53/300\n",
            "94/94 [==============================] - 12s 124ms/step - loss: 0.1432 - accuracy: 0.9477 - val_loss: 0.3245 - val_accuracy: 0.8634\n",
            "Epoch 54/300\n",
            "94/94 [==============================] - 12s 124ms/step - loss: 0.1407 - accuracy: 0.9512 - val_loss: 0.3073 - val_accuracy: 0.8696\n",
            "Epoch 55/300\n",
            "94/94 [==============================] - 12s 125ms/step - loss: 0.1360 - accuracy: 0.9512 - val_loss: 0.3207 - val_accuracy: 0.8634\n",
            "Epoch 56/300\n",
            "94/94 [==============================] - 13s 135ms/step - loss: 0.1432 - accuracy: 0.9477 - val_loss: 0.3017 - val_accuracy: 0.8696\n",
            "Epoch 57/300\n",
            "94/94 [==============================] - 12s 124ms/step - loss: 0.1373 - accuracy: 0.9499 - val_loss: 0.3521 - val_accuracy: 0.8385\n",
            "Epoch 58/300\n",
            "94/94 [==============================] - 12s 124ms/step - loss: 0.1473 - accuracy: 0.9464 - val_loss: 0.2809 - val_accuracy: 0.8758\n",
            "Epoch 59/300\n",
            "94/94 [==============================] - 12s 124ms/step - loss: 0.1348 - accuracy: 0.9499 - val_loss: 0.2714 - val_accuracy: 0.8820\n",
            "Epoch 60/300\n",
            "94/94 [==============================] - 12s 125ms/step - loss: 0.1380 - accuracy: 0.9471 - val_loss: 0.2824 - val_accuracy: 0.8882\n",
            "Epoch 61/300\n",
            "94/94 [==============================] - 12s 124ms/step - loss: 0.1374 - accuracy: 0.9496 - val_loss: 0.2553 - val_accuracy: 0.8882\n",
            "Epoch 62/300\n",
            "94/94 [==============================] - 12s 124ms/step - loss: 0.1291 - accuracy: 0.9521 - val_loss: 0.2977 - val_accuracy: 0.8758\n",
            "Epoch 63/300\n",
            "94/94 [==============================] - 12s 125ms/step - loss: 0.1341 - accuracy: 0.9496 - val_loss: 0.3590 - val_accuracy: 0.8571\n",
            "Epoch 64/300\n",
            "94/94 [==============================] - 12s 124ms/step - loss: 0.1340 - accuracy: 0.9496 - val_loss: 0.2955 - val_accuracy: 0.8882\n",
            "Epoch 65/300\n",
            "94/94 [==============================] - 12s 125ms/step - loss: 0.1423 - accuracy: 0.9436 - val_loss: 0.3235 - val_accuracy: 0.8696\n",
            "Epoch 66/300\n",
            "94/94 [==============================] - 12s 126ms/step - loss: 0.1373 - accuracy: 0.9466 - val_loss: 0.2466 - val_accuracy: 0.8944\n",
            "----------------------------------------------------------------------\n",
            "Metrics \n",
            "----------------------------------------------------------------------\n",
            "6/6 [==============================] - 1s 129ms/step - loss: 0.2432 - accuracy: 0.8882\n",
            "              precision    recall  f1-score   support\n",
            "\n",
            "           0       1.00      0.50      0.67        12\n",
            "           1       1.00      0.92      0.96        12\n",
            "           2       1.00      0.92      0.96        12\n",
            "           3       1.00      0.67      0.80        12\n",
            "           4       0.92      1.00      0.96        12\n",
            "           5       1.00      0.83      0.91        12\n",
            "           6       1.00      0.83      0.91        12\n",
            "           7       1.00      1.00      1.00        12\n",
            "           8       0.55      1.00      0.71        12\n",
            "           9       1.00      1.00      1.00        12\n",
            "          10       0.79      0.92      0.85        12\n",
            "          11       0.71      1.00      0.83         5\n",
            "          12       0.86      1.00      0.92        12\n",
            "          13       1.00      0.92      0.96        12\n",
            "\n",
            "    accuracy                           0.89       161\n",
            "   macro avg       0.92      0.89      0.89       161\n",
            "weighted avg       0.92      0.89      0.89       161\n",
            "\n",
            "----------------------------------------------------------------------\n",
            "Saving Results ... \n",
            "----------------------------------------------------------------------\n",
            "No Previous Accuracy Found!\n"
          ]
        }
      ]
    }
  ],
  "metadata": {
    "language_info": {
      "name": "python"
    },
    "orig_nbformat": 4,
    "colab": {
      "name": "Inference.ipynb",
      "provenance": [],
      "include_colab_link": true
    },
    "accelerator": "GPU",
    "gpuClass": "standard",
    "kernelspec": {
      "name": "python3",
      "display_name": "Python 3"
    }
  },
  "nbformat": 4,
  "nbformat_minor": 0
}