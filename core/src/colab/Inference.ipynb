{
  "cells": [
    {
      "cell_type": "markdown",
      "metadata": {
        "id": "view-in-github",
        "colab_type": "text"
      },
      "source": [
        "<a href=\"https://colab.research.google.com/github/atick-faisal/Sign-Language-Recognition/blob/main/core/src/colab/Inference.ipynb\" target=\"_parent\"><img src=\"https://colab.research.google.com/assets/colab-badge.svg\" alt=\"Open In Colab\"/></a>"
      ]
    },
    {
      "cell_type": "code",
      "source": [
        "from google.colab import drive\n",
        "drive.mount('/content/drive')"
      ],
      "metadata": {
        "id": "JmRmSvWP8Ma-",
        "outputId": "4d3e126f-d3d7-4734-8996-94318a9c7e75",
        "colab": {
          "base_uri": "https://localhost:8080/"
        }
      },
      "execution_count": 1,
      "outputs": [
        {
          "output_type": "stream",
          "name": "stdout",
          "text": [
            "Mounted at /content/drive\n"
          ]
        }
      ]
    },
    {
      "cell_type": "code",
      "source": [
        "!pip install rich\n",
        "!gdown \"1CACL0ogqPC87Tsqo3qxX31ve04_Cxdjf\"\n",
        "!tar -xf raw.tar.xz\n",
        "!git clone https://github.com/atick-faisal/Sign-Language-Recognition.git"
      ],
      "metadata": {
        "id": "V-n5fxnqAdnr",
        "outputId": "834eb046-f78e-40a3-81d8-d2a84b353901",
        "colab": {
          "base_uri": "https://localhost:8080/"
        }
      },
      "execution_count": 2,
      "outputs": [
        {
          "output_type": "stream",
          "name": "stdout",
          "text": [
            "Looking in indexes: https://pypi.org/simple, https://us-python.pkg.dev/colab-wheels/public/simple/\n",
            "Collecting rich\n",
            "  Downloading rich-12.4.4-py3-none-any.whl (232 kB)\n",
            "\u001b[K     |████████████████████████████████| 232 kB 4.8 MB/s \n",
            "\u001b[?25hRequirement already satisfied: typing-extensions<5.0,>=4.0.0 in /usr/local/lib/python3.7/dist-packages (from rich) (4.1.1)\n",
            "Requirement already satisfied: pygments<3.0.0,>=2.6.0 in /usr/local/lib/python3.7/dist-packages (from rich) (2.6.1)\n",
            "Collecting commonmark<0.10.0,>=0.9.0\n",
            "  Downloading commonmark-0.9.1-py2.py3-none-any.whl (51 kB)\n",
            "\u001b[K     |████████████████████████████████| 51 kB 9.5 MB/s \n",
            "\u001b[?25hInstalling collected packages: commonmark, rich\n",
            "Successfully installed commonmark-0.9.1 rich-12.4.4\n",
            "Downloading...\n",
            "From: https://drive.google.com/uc?id=1CACL0ogqPC87Tsqo3qxX31ve04_Cxdjf\n",
            "To: /content/raw.tar.xz\n",
            "100% 21.6M/21.6M [00:00<00:00, 174MB/s]\n",
            "Cloning into 'Sign-Language-Recognition'...\n",
            "remote: Enumerating objects: 990, done.\u001b[K\n",
            "remote: Counting objects: 100% (1/1), done.\u001b[K\n",
            "remote: Total 990 (delta 0), reused 0 (delta 0), pack-reused 989\u001b[K\n",
            "Receiving objects: 100% (990/990), 4.18 MiB | 16.33 MiB/s, done.\n",
            "Resolving deltas: 100% (584/584), done.\n"
          ]
        }
      ]
    },
    {
      "cell_type": "code",
      "source": [
        "!python Sign-Language-Recognition/core/src/train_tf.py \\\n",
        "        --exp_name \"stack_cnn_160x160_lw1\" \\\n",
        "        --data_dir \"raw\" \\\n",
        "        --model_dir \"/content/drive/MyDrive/Research/Leap Motion Controller/Models\""
      ],
      "metadata": {
        "id": "LeMkJoC98cym",
        "outputId": "5d989e32-26ba-49de-b4eb-438615176d0c",
        "colab": {
          "base_uri": "https://localhost:8080/"
        }
      },
      "execution_count": 3,
      "outputs": [
        {
          "output_type": "stream",
          "name": "stdout",
          "text": [
            "----------------------------------------------------------------------\n",
            "Generating Dataset\n",
            "----------------------------------------------------------------------\n",
            "\u001b[2K[ 1167/ 1178] processing files:  \u001b[91m━━━━━━━━━━━━━━━━━━━━━━━━━━━━━━━━━\u001b[0m\u001b[91m╸\u001b[0m \u001b[35m 99%\u001b[0m \u001b[36m0:00:07\u001b[0m\n",
            "\u001b[?25htcmalloc: large alloc 1252458496 bytes == 0x5e8da000 @  0x7f8d814771e7 0x7f8d7da080ce 0x7f8d7da64715 0x7f8d7da64d1b 0x7f8d7db05333 0x5936cc 0x548c51 0x5127f1 0x549576 0x593fce 0x548ae9 0x5127f1 0x593dd7 0x5118f8 0x549576 0x604173 0x5f5506 0x5f8c6c 0x5f9206 0x64faf2 0x64fc4e 0x7f8d81074c87 0x5b621a\n",
            "----------------------------------------------------------------------\n",
            "Train Features Shape:  (5436, 150, 1)\n",
            "Train Images Shape:  (5436, 160, 160, 3)\n",
            "Test Features Shape:  (253, 150, 1)\n",
            "Test Images Shape:  (253, 160, 160, 3)\n",
            "Train Labels Shape:  (5436,)\n",
            "Test Labels Shape:  (253,)\n",
            "----------------------------------------------------------------------\n",
            "Downloading data from https://storage.googleapis.com/tensorflow/keras-applications/mobilenet_v2/mobilenet_v2_weights_tf_dim_ordering_tf_kernels_1.0_160_no_top.h5\n",
            "9412608/9406464 [==============================] - 0s 0us/step\n",
            "9420800/9406464 [==============================] - 0s 0us/step\n",
            "----------------------------------------------------------------------\n",
            "Training Model ... \n",
            "----------------------------------------------------------------------\n",
            "Epoch 1/300\n",
            "170/170 [==============================] - 34s 89ms/step - loss: 1.7673 - accuracy: 0.4422 - val_loss: 0.6091 - val_accuracy: 0.8735\n",
            "Epoch 2/300\n",
            "170/170 [==============================] - 12s 70ms/step - loss: 0.6704 - accuracy: 0.7796 - val_loss: 0.2718 - val_accuracy: 0.9209\n",
            "Epoch 3/300\n",
            "170/170 [==============================] - 12s 70ms/step - loss: 0.4597 - accuracy: 0.8501 - val_loss: 0.1793 - val_accuracy: 0.9447\n",
            "Epoch 4/300\n",
            "170/170 [==============================] - 12s 71ms/step - loss: 0.3770 - accuracy: 0.8727 - val_loss: 0.1623 - val_accuracy: 0.9486\n",
            "Epoch 5/300\n",
            "170/170 [==============================] - 12s 71ms/step - loss: 0.3120 - accuracy: 0.8985 - val_loss: 0.1742 - val_accuracy: 0.9526\n",
            "Epoch 6/300\n",
            "170/170 [==============================] - 12s 71ms/step - loss: 0.2815 - accuracy: 0.9051 - val_loss: 0.1570 - val_accuracy: 0.9605\n",
            "Epoch 7/300\n",
            "170/170 [==============================] - 12s 72ms/step - loss: 0.2491 - accuracy: 0.9170 - val_loss: 0.1395 - val_accuracy: 0.9526\n",
            "Epoch 8/300\n",
            "170/170 [==============================] - 12s 72ms/step - loss: 0.2254 - accuracy: 0.9226 - val_loss: 0.1596 - val_accuracy: 0.9486\n",
            "Epoch 9/300\n",
            "170/170 [==============================] - 12s 72ms/step - loss: 0.2017 - accuracy: 0.9312 - val_loss: 0.1594 - val_accuracy: 0.9447\n",
            "Epoch 10/300\n",
            "170/170 [==============================] - 12s 71ms/step - loss: 0.1973 - accuracy: 0.9308 - val_loss: 0.1915 - val_accuracy: 0.9447\n",
            "Epoch 11/300\n",
            "170/170 [==============================] - 12s 71ms/step - loss: 0.1763 - accuracy: 0.9389 - val_loss: 0.1639 - val_accuracy: 0.9565\n",
            "Epoch 12/300\n",
            "170/170 [==============================] - 12s 71ms/step - loss: 0.1557 - accuracy: 0.9446 - val_loss: 0.1443 - val_accuracy: 0.9605\n",
            "Epoch 13/300\n",
            "170/170 [==============================] - 12s 71ms/step - loss: 0.1643 - accuracy: 0.9459 - val_loss: 0.1453 - val_accuracy: 0.9486\n",
            "Epoch 14/300\n",
            "170/170 [==============================] - 12s 71ms/step - loss: 0.1468 - accuracy: 0.9492 - val_loss: 0.1749 - val_accuracy: 0.9526\n",
            "Epoch 15/300\n",
            "170/170 [==============================] - 12s 71ms/step - loss: 0.1437 - accuracy: 0.9472 - val_loss: 0.1851 - val_accuracy: 0.9605\n",
            "Epoch 16/300\n",
            "170/170 [==============================] - 12s 71ms/step - loss: 0.1437 - accuracy: 0.9478 - val_loss: 0.1601 - val_accuracy: 0.9605\n",
            "Epoch 17/300\n",
            "170/170 [==============================] - 12s 71ms/step - loss: 0.1273 - accuracy: 0.9535 - val_loss: 0.1744 - val_accuracy: 0.9605\n",
            "Epoch 18/300\n",
            "170/170 [==============================] - 12s 71ms/step - loss: 0.1262 - accuracy: 0.9516 - val_loss: 0.1697 - val_accuracy: 0.9526\n",
            "Epoch 19/300\n",
            "170/170 [==============================] - 12s 71ms/step - loss: 0.1351 - accuracy: 0.9520 - val_loss: 0.1753 - val_accuracy: 0.9605\n",
            "Epoch 20/300\n",
            "170/170 [==============================] - 12s 71ms/step - loss: 0.1149 - accuracy: 0.9588 - val_loss: 0.1972 - val_accuracy: 0.9526\n",
            "Epoch 21/300\n",
            "170/170 [==============================] - 12s 71ms/step - loss: 0.1252 - accuracy: 0.9560 - val_loss: 0.1671 - val_accuracy: 0.9565\n",
            "Epoch 22/300\n",
            "170/170 [==============================] - 12s 71ms/step - loss: 0.1137 - accuracy: 0.9614 - val_loss: 0.1591 - val_accuracy: 0.9526\n",
            "Epoch 23/300\n",
            "170/170 [==============================] - 12s 71ms/step - loss: 0.1149 - accuracy: 0.9588 - val_loss: 0.2007 - val_accuracy: 0.9526\n",
            "Epoch 24/300\n",
            "170/170 [==============================] - 12s 71ms/step - loss: 0.1204 - accuracy: 0.9570 - val_loss: 0.1709 - val_accuracy: 0.9605\n",
            "Epoch 25/300\n",
            "170/170 [==============================] - 12s 71ms/step - loss: 0.1142 - accuracy: 0.9593 - val_loss: 0.2085 - val_accuracy: 0.9605\n",
            "Epoch 26/300\n",
            "170/170 [==============================] - 12s 71ms/step - loss: 0.0973 - accuracy: 0.9649 - val_loss: 0.2003 - val_accuracy: 0.9605\n",
            "Epoch 27/300\n",
            "170/170 [==============================] - 12s 71ms/step - loss: 0.1083 - accuracy: 0.9621 - val_loss: 0.1666 - val_accuracy: 0.9565\n",
            "Epoch 28/300\n",
            "170/170 [==============================] - 12s 71ms/step - loss: 0.0982 - accuracy: 0.9645 - val_loss: 0.1871 - val_accuracy: 0.9526\n",
            "Epoch 29/300\n",
            "170/170 [==============================] - 12s 71ms/step - loss: 0.0966 - accuracy: 0.9669 - val_loss: 0.1800 - val_accuracy: 0.9684\n",
            "Epoch 30/300\n",
            "170/170 [==============================] - 12s 71ms/step - loss: 0.0980 - accuracy: 0.9647 - val_loss: 0.1553 - val_accuracy: 0.9684\n",
            "Epoch 31/300\n",
            "170/170 [==============================] - 12s 71ms/step - loss: 0.0977 - accuracy: 0.9645 - val_loss: 0.1662 - val_accuracy: 0.9723\n",
            "Epoch 32/300\n",
            "170/170 [==============================] - 12s 71ms/step - loss: 0.1079 - accuracy: 0.9608 - val_loss: 0.1444 - val_accuracy: 0.9565\n",
            "Epoch 33/300\n",
            "170/170 [==============================] - 12s 71ms/step - loss: 0.0822 - accuracy: 0.9696 - val_loss: 0.1644 - val_accuracy: 0.9644\n",
            "Epoch 34/300\n",
            "170/170 [==============================] - 12s 72ms/step - loss: 0.0874 - accuracy: 0.9682 - val_loss: 0.1338 - val_accuracy: 0.9605\n",
            "Epoch 35/300\n",
            "170/170 [==============================] - 12s 72ms/step - loss: 0.0883 - accuracy: 0.9704 - val_loss: 0.1232 - val_accuracy: 0.9644\n",
            "Epoch 36/300\n",
            "170/170 [==============================] - 12s 71ms/step - loss: 0.0937 - accuracy: 0.9702 - val_loss: 0.1714 - val_accuracy: 0.9723\n",
            "Epoch 37/300\n",
            "170/170 [==============================] - 12s 71ms/step - loss: 0.0763 - accuracy: 0.9733 - val_loss: 0.1956 - val_accuracy: 0.9605\n",
            "Epoch 38/300\n",
            "170/170 [==============================] - 12s 71ms/step - loss: 0.0791 - accuracy: 0.9713 - val_loss: 0.1554 - val_accuracy: 0.9684\n",
            "Epoch 39/300\n",
            "170/170 [==============================] - 12s 71ms/step - loss: 0.0753 - accuracy: 0.9713 - val_loss: 0.1836 - val_accuracy: 0.9605\n",
            "Epoch 40/300\n",
            "170/170 [==============================] - 12s 71ms/step - loss: 0.0815 - accuracy: 0.9709 - val_loss: 0.2075 - val_accuracy: 0.9644\n",
            "Epoch 41/300\n",
            "170/170 [==============================] - 12s 71ms/step - loss: 0.0787 - accuracy: 0.9708 - val_loss: 0.2196 - val_accuracy: 0.9605\n",
            "Epoch 42/300\n",
            "170/170 [==============================] - 12s 71ms/step - loss: 0.0914 - accuracy: 0.9700 - val_loss: 0.1987 - val_accuracy: 0.9565\n",
            "Epoch 43/300\n",
            "170/170 [==============================] - 12s 71ms/step - loss: 0.0710 - accuracy: 0.9742 - val_loss: 0.1746 - val_accuracy: 0.9684\n",
            "Epoch 44/300\n",
            "170/170 [==============================] - 12s 71ms/step - loss: 0.0865 - accuracy: 0.9704 - val_loss: 0.1783 - val_accuracy: 0.9644\n",
            "Epoch 45/300\n",
            "170/170 [==============================] - 12s 71ms/step - loss: 0.0731 - accuracy: 0.9746 - val_loss: 0.1677 - val_accuracy: 0.9684\n",
            "Epoch 46/300\n",
            "170/170 [==============================] - 12s 71ms/step - loss: 0.0759 - accuracy: 0.9748 - val_loss: 0.2164 - val_accuracy: 0.9565\n",
            "Epoch 47/300\n",
            "170/170 [==============================] - 12s 71ms/step - loss: 0.0782 - accuracy: 0.9735 - val_loss: 0.2224 - val_accuracy: 0.9644\n",
            "Epoch 48/300\n",
            "170/170 [==============================] - 12s 71ms/step - loss: 0.0648 - accuracy: 0.9766 - val_loss: 0.2694 - val_accuracy: 0.9565\n",
            "Epoch 49/300\n",
            "170/170 [==============================] - 12s 71ms/step - loss: 0.0683 - accuracy: 0.9787 - val_loss: 0.2162 - val_accuracy: 0.9684\n",
            "Epoch 50/300\n",
            "170/170 [==============================] - 12s 71ms/step - loss: 0.0682 - accuracy: 0.9768 - val_loss: 0.1858 - val_accuracy: 0.9723\n",
            "Epoch 51/300\n",
            "170/170 [==============================] - 12s 71ms/step - loss: 0.0682 - accuracy: 0.9757 - val_loss: 0.1888 - val_accuracy: 0.9605\n",
            "Epoch 52/300\n",
            "170/170 [==============================] - 12s 71ms/step - loss: 0.0742 - accuracy: 0.9759 - val_loss: 0.2526 - val_accuracy: 0.9565\n",
            "Epoch 53/300\n",
            "170/170 [==============================] - 12s 71ms/step - loss: 0.0718 - accuracy: 0.9768 - val_loss: 0.2273 - val_accuracy: 0.9644\n",
            "Epoch 54/300\n",
            "170/170 [==============================] - 12s 71ms/step - loss: 0.0666 - accuracy: 0.9765 - val_loss: 0.2291 - val_accuracy: 0.9684\n",
            "Epoch 55/300\n",
            "170/170 [==============================] - 12s 71ms/step - loss: 0.0670 - accuracy: 0.9750 - val_loss: 0.1566 - val_accuracy: 0.9605\n",
            "Epoch 56/300\n",
            "170/170 [==============================] - 12s 71ms/step - loss: 0.0684 - accuracy: 0.9744 - val_loss: 0.1671 - val_accuracy: 0.9684\n",
            "Epoch 57/300\n",
            "170/170 [==============================] - 12s 71ms/step - loss: 0.0571 - accuracy: 0.9794 - val_loss: 0.2188 - val_accuracy: 0.9605\n",
            "Epoch 58/300\n",
            "170/170 [==============================] - 12s 71ms/step - loss: 0.0659 - accuracy: 0.9774 - val_loss: 0.2090 - val_accuracy: 0.9644\n",
            "Epoch 59/300\n",
            "170/170 [==============================] - 12s 71ms/step - loss: 0.0736 - accuracy: 0.9750 - val_loss: 0.2198 - val_accuracy: 0.9644\n",
            "Epoch 60/300\n",
            "170/170 [==============================] - 12s 71ms/step - loss: 0.0546 - accuracy: 0.9807 - val_loss: 0.2472 - val_accuracy: 0.9684\n",
            "Epoch 61/300\n",
            "170/170 [==============================] - 12s 71ms/step - loss: 0.0654 - accuracy: 0.9744 - val_loss: 0.2062 - val_accuracy: 0.9684\n",
            "Epoch 62/300\n",
            "170/170 [==============================] - 12s 71ms/step - loss: 0.0637 - accuracy: 0.9787 - val_loss: 0.2221 - val_accuracy: 0.9644\n",
            "Epoch 63/300\n",
            "170/170 [==============================] - 12s 71ms/step - loss: 0.0654 - accuracy: 0.9761 - val_loss: 0.2071 - val_accuracy: 0.9644\n",
            "Epoch 64/300\n",
            "170/170 [==============================] - 12s 71ms/step - loss: 0.0682 - accuracy: 0.9748 - val_loss: 0.1929 - val_accuracy: 0.9684\n",
            "Epoch 65/300\n",
            "170/170 [==============================] - 12s 72ms/step - loss: 0.0670 - accuracy: 0.9777 - val_loss: 0.2377 - val_accuracy: 0.9644\n",
            "----------------------------------------------------------------------\n",
            "Metrics \n",
            "----------------------------------------------------------------------\n",
            "8/8 [==============================] - 1s 62ms/step - loss: 0.1232 - accuracy: 0.9644\n",
            "              precision    recall  f1-score   support\n",
            "\n",
            "           0       0.93      0.87      0.90        15\n",
            "           1       0.94      1.00      0.97        17\n",
            "           2       1.00      1.00      1.00        14\n",
            "           3       0.95      1.00      0.97        19\n",
            "           4       0.95      1.00      0.97        19\n",
            "           5       1.00      0.89      0.94        18\n",
            "           6       1.00      1.00      1.00        18\n",
            "           7       1.00      0.95      0.98        22\n",
            "           8       0.87      0.87      0.87        15\n",
            "           9       1.00      1.00      1.00        14\n",
            "          10       0.90      0.90      0.90        20\n",
            "          11       0.96      1.00      0.98        25\n",
            "          12       1.00      1.00      1.00        19\n",
            "          13       1.00      1.00      1.00        18\n",
            "\n",
            "    accuracy                           0.96       253\n",
            "   macro avg       0.96      0.96      0.96       253\n",
            "weighted avg       0.96      0.96      0.96       253\n",
            "\n",
            "----------------------------------------------------------------------\n",
            "Saving Results ... \n",
            "----------------------------------------------------------------------\n",
            "No Previous Accuracy Found!\n"
          ]
        }
      ]
    }
  ],
  "metadata": {
    "language_info": {
      "name": "python"
    },
    "orig_nbformat": 4,
    "colab": {
      "name": "Inference.ipynb",
      "provenance": [],
      "include_colab_link": true
    },
    "accelerator": "GPU",
    "gpuClass": "standard",
    "kernelspec": {
      "name": "python3",
      "display_name": "Python 3"
    }
  },
  "nbformat": 4,
  "nbformat_minor": 0
}