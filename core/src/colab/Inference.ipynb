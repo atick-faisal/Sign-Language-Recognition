{
  "cells": [
    {
      "cell_type": "markdown",
      "metadata": {
        "id": "view-in-github",
        "colab_type": "text"
      },
      "source": [
        "<a href=\"https://colab.research.google.com/github/atick-faisal/Sign-Language-Recognition/blob/main/core/src/colab/Inference.ipynb\" target=\"_parent\"><img src=\"https://colab.research.google.com/assets/colab-badge.svg\" alt=\"Open In Colab\"/></a>"
      ]
    },
    {
      "cell_type": "code",
      "source": [
        "from google.colab import drive\n",
        "drive.mount('/content/drive')"
      ],
      "metadata": {
        "id": "JmRmSvWP8Ma-",
        "outputId": "271e8c5e-dd45-4b5e-98b2-32a1c9d73327",
        "colab": {
          "base_uri": "https://localhost:8080/"
        }
      },
      "execution_count": 1,
      "outputs": [
        {
          "output_type": "stream",
          "name": "stdout",
          "text": [
            "Mounted at /content/drive\n"
          ]
        }
      ]
    },
    {
      "cell_type": "code",
      "source": [
        "!pip install rich\n",
        "!gdown \"1CACL0ogqPC87Tsqo3qxX31ve04_Cxdjf\"\n",
        "!tar -xf raw.tar.xz\n",
        "!git clone https://github.com/atick-faisal/Sign-Language-Recognition.git"
      ],
      "metadata": {
        "id": "V-n5fxnqAdnr",
        "outputId": "79fba483-2795-48df-b5db-3c3df9662f2c",
        "colab": {
          "base_uri": "https://localhost:8080/"
        }
      },
      "execution_count": 2,
      "outputs": [
        {
          "output_type": "stream",
          "name": "stdout",
          "text": [
            "Looking in indexes: https://pypi.org/simple, https://us-python.pkg.dev/colab-wheels/public/simple/\n",
            "Collecting rich\n",
            "  Downloading rich-12.4.4-py3-none-any.whl (232 kB)\n",
            "\u001b[K     |████████████████████████████████| 232 kB 29.8 MB/s \n",
            "\u001b[?25hRequirement already satisfied: typing-extensions<5.0,>=4.0.0 in /usr/local/lib/python3.7/dist-packages (from rich) (4.1.1)\n",
            "Collecting commonmark<0.10.0,>=0.9.0\n",
            "  Downloading commonmark-0.9.1-py2.py3-none-any.whl (51 kB)\n",
            "\u001b[K     |████████████████████████████████| 51 kB 7.5 MB/s \n",
            "\u001b[?25hRequirement already satisfied: pygments<3.0.0,>=2.6.0 in /usr/local/lib/python3.7/dist-packages (from rich) (2.6.1)\n",
            "Installing collected packages: commonmark, rich\n",
            "Successfully installed commonmark-0.9.1 rich-12.4.4\n",
            "Downloading...\n",
            "From: https://drive.google.com/uc?id=1CACL0ogqPC87Tsqo3qxX31ve04_Cxdjf\n",
            "To: /content/raw.tar.xz\n",
            "100% 21.6M/21.6M [00:00<00:00, 240MB/s]\n",
            "Cloning into 'Sign-Language-Recognition'...\n",
            "remote: Enumerating objects: 1259, done.\u001b[K\n",
            "remote: Counting objects: 100% (270/270), done.\u001b[K\n",
            "remote: Compressing objects: 100% (212/212), done.\u001b[K\n",
            "remote: Total 1259 (delta 178), reused 102 (delta 57), pack-reused 989\u001b[K\n",
            "Receiving objects: 100% (1259/1259), 4.29 MiB | 5.97 MiB/s, done.\n",
            "Resolving deltas: 100% (762/762), done.\n"
          ]
        }
      ]
    },
    {
      "cell_type": "code",
      "source": [
        "!python Sign-Language-Recognition/core/src/train_tf.py \\\n",
        "        --exp_name \"stack_cnn_u007_lw2\" \\\n",
        "        --data_dir \"raw\" \\\n",
        "        --model_dir \"/content/drive/MyDrive/Research/Leap Motion Controller/Models\""
      ],
      "metadata": {
        "id": "LeMkJoC98cym",
        "outputId": "2ac77fcf-3986-4711-d600-f4d621880b88",
        "colab": {
          "base_uri": "https://localhost:8080/"
        }
      },
      "execution_count": 3,
      "outputs": [
        {
          "output_type": "stream",
          "name": "stdout",
          "text": [
            "----------------------------------------------------------------------\n",
            "Generating Dataset\n",
            "----------------------------------------------------------------------\n",
            "\u001b[2K[ 1167/ 1178] processing files:  \u001b[91m━━━━━━━━━━━━━━━━━━━━━━━━━━━━━━━━━\u001b[0m\u001b[91m╸\u001b[0m \u001b[35m 99%\u001b[0m \u001b[36m0:00:09\u001b[0m\n",
            "\u001b[?25htcmalloc: large alloc 1379639296 bytes == 0x6650a000 @  0x7f11bace01e7 0x7f11b72710ce 0x7f11b72cd715 0x7f11b72cdd1b 0x7f11b736e333 0x5936cc 0x548c51 0x5127f1 0x549576 0x593fce 0x548ae9 0x5127f1 0x593dd7 0x5118f8 0x549576 0x604173 0x5f5506 0x5f8c6c 0x5f9206 0x64faf2 0x64fc4e 0x7f11ba8ddc87 0x5b621a\n",
            "----------------------------------------------------------------------\n",
            "Train Features Shape:  (5988, 150, 1)\n",
            "Train Images Shape:  (5988, 160, 160, 3)\n",
            "Test Features Shape:  (161, 150, 1)\n",
            "Test Images Shape:  (161, 160, 160, 3)\n",
            "Train Labels Shape:  (5988,)\n",
            "Test Labels Shape:  (161,)\n",
            "----------------------------------------------------------------------\n",
            "Downloading data from https://storage.googleapis.com/tensorflow/keras-applications/mobilenet_v2/mobilenet_v2_weights_tf_dim_ordering_tf_kernels_1.0_160_no_top.h5\n",
            "9412608/9406464 [==============================] - 0s 0us/step\n",
            "9420800/9406464 [==============================] - 0s 0us/step\n",
            "----------------------------------------------------------------------\n",
            "Training Model ... \n",
            "----------------------------------------------------------------------\n",
            "Epoch 1/300\n",
            "94/94 [==============================] - 35s 158ms/step - loss: 2.0464 - accuracy: 0.3454 - val_loss: 0.5392 - val_accuracy: 0.7826\n",
            "Epoch 2/300\n",
            "94/94 [==============================] - 11s 119ms/step - loss: 0.7826 - accuracy: 0.7395 - val_loss: 0.4332 - val_accuracy: 0.8385\n",
            "Epoch 3/300\n",
            "94/94 [==============================] - 11s 119ms/step - loss: 0.5202 - accuracy: 0.8245 - val_loss: 0.3391 - val_accuracy: 0.8696\n",
            "Epoch 4/300\n",
            "94/94 [==============================] - 11s 118ms/step - loss: 0.4047 - accuracy: 0.8646 - val_loss: 0.3597 - val_accuracy: 0.8385\n",
            "Epoch 5/300\n",
            "94/94 [==============================] - 11s 119ms/step - loss: 0.3329 - accuracy: 0.8876 - val_loss: 0.3336 - val_accuracy: 0.8447\n",
            "Epoch 6/300\n",
            "94/94 [==============================] - 11s 119ms/step - loss: 0.3251 - accuracy: 0.8896 - val_loss: 0.3214 - val_accuracy: 0.8571\n",
            "Epoch 7/300\n",
            "94/94 [==============================] - 11s 120ms/step - loss: 0.2738 - accuracy: 0.9053 - val_loss: 0.2730 - val_accuracy: 0.8634\n",
            "Epoch 8/300\n",
            "94/94 [==============================] - 11s 119ms/step - loss: 0.2388 - accuracy: 0.9143 - val_loss: 0.3640 - val_accuracy: 0.8509\n",
            "Epoch 9/300\n",
            "94/94 [==============================] - 11s 120ms/step - loss: 0.2303 - accuracy: 0.9185 - val_loss: 0.2192 - val_accuracy: 0.9068\n",
            "Epoch 10/300\n",
            "94/94 [==============================] - 11s 120ms/step - loss: 0.2218 - accuracy: 0.9210 - val_loss: 0.2780 - val_accuracy: 0.8820\n",
            "Epoch 11/300\n",
            "94/94 [==============================] - 11s 121ms/step - loss: 0.2142 - accuracy: 0.9222 - val_loss: 0.3482 - val_accuracy: 0.8509\n",
            "Epoch 12/300\n",
            "94/94 [==============================] - 11s 121ms/step - loss: 0.1931 - accuracy: 0.9309 - val_loss: 0.2684 - val_accuracy: 0.8758\n",
            "Epoch 13/300\n",
            "94/94 [==============================] - 11s 121ms/step - loss: 0.1917 - accuracy: 0.9302 - val_loss: 0.2987 - val_accuracy: 0.8758\n",
            "Epoch 14/300\n",
            "94/94 [==============================] - 11s 121ms/step - loss: 0.1877 - accuracy: 0.9325 - val_loss: 0.3496 - val_accuracy: 0.8696\n",
            "Epoch 15/300\n",
            "94/94 [==============================] - 11s 120ms/step - loss: 0.1880 - accuracy: 0.9334 - val_loss: 0.3401 - val_accuracy: 0.8447\n",
            "Epoch 16/300\n",
            "94/94 [==============================] - 11s 120ms/step - loss: 0.1796 - accuracy: 0.9369 - val_loss: 0.2540 - val_accuracy: 0.8882\n",
            "Epoch 17/300\n",
            "94/94 [==============================] - 11s 120ms/step - loss: 0.1756 - accuracy: 0.9362 - val_loss: 0.2673 - val_accuracy: 0.8696\n",
            "Epoch 18/300\n",
            "94/94 [==============================] - 11s 120ms/step - loss: 0.1697 - accuracy: 0.9360 - val_loss: 0.3500 - val_accuracy: 0.8571\n",
            "Epoch 19/300\n",
            "94/94 [==============================] - 11s 120ms/step - loss: 0.1670 - accuracy: 0.9370 - val_loss: 0.2841 - val_accuracy: 0.8696\n",
            "Epoch 20/300\n",
            "94/94 [==============================] - 11s 121ms/step - loss: 0.1553 - accuracy: 0.9434 - val_loss: 0.3603 - val_accuracy: 0.8571\n",
            "Epoch 21/300\n",
            "94/94 [==============================] - 11s 121ms/step - loss: 0.1612 - accuracy: 0.9407 - val_loss: 0.3553 - val_accuracy: 0.8571\n",
            "Epoch 22/300\n",
            "94/94 [==============================] - 11s 121ms/step - loss: 0.1652 - accuracy: 0.9402 - val_loss: 0.3309 - val_accuracy: 0.8509\n",
            "Epoch 23/300\n",
            "94/94 [==============================] - 11s 121ms/step - loss: 0.1475 - accuracy: 0.9457 - val_loss: 0.2830 - val_accuracy: 0.8696\n",
            "Epoch 24/300\n",
            "94/94 [==============================] - 11s 121ms/step - loss: 0.1461 - accuracy: 0.9442 - val_loss: 0.3211 - val_accuracy: 0.8634\n",
            "Epoch 25/300\n",
            "94/94 [==============================] - 11s 121ms/step - loss: 0.1443 - accuracy: 0.9467 - val_loss: 0.3913 - val_accuracy: 0.8323\n",
            "Epoch 26/300\n",
            "94/94 [==============================] - 11s 121ms/step - loss: 0.1429 - accuracy: 0.9469 - val_loss: 0.3339 - val_accuracy: 0.8447\n",
            "Epoch 27/300\n",
            "94/94 [==============================] - 11s 121ms/step - loss: 0.1457 - accuracy: 0.9472 - val_loss: 0.4232 - val_accuracy: 0.8509\n",
            "Epoch 28/300\n",
            "94/94 [==============================] - 11s 121ms/step - loss: 0.1440 - accuracy: 0.9431 - val_loss: 0.2654 - val_accuracy: 0.8758\n",
            "Epoch 29/300\n",
            "94/94 [==============================] - 11s 120ms/step - loss: 0.1415 - accuracy: 0.9487 - val_loss: 0.3253 - val_accuracy: 0.8634\n",
            "Epoch 30/300\n",
            "94/94 [==============================] - 12s 123ms/step - loss: 0.1411 - accuracy: 0.9462 - val_loss: 0.3670 - val_accuracy: 0.8509\n",
            "Epoch 31/300\n",
            "94/94 [==============================] - 11s 121ms/step - loss: 0.1391 - accuracy: 0.9482 - val_loss: 0.4116 - val_accuracy: 0.8323\n",
            "Epoch 32/300\n",
            "94/94 [==============================] - 11s 121ms/step - loss: 0.1393 - accuracy: 0.9491 - val_loss: 0.2925 - val_accuracy: 0.8634\n",
            "Epoch 33/300\n",
            "94/94 [==============================] - 11s 121ms/step - loss: 0.1383 - accuracy: 0.9494 - val_loss: 0.2782 - val_accuracy: 0.8696\n",
            "Epoch 34/300\n",
            "94/94 [==============================] - 11s 120ms/step - loss: 0.1372 - accuracy: 0.9487 - val_loss: 0.3925 - val_accuracy: 0.8509\n",
            "Epoch 35/300\n",
            "94/94 [==============================] - 11s 121ms/step - loss: 0.1331 - accuracy: 0.9507 - val_loss: 0.4517 - val_accuracy: 0.8571\n",
            "Epoch 36/300\n",
            "94/94 [==============================] - 11s 121ms/step - loss: 0.1327 - accuracy: 0.9506 - val_loss: 0.2443 - val_accuracy: 0.8882\n",
            "Epoch 37/300\n",
            "94/94 [==============================] - 11s 120ms/step - loss: 0.1378 - accuracy: 0.9492 - val_loss: 0.2366 - val_accuracy: 0.8944\n",
            "Epoch 38/300\n",
            "94/94 [==============================] - 11s 120ms/step - loss: 0.1388 - accuracy: 0.9484 - val_loss: 0.2301 - val_accuracy: 0.8820\n",
            "Epoch 39/300\n",
            "94/94 [==============================] - 11s 122ms/step - loss: 0.1376 - accuracy: 0.9492 - val_loss: 0.3787 - val_accuracy: 0.8447\n",
            "----------------------------------------------------------------------\n",
            "Metrics \n",
            "----------------------------------------------------------------------\n",
            "6/6 [==============================] - 1s 143ms/step - loss: 0.2192 - accuracy: 0.9068\n",
            "              precision    recall  f1-score   support\n",
            "\n",
            "           0       0.56      0.75      0.64        12\n",
            "           1       1.00      0.92      0.96        12\n",
            "           2       1.00      0.92      0.96        12\n",
            "           3       1.00      0.67      0.80        12\n",
            "           4       0.86      1.00      0.92        12\n",
            "           5       1.00      0.75      0.86        12\n",
            "           6       1.00      1.00      1.00        12\n",
            "           7       1.00      1.00      1.00        12\n",
            "           8       1.00      1.00      1.00        12\n",
            "           9       1.00      1.00      1.00        12\n",
            "          10       0.79      0.92      0.85        12\n",
            "          11       0.62      1.00      0.77         5\n",
            "          12       1.00      1.00      1.00        12\n",
            "          13       1.00      0.83      0.91        12\n",
            "\n",
            "    accuracy                           0.91       161\n",
            "   macro avg       0.92      0.91      0.90       161\n",
            "weighted avg       0.93      0.91      0.91       161\n",
            "\n",
            "----------------------------------------------------------------------\n",
            "Saving Results ... \n",
            "----------------------------------------------------------------------\n"
          ]
        }
      ]
    }
  ],
  "metadata": {
    "language_info": {
      "name": "python"
    },
    "orig_nbformat": 4,
    "colab": {
      "name": "Inference.ipynb",
      "provenance": [],
      "include_colab_link": true
    },
    "accelerator": "GPU",
    "gpuClass": "standard",
    "kernelspec": {
      "name": "python3",
      "display_name": "Python 3"
    }
  },
  "nbformat": 4,
  "nbformat_minor": 0
}