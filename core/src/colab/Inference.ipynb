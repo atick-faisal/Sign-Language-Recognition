{
  "cells": [
    {
      "cell_type": "markdown",
      "metadata": {
        "id": "view-in-github",
        "colab_type": "text"
      },
      "source": [
        "<a href=\"https://colab.research.google.com/github/atick-faisal/Sign-Language-Recognition/blob/main/core/src/colab/Inference.ipynb\" target=\"_parent\"><img src=\"https://colab.research.google.com/assets/colab-badge.svg\" alt=\"Open In Colab\"/></a>"
      ]
    },
    {
      "cell_type": "code",
      "source": [
        "from google.colab import drive\n",
        "drive.mount('/content/drive')"
      ],
      "metadata": {
        "id": "JmRmSvWP8Ma-",
        "outputId": "dd1caad5-5fce-4927-e30a-f715ee3b1bf7",
        "colab": {
          "base_uri": "https://localhost:8080/"
        }
      },
      "execution_count": 1,
      "outputs": [
        {
          "output_type": "stream",
          "name": "stdout",
          "text": [
            "Mounted at /content/drive\n"
          ]
        }
      ]
    },
    {
      "cell_type": "code",
      "source": [
        "!pip install rich\n",
        "!gdown \"1CACL0ogqPC87Tsqo3qxX31ve04_Cxdjf\"\n",
        "!tar -xf raw.tar.xz\n",
        "!git clone https://github.com/atick-faisal/Sign-Language-Recognition.git"
      ],
      "metadata": {
        "id": "V-n5fxnqAdnr",
        "outputId": "223a9d30-47a0-49be-9707-1c1dd07b99f5",
        "colab": {
          "base_uri": "https://localhost:8080/"
        }
      },
      "execution_count": 2,
      "outputs": [
        {
          "output_type": "stream",
          "name": "stdout",
          "text": [
            "Looking in indexes: https://pypi.org/simple, https://us-python.pkg.dev/colab-wheels/public/simple/\n",
            "Collecting rich\n",
            "  Downloading rich-12.4.4-py3-none-any.whl (232 kB)\n",
            "\u001b[K     |████████████████████████████████| 232 kB 28.2 MB/s \n",
            "\u001b[?25hRequirement already satisfied: pygments<3.0.0,>=2.6.0 in /usr/local/lib/python3.7/dist-packages (from rich) (2.6.1)\n",
            "Collecting commonmark<0.10.0,>=0.9.0\n",
            "  Downloading commonmark-0.9.1-py2.py3-none-any.whl (51 kB)\n",
            "\u001b[K     |████████████████████████████████| 51 kB 7.5 MB/s \n",
            "\u001b[?25hRequirement already satisfied: typing-extensions<5.0,>=4.0.0 in /usr/local/lib/python3.7/dist-packages (from rich) (4.1.1)\n",
            "Installing collected packages: commonmark, rich\n",
            "Successfully installed commonmark-0.9.1 rich-12.4.4\n",
            "Downloading...\n",
            "From: https://drive.google.com/uc?id=1CACL0ogqPC87Tsqo3qxX31ve04_Cxdjf\n",
            "To: /content/raw.tar.xz\n",
            "100% 21.6M/21.6M [00:00<00:00, 366MB/s]\n",
            "Cloning into 'Sign-Language-Recognition'...\n",
            "remote: Enumerating objects: 1041, done.\u001b[K\n",
            "remote: Counting objects: 100% (52/52), done.\u001b[K\n",
            "remote: Compressing objects: 100% (33/33), done.\u001b[K\n",
            "remote: Total 1041 (delta 29), reused 32 (delta 18), pack-reused 989\u001b[K\n",
            "Receiving objects: 100% (1041/1041), 4.19 MiB | 18.42 MiB/s, done.\n",
            "Resolving deltas: 100% (613/613), done.\n"
          ]
        }
      ]
    },
    {
      "cell_type": "code",
      "source": [
        "!python Sign-Language-Recognition/core/src/train_tf.py \\\n",
        "        --exp_name \"stack_cnn_160x160_lw1\" \\\n",
        "        --data_dir \"raw\" \\\n",
        "        --model_dir \"/content/drive/MyDrive/Research/Leap Motion Controller/Models\""
      ],
      "metadata": {
        "id": "LeMkJoC98cym",
        "outputId": "81da8174-173b-4549-b8a1-f46e0d298f4d",
        "colab": {
          "base_uri": "https://localhost:8080/"
        }
      },
      "execution_count": 3,
      "outputs": [
        {
          "output_type": "stream",
          "name": "stdout",
          "text": [
            "----------------------------------------------------------------------\n",
            "Generating Dataset\n",
            "----------------------------------------------------------------------\n",
            "\u001b[2K[ 1167/ 1178] processing files:  \u001b[91m━━━━━━━━━━━━━━━━━━━━━━━━━━━━━━━━━\u001b[0m\u001b[91m╸\u001b[0m \u001b[35m 99%\u001b[0m \u001b[36m0:00:08\u001b[0m\n",
            "\u001b[?25htcmalloc: large alloc 1262133248 bytes == 0x5eeea000 @  0x7f372e0631e7 0x7f372a5f40ce 0x7f372a650715 0x7f372a650d1b 0x7f372a6f1333 0x5936cc 0x548c51 0x5127f1 0x549576 0x593fce 0x548ae9 0x5127f1 0x593dd7 0x5118f8 0x549576 0x604173 0x5f5506 0x5f8c6c 0x5f9206 0x64faf2 0x64fc4e 0x7f372dc60c87 0x5b621a\n",
            "----------------------------------------------------------------------\n",
            "Train Features Shape:  (5478, 150, 1)\n",
            "Train Images Shape:  (5478, 160, 160, 3)\n",
            "Test Features Shape:  (246, 150, 1)\n",
            "Test Images Shape:  (246, 160, 160, 3)\n",
            "Train Labels Shape:  (5478,)\n",
            "Test Labels Shape:  (246,)\n",
            "----------------------------------------------------------------------\n",
            "Downloading data from https://storage.googleapis.com/tensorflow/keras-applications/mobilenet_v2/mobilenet_v2_weights_tf_dim_ordering_tf_kernels_1.0_160_no_top.h5\n",
            "9412608/9406464 [==============================] - 0s 0us/step\n",
            "9420800/9406464 [==============================] - 0s 0us/step\n",
            "----------------------------------------------------------------------\n",
            "Training Model ... \n",
            "----------------------------------------------------------------------\n",
            "Epoch 1/300\n",
            "86/86 [==============================] - 34s 165ms/step - loss: 2.1099 - accuracy: 0.3379 - val_loss: 1.1953 - val_accuracy: 0.7602\n",
            "Epoch 2/300\n",
            "86/86 [==============================] - 11s 124ms/step - loss: 0.8235 - accuracy: 0.7366 - val_loss: 0.4778 - val_accuracy: 0.8943\n",
            "Epoch 3/300\n",
            "86/86 [==============================] - 11s 125ms/step - loss: 0.5215 - accuracy: 0.8348 - val_loss: 0.3456 - val_accuracy: 0.8943\n",
            "Epoch 4/300\n",
            "86/86 [==============================] - 11s 126ms/step - loss: 0.4144 - accuracy: 0.8660 - val_loss: 0.2626 - val_accuracy: 0.9065\n",
            "Epoch 5/300\n",
            "86/86 [==============================] - 11s 126ms/step - loss: 0.3352 - accuracy: 0.8905 - val_loss: 0.2316 - val_accuracy: 0.9187\n",
            "Epoch 6/300\n",
            "86/86 [==============================] - 11s 126ms/step - loss: 0.2800 - accuracy: 0.9060 - val_loss: 0.2044 - val_accuracy: 0.9228\n",
            "Epoch 7/300\n",
            "86/86 [==============================] - 11s 127ms/step - loss: 0.2479 - accuracy: 0.9171 - val_loss: 0.1937 - val_accuracy: 0.9228\n",
            "Epoch 8/300\n",
            "86/86 [==============================] - 11s 127ms/step - loss: 0.2334 - accuracy: 0.9231 - val_loss: 0.2030 - val_accuracy: 0.9268\n",
            "Epoch 9/300\n",
            "86/86 [==============================] - 11s 127ms/step - loss: 0.2162 - accuracy: 0.9321 - val_loss: 0.2094 - val_accuracy: 0.9309\n",
            "Epoch 10/300\n",
            "86/86 [==============================] - 11s 129ms/step - loss: 0.1926 - accuracy: 0.9359 - val_loss: 0.1823 - val_accuracy: 0.9268\n",
            "Epoch 11/300\n",
            "86/86 [==============================] - 11s 128ms/step - loss: 0.1816 - accuracy: 0.9381 - val_loss: 0.2237 - val_accuracy: 0.9228\n",
            "Epoch 12/300\n",
            "86/86 [==============================] - 11s 129ms/step - loss: 0.1674 - accuracy: 0.9451 - val_loss: 0.1911 - val_accuracy: 0.9146\n",
            "Epoch 13/300\n",
            "86/86 [==============================] - 11s 129ms/step - loss: 0.1634 - accuracy: 0.9452 - val_loss: 0.1935 - val_accuracy: 0.9309\n",
            "Epoch 14/300\n",
            "86/86 [==============================] - 11s 128ms/step - loss: 0.1500 - accuracy: 0.9476 - val_loss: 0.1977 - val_accuracy: 0.9309\n",
            "Epoch 15/300\n",
            "86/86 [==============================] - 11s 128ms/step - loss: 0.1427 - accuracy: 0.9547 - val_loss: 0.2128 - val_accuracy: 0.9350\n",
            "Epoch 16/300\n",
            "86/86 [==============================] - 11s 127ms/step - loss: 0.1297 - accuracy: 0.9525 - val_loss: 0.2221 - val_accuracy: 0.9309\n",
            "Epoch 17/300\n",
            "86/86 [==============================] - 11s 127ms/step - loss: 0.1179 - accuracy: 0.9622 - val_loss: 0.1907 - val_accuracy: 0.9431\n",
            "Epoch 18/300\n",
            "86/86 [==============================] - 11s 128ms/step - loss: 0.1322 - accuracy: 0.9555 - val_loss: 0.1856 - val_accuracy: 0.9390\n",
            "Epoch 19/300\n",
            "86/86 [==============================] - 11s 128ms/step - loss: 0.1205 - accuracy: 0.9569 - val_loss: 0.2085 - val_accuracy: 0.9228\n",
            "Epoch 20/300\n",
            "86/86 [==============================] - 11s 129ms/step - loss: 0.1180 - accuracy: 0.9586 - val_loss: 0.1761 - val_accuracy: 0.9350\n",
            "Epoch 21/300\n",
            "86/86 [==============================] - 11s 128ms/step - loss: 0.1155 - accuracy: 0.9609 - val_loss: 0.2152 - val_accuracy: 0.9228\n",
            "Epoch 22/300\n",
            "86/86 [==============================] - 11s 129ms/step - loss: 0.1064 - accuracy: 0.9626 - val_loss: 0.1670 - val_accuracy: 0.9390\n",
            "Epoch 23/300\n",
            "86/86 [==============================] - 11s 128ms/step - loss: 0.1054 - accuracy: 0.9631 - val_loss: 0.1898 - val_accuracy: 0.9350\n",
            "Epoch 24/300\n",
            "86/86 [==============================] - 11s 128ms/step - loss: 0.1015 - accuracy: 0.9640 - val_loss: 0.1695 - val_accuracy: 0.9390\n",
            "Epoch 25/300\n",
            "86/86 [==============================] - 11s 128ms/step - loss: 0.0875 - accuracy: 0.9666 - val_loss: 0.1859 - val_accuracy: 0.9350\n",
            "Epoch 26/300\n",
            "86/86 [==============================] - 11s 128ms/step - loss: 0.0944 - accuracy: 0.9655 - val_loss: 0.2022 - val_accuracy: 0.9390\n",
            "Epoch 27/300\n",
            "86/86 [==============================] - 11s 129ms/step - loss: 0.0891 - accuracy: 0.9697 - val_loss: 0.1996 - val_accuracy: 0.9350\n",
            "Epoch 28/300\n",
            "86/86 [==============================] - 11s 128ms/step - loss: 0.0994 - accuracy: 0.9648 - val_loss: 0.1917 - val_accuracy: 0.9350\n",
            "Epoch 29/300\n",
            "86/86 [==============================] - 11s 128ms/step - loss: 0.0815 - accuracy: 0.9721 - val_loss: 0.1787 - val_accuracy: 0.9512\n",
            "Epoch 30/300\n",
            "86/86 [==============================] - 11s 129ms/step - loss: 0.0878 - accuracy: 0.9681 - val_loss: 0.1748 - val_accuracy: 0.9431\n",
            "Epoch 31/300\n",
            "86/86 [==============================] - 11s 128ms/step - loss: 0.0805 - accuracy: 0.9693 - val_loss: 0.2103 - val_accuracy: 0.9431\n",
            "Epoch 32/300\n",
            "86/86 [==============================] - 11s 128ms/step - loss: 0.0934 - accuracy: 0.9671 - val_loss: 0.2166 - val_accuracy: 0.9390\n",
            "Epoch 33/300\n",
            "86/86 [==============================] - 11s 128ms/step - loss: 0.0855 - accuracy: 0.9706 - val_loss: 0.1974 - val_accuracy: 0.9390\n",
            "Epoch 34/300\n",
            "86/86 [==============================] - 11s 128ms/step - loss: 0.0839 - accuracy: 0.9704 - val_loss: 0.2104 - val_accuracy: 0.9350\n",
            "Epoch 35/300\n",
            "86/86 [==============================] - 11s 128ms/step - loss: 0.0760 - accuracy: 0.9739 - val_loss: 0.2445 - val_accuracy: 0.9431\n",
            "Epoch 36/300\n",
            "86/86 [==============================] - 11s 128ms/step - loss: 0.0751 - accuracy: 0.9728 - val_loss: 0.2045 - val_accuracy: 0.9431\n",
            "Epoch 37/300\n",
            "86/86 [==============================] - 11s 129ms/step - loss: 0.0728 - accuracy: 0.9744 - val_loss: 0.2216 - val_accuracy: 0.9431\n",
            "Epoch 38/300\n",
            "86/86 [==============================] - 11s 128ms/step - loss: 0.0772 - accuracy: 0.9719 - val_loss: 0.1701 - val_accuracy: 0.9472\n",
            "Epoch 39/300\n",
            "86/86 [==============================] - 11s 128ms/step - loss: 0.0760 - accuracy: 0.9724 - val_loss: 0.1957 - val_accuracy: 0.9431\n",
            "Epoch 40/300\n",
            "86/86 [==============================] - 11s 128ms/step - loss: 0.0680 - accuracy: 0.9757 - val_loss: 0.2198 - val_accuracy: 0.9390\n",
            "Epoch 41/300\n",
            "86/86 [==============================] - 11s 128ms/step - loss: 0.0626 - accuracy: 0.9765 - val_loss: 0.1974 - val_accuracy: 0.9431\n",
            "Epoch 42/300\n",
            "86/86 [==============================] - 11s 128ms/step - loss: 0.0631 - accuracy: 0.9775 - val_loss: 0.2178 - val_accuracy: 0.9472\n",
            "Epoch 43/300\n",
            "86/86 [==============================] - 11s 127ms/step - loss: 0.0658 - accuracy: 0.9759 - val_loss: 0.2060 - val_accuracy: 0.9512\n",
            "Epoch 44/300\n",
            "86/86 [==============================] - 11s 127ms/step - loss: 0.0573 - accuracy: 0.9786 - val_loss: 0.2641 - val_accuracy: 0.9472\n",
            "Epoch 45/300\n",
            "86/86 [==============================] - 11s 127ms/step - loss: 0.0627 - accuracy: 0.9781 - val_loss: 0.2199 - val_accuracy: 0.9472\n",
            "Epoch 46/300\n",
            "86/86 [==============================] - 11s 127ms/step - loss: 0.0589 - accuracy: 0.9772 - val_loss: 0.2204 - val_accuracy: 0.9390\n",
            "Epoch 47/300\n",
            "86/86 [==============================] - 11s 127ms/step - loss: 0.0529 - accuracy: 0.9814 - val_loss: 0.2528 - val_accuracy: 0.9431\n",
            "Epoch 48/300\n",
            "86/86 [==============================] - 11s 127ms/step - loss: 0.0613 - accuracy: 0.9796 - val_loss: 0.2326 - val_accuracy: 0.9472\n",
            "Epoch 49/300\n",
            "86/86 [==============================] - 11s 127ms/step - loss: 0.0656 - accuracy: 0.9788 - val_loss: 0.2792 - val_accuracy: 0.9431\n",
            "Epoch 50/300\n",
            "86/86 [==============================] - 11s 127ms/step - loss: 0.0690 - accuracy: 0.9761 - val_loss: 0.2781 - val_accuracy: 0.9472\n",
            "Epoch 51/300\n",
            "86/86 [==============================] - 11s 127ms/step - loss: 0.0553 - accuracy: 0.9797 - val_loss: 0.2656 - val_accuracy: 0.9431\n",
            "Epoch 52/300\n",
            "86/86 [==============================] - 11s 129ms/step - loss: 0.0538 - accuracy: 0.9801 - val_loss: 0.2294 - val_accuracy: 0.9593\n",
            "----------------------------------------------------------------------\n",
            "Metrics \n",
            "----------------------------------------------------------------------\n",
            "8/8 [==============================] - 2s 109ms/step - loss: 0.1670 - accuracy: 0.9390\n",
            "              precision    recall  f1-score   support\n",
            "\n",
            "           0       0.94      0.94      0.94        17\n",
            "           1       0.85      0.94      0.89        18\n",
            "           2       1.00      0.90      0.95        21\n",
            "           3       0.88      1.00      0.94        23\n",
            "           4       1.00      1.00      1.00        13\n",
            "           5       1.00      0.94      0.97        16\n",
            "           6       1.00      1.00      1.00        12\n",
            "           7       1.00      1.00      1.00        16\n",
            "           8       0.80      0.86      0.83        14\n",
            "           9       0.90      1.00      0.95        19\n",
            "          10       0.93      0.81      0.86        31\n",
            "          11       0.92      1.00      0.96        12\n",
            "          12       1.00      0.89      0.94        19\n",
            "          13       1.00      1.00      1.00        15\n",
            "\n",
            "    accuracy                           0.94       246\n",
            "   macro avg       0.94      0.95      0.95       246\n",
            "weighted avg       0.94      0.94      0.94       246\n",
            "\n",
            "----------------------------------------------------------------------\n",
            "Saving Results ... \n",
            "----------------------------------------------------------------------\n",
            "No Previous Accuracy Found!\n"
          ]
        }
      ]
    }
  ],
  "metadata": {
    "language_info": {
      "name": "python"
    },
    "orig_nbformat": 4,
    "colab": {
      "name": "Inference.ipynb",
      "provenance": [],
      "include_colab_link": true
    },
    "accelerator": "GPU",
    "gpuClass": "standard",
    "kernelspec": {
      "name": "python3",
      "display_name": "Python 3"
    }
  },
  "nbformat": 4,
  "nbformat_minor": 0
}