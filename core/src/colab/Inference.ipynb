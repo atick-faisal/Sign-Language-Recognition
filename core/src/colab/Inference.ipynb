{
  "cells": [
    {
      "cell_type": "markdown",
      "metadata": {
        "id": "view-in-github",
        "colab_type": "text"
      },
      "source": [
        "<a href=\"https://colab.research.google.com/github/atick-faisal/Sign-Language-Recognition/blob/main/core/src/colab/Inference.ipynb\" target=\"_parent\"><img src=\"https://colab.research.google.com/assets/colab-badge.svg\" alt=\"Open In Colab\"/></a>"
      ]
    },
    {
      "cell_type": "code",
      "source": [
        "from google.colab import drive\n",
        "drive.mount('/content/drive')"
      ],
      "metadata": {
        "id": "JmRmSvWP8Ma-",
        "outputId": "b8732e64-9fda-41dd-aa50-7c83007a9d78",
        "colab": {
          "base_uri": "https://localhost:8080/"
        }
      },
      "execution_count": 2,
      "outputs": [
        {
          "output_type": "stream",
          "name": "stdout",
          "text": [
            "Mounted at /content/drive\n"
          ]
        }
      ]
    },
    {
      "cell_type": "code",
      "source": [
        "!pip install rich\n",
        "!gdown \"1CACL0ogqPC87Tsqo3qxX31ve04_Cxdjf\"\n",
        "!tar -xf raw.tar.xz\n",
        "!git clone https://github.com/atick-faisal/Sign-Language-Recognition.git"
      ],
      "metadata": {
        "id": "V-n5fxnqAdnr"
      },
      "execution_count": null,
      "outputs": []
    },
    {
      "cell_type": "code",
      "source": [
        "!python Sign-Language-Recognition/core/src/train_tf.py -d \"raw\" -m \"/content/drive/MyDrive/Research/Leap Motion Controller/Models\""
      ],
      "metadata": {
        "id": "LeMkJoC98cym",
        "outputId": "48c634b3-e39c-4a84-facf-e9e9421f999c",
        "colab": {
          "base_uri": "https://localhost:8080/"
        }
      },
      "execution_count": 15,
      "outputs": [
        {
          "output_type": "stream",
          "name": "stdout",
          "text": [
            "----------------------------------------------------------------------\n",
            "Generating Dataset\n",
            "----------------------------------------------------------------------\n",
            "\u001b[2K[  168/ 1178] processing files:  \u001b[91m━━━━\u001b[0m\u001b[91m╸\u001b[0m\u001b[90m━━━━━━━━━━━━━━━━━━━━━━━━━━━━━\u001b[0m \u001b[35m 14%\u001b[0m \u001b[36m0:10:16\u001b[0m\n",
            "\u001b[?25h----------------------------------------------------------------------\n",
            "Train Features Shape:  (804, 150, 1)\n",
            "Train Images Shape:  (804, 160, 160, 3)\n",
            "Test Features Shape:  (34, 150, 1)\n",
            "Test Images Shape:  (34, 160, 160, 3)\n",
            "Train Labels Shape:  (804,)\n",
            "Test Labels Shape:  (34,)\n",
            "----------------------------------------------------------------------\n",
            "Downloading data from https://storage.googleapis.com/tensorflow/keras-applications/mobilenet_v2/mobilenet_v2_weights_tf_dim_ordering_tf_kernels_1.0_160_no_top.h5\n",
            "9412608/9406464 [==============================] - 0s 0us/step\n",
            "9420800/9406464 [==============================] - 0s 0us/step\n",
            "----------------------------------------------------------------------\n",
            "Training Model ... \n",
            "----------------------------------------------------------------------\n",
            "Epoch 1/7\n",
            "26/26 [==============================] - 42s 1s/step - loss: 2.8840 - accuracy: 0.1891 - val_loss: 2.1787 - val_accuracy: 0.3235\n",
            "Epoch 2/7\n",
            "26/26 [==============================] - 32s 1s/step - loss: 1.7020 - accuracy: 0.4353 - val_loss: 1.5824 - val_accuracy: 0.5588\n",
            "Epoch 3/7\n",
            "26/26 [==============================] - 33s 1s/step - loss: 0.8229 - accuracy: 0.7239 - val_loss: 0.6604 - val_accuracy: 0.9118\n",
            "Epoch 4/7\n",
            "26/26 [==============================] - 32s 1s/step - loss: 0.4321 - accuracy: 0.8507 - val_loss: 0.2380 - val_accuracy: 1.0000\n",
            "Epoch 5/7\n",
            "26/26 [==============================] - 32s 1s/step - loss: 0.2758 - accuracy: 0.8955 - val_loss: 0.1779 - val_accuracy: 0.9706\n",
            "Epoch 6/7\n",
            "26/26 [==============================] - 32s 1s/step - loss: 0.1530 - accuracy: 0.9515 - val_loss: 0.0825 - val_accuracy: 1.0000\n",
            "Epoch 7/7\n",
            "26/26 [==============================] - 32s 1s/step - loss: 0.1279 - accuracy: 0.9639 - val_loss: 0.0375 - val_accuracy: 1.0000\n",
            "----------------------------------------------------------------------\n",
            "Metrics \n",
            "----------------------------------------------------------------------\n",
            "2/2 [==============================] - 1s 106ms/step - loss: 0.0375 - accuracy: 1.0000\n",
            "              precision    recall  f1-score   support\n",
            "\n",
            "           0       1.00      1.00      1.00         2\n",
            "           1       1.00      1.00      1.00         4\n",
            "           3       1.00      1.00      1.00         3\n",
            "           4       1.00      1.00      1.00         1\n",
            "           6       1.00      1.00      1.00         3\n",
            "           7       1.00      1.00      1.00         4\n",
            "           8       1.00      1.00      1.00         4\n",
            "           9       1.00      1.00      1.00         1\n",
            "          10       1.00      1.00      1.00         3\n",
            "          11       1.00      1.00      1.00         4\n",
            "          12       1.00      1.00      1.00         1\n",
            "          13       1.00      1.00      1.00         4\n",
            "\n",
            "    accuracy                           1.00        34\n",
            "   macro avg       1.00      1.00      1.00        34\n",
            "weighted avg       1.00      1.00      1.00        34\n",
            "\n",
            "----------------------------------------------------------------------\n",
            "Saving Results ... \n",
            "----------------------------------------------------------------------\n",
            "No Previous Accuracy Found!\n"
          ]
        }
      ]
    }
  ],
  "metadata": {
    "language_info": {
      "name": "python"
    },
    "orig_nbformat": 4,
    "colab": {
      "name": "Inference.ipynb",
      "provenance": [],
      "include_colab_link": true
    },
    "accelerator": "GPU",
    "gpuClass": "standard",
    "kernelspec": {
      "name": "python3",
      "display_name": "Python 3"
    }
  },
  "nbformat": 4,
  "nbformat_minor": 0
}