{
  "cells": [
    {
      "cell_type": "markdown",
      "metadata": {
        "id": "view-in-github",
        "colab_type": "text"
      },
      "source": [
        "<a href=\"https://colab.research.google.com/github/atick-faisal/Sign-Language-Recognition/blob/main/core/src/colab/Inference.ipynb\" target=\"_parent\"><img src=\"https://colab.research.google.com/assets/colab-badge.svg\" alt=\"Open In Colab\"/></a>"
      ]
    },
    {
      "cell_type": "code",
      "source": [
        "from google.colab import drive\n",
        "drive.mount('/content/drive')"
      ],
      "metadata": {
        "id": "JmRmSvWP8Ma-",
        "outputId": "fe341fcd-7000-4ceb-d1fb-f4eec721af9f",
        "colab": {
          "base_uri": "https://localhost:8080/"
        }
      },
      "execution_count": 1,
      "outputs": [
        {
          "output_type": "stream",
          "name": "stdout",
          "text": [
            "Mounted at /content/drive\n"
          ]
        }
      ]
    },
    {
      "cell_type": "code",
      "source": [
        "!pip install rich\n",
        "!gdown \"1CACL0ogqPC87Tsqo3qxX31ve04_Cxdjf\"\n",
        "!tar -xf raw.tar.xz\n",
        "!git clone https://github.com/atick-faisal/Sign-Language-Recognition.git"
      ],
      "metadata": {
        "id": "V-n5fxnqAdnr",
        "outputId": "0390866c-313e-4b6c-8ba0-f312c07624a9",
        "colab": {
          "base_uri": "https://localhost:8080/"
        }
      },
      "execution_count": 2,
      "outputs": [
        {
          "output_type": "stream",
          "name": "stdout",
          "text": [
            "Looking in indexes: https://pypi.org/simple, https://us-python.pkg.dev/colab-wheels/public/simple/\n",
            "Collecting rich\n",
            "  Downloading rich-12.4.4-py3-none-any.whl (232 kB)\n",
            "\u001b[K     |████████████████████████████████| 232 kB 33.9 MB/s \n",
            "\u001b[?25hRequirement already satisfied: typing-extensions<5.0,>=4.0.0 in /usr/local/lib/python3.7/dist-packages (from rich) (4.1.1)\n",
            "Requirement already satisfied: pygments<3.0.0,>=2.6.0 in /usr/local/lib/python3.7/dist-packages (from rich) (2.6.1)\n",
            "Collecting commonmark<0.10.0,>=0.9.0\n",
            "  Downloading commonmark-0.9.1-py2.py3-none-any.whl (51 kB)\n",
            "\u001b[K     |████████████████████████████████| 51 kB 7.9 MB/s \n",
            "\u001b[?25hInstalling collected packages: commonmark, rich\n",
            "Successfully installed commonmark-0.9.1 rich-12.4.4\n",
            "Downloading...\n",
            "From: https://drive.google.com/uc?id=1CACL0ogqPC87Tsqo3qxX31ve04_Cxdjf\n",
            "To: /content/raw.tar.xz\n",
            "100% 21.6M/21.6M [00:00<00:00, 30.8MB/s]\n",
            "Cloning into 'Sign-Language-Recognition'...\n",
            "remote: Enumerating objects: 1307, done.\u001b[K\n",
            "remote: Counting objects: 100% (318/318), done.\u001b[K\n",
            "remote: Compressing objects: 100% (246/246), done.\u001b[K\n",
            "remote: Total 1307 (delta 211), reused 123 (delta 71), pack-reused 989\u001b[K\n",
            "Receiving objects: 100% (1307/1307), 4.39 MiB | 2.71 MiB/s, done.\n",
            "Resolving deltas: 100% (795/795), done.\n"
          ]
        }
      ]
    },
    {
      "cell_type": "code",
      "source": [
        "!python Sign-Language-Recognition/core/src/train_tf.py \\\n",
        "        --exp_name \"projection_net_u005\" \\\n",
        "        --data_dir \"/content\" \\\n",
        "        --model_dir \"/content/drive/MyDrive/Research/Leap Motion Controller/Models\""
      ],
      "metadata": {
        "id": "LeMkJoC98cym",
        "outputId": "2c1a171f-1097-4c9c-a148-9111bd1ac7af",
        "colab": {
          "base_uri": "https://localhost:8080/"
        }
      },
      "execution_count": 3,
      "outputs": [
        {
          "output_type": "stream",
          "name": "stdout",
          "text": [
            "----------------------------------------------------------------------\n",
            "Generating Dataset\n",
            "----------------------------------------------------------------------\n",
            "\u001b[2K[ 1167/ 1178] processing files:  \u001b[91m━━━━━━━━━━━━━━━━━━━━━━━━━━━━━━━━━\u001b[0m\u001b[91m╸\u001b[0m \u001b[35m 99%\u001b[0m \u001b[36m0:00:09\u001b[0m\n",
            "\u001b[?25htcmalloc: large alloc 1369964544 bytes == 0x64b9e000 @  0x7fed91c6d1e7 0x7fed8e1fe0ce 0x7fed8e25a715 0x7fed8e25ad1b 0x7fed8e2fb333 0x5936cc 0x548c51 0x5127f1 0x549576 0x593fce 0x548ae9 0x5127f1 0x593dd7 0x5118f8 0x549576 0x604173 0x5f5506 0x5f8c6c 0x5f9206 0x64faf2 0x64fc4e 0x7fed9186ac87 0x5b621a\n",
            "----------------------------------------------------------------------\n",
            "Train Features Shape:  (5946, 150, 1)\n",
            "Train Images Shape:  (5946, 160, 160, 3)\n",
            "Test Features Shape:  (168, 150, 1)\n",
            "Test Images Shape:  (168, 160, 160, 3)\n",
            "Train Labels Shape:  (5946,)\n",
            "Test Labels Shape:  (168,)\n",
            "----------------------------------------------------------------------\n",
            "Downloading data from https://storage.googleapis.com/tensorflow/keras-applications/mobilenet_v2/mobilenet_v2_weights_tf_dim_ordering_tf_kernels_1.0_160_no_top.h5\n",
            "9412608/9406464 [==============================] - 0s 0us/step\n",
            "9420800/9406464 [==============================] - 0s 0us/step\n",
            "----------------------------------------------------------------------\n",
            "Training Model ... \n",
            "----------------------------------------------------------------------\n",
            "Epoch 1/300\n",
            "186/186 [==============================] - 36s 86ms/step - loss: 1.6912 - accuracy: 0.4714 - val_loss: 1.0626 - val_accuracy: 0.6964\n",
            "Epoch 2/300\n",
            "186/186 [==============================] - 13s 72ms/step - loss: 0.7396 - accuracy: 0.7602 - val_loss: 0.8751 - val_accuracy: 0.7381\n",
            "Epoch 3/300\n",
            "186/186 [==============================] - 13s 70ms/step - loss: 0.4916 - accuracy: 0.8360 - val_loss: 0.7566 - val_accuracy: 0.7440\n",
            "Epoch 4/300\n",
            "186/186 [==============================] - 13s 70ms/step - loss: 0.3884 - accuracy: 0.8752 - val_loss: 0.7672 - val_accuracy: 0.7500\n",
            "Epoch 5/300\n",
            "186/186 [==============================] - 13s 71ms/step - loss: 0.3186 - accuracy: 0.8940 - val_loss: 0.8047 - val_accuracy: 0.7083\n",
            "Epoch 6/300\n",
            "186/186 [==============================] - 14s 73ms/step - loss: 0.2780 - accuracy: 0.9080 - val_loss: 0.6649 - val_accuracy: 0.7679\n",
            "Epoch 7/300\n",
            "186/186 [==============================] - 13s 73ms/step - loss: 0.2349 - accuracy: 0.9210 - val_loss: 0.6566 - val_accuracy: 0.7500\n",
            "Epoch 8/300\n",
            "186/186 [==============================] - 13s 72ms/step - loss: 0.2059 - accuracy: 0.9327 - val_loss: 0.5938 - val_accuracy: 0.7619\n",
            "Epoch 9/300\n",
            "186/186 [==============================] - 13s 71ms/step - loss: 0.2011 - accuracy: 0.9321 - val_loss: 0.6585 - val_accuracy: 0.7500\n",
            "Epoch 10/300\n",
            "186/186 [==============================] - 13s 72ms/step - loss: 0.1849 - accuracy: 0.9381 - val_loss: 0.5976 - val_accuracy: 0.7798\n",
            "Epoch 11/300\n",
            "186/186 [==============================] - 14s 73ms/step - loss: 0.1718 - accuracy: 0.9467 - val_loss: 0.6004 - val_accuracy: 0.7976\n",
            "Epoch 12/300\n",
            "186/186 [==============================] - 13s 71ms/step - loss: 0.1614 - accuracy: 0.9470 - val_loss: 0.6246 - val_accuracy: 0.7679\n",
            "Epoch 13/300\n",
            "186/186 [==============================] - 13s 72ms/step - loss: 0.1602 - accuracy: 0.9447 - val_loss: 0.5808 - val_accuracy: 0.7679\n",
            "Epoch 14/300\n",
            "186/186 [==============================] - 13s 72ms/step - loss: 0.1376 - accuracy: 0.9509 - val_loss: 0.5648 - val_accuracy: 0.7976\n",
            "Epoch 15/300\n",
            "186/186 [==============================] - 13s 71ms/step - loss: 0.1357 - accuracy: 0.9544 - val_loss: 0.6235 - val_accuracy: 0.8036\n",
            "Epoch 16/300\n",
            "186/186 [==============================] - 13s 71ms/step - loss: 0.1349 - accuracy: 0.9549 - val_loss: 0.5923 - val_accuracy: 0.7917\n",
            "Epoch 17/300\n",
            "186/186 [==============================] - 13s 71ms/step - loss: 0.1295 - accuracy: 0.9581 - val_loss: 0.5995 - val_accuracy: 0.7798\n",
            "Epoch 18/300\n",
            "186/186 [==============================] - 13s 72ms/step - loss: 0.1157 - accuracy: 0.9595 - val_loss: 0.6009 - val_accuracy: 0.7679\n",
            "Epoch 19/300\n",
            "186/186 [==============================] - 13s 72ms/step - loss: 0.1275 - accuracy: 0.9590 - val_loss: 0.5545 - val_accuracy: 0.7857\n",
            "Epoch 20/300\n",
            "186/186 [==============================] - 13s 72ms/step - loss: 0.1109 - accuracy: 0.9620 - val_loss: 0.5444 - val_accuracy: 0.7917\n",
            "Epoch 21/300\n",
            "186/186 [==============================] - 13s 72ms/step - loss: 0.1170 - accuracy: 0.9601 - val_loss: 0.5866 - val_accuracy: 0.7917\n",
            "Epoch 22/300\n",
            "186/186 [==============================] - 13s 72ms/step - loss: 0.1082 - accuracy: 0.9618 - val_loss: 0.5928 - val_accuracy: 0.7976\n",
            "Epoch 23/300\n",
            "186/186 [==============================] - 13s 72ms/step - loss: 0.1117 - accuracy: 0.9638 - val_loss: 0.5549 - val_accuracy: 0.7976\n",
            "Epoch 24/300\n",
            "186/186 [==============================] - 13s 72ms/step - loss: 0.1092 - accuracy: 0.9627 - val_loss: 0.5974 - val_accuracy: 0.7857\n",
            "Epoch 25/300\n",
            "186/186 [==============================] - 13s 72ms/step - loss: 0.1090 - accuracy: 0.9635 - val_loss: 0.6036 - val_accuracy: 0.7857\n",
            "Epoch 26/300\n",
            "186/186 [==============================] - 13s 72ms/step - loss: 0.0954 - accuracy: 0.9659 - val_loss: 0.5509 - val_accuracy: 0.8095\n",
            "Epoch 27/300\n",
            "186/186 [==============================] - 13s 72ms/step - loss: 0.1027 - accuracy: 0.9630 - val_loss: 0.6051 - val_accuracy: 0.7679\n",
            "Epoch 28/300\n",
            "186/186 [==============================] - 13s 72ms/step - loss: 0.0943 - accuracy: 0.9686 - val_loss: 0.5493 - val_accuracy: 0.8036\n",
            "Epoch 29/300\n",
            "186/186 [==============================] - 13s 72ms/step - loss: 0.0969 - accuracy: 0.9654 - val_loss: 0.5913 - val_accuracy: 0.7798\n",
            "Epoch 30/300\n",
            "186/186 [==============================] - 13s 72ms/step - loss: 0.0916 - accuracy: 0.9694 - val_loss: 0.6162 - val_accuracy: 0.7798\n",
            "Epoch 31/300\n",
            "186/186 [==============================] - 14s 74ms/step - loss: 0.0926 - accuracy: 0.9672 - val_loss: 0.6137 - val_accuracy: 0.7738\n",
            "Epoch 32/300\n",
            "186/186 [==============================] - 14s 73ms/step - loss: 0.0944 - accuracy: 0.9684 - val_loss: 0.6244 - val_accuracy: 0.7679\n",
            "Epoch 33/300\n",
            "186/186 [==============================] - 13s 72ms/step - loss: 0.0912 - accuracy: 0.9712 - val_loss: 0.5937 - val_accuracy: 0.7679\n",
            "Epoch 34/300\n",
            "186/186 [==============================] - 14s 74ms/step - loss: 0.0906 - accuracy: 0.9669 - val_loss: 0.6315 - val_accuracy: 0.7738\n",
            "Epoch 35/300\n",
            "186/186 [==============================] - 13s 72ms/step - loss: 0.0872 - accuracy: 0.9706 - val_loss: 0.5708 - val_accuracy: 0.7976\n",
            "Epoch 36/300\n",
            "186/186 [==============================] - 14s 73ms/step - loss: 0.0859 - accuracy: 0.9686 - val_loss: 0.5699 - val_accuracy: 0.7917\n",
            "Epoch 37/300\n",
            "186/186 [==============================] - 14s 74ms/step - loss: 0.0842 - accuracy: 0.9684 - val_loss: 0.5903 - val_accuracy: 0.7798\n",
            "Epoch 38/300\n",
            "186/186 [==============================] - 13s 72ms/step - loss: 0.0926 - accuracy: 0.9680 - val_loss: 0.5844 - val_accuracy: 0.7857\n",
            "Epoch 39/300\n",
            "186/186 [==============================] - 13s 72ms/step - loss: 0.0913 - accuracy: 0.9704 - val_loss: 0.6222 - val_accuracy: 0.7679\n",
            "Epoch 40/300\n",
            "186/186 [==============================] - 13s 72ms/step - loss: 0.0803 - accuracy: 0.9712 - val_loss: 0.6093 - val_accuracy: 0.7798\n",
            "Epoch 41/300\n",
            "186/186 [==============================] - 13s 72ms/step - loss: 0.0836 - accuracy: 0.9711 - val_loss: 0.6560 - val_accuracy: 0.7619\n",
            "Epoch 42/300\n",
            "186/186 [==============================] - 13s 72ms/step - loss: 0.0883 - accuracy: 0.9696 - val_loss: 0.6584 - val_accuracy: 0.7560\n",
            "Epoch 43/300\n",
            "186/186 [==============================] - 14s 74ms/step - loss: 0.0809 - accuracy: 0.9736 - val_loss: 0.5861 - val_accuracy: 0.7798\n",
            "Epoch 44/300\n",
            "186/186 [==============================] - 13s 72ms/step - loss: 0.0757 - accuracy: 0.9754 - val_loss: 0.6030 - val_accuracy: 0.7857\n",
            "Epoch 45/300\n",
            "186/186 [==============================] - 13s 72ms/step - loss: 0.0722 - accuracy: 0.9753 - val_loss: 0.6555 - val_accuracy: 0.7798\n",
            "Epoch 46/300\n",
            "186/186 [==============================] - 14s 74ms/step - loss: 0.0840 - accuracy: 0.9712 - val_loss: 0.6259 - val_accuracy: 0.7619\n",
            "Epoch 47/300\n",
            "186/186 [==============================] - 13s 72ms/step - loss: 0.0867 - accuracy: 0.9711 - val_loss: 0.6010 - val_accuracy: 0.7619\n",
            "Epoch 48/300\n",
            "186/186 [==============================] - 13s 72ms/step - loss: 0.0837 - accuracy: 0.9724 - val_loss: 0.6198 - val_accuracy: 0.7560\n",
            "Epoch 49/300\n",
            "186/186 [==============================] - 13s 72ms/step - loss: 0.0888 - accuracy: 0.9711 - val_loss: 0.6108 - val_accuracy: 0.7679\n",
            "Epoch 50/300\n",
            "186/186 [==============================] - 14s 74ms/step - loss: 0.0824 - accuracy: 0.9734 - val_loss: 0.6373 - val_accuracy: 0.7738\n",
            "----------------------------------------------------------------------\n",
            "Metrics \n",
            "----------------------------------------------------------------------\n",
            "6/6 [==============================] - 0s 61ms/step - loss: 0.5444 - accuracy: 0.7917\n",
            "              precision    recall  f1-score   support\n",
            "\n",
            "           0       0.28      1.00      0.44        12\n",
            "           1       1.00      0.67      0.80        12\n",
            "           2       1.00      0.50      0.67        12\n",
            "           3       1.00      1.00      1.00        12\n",
            "           4       0.86      1.00      0.92        12\n",
            "           5       1.00      1.00      1.00        12\n",
            "           6       1.00      0.92      0.96        12\n",
            "           7       1.00      1.00      1.00        12\n",
            "           8       0.00      0.00      0.00        12\n",
            "           9       1.00      1.00      1.00        12\n",
            "          10       1.00      0.25      0.40        12\n",
            "          11       1.00      1.00      1.00        12\n",
            "          12       0.92      0.92      0.92        12\n",
            "          13       1.00      0.83      0.91        12\n",
            "\n",
            "    accuracy                           0.79       168\n",
            "   macro avg       0.86      0.79      0.79       168\n",
            "weighted avg       0.86      0.79      0.79       168\n",
            "\n",
            "----------------------------------------------------------------------\n",
            "Saving Results ... \n",
            "----------------------------------------------------------------------\n",
            "No Previous Accuracy Found!\n"
          ]
        }
      ]
    }
  ],
  "metadata": {
    "language_info": {
      "name": "python"
    },
    "orig_nbformat": 4,
    "colab": {
      "name": "Inference.ipynb",
      "provenance": [],
      "include_colab_link": true
    },
    "accelerator": "GPU",
    "gpuClass": "standard",
    "kernelspec": {
      "name": "python3",
      "display_name": "Python 3"
    }
  },
  "nbformat": 4,
  "nbformat_minor": 0
}