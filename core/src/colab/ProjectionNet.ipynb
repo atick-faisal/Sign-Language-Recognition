{
  "cells": [
    {
      "cell_type": "markdown",
      "metadata": {
        "id": "view-in-github",
        "colab_type": "text"
      },
      "source": [
        "<a href=\"https://colab.research.google.com/github/atick-faisal/Sign-Language-Recognition/blob/main/core/colab/ProjectionNet.ipynb\" target=\"_parent\"><img src=\"https://colab.research.google.com/assets/colab-badge.svg\" alt=\"Open In Colab\"/></a>"
      ]
    },
    {
      "cell_type": "code",
      "execution_count": 1,
      "metadata": {
        "id": "7sh6bFYl_bJu"
      },
      "outputs": [],
      "source": [
        "# !gdown \"1zqe3jjWXzzp_VWxBQzU_vTnFZLFKhGZd\"\n",
        "# !jar -xvf \"lmc_dataset_stack_cnn.zip\""
      ]
    },
    {
      "cell_type": "code",
      "execution_count": 2,
      "metadata": {
        "id": "qOtkluZD-l0Q"
      },
      "outputs": [],
      "source": [
        "import os\n",
        "import joblib\n",
        "import numpy as np\n",
        "import tensorflow as tf\n",
        "import matplotlib.pyplot as plt\n",
        "\n",
        "from tensorflow.keras import layers, models\n"
      ]
    },
    {
      "cell_type": "markdown",
      "metadata": {
        "id": "sSis6GXi-l0T"
      },
      "source": [
        "# Configuration"
      ]
    },
    {
      "cell_type": "code",
      "execution_count": 3,
      "metadata": {
        "id": "LHMP-S6Q-l0U"
      },
      "outputs": [],
      "source": [
        "class config(object):\n",
        "    INFERENCE_TIME = 3.0  # ... Segment duration\n",
        "    HOLD_TIME = 2.0  # ... Time before next prediction session\n",
        "    SEGMENT_LEN = 150\n",
        "    IMG_LEN = 160  # 1/9 of the 224x224 image\n",
        "    N_CHANNELS = 3\n",
        "    LEARNING_RATE = 0.0003\n",
        "    BATCH_SIZE = 32\n",
        "    N_EPOCHS = 300\n",
        "    PATIENCE = 30\n",
        "    PROJECTION_LANDMARKS = [\"rp\", \"rf0\", \"rf1\"]\n",
        "    INFERENCE_FEATURES = [\n",
        "        \"rpx\",\n",
        "        \"rpy\",\n",
        "        \"rpz\",\n",
        "        \"rf0x\",\n",
        "        \"rf0y\",\n",
        "        \"rf0z\",\n",
        "        \"rf1x\",\n",
        "        \"rf1y\",\n",
        "        \"rf1z\"\n",
        "    ]\n",
        "    MODEL_PREDICTION = \"dev.atick.slr.model.prediction\"\n",
        "    FRAME_EVENT = \"dev.atick.slr.frame\"\n",
        "    GESTURES = [\"Good\", \"Bad\", \"Fine\", \"Hello\", \"Yes\", \"Deaf\", \"Me\",\n",
        "                \"No\", \"Please\", \"Sorry\", \"Thank You\", \"You\", \"Hungry\", \"Goodbye\"]\n",
        "    FEATURE_NAMES = [\n",
        "        \"time\",\n",
        "        \"rpx\",\n",
        "        \"rpy\",\n",
        "        \"rpz\",\n",
        "        \"lpx\",\n",
        "        \"lpy\",\n",
        "        \"lpz\",\n",
        "        \"rf0x\",\n",
        "        \"rf0y\",\n",
        "        \"rf0z\",\n",
        "        \"rf1x\",\n",
        "        \"rf1y\",\n",
        "        \"rf1z\",\n",
        "        \"rf2x\",\n",
        "        \"rf2y\",\n",
        "        \"rf2z\",\n",
        "        \"rf3x\",\n",
        "        \"rf3y\",\n",
        "        \"rf3z\",\n",
        "        \"rf4x\",\n",
        "        \"rf4y\",\n",
        "        \"rf4z\",\n",
        "        \"lf0x\",\n",
        "        \"lf0y\",\n",
        "        \"lf0z\",\n",
        "        \"lf1x\",\n",
        "        \"lf1y\",\n",
        "        \"lf1z\",\n",
        "        \"lf2x\",\n",
        "        \"lf2y\",\n",
        "        \"lf2z\",\n",
        "        \"lf3x\",\n",
        "        \"lf3y\",\n",
        "        \"lf3z\",\n",
        "        \"lf4x\",\n",
        "        \"lf4y\",\n",
        "        \"lf4z\",\n",
        "    ]\n"
      ]
    },
    {
      "cell_type": "markdown",
      "metadata": {
        "id": "AIBrNEJPA0T-"
      },
      "source": [
        "# Load Dataset"
      ]
    },
    {
      "cell_type": "code",
      "execution_count": 4,
      "metadata": {
        "colab": {
          "base_uri": "https://localhost:8080/"
        },
        "id": "8yz5PmRJ-l0a",
        "outputId": "a94814eb-25bf-46a7-dff2-503000bce7b6"
      },
      "outputs": [
        {
          "output_type": "stream",
          "name": "stdout",
          "text": [
            "(4675, 150, 1)\n",
            "(224, 150, 1)\n",
            "(4675, 160, 160, 3)\n",
            "(224, 160, 160, 3)\n",
            "(4675,)\n",
            "(224,)\n"
          ]
        }
      ],
      "source": [
        "X_train = joblib.load(\"X_train_stack_11.joblib\")\n",
        "y_train = joblib.load(\"y_train_stcak_11.joblib\")\n",
        "X_test = joblib.load(\"X_test_stack_11.joblib\")\n",
        "y_test = joblib.load(\"y_test_stack_11.joblib\")\n",
        "\n",
        "print(X_train[0].shape)\n",
        "print(X_test[0].shape)\n",
        "print(X_train[-1].shape)\n",
        "print(X_test[-1].shape)\n",
        "print(y_train.shape)\n",
        "print(y_test.shape)"
      ]
    },
    {
      "cell_type": "markdown",
      "metadata": {
        "id": "Lg3QKAz9A0T_"
      },
      "source": [
        "# Model Construction"
      ]
    },
    {
      "cell_type": "code",
      "execution_count": 5,
      "metadata": {
        "id": "krR5jdEiA0T_"
      },
      "outputs": [],
      "source": [
        "class ProjectionNet():\n",
        "    def __init__(\n",
        "        self,\n",
        "        n_classes: int,\n",
        "        base_model: tf.keras.Model,\n",
        "        feature_vector_shape: tuple = (150, 1),\n",
        "        projection_img_shape: tuple = (160, 160, 3),\n",
        "        n_feature_vectors: int = 6,\n",
        "        n_projections: int = 3\n",
        "    ):\n",
        "        self.projection_img_shape = projection_img_shape\n",
        "        self.feature_vector_shape = feature_vector_shape\n",
        "        self.n_feature_vectors = n_feature_vectors\n",
        "        self.n_projections = n_projections\n",
        "        self.base_model = base_model\n",
        "        self.base_model.trainable = False\n",
        "\n",
        "        self.dropout = layers.Dropout(0.5)\n",
        "\n",
        "        self.mlp1 = layers.Dense(\n",
        "            units=128,\n",
        "            activation=\"relu\"\n",
        "        )\n",
        "\n",
        "        self.mlp2 = layers.Dense(\n",
        "            units=n_classes,\n",
        "            activation=\"softmax\"\n",
        "        )\n",
        "\n",
        "    def conv_block_1d(self):\n",
        "        inputs = layers.Input(shape=self.feature_vector_shape)\n",
        "        x = layers.BatchNormalization()(inputs)\n",
        "        x = layers.Conv1D(16, 3, activation=\"selu\")(x)\n",
        "        x = layers.Conv1D(16, 3, activation=\"selu\")(x)\n",
        "        x = layers.MaxPool1D(2)(x)\n",
        "        x = layers.Conv1D(32, 3, activation=\"selu\")(x)\n",
        "        x = layers.Conv1D(32, 3, activation=\"selu\")(x)\n",
        "        x = layers.MaxPool1D(2)(x)\n",
        "        x = layers.Flatten()(x)\n",
        "        output = layers.Dense(32)(x)\n",
        "\n",
        "        return inputs, output\n",
        "\n",
        "    def conv_block_2d(self):\n",
        "        preprocess = layers.experimental.preprocessing.Rescaling(\n",
        "            scale=1.0/127.5,\n",
        "            offset=-1\n",
        "        )\n",
        "        inputs = layers.Input(shape=self.projection_img_shape)\n",
        "        x = preprocess(inputs)\n",
        "        x = self.base_model(x, training=False)\n",
        "        output = layers.GlobalAveragePooling2D()(x)\n",
        "\n",
        "        return inputs, output\n",
        "\n",
        "    def model(self):\n",
        "\n",
        "        inputs = []\n",
        "        features = []\n",
        "\n",
        "        for _ in range(self.n_feature_vectors):\n",
        "            input_1d, features_1d = self.conv_block_1d()\n",
        "            inputs.append(input_1d)\n",
        "            features.append(features_1d)\n",
        "\n",
        "        for _ in range(self.n_projections):\n",
        "            input_2d, features_2d = self.conv_block_2d()\n",
        "            inputs.append(input_2d)\n",
        "            features.append(features_2d)\n",
        "\n",
        "        x = layers.concatenate(features, axis=-1)\n",
        "        x = self.dropout(x)\n",
        "        x = self.mlp1(x)\n",
        "        x = self.dropout(x)\n",
        "        output = self.mlp2(x)\n",
        "\n",
        "        return models.Model(inputs, output)"
      ]
    },
    {
      "cell_type": "markdown",
      "metadata": {
        "id": "uC86dgDz-l0b"
      },
      "source": [
        "# Training"
      ]
    },
    {
      "cell_type": "code",
      "execution_count": 6,
      "metadata": {
        "colab": {
          "base_uri": "https://localhost:8080/"
        },
        "id": "dne2773G-l0b",
        "outputId": "a3252a39-1463-4f10-e26a-91e15d7ca0c2"
      },
      "outputs": [
        {
          "output_type": "stream",
          "name": "stdout",
          "text": [
            "Epoch 1/300\n",
            "147/147 [==============================] - 33s 102ms/step - loss: 1.6854 - accuracy: 0.4738 - val_loss: 0.7044 - val_accuracy: 0.8884\n",
            "Epoch 2/300\n",
            "147/147 [==============================] - 12s 83ms/step - loss: 0.6214 - accuracy: 0.8058 - val_loss: 0.3675 - val_accuracy: 0.9018\n",
            "Epoch 3/300\n",
            "147/147 [==============================] - 12s 82ms/step - loss: 0.4562 - accuracy: 0.8535 - val_loss: 0.2980 - val_accuracy: 0.9286\n",
            "Epoch 4/300\n",
            "147/147 [==============================] - 12s 82ms/step - loss: 0.3611 - accuracy: 0.8811 - val_loss: 0.2811 - val_accuracy: 0.9420\n",
            "Epoch 5/300\n",
            "147/147 [==============================] - 12s 81ms/step - loss: 0.2825 - accuracy: 0.9082 - val_loss: 0.2396 - val_accuracy: 0.9375\n",
            "Epoch 6/300\n",
            "147/147 [==============================] - 12s 82ms/step - loss: 0.2627 - accuracy: 0.9108 - val_loss: 0.2460 - val_accuracy: 0.9509\n",
            "Epoch 7/300\n",
            "147/147 [==============================] - 12s 83ms/step - loss: 0.2451 - accuracy: 0.9149 - val_loss: 0.2196 - val_accuracy: 0.9554\n",
            "Epoch 8/300\n",
            "147/147 [==============================] - 12s 81ms/step - loss: 0.2065 - accuracy: 0.9283 - val_loss: 0.2680 - val_accuracy: 0.9509\n",
            "Epoch 9/300\n",
            "147/147 [==============================] - 12s 80ms/step - loss: 0.1936 - accuracy: 0.9348 - val_loss: 0.2471 - val_accuracy: 0.9554\n",
            "Epoch 10/300\n",
            "147/147 [==============================] - 12s 80ms/step - loss: 0.1822 - accuracy: 0.9399 - val_loss: 0.2272 - val_accuracy: 0.9509\n",
            "Epoch 11/300\n",
            "147/147 [==============================] - 12s 82ms/step - loss: 0.1660 - accuracy: 0.9410 - val_loss: 0.2382 - val_accuracy: 0.9509\n",
            "Epoch 12/300\n",
            "147/147 [==============================] - 12s 80ms/step - loss: 0.1888 - accuracy: 0.9367 - val_loss: 0.2239 - val_accuracy: 0.9420\n",
            "Epoch 13/300\n",
            "147/147 [==============================] - 12s 81ms/step - loss: 0.1522 - accuracy: 0.9491 - val_loss: 0.2566 - val_accuracy: 0.9598\n",
            "Epoch 14/300\n",
            "147/147 [==============================] - 12s 82ms/step - loss: 0.1592 - accuracy: 0.9457 - val_loss: 0.2303 - val_accuracy: 0.9509\n",
            "Epoch 15/300\n",
            "147/147 [==============================] - 12s 83ms/step - loss: 0.1441 - accuracy: 0.9476 - val_loss: 0.2397 - val_accuracy: 0.9464\n",
            "Epoch 16/300\n",
            "147/147 [==============================] - 12s 81ms/step - loss: 0.1329 - accuracy: 0.9551 - val_loss: 0.2433 - val_accuracy: 0.9554\n",
            "Epoch 17/300\n",
            "147/147 [==============================] - 12s 81ms/step - loss: 0.1289 - accuracy: 0.9551 - val_loss: 0.2545 - val_accuracy: 0.9509\n",
            "Epoch 18/300\n",
            "147/147 [==============================] - 12s 82ms/step - loss: 0.1291 - accuracy: 0.9538 - val_loss: 0.2857 - val_accuracy: 0.9375\n",
            "Epoch 19/300\n",
            "147/147 [==============================] - 12s 80ms/step - loss: 0.1313 - accuracy: 0.9547 - val_loss: 0.2351 - val_accuracy: 0.9598\n",
            "Epoch 20/300\n",
            "147/147 [==============================] - 12s 80ms/step - loss: 0.1297 - accuracy: 0.9540 - val_loss: 0.2314 - val_accuracy: 0.9509\n",
            "Epoch 21/300\n",
            "147/147 [==============================] - 12s 82ms/step - loss: 0.1125 - accuracy: 0.9591 - val_loss: 0.2651 - val_accuracy: 0.9554\n",
            "Epoch 22/300\n",
            "147/147 [==============================] - 12s 80ms/step - loss: 0.1140 - accuracy: 0.9591 - val_loss: 0.2381 - val_accuracy: 0.9554\n",
            "Epoch 23/300\n",
            "147/147 [==============================] - 12s 82ms/step - loss: 0.1103 - accuracy: 0.9609 - val_loss: 0.2501 - val_accuracy: 0.9554\n",
            "Epoch 24/300\n",
            "147/147 [==============================] - 12s 81ms/step - loss: 0.1252 - accuracy: 0.9532 - val_loss: 0.2538 - val_accuracy: 0.9554\n",
            "Epoch 25/300\n",
            "147/147 [==============================] - 12s 80ms/step - loss: 0.1104 - accuracy: 0.9581 - val_loss: 0.2588 - val_accuracy: 0.9554\n",
            "Epoch 26/300\n",
            "147/147 [==============================] - 12s 82ms/step - loss: 0.1153 - accuracy: 0.9585 - val_loss: 0.2728 - val_accuracy: 0.9598\n",
            "Epoch 27/300\n",
            "147/147 [==============================] - 12s 81ms/step - loss: 0.0950 - accuracy: 0.9645 - val_loss: 0.2454 - val_accuracy: 0.9598\n",
            "Epoch 28/300\n",
            "147/147 [==============================] - 12s 80ms/step - loss: 0.0898 - accuracy: 0.9692 - val_loss: 0.1993 - val_accuracy: 0.9554\n",
            "Epoch 29/300\n",
            "147/147 [==============================] - 12s 82ms/step - loss: 0.0974 - accuracy: 0.9664 - val_loss: 0.2080 - val_accuracy: 0.9509\n",
            "Epoch 30/300\n",
            "147/147 [==============================] - 12s 82ms/step - loss: 0.0852 - accuracy: 0.9681 - val_loss: 0.2628 - val_accuracy: 0.9598\n",
            "Epoch 31/300\n",
            "147/147 [==============================] - 12s 80ms/step - loss: 0.1024 - accuracy: 0.9626 - val_loss: 0.2541 - val_accuracy: 0.9554\n",
            "Epoch 32/300\n",
            "147/147 [==============================] - 12s 80ms/step - loss: 0.1198 - accuracy: 0.9591 - val_loss: 0.1985 - val_accuracy: 0.9509\n",
            "Epoch 33/300\n",
            "147/147 [==============================] - 12s 81ms/step - loss: 0.0904 - accuracy: 0.9649 - val_loss: 0.2869 - val_accuracy: 0.9598\n",
            "Epoch 34/300\n",
            "147/147 [==============================] - 12s 82ms/step - loss: 0.0861 - accuracy: 0.9692 - val_loss: 0.2198 - val_accuracy: 0.9554\n",
            "Epoch 35/300\n",
            "147/147 [==============================] - 12s 82ms/step - loss: 0.0869 - accuracy: 0.9690 - val_loss: 0.2352 - val_accuracy: 0.9598\n",
            "Epoch 36/300\n",
            "147/147 [==============================] - 12s 82ms/step - loss: 0.0938 - accuracy: 0.9677 - val_loss: 0.2503 - val_accuracy: 0.9554\n",
            "Epoch 37/300\n",
            "147/147 [==============================] - 12s 80ms/step - loss: 0.0894 - accuracy: 0.9675 - val_loss: 0.2580 - val_accuracy: 0.9554\n",
            "Epoch 38/300\n",
            "147/147 [==============================] - 12s 81ms/step - loss: 0.0788 - accuracy: 0.9722 - val_loss: 0.2290 - val_accuracy: 0.9732\n",
            "Epoch 39/300\n",
            "147/147 [==============================] - 12s 80ms/step - loss: 0.0835 - accuracy: 0.9690 - val_loss: 0.2406 - val_accuracy: 0.9643\n",
            "Epoch 40/300\n",
            "147/147 [==============================] - 12s 80ms/step - loss: 0.0748 - accuracy: 0.9737 - val_loss: 0.1953 - val_accuracy: 0.9732\n",
            "Epoch 41/300\n",
            "147/147 [==============================] - 12s 82ms/step - loss: 0.0849 - accuracy: 0.9692 - val_loss: 0.2637 - val_accuracy: 0.9732\n",
            "Epoch 42/300\n",
            "147/147 [==============================] - 12s 81ms/step - loss: 0.0861 - accuracy: 0.9696 - val_loss: 0.3032 - val_accuracy: 0.9598\n",
            "Epoch 43/300\n",
            "147/147 [==============================] - 12s 80ms/step - loss: 0.0974 - accuracy: 0.9705 - val_loss: 0.3386 - val_accuracy: 0.9509\n",
            "Epoch 44/300\n",
            "147/147 [==============================] - 12s 81ms/step - loss: 0.0855 - accuracy: 0.9724 - val_loss: 0.2166 - val_accuracy: 0.9688\n",
            "Epoch 45/300\n",
            "147/147 [==============================] - 12s 82ms/step - loss: 0.0720 - accuracy: 0.9745 - val_loss: 0.2905 - val_accuracy: 0.9732\n",
            "Epoch 46/300\n",
            "147/147 [==============================] - 12s 82ms/step - loss: 0.0925 - accuracy: 0.9660 - val_loss: 0.3902 - val_accuracy: 0.9509\n",
            "Epoch 47/300\n",
            "147/147 [==============================] - 12s 82ms/step - loss: 0.0993 - accuracy: 0.9656 - val_loss: 0.3395 - val_accuracy: 0.9598\n",
            "Epoch 48/300\n",
            "147/147 [==============================] - 12s 82ms/step - loss: 0.0814 - accuracy: 0.9679 - val_loss: 0.2759 - val_accuracy: 0.9598\n",
            "Epoch 49/300\n",
            "147/147 [==============================] - 12s 80ms/step - loss: 0.0758 - accuracy: 0.9709 - val_loss: 0.2651 - val_accuracy: 0.9554\n",
            "Epoch 50/300\n",
            "147/147 [==============================] - 12s 80ms/step - loss: 0.0751 - accuracy: 0.9743 - val_loss: 0.2711 - val_accuracy: 0.9732\n",
            "Epoch 51/300\n",
            "147/147 [==============================] - 12s 81ms/step - loss: 0.0953 - accuracy: 0.9643 - val_loss: 0.2313 - val_accuracy: 0.9598\n",
            "Epoch 52/300\n",
            "147/147 [==============================] - 12s 81ms/step - loss: 0.0899 - accuracy: 0.9662 - val_loss: 0.2507 - val_accuracy: 0.9598\n",
            "Epoch 53/300\n",
            "147/147 [==============================] - 12s 82ms/step - loss: 0.0663 - accuracy: 0.9739 - val_loss: 0.2414 - val_accuracy: 0.9554\n",
            "Epoch 54/300\n",
            "147/147 [==============================] - 12s 81ms/step - loss: 0.0764 - accuracy: 0.9739 - val_loss: 0.3244 - val_accuracy: 0.9643\n",
            "Epoch 55/300\n",
            "147/147 [==============================] - 12s 81ms/step - loss: 0.0663 - accuracy: 0.9739 - val_loss: 0.3044 - val_accuracy: 0.9598\n",
            "Epoch 56/300\n",
            "147/147 [==============================] - 12s 82ms/step - loss: 0.0705 - accuracy: 0.9718 - val_loss: 0.3009 - val_accuracy: 0.9688\n",
            "Epoch 57/300\n",
            "147/147 [==============================] - 12s 82ms/step - loss: 0.0736 - accuracy: 0.9741 - val_loss: 0.3135 - val_accuracy: 0.9643\n",
            "Epoch 58/300\n",
            "147/147 [==============================] - 12s 82ms/step - loss: 0.0611 - accuracy: 0.9784 - val_loss: 0.3243 - val_accuracy: 0.9777\n",
            "Epoch 59/300\n",
            "147/147 [==============================] - 12s 80ms/step - loss: 0.0648 - accuracy: 0.9763 - val_loss: 0.2823 - val_accuracy: 0.9643\n",
            "Epoch 60/300\n",
            "147/147 [==============================] - 12s 81ms/step - loss: 0.0737 - accuracy: 0.9763 - val_loss: 0.2866 - val_accuracy: 0.9643\n",
            "Epoch 61/300\n",
            "147/147 [==============================] - 12s 81ms/step - loss: 0.0736 - accuracy: 0.9739 - val_loss: 0.2695 - val_accuracy: 0.9643\n",
            "Epoch 62/300\n",
            "147/147 [==============================] - 12s 80ms/step - loss: 0.0650 - accuracy: 0.9763 - val_loss: 0.3159 - val_accuracy: 0.9643\n",
            "Epoch 63/300\n",
            "147/147 [==============================] - 12s 80ms/step - loss: 0.0589 - accuracy: 0.9775 - val_loss: 0.2795 - val_accuracy: 0.9643\n",
            "Epoch 64/300\n",
            "147/147 [==============================] - 12s 81ms/step - loss: 0.0575 - accuracy: 0.9784 - val_loss: 0.3457 - val_accuracy: 0.9732\n",
            "Epoch 65/300\n",
            "147/147 [==============================] - 12s 80ms/step - loss: 0.0645 - accuracy: 0.9784 - val_loss: 0.2921 - val_accuracy: 0.9598\n",
            "Epoch 66/300\n",
            "147/147 [==============================] - 12s 81ms/step - loss: 0.0625 - accuracy: 0.9763 - val_loss: 0.3423 - val_accuracy: 0.9643\n",
            "Epoch 67/300\n",
            "147/147 [==============================] - 12s 81ms/step - loss: 0.0752 - accuracy: 0.9728 - val_loss: 0.3706 - val_accuracy: 0.9598\n",
            "Epoch 68/300\n",
            "147/147 [==============================] - 12s 80ms/step - loss: 0.0625 - accuracy: 0.9756 - val_loss: 0.2815 - val_accuracy: 0.9643\n",
            "Epoch 69/300\n",
            "147/147 [==============================] - 12s 82ms/step - loss: 0.0687 - accuracy: 0.9775 - val_loss: 0.2807 - val_accuracy: 0.9643\n",
            "Epoch 70/300\n",
            "147/147 [==============================] - 12s 80ms/step - loss: 0.0800 - accuracy: 0.9728 - val_loss: 0.3057 - val_accuracy: 0.9643\n",
            "Epoch 71/300\n",
            "147/147 [==============================] - 12s 82ms/step - loss: 0.0816 - accuracy: 0.9709 - val_loss: 0.3082 - val_accuracy: 0.9643\n",
            "Epoch 72/300\n",
            "147/147 [==============================] - 12s 82ms/step - loss: 0.0670 - accuracy: 0.9763 - val_loss: 0.3788 - val_accuracy: 0.9598\n",
            "Epoch 73/300\n",
            "147/147 [==============================] - 12s 82ms/step - loss: 0.0552 - accuracy: 0.9805 - val_loss: 0.3155 - val_accuracy: 0.9688\n",
            "Epoch 74/300\n",
            "147/147 [==============================] - 12s 82ms/step - loss: 0.0620 - accuracy: 0.9767 - val_loss: 0.3254 - val_accuracy: 0.9643\n",
            "Epoch 75/300\n",
            "147/147 [==============================] - 12s 82ms/step - loss: 0.0558 - accuracy: 0.9799 - val_loss: 0.3907 - val_accuracy: 0.9598\n",
            "Epoch 76/300\n",
            "147/147 [==============================] - 12s 82ms/step - loss: 0.0621 - accuracy: 0.9778 - val_loss: 0.3740 - val_accuracy: 0.9598\n",
            "Epoch 77/300\n",
            "147/147 [==============================] - 12s 80ms/step - loss: 0.0585 - accuracy: 0.9799 - val_loss: 0.4080 - val_accuracy: 0.9688\n",
            "Epoch 78/300\n",
            "147/147 [==============================] - 12s 82ms/step - loss: 0.0578 - accuracy: 0.9803 - val_loss: 0.3453 - val_accuracy: 0.9688\n",
            "Epoch 79/300\n",
            "147/147 [==============================] - 12s 80ms/step - loss: 0.0746 - accuracy: 0.9739 - val_loss: 0.2928 - val_accuracy: 0.9688\n",
            "Epoch 80/300\n",
            "147/147 [==============================] - 12s 81ms/step - loss: 0.0617 - accuracy: 0.9767 - val_loss: 0.2728 - val_accuracy: 0.9643\n",
            "Epoch 81/300\n",
            "147/147 [==============================] - 12s 80ms/step - loss: 0.0577 - accuracy: 0.9769 - val_loss: 0.2659 - val_accuracy: 0.9688\n",
            "Epoch 82/300\n",
            "147/147 [==============================] - 12s 82ms/step - loss: 0.0524 - accuracy: 0.9831 - val_loss: 0.3886 - val_accuracy: 0.9688\n",
            "Epoch 83/300\n",
            "147/147 [==============================] - 12s 81ms/step - loss: 0.0676 - accuracy: 0.9773 - val_loss: 0.3777 - val_accuracy: 0.9688\n",
            "Epoch 84/300\n",
            "147/147 [==============================] - 12s 82ms/step - loss: 0.0560 - accuracy: 0.9793 - val_loss: 0.3374 - val_accuracy: 0.9688\n",
            "Epoch 85/300\n",
            "147/147 [==============================] - 12s 82ms/step - loss: 0.0504 - accuracy: 0.9812 - val_loss: 0.3376 - val_accuracy: 0.9643\n",
            "Epoch 86/300\n",
            "147/147 [==============================] - 12s 82ms/step - loss: 0.0555 - accuracy: 0.9820 - val_loss: 0.3374 - val_accuracy: 0.9643\n",
            "Epoch 87/300\n",
            "147/147 [==============================] - 12s 81ms/step - loss: 0.0453 - accuracy: 0.9831 - val_loss: 0.4283 - val_accuracy: 0.9554\n",
            "Epoch 88/300\n",
            "147/147 [==============================] - 12s 81ms/step - loss: 0.0603 - accuracy: 0.9810 - val_loss: 0.3445 - val_accuracy: 0.9643\n"
          ]
        }
      ],
      "source": [
        "base_model = tf.keras.applications.MobileNetV2(\n",
        "    input_shape=(config.IMG_LEN, config.IMG_LEN, config.N_CHANNELS),\n",
        "    include_top=False,\n",
        "    weights=\"imagenet\"\n",
        ")\n",
        "\n",
        "model = ProjectionNet(\n",
        "    n_classes=len(config.GESTURES),\n",
        "    base_model=base_model\n",
        ").model()\n",
        "\n",
        "model.compile(\n",
        "    optimizer=tf.keras.optimizers.Adam(learning_rate=config.LEARNING_RATE),\n",
        "    loss=tf.keras.losses.SparseCategoricalCrossentropy(from_logits=False),\n",
        "    metrics=['accuracy']\n",
        ")\n",
        "\n",
        "callbacks = [\n",
        "    tf.keras.callbacks.EarlyStopping(\n",
        "        monitor=\"val_accuracy\",\n",
        "        patience=config.PATIENCE,\n",
        "        restore_best_weights=True\n",
        "    )\n",
        "]\n",
        "\n",
        "history = model.fit(\n",
        "    x=X_train,\n",
        "    y=y_train,\n",
        "    validation_data=(X_test, y_test),\n",
        "    batch_size=config.BATCH_SIZE,\n",
        "    epochs=config.N_EPOCHS,\n",
        "    verbose=1,\n",
        "    callbacks=callbacks\n",
        ")"
      ]
    },
    {
      "cell_type": "code",
      "execution_count": 7,
      "metadata": {
        "colab": {
          "base_uri": "https://localhost:8080/",
          "height": 415
        },
        "id": "ZI-yVWUU-l0b",
        "outputId": "3700cba0-aec4-48b8-81f8-220610c643a6"
      },
      "outputs": [
        {
          "output_type": "display_data",
          "data": {
            "text/plain": [
              "<Figure size 576x432 with 1 Axes>"
            ],
            "image/png": "[encoded data removed]"
          },
          "metadata": {
            "needs_background": "light"
          }
        }
      ],
      "source": [
        "import matplotlib.pyplot as plt\n",
        "\n",
        "plt.rcParams.update({\n",
        "    # \"text.usetex\": True,\n",
        "    \"font.family\": \"serif\",\n",
        "    # \"font.serif\": [\"Computer Modern Roman\"],\n",
        "    \"font.size\": 22,\n",
        "    \"text.color\": \"#212121\",\n",
        "    \"axes.edgecolor\": \"#212121\",\n",
        "    \"xtick.color\": \"#212121\",\n",
        "    \"ytick.color\": \"#212121\",\n",
        "    \"axes.labelcolor\": \"#212121\",\n",
        "    'legend.frameon': False,\n",
        "})\n",
        "\n",
        "fig = plt.figure(figsize=(8, 6))\n",
        "ax = fig.gca()\n",
        "ax.plot(history.history[\"accuracy\"], \"-\", color=\"#212121\", label=\"Train Accuracy\")\n",
        "ax.plot(history.history[\"val_accuracy\"], \"--\",\n",
        "        color=\"#212121\", label=\"Validation Accuracy\")\n",
        "ax.set_xlabel(\"Epoch\")\n",
        "ax.set_ylabel(\"Loss\")\n",
        "ax.spines['right'].set_visible(False)\n",
        "ax.spines['top'].set_visible(False)\n",
        "plt.title(\"Learning Curves\")\n",
        "plt.legend()\n",
        "plt.tight_layout()\n",
        "plt.savefig(\"lc_acc.svg\")\n",
        "plt.show()\n"
      ]
    },
    {
      "cell_type": "markdown",
      "metadata": {
        "id": "V42iaYRm-l0b"
      },
      "source": [
        "# Evaluation"
      ]
    },
    {
      "cell_type": "code",
      "execution_count": 8,
      "metadata": {
        "colab": {
          "base_uri": "https://localhost:8080/"
        },
        "id": "4xLKP5HZ-l0b",
        "outputId": "58965e61-1df3-49c1-c540-568b5e2bbc8d"
      },
      "outputs": [
        {
          "output_type": "stream",
          "name": "stdout",
          "text": [
            "7/7 [==============================] - 1s 73ms/step - loss: 0.3243 - accuracy: 0.9777\n"
          ]
        },
        {
          "output_type": "execute_result",
          "data": {
            "text/plain": [
              "[0.3243010938167572, 0.9776785969734192]"
            ]
          },
          "metadata": {},
          "execution_count": 8
        }
      ],
      "source": [
        "model.evaluate(X_test, y_test)"
      ]
    },
    {
      "cell_type": "code",
      "execution_count": 9,
      "metadata": {
        "colab": {
          "base_uri": "https://localhost:8080/"
        },
        "id": "eyWk237y-l0c",
        "outputId": "ab122968-9d1b-474c-e5f7-cefec5031165"
      },
      "outputs": [
        {
          "output_type": "stream",
          "name": "stdout",
          "text": [
            "              precision    recall  f1-score   support\n",
            "\n",
            "           0       0.93      1.00      0.97        14\n",
            "           1       1.00      1.00      1.00        21\n",
            "           2       0.85      1.00      0.92        17\n",
            "           3       1.00      1.00      1.00        10\n",
            "           4       1.00      1.00      1.00        15\n",
            "           5       0.94      1.00      0.97        15\n",
            "           6       1.00      0.94      0.97        17\n",
            "           7       1.00      1.00      1.00        10\n",
            "           8       1.00      0.86      0.93        22\n",
            "           9       1.00      1.00      1.00        20\n",
            "          10       1.00      0.93      0.97        15\n",
            "          11       1.00      1.00      1.00        13\n",
            "          12       1.00      1.00      1.00        17\n",
            "          13       1.00      1.00      1.00        18\n",
            "\n",
            "    accuracy                           0.98       224\n",
            "   macro avg       0.98      0.98      0.98       224\n",
            "weighted avg       0.98      0.98      0.98       224\n",
            "\n"
          ]
        }
      ],
      "source": [
        "from sklearn.metrics import classification_report\n",
        "\n",
        "y_pred = np.argmax(model.predict(X_test), axis=1)\n",
        "print(classification_report(y_test, y_pred))"
      ]
    },
    {
      "cell_type": "code",
      "execution_count": 10,
      "metadata": {
        "colab": {
          "base_uri": "https://localhost:8080/",
          "height": 703
        },
        "id": "_nE_hlbRCogk",
        "outputId": "b86cab61-a62a-4ac2-af2e-c6278cb64914"
      },
      "outputs": [
        {
          "output_type": "display_data",
          "data": {
            "text/plain": [
              "<Figure size 864x720 with 2 Axes>"
            ],
            "image/png": "[encoded data removed]"
          },
          "metadata": {
            "needs_background": "light"
          }
        }
      ],
      "source": [
        "import seaborn as sns\n",
        "from sklearn.metrics import confusion_matrix\n",
        "\n",
        "plt.figure(figsize=(12, 10))\n",
        "cm = confusion_matrix(y_test, y_pred, normalize=\"true\")\n",
        "sns.heatmap(cm, cmap=\"summer\")\n",
        "plt.xticks(np.arange(len(config.GESTURES)) + 0.5, config.GESTURES, rotation=90)\n",
        "plt.yticks(np.arange(len(config.GESTURES)) + 0.5, config.GESTURES, rotation=0)\n",
        "plt.tight_layout()\n",
        "plt.savefig(\"cm.svg\")"
      ]
    },
    {
      "cell_type": "code",
      "execution_count": 11,
      "metadata": {
        "id": "YWHAKvg7Dxe-"
      },
      "outputs": [],
      "source": [
        "model.save(\"stack_cnn.h5\", save_format=\"h5\")"
      ]
    },
    {
      "cell_type": "code",
      "source": [
        ""
      ],
      "metadata": {
        "id": "sDYNjo8mHYb8"
      },
      "execution_count": 11,
      "outputs": []
    }
  ],
  "metadata": {
    "accelerator": "GPU",
    "colab": {
      "name": "ProjectionNet.ipynb",
      "provenance": [],
      "include_colab_link": true
    },
    "gpuClass": "standard",
    "kernelspec": {
      "display_name": "Python 3.10.4 ('.env': venv)",
      "language": "python",
      "name": "python3"
    },
    "language_info": {
      "codemirror_mode": {
        "name": "ipython",
        "version": 3
      },
      "file_extension": ".py",
      "mimetype": "text/x-python",
      "name": "python",
      "nbconvert_exporter": "python",
      "pygments_lexer": "ipython3",
      "version": "3.10.5"
    },
    "orig_nbformat": 4,
    "vscode": {
      "interpreter": {
        "hash": "3f0f52ed645d8567bae68a8c372449e0a23f49f10e778396b1f58fd2946c160c"
      }
    }
  },
  "nbformat": 4,
  "nbformat_minor": 0
}