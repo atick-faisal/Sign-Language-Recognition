{
 "cells": [
  {
   "cell_type": "code",
   "execution_count": 1,
   "metadata": {},
   "outputs": [],
   "source": [
    "import os\n",
    "import math\n",
    "import config\n",
    "import numpy as np\n",
    "import pandas as pd\n",
    "import matplotlib.pyplot as plt\n",
    "\n",
    "from utils import (\n",
    "    create_img_grid,\n",
    "    SpatialProjection\n",
    ")\n",
    "\n",
    "os.environ[\"CUDA_VISIBLE_DEVICES\"] = \"-1\"\n"
   ]
  },
  {
   "cell_type": "code",
   "execution_count": 2,
   "metadata": {},
   "outputs": [],
   "source": [
    "data_dir = \"../../data/dataset/raw/\"\n",
    "images_dir = \"../../data/dataset/images/\"\n",
    "subjects = os.listdir(data_dir)\n",
    "\n",
    "IMG_LEN = 512\n",
    "\n",
    "sp = SpatialProjection(\n",
    "    img_dir=\"../../data/dataset/images/\",\n",
    "    img_len=math.floor(IMG_LEN / 3),\n",
    "    polyfit_degree=0\n",
    ")\n"
   ]
  },
  {
   "cell_type": "code",
   "execution_count": 3,
   "metadata": {},
   "outputs": [],
   "source": [
    "images = []\n",
    "labels = []\n",
    "\n",
    "for subject in subjects:\n",
    "    for gesture in config.GESTURES:\n",
    "        gesture_dir = os.path.join(data_dir, subject, gesture)\n",
    "\n",
    "        recordings = []\n",
    "        try:\n",
    "            recordings = os.listdir(gesture_dir)\n",
    "        except FileNotFoundError:\n",
    "            continue\n",
    "\n",
    "        for recording in recordings:\n",
    "            _images = []\n",
    "            file_path = os.path.join(gesture_dir, recording)\n",
    "\n",
    "            data = pd.read_csv(file_path)\n",
    "            data.drop(columns=[\"time\"], inplace=True)\n",
    "            data.drop(0, inplace=True)  # Remove first All-0 row\n",
    "\n",
    "            for landmark in config.PROJECTION_LANDMARKS:\n",
    "                _images.extend(\n",
    "                    sp.get_projection_images(\n",
    "                        data=data.filter(regex=landmark),\n",
    "                        subject=subject,\n",
    "                        gesture=gesture\n",
    "                    )\n",
    "                )\n",
    "\n",
    "            img = create_img_grid(_images, IMG_LEN)\n",
    "\n",
    "            images.append(img)\n",
    "            labels.append(config.GESTURES.index(gesture))\n",
    "\n",
    "            plt.imshow(img)\n",
    "            plt.title(f\"{subject}: {gesture}\")\n",
    "            save_path = os.path.join(images_dir, subject, gesture)\n",
    "            if not os.path.exists(save_path):\n",
    "                os.makedirs(save_path)\n",
    "            plt.savefig(os.path.join(save_path, recording + \".jpg\"))\n",
    "            plt.close()\n"
   ]
  },
  {
   "cell_type": "code",
   "execution_count": null,
   "metadata": {},
   "outputs": [],
   "source": []
  }
 ],
 "metadata": {
  "kernelspec": {
   "display_name": "Python 3.10.4 ('.env': venv)",
   "language": "python",
   "name": "python3"
  },
  "language_info": {
   "codemirror_mode": {
    "name": "ipython",
    "version": 3
   },
   "file_extension": ".py",
   "mimetype": "text/x-python",
   "name": "python",
   "nbconvert_exporter": "python",
   "pygments_lexer": "ipython3",
   "version": "3.10.5"
  },
  "orig_nbformat": 4,
  "vscode": {
   "interpreter": {
    "hash": "3f0f52ed645d8567bae68a8c372449e0a23f49f10e778396b1f58fd2946c160c"
   }
  }
 },
 "nbformat": 4,
 "nbformat_minor": 2
}
