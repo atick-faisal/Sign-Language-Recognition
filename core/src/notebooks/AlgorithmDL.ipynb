{
 "cells": [
  {
   "cell_type": "code",
   "execution_count": 1,
   "metadata": {},
   "outputs": [],
   "source": [
    "import os\n",
    "import numpy as np\n",
    "import pandas as pd\n",
    "from scipy.signal import resample\n",
    "from scipy.stats import mode\n",
    "\n",
    "from config import Config\n",
    "\n",
    "os.environ[\"CUDA_VISIBLE_DEVICES\"] = \"-1\"\n"
   ]
  },
  {
   "cell_type": "code",
   "execution_count": 2,
   "metadata": {},
   "outputs": [],
   "source": [
    "data_dir = \"../../../data/dataset/raw/\"\n",
    "subjects = os.listdir(data_dir)\n",
    "gestures = Config.GESTURES\n",
    "learning_rate = 3e-4\n",
    "\n",
    "test_subject = \"007\""
   ]
  },
  {
   "cell_type": "code",
   "execution_count": 3,
   "metadata": {},
   "outputs": [],
   "source": [
    "def __pre_process_recording(data: pd.DataFrame) -> pd.DataFrame:\n",
    "    data.drop(columns=[\"time\"], inplace=True)\n",
    "    data.drop(0, inplace=True)  # Remove first All-0 row\n",
    "    return data - data.iloc[:10].median()  # Initial position correction"
   ]
  },
  {
   "cell_type": "code",
   "execution_count": 4,
   "metadata": {},
   "outputs": [
    {
     "name": "stdout",
     "output_type": "stream",
     "text": [
      "(149700, 44)\n",
      "(24150, 44)\n"
     ]
    }
   ],
   "source": [
    "train_dataset = pd.DataFrame()\n",
    "test_dataset = pd.DataFrame()\n",
    "\n",
    "for subject in subjects:\n",
    "    for gesture in Config.GESTURES:\n",
    "        gesture_dir = os.path.join(data_dir, subject, gesture)\n",
    "        recordings = os.listdir(gesture_dir)\n",
    "        for recording in recordings:\n",
    "            file_path = os.path.join(gesture_dir, recording)\n",
    "            data = pd.read_csv(file_path)\n",
    "            # data.drop(columns=[\"time\"], inplace=True)\n",
    "            data = __pre_process_recording(data)\n",
    "            data = data.apply(resample, args=(Config.SEGMENT_LEN, None, 0))\n",
    "            \n",
    "            for_training = subject != test_subject\n",
    "\n",
    "            # # ... Distance to thumb finger-tip\n",
    "            # data[\"drf0\"] = np.sqrt(\n",
    "            #     np.square(data[\"rf0x\"] - data[\"rpx\"]) +\n",
    "            #     np.square(data[\"rf0z\"] - data[\"rpz\"])\n",
    "            # )\n",
    "\n",
    "            # # ... Distance to index finger-tip\n",
    "            # data[\"drf1\"] = np.sqrt(\n",
    "            #     np.square(data[\"rf1x\"] - data[\"rpx\"]) +\n",
    "            #     np.square(data[\"rf1z\"] - data[\"rpz\"])\n",
    "            # )\n",
    "\n",
    "            # # ... Distance to middle finger-tip\n",
    "            # data[\"drf2\"] = np.sqrt(\n",
    "            #     np.square(data[\"rf2x\"] - data[\"rpx\"]) +\n",
    "            #     np.square(data[\"rf2z\"] - data[\"rpz\"])\n",
    "            # )\n",
    "\n",
    "            # # ... Thumb coordineates wrt palm (for determining orientation)\n",
    "            # data[\"drf0x\"] = data[\"rf0x\"] - data[\"rpx\"]\n",
    "            # data[\"drf0z\"] = data[\"rf0z\"] - data[\"rpz\"]\n",
    "\n",
    "            # Features v1.0\n",
    "            data[\"drf0x\"] = data[\"rf0x\"] - data[\"rpx\"]\n",
    "            data[\"drf0y\"] = data[\"rf0y\"] - data[\"rpy\"]\n",
    "            data[\"drf0z\"] = data[\"rf0z\"] - data[\"rpz\"]\n",
    "\n",
    "            data[\"drf1x\"] = data[\"rf1x\"] - data[\"rpx\"]\n",
    "            data[\"drf1y\"] = data[\"rf1y\"] - data[\"rpy\"]\n",
    "            data[\"drf1z\"] = data[\"rf1z\"] - data[\"rpz\"]\n",
    "\n",
    "            data[\"label\"] = Config.GESTURES.index(gesture)\n",
    "\n",
    "            if for_training:\n",
    "                train_dataset = pd.concat([train_dataset, data])\n",
    "            else:\n",
    "                test_dataset = pd.concat([test_dataset, data])\n",
    "\n",
    "train_dataset.reset_index(inplace=True)\n",
    "test_dataset.reset_index(inplace=True)\n",
    "\n",
    "print(train_dataset.shape)\n",
    "print(test_dataset.shape)"
   ]
  },
  {
   "cell_type": "code",
   "execution_count": 5,
   "metadata": {},
   "outputs": [],
   "source": [
    "# diff_features = train_dataset[Config.DIFF_FEATURES]\n",
    "# dist_features = train_dataset[Config.DIST_FEATURES]\n",
    "\n",
    "# # dist_features = dist_features / dist_features.max(axis=0)\n",
    "\n",
    "# features = pd.concat([dist_features, diff_features], axis=1)\n",
    "# features"
   ]
  },
  {
   "cell_type": "markdown",
   "metadata": {},
   "source": [
    "# Scaler Metrics"
   ]
  },
  {
   "cell_type": "code",
   "execution_count": 6,
   "metadata": {},
   "outputs": [],
   "source": [
    "# features = train_dataset[Config.DIST_FEATURES]"
   ]
  },
  {
   "cell_type": "code",
   "execution_count": 7,
   "metadata": {},
   "outputs": [],
   "source": [
    "# from sklearn.preprocessing import MinMaxScaler\n",
    "\n",
    "# scaler = MinMaxScaler()\n",
    "# scaler.fit(features)\n",
    "# print(scaler.data_min_)\n",
    "# print(scaler.data_max_ - scaler.data_min_)"
   ]
  },
  {
   "cell_type": "code",
   "execution_count": 8,
   "metadata": {},
   "outputs": [],
   "source": [
    "# from sklearn.preprocessing import StandardScaler\n",
    "\n",
    "# scaler = StandardScaler()\n",
    "# scaler.fit(features)\n",
    "\n",
    "# print(scaler.mean_)\n",
    "# print(np.sqrt(scaler.var_))"
   ]
  },
  {
   "cell_type": "code",
   "execution_count": 9,
   "metadata": {},
   "outputs": [
    {
     "data": {
      "text/html": [
       "<div>\n",
       "<style scoped>\n",
       "    .dataframe tbody tr th:only-of-type {\n",
       "        vertical-align: middle;\n",
       "    }\n",
       "\n",
       "    .dataframe tbody tr th {\n",
       "        vertical-align: top;\n",
       "    }\n",
       "\n",
       "    .dataframe thead th {\n",
       "        text-align: right;\n",
       "    }\n",
       "</style>\n",
       "<table border=\"1\" class=\"dataframe\">\n",
       "  <thead>\n",
       "    <tr style=\"text-align: right;\">\n",
       "      <th></th>\n",
       "      <th>rpx</th>\n",
       "      <th>rpy</th>\n",
       "      <th>rpz</th>\n",
       "      <th>label</th>\n",
       "    </tr>\n",
       "  </thead>\n",
       "  <tbody>\n",
       "    <tr>\n",
       "      <th>0</th>\n",
       "      <td>-3.812357</td>\n",
       "      <td>-8.057452</td>\n",
       "      <td>5.240843</td>\n",
       "      <td>0</td>\n",
       "    </tr>\n",
       "    <tr>\n",
       "      <th>1</th>\n",
       "      <td>1.002518</td>\n",
       "      <td>2.115327</td>\n",
       "      <td>-1.358159</td>\n",
       "      <td>0</td>\n",
       "    </tr>\n",
       "    <tr>\n",
       "      <th>2</th>\n",
       "      <td>-0.544964</td>\n",
       "      <td>-1.122305</td>\n",
       "      <td>0.740645</td>\n",
       "      <td>0</td>\n",
       "    </tr>\n",
       "    <tr>\n",
       "      <th>3</th>\n",
       "      <td>0.367240</td>\n",
       "      <td>0.725148</td>\n",
       "      <td>-0.504207</td>\n",
       "      <td>0</td>\n",
       "    </tr>\n",
       "    <tr>\n",
       "      <th>4</th>\n",
       "      <td>-0.277008</td>\n",
       "      <td>-0.592802</td>\n",
       "      <td>0.356569</td>\n",
       "      <td>0</td>\n",
       "    </tr>\n",
       "    <tr>\n",
       "      <th>...</th>\n",
       "      <td>...</td>\n",
       "      <td>...</td>\n",
       "      <td>...</td>\n",
       "      <td>...</td>\n",
       "    </tr>\n",
       "    <tr>\n",
       "      <th>149695</th>\n",
       "      <td>-8.208508</td>\n",
       "      <td>37.130129</td>\n",
       "      <td>17.663796</td>\n",
       "      <td>13</td>\n",
       "    </tr>\n",
       "    <tr>\n",
       "      <th>149696</th>\n",
       "      <td>-7.852542</td>\n",
       "      <td>35.672697</td>\n",
       "      <td>16.935784</td>\n",
       "      <td>13</td>\n",
       "    </tr>\n",
       "    <tr>\n",
       "      <th>149697</th>\n",
       "      <td>-8.266356</td>\n",
       "      <td>37.528537</td>\n",
       "      <td>17.785945</td>\n",
       "      <td>13</td>\n",
       "    </tr>\n",
       "    <tr>\n",
       "      <th>149698</th>\n",
       "      <td>-7.681733</td>\n",
       "      <td>34.959156</td>\n",
       "      <td>16.569401</td>\n",
       "      <td>13</td>\n",
       "    </tr>\n",
       "    <tr>\n",
       "      <th>149699</th>\n",
       "      <td>-8.629443</td>\n",
       "      <td>39.152575</td>\n",
       "      <td>18.573415</td>\n",
       "      <td>13</td>\n",
       "    </tr>\n",
       "  </tbody>\n",
       "</table>\n",
       "<p>149700 rows × 4 columns</p>\n",
       "</div>"
      ],
      "text/plain": [
       "             rpx        rpy        rpz  label\n",
       "0      -3.812357  -8.057452   5.240843      0\n",
       "1       1.002518   2.115327  -1.358159      0\n",
       "2      -0.544964  -1.122305   0.740645      0\n",
       "3       0.367240   0.725148  -0.504207      0\n",
       "4      -0.277008  -0.592802   0.356569      0\n",
       "...          ...        ...        ...    ...\n",
       "149695 -8.208508  37.130129  17.663796     13\n",
       "149696 -7.852542  35.672697  16.935784     13\n",
       "149697 -8.266356  37.528537  17.785945     13\n",
       "149698 -7.681733  34.959156  16.569401     13\n",
       "149699 -8.629443  39.152575  18.573415     13\n",
       "\n",
       "[149700 rows x 4 columns]"
      ]
     },
     "execution_count": 9,
     "metadata": {},
     "output_type": "execute_result"
    }
   ],
   "source": [
    "train_features = train_dataset[Config.INFERENCE_FEATURES + [\"label\"]]\n",
    "test_features = test_dataset[Config.INFERENCE_FEATURES + [\"label\"]]\n",
    "train_features"
   ]
  },
  {
   "cell_type": "code",
   "execution_count": 10,
   "metadata": {},
   "outputs": [],
   "source": [
    "import tensorflow as tf\n",
    "\n",
    "from tensorflow.keras import layers, models, losses, optimizers\n",
    "from sklearn.preprocessing import MinMaxScaler\n",
    "from sklearn.model_selection import train_test_split"
   ]
  },
  {
   "cell_type": "code",
   "execution_count": 11,
   "metadata": {},
   "outputs": [
    {
     "name": "stdout",
     "output_type": "stream",
     "text": [
      "(998, 150, 3)\n",
      "(161, 150, 3)\n",
      "(998, 1)\n",
      "(161, 1)\n"
     ]
    }
   ],
   "source": [
    "scaler = MinMaxScaler()\n",
    "# X = features.drop(columns=[\"label\"]).to_numpy()\n",
    "# X = scaler.fit_transform(X)\n",
    "# X = X.reshape((-1, Config.SEGMENT_LEN, len(Config.INFERENCE_FEATURES)))\n",
    "# y = features[\"label\"].to_numpy().reshape((-1, Config.SEGMENT_LEN))\n",
    "# y, _ = mode(y, axis=1)\n",
    "\n",
    "# X_train, X_test, y_train, y_test = train_test_split(\n",
    "#     X, y, test_size=0.33, random_state=42\n",
    "# )\n",
    "\n",
    "X_train = train_features.drop(columns=[\"label\"]).to_numpy()\n",
    "X_test = test_features.drop(columns=[\"label\"]).to_numpy()\n",
    "\n",
    "scaler.fit(X_train)\n",
    "X_train = scaler.transform(X_train)\n",
    "X_test = scaler.transform(X_test)\n",
    "\n",
    "X_train = X_train.reshape((-1, Config.SEGMENT_LEN, len(Config.INFERENCE_FEATURES)))\n",
    "X_test = X_test.reshape((-1, Config.SEGMENT_LEN, len(Config.INFERENCE_FEATURES)))\n",
    "\n",
    "y_train = train_features[\"label\"].to_numpy().reshape((-1, Config.SEGMENT_LEN))\n",
    "y_test = test_features[\"label\"].to_numpy().reshape((-1, Config.SEGMENT_LEN))\n",
    "\n",
    "y_train, _ = mode(y_train, axis=1)\n",
    "y_test, _ = mode(y_test, axis=1)\n",
    "\n",
    "print(X_train.shape)\n",
    "print(X_test.shape)\n",
    "print(y_train.shape)\n",
    "print(y_test.shape)\n"
   ]
  },
  {
   "cell_type": "code",
   "execution_count": 12,
   "metadata": {},
   "outputs": [],
   "source": [
    "def conv_block_1d():\n",
    "    inputs = layers.Input(shape=(Config.SEGMENT_LEN, 1))\n",
    "    x = layers.BatchNormalization()(inputs)\n",
    "    x = layers.Conv1D(8, 3, activation=\"selu\")(x)\n",
    "    x = layers.Conv1D(8, 3, activation=\"selu\")(x)\n",
    "    x = layers.MaxPool1D(2)(x)\n",
    "    x = layers.Conv1D(8, 3, activation=\"selu\")(x)\n",
    "    x = layers.Conv1D(8, 3, activation=\"selu\")(x)\n",
    "    x = layers.MaxPool1D(2)(x)\n",
    "    x = layers.Conv1D(16, 3, activation=\"selu\")(x)\n",
    "    x = layers.Conv1D(16, 3, activation=\"selu\")(x)\n",
    "    x = layers.MaxPool1D(2)(x)\n",
    "    x = layers.Conv1D(16, 3, activation=\"selu\")(x)\n",
    "    x = layers.Conv1D(16, 3, activation=\"selu\")(x)\n",
    "    x = layers.MaxPool1D(2)(x)\n",
    "    x = layers.Flatten()(x)\n",
    "    output = layers.Dense(64)(x)\n",
    "\n",
    "    return inputs, output\n",
    "\n",
    "def get_model(n_channels: int):\n",
    "    inputs = []\n",
    "    features = []\n",
    "\n",
    "    for _ in range(n_channels):\n",
    "        input_1d, features_1d = conv_block_1d()\n",
    "        inputs.append(input_1d)\n",
    "        features.append(features_1d)\n",
    "\n",
    "    x = layers.concatenate(features, axis=-1)\n",
    "    x = layers.Dropout(0.5)(x)\n",
    "    x = layers.Dense(128, activation=\"relu\")(x)\n",
    "    x = layers.Dropout(0.5)(x)\n",
    "    output = layers.Dense(len(gestures), activation=\"softmax\")(x)\n",
    "\n",
    "    return models.Model(inputs, output)"
   ]
  },
  {
   "cell_type": "code",
   "execution_count": 13,
   "metadata": {},
   "outputs": [],
   "source": [
    "model = get_model(n_channels=len(Config.INFERENCE_FEATURES))\n",
    "\n",
    "loss = losses.SparseCategoricalCrossentropy(from_logits=False)\n",
    "optimizer = optimizers.Adam(learning_rate=learning_rate)\n",
    "model.compile(\n",
    "    loss=loss,\n",
    "    optimizer=optimizer,\n",
    "    metrics=[\"accuracy\"]\n",
    ")"
   ]
  },
  {
   "cell_type": "code",
   "execution_count": 14,
   "metadata": {},
   "outputs": [
    {
     "name": "stdout",
     "output_type": "stream",
     "text": [
      "Epoch 1/300\n",
      "32/32 [==============================] - 2s 21ms/step - loss: 2.9016 - accuracy: 0.1012 - val_loss: 2.6359 - val_accuracy: 0.0745\n",
      "Epoch 2/300\n",
      "32/32 [==============================] - 0s 9ms/step - loss: 2.5055 - accuracy: 0.1653 - val_loss: 2.5754 - val_accuracy: 0.1056\n",
      "Epoch 3/300\n",
      "32/32 [==============================] - 0s 9ms/step - loss: 2.3758 - accuracy: 0.2024 - val_loss: 2.5185 - val_accuracy: 0.1801\n",
      "Epoch 4/300\n",
      "32/32 [==============================] - 0s 9ms/step - loss: 2.1976 - accuracy: 0.2675 - val_loss: 2.4153 - val_accuracy: 0.1988\n",
      "Epoch 5/300\n",
      "32/32 [==============================] - 0s 10ms/step - loss: 2.0499 - accuracy: 0.3096 - val_loss: 2.2947 - val_accuracy: 0.2671\n",
      "Epoch 6/300\n",
      "32/32 [==============================] - 0s 9ms/step - loss: 1.9209 - accuracy: 0.3667 - val_loss: 2.1449 - val_accuracy: 0.3851\n",
      "Epoch 7/300\n",
      "32/32 [==============================] - 0s 9ms/step - loss: 1.8201 - accuracy: 0.3918 - val_loss: 2.0758 - val_accuracy: 0.4472\n",
      "Epoch 8/300\n",
      "32/32 [==============================] - 0s 9ms/step - loss: 1.7768 - accuracy: 0.4259 - val_loss: 1.9409 - val_accuracy: 0.4348\n",
      "Epoch 9/300\n",
      "32/32 [==============================] - 0s 9ms/step - loss: 1.6876 - accuracy: 0.4399 - val_loss: 1.8415 - val_accuracy: 0.4658\n",
      "Epoch 10/300\n",
      "32/32 [==============================] - 0s 10ms/step - loss: 1.5964 - accuracy: 0.4749 - val_loss: 1.7218 - val_accuracy: 0.4845\n",
      "Epoch 11/300\n",
      "32/32 [==============================] - 0s 9ms/step - loss: 1.5165 - accuracy: 0.4960 - val_loss: 1.6308 - val_accuracy: 0.4969\n",
      "Epoch 12/300\n",
      "32/32 [==============================] - 0s 9ms/step - loss: 1.4958 - accuracy: 0.4950 - val_loss: 1.5219 - val_accuracy: 0.5528\n",
      "Epoch 13/300\n",
      "32/32 [==============================] - 0s 10ms/step - loss: 1.4492 - accuracy: 0.5190 - val_loss: 1.4652 - val_accuracy: 0.5093\n",
      "Epoch 14/300\n",
      "32/32 [==============================] - 0s 9ms/step - loss: 1.3689 - accuracy: 0.5521 - val_loss: 1.3843 - val_accuracy: 0.5466\n",
      "Epoch 15/300\n",
      "32/32 [==============================] - 0s 10ms/step - loss: 1.2955 - accuracy: 0.5591 - val_loss: 1.4145 - val_accuracy: 0.5342\n",
      "Epoch 16/300\n",
      "32/32 [==============================] - 0s 9ms/step - loss: 1.3163 - accuracy: 0.5671 - val_loss: 1.3815 - val_accuracy: 0.5590\n",
      "Epoch 17/300\n",
      "32/32 [==============================] - 0s 9ms/step - loss: 1.2890 - accuracy: 0.5752 - val_loss: 1.3518 - val_accuracy: 0.5590\n",
      "Epoch 18/300\n",
      "32/32 [==============================] - 0s 11ms/step - loss: 1.2864 - accuracy: 0.5691 - val_loss: 1.3183 - val_accuracy: 0.5652\n",
      "Epoch 19/300\n",
      "32/32 [==============================] - 0s 10ms/step - loss: 1.2148 - accuracy: 0.5922 - val_loss: 1.2930 - val_accuracy: 0.5776\n",
      "Epoch 20/300\n",
      "32/32 [==============================] - 0s 10ms/step - loss: 1.1352 - accuracy: 0.6112 - val_loss: 1.3107 - val_accuracy: 0.5652\n",
      "Epoch 21/300\n",
      "32/32 [==============================] - 0s 10ms/step - loss: 1.1374 - accuracy: 0.6433 - val_loss: 1.2949 - val_accuracy: 0.5714\n",
      "Epoch 22/300\n",
      "32/32 [==============================] - 0s 10ms/step - loss: 1.1259 - accuracy: 0.6242 - val_loss: 1.2796 - val_accuracy: 0.5466\n",
      "Epoch 23/300\n",
      "32/32 [==============================] - 0s 10ms/step - loss: 1.1408 - accuracy: 0.6052 - val_loss: 1.2752 - val_accuracy: 0.6025\n",
      "Epoch 24/300\n",
      "32/32 [==============================] - 0s 12ms/step - loss: 1.0542 - accuracy: 0.6553 - val_loss: 1.2504 - val_accuracy: 0.5714\n",
      "Epoch 25/300\n",
      "32/32 [==============================] - 0s 10ms/step - loss: 1.0451 - accuracy: 0.6483 - val_loss: 1.2352 - val_accuracy: 0.5342\n",
      "Epoch 26/300\n",
      "32/32 [==============================] - 0s 10ms/step - loss: 1.0148 - accuracy: 0.6553 - val_loss: 1.2046 - val_accuracy: 0.5839\n",
      "Epoch 27/300\n",
      "32/32 [==============================] - 0s 10ms/step - loss: 0.9699 - accuracy: 0.6874 - val_loss: 1.1525 - val_accuracy: 0.6025\n",
      "Epoch 28/300\n",
      "32/32 [==============================] - 0s 10ms/step - loss: 0.9668 - accuracy: 0.6824 - val_loss: 1.1613 - val_accuracy: 0.6149\n",
      "Epoch 29/300\n",
      "32/32 [==============================] - 0s 10ms/step - loss: 0.9582 - accuracy: 0.6854 - val_loss: 1.1733 - val_accuracy: 0.6025\n",
      "Epoch 30/300\n",
      "32/32 [==============================] - 0s 10ms/step - loss: 0.9128 - accuracy: 0.6924 - val_loss: 1.1569 - val_accuracy: 0.6211\n",
      "Epoch 31/300\n",
      "32/32 [==============================] - 0s 10ms/step - loss: 0.9022 - accuracy: 0.6994 - val_loss: 1.0959 - val_accuracy: 0.6025\n",
      "Epoch 32/300\n",
      "32/32 [==============================] - 0s 10ms/step - loss: 0.9026 - accuracy: 0.7114 - val_loss: 1.2284 - val_accuracy: 0.6087\n",
      "Epoch 33/300\n",
      "32/32 [==============================] - 0s 10ms/step - loss: 0.8985 - accuracy: 0.6964 - val_loss: 1.1091 - val_accuracy: 0.5963\n",
      "Epoch 34/300\n",
      "32/32 [==============================] - 0s 10ms/step - loss: 0.9042 - accuracy: 0.7104 - val_loss: 1.0992 - val_accuracy: 0.6273\n",
      "Epoch 35/300\n",
      "32/32 [==============================] - 0s 10ms/step - loss: 0.8784 - accuracy: 0.6944 - val_loss: 1.1078 - val_accuracy: 0.6335\n",
      "Epoch 36/300\n",
      "32/32 [==============================] - 0s 9ms/step - loss: 0.8407 - accuracy: 0.7224 - val_loss: 1.0976 - val_accuracy: 0.6273\n",
      "Epoch 37/300\n",
      "32/32 [==============================] - 0s 10ms/step - loss: 0.8366 - accuracy: 0.7134 - val_loss: 1.0393 - val_accuracy: 0.6149\n",
      "Epoch 38/300\n",
      "32/32 [==============================] - 0s 10ms/step - loss: 0.8342 - accuracy: 0.7275 - val_loss: 1.0703 - val_accuracy: 0.5963\n",
      "Epoch 39/300\n",
      "32/32 [==============================] - 0s 9ms/step - loss: 0.8055 - accuracy: 0.7355 - val_loss: 1.0605 - val_accuracy: 0.6398\n",
      "Epoch 40/300\n",
      "32/32 [==============================] - 0s 10ms/step - loss: 0.7497 - accuracy: 0.7475 - val_loss: 1.1186 - val_accuracy: 0.5963\n",
      "Epoch 41/300\n",
      "32/32 [==============================] - 0s 10ms/step - loss: 0.7567 - accuracy: 0.7405 - val_loss: 1.1487 - val_accuracy: 0.5963\n",
      "Epoch 42/300\n",
      "32/32 [==============================] - 0s 10ms/step - loss: 0.8150 - accuracy: 0.7164 - val_loss: 1.0840 - val_accuracy: 0.5776\n",
      "Epoch 43/300\n",
      "32/32 [==============================] - 0s 10ms/step - loss: 0.8193 - accuracy: 0.7275 - val_loss: 1.0215 - val_accuracy: 0.6273\n",
      "Epoch 44/300\n",
      "32/32 [==============================] - 0s 9ms/step - loss: 0.7502 - accuracy: 0.7385 - val_loss: 1.0775 - val_accuracy: 0.6211\n",
      "Epoch 45/300\n",
      "32/32 [==============================] - 0s 10ms/step - loss: 0.7672 - accuracy: 0.7395 - val_loss: 1.0187 - val_accuracy: 0.6335\n",
      "Epoch 46/300\n",
      "32/32 [==============================] - 0s 10ms/step - loss: 0.7372 - accuracy: 0.7575 - val_loss: 0.9852 - val_accuracy: 0.6273\n",
      "Epoch 47/300\n",
      "32/32 [==============================] - 0s 10ms/step - loss: 0.7085 - accuracy: 0.7756 - val_loss: 1.1261 - val_accuracy: 0.6273\n",
      "Epoch 48/300\n",
      "32/32 [==============================] - 0s 10ms/step - loss: 0.7037 - accuracy: 0.7786 - val_loss: 1.1117 - val_accuracy: 0.6149\n",
      "Epoch 49/300\n",
      "32/32 [==============================] - 0s 10ms/step - loss: 0.6888 - accuracy: 0.7786 - val_loss: 1.1178 - val_accuracy: 0.6335\n",
      "Epoch 50/300\n",
      "32/32 [==============================] - 0s 10ms/step - loss: 0.6967 - accuracy: 0.7745 - val_loss: 1.0789 - val_accuracy: 0.6335\n",
      "Epoch 51/300\n",
      "32/32 [==============================] - 0s 10ms/step - loss: 0.7093 - accuracy: 0.7685 - val_loss: 1.0301 - val_accuracy: 0.6398\n",
      "Epoch 52/300\n",
      "32/32 [==============================] - 0s 10ms/step - loss: 0.7019 - accuracy: 0.7725 - val_loss: 0.9865 - val_accuracy: 0.6770\n",
      "Epoch 53/300\n",
      "32/32 [==============================] - 0s 12ms/step - loss: 0.7031 - accuracy: 0.7605 - val_loss: 1.0561 - val_accuracy: 0.6211\n",
      "Epoch 54/300\n",
      "32/32 [==============================] - 0s 10ms/step - loss: 0.6547 - accuracy: 0.7705 - val_loss: 1.1075 - val_accuracy: 0.6460\n",
      "Epoch 55/300\n",
      "32/32 [==============================] - 0s 10ms/step - loss: 0.6518 - accuracy: 0.7816 - val_loss: 1.1256 - val_accuracy: 0.6646\n",
      "Epoch 56/300\n",
      "32/32 [==============================] - 0s 10ms/step - loss: 0.6842 - accuracy: 0.7756 - val_loss: 1.0374 - val_accuracy: 0.6211\n",
      "Epoch 57/300\n",
      "32/32 [==============================] - 0s 10ms/step - loss: 0.6707 - accuracy: 0.7735 - val_loss: 1.1349 - val_accuracy: 0.6025\n",
      "Epoch 58/300\n",
      "32/32 [==============================] - 0s 10ms/step - loss: 0.6205 - accuracy: 0.7796 - val_loss: 1.0718 - val_accuracy: 0.6335\n",
      "Epoch 59/300\n",
      "32/32 [==============================] - 0s 10ms/step - loss: 0.6224 - accuracy: 0.7836 - val_loss: 1.0979 - val_accuracy: 0.6460\n",
      "Epoch 60/300\n",
      "32/32 [==============================] - 0s 10ms/step - loss: 0.6540 - accuracy: 0.7735 - val_loss: 1.0350 - val_accuracy: 0.6211\n",
      "Epoch 61/300\n",
      "32/32 [==============================] - 0s 10ms/step - loss: 0.5751 - accuracy: 0.8136 - val_loss: 1.1318 - val_accuracy: 0.5901\n",
      "Epoch 62/300\n",
      "32/32 [==============================] - 0s 10ms/step - loss: 0.5835 - accuracy: 0.8076 - val_loss: 1.0372 - val_accuracy: 0.6335\n",
      "Epoch 63/300\n",
      "32/32 [==============================] - 0s 10ms/step - loss: 0.5963 - accuracy: 0.8066 - val_loss: 1.0110 - val_accuracy: 0.6708\n",
      "Epoch 64/300\n",
      "32/32 [==============================] - 0s 10ms/step - loss: 0.6270 - accuracy: 0.7776 - val_loss: 1.0365 - val_accuracy: 0.6708\n",
      "Epoch 65/300\n",
      "32/32 [==============================] - 0s 10ms/step - loss: 0.6450 - accuracy: 0.7756 - val_loss: 1.0094 - val_accuracy: 0.6832\n",
      "Epoch 66/300\n",
      "32/32 [==============================] - 0s 10ms/step - loss: 0.5914 - accuracy: 0.7946 - val_loss: 1.0415 - val_accuracy: 0.7019\n",
      "Epoch 67/300\n",
      "32/32 [==============================] - 0s 10ms/step - loss: 0.5627 - accuracy: 0.8236 - val_loss: 1.0278 - val_accuracy: 0.6957\n",
      "Epoch 68/300\n",
      "32/32 [==============================] - 0s 10ms/step - loss: 0.5804 - accuracy: 0.8116 - val_loss: 1.0070 - val_accuracy: 0.6584\n",
      "Epoch 69/300\n",
      "32/32 [==============================] - 0s 10ms/step - loss: 0.5422 - accuracy: 0.8327 - val_loss: 0.9810 - val_accuracy: 0.6708\n",
      "Epoch 70/300\n",
      "32/32 [==============================] - 0s 10ms/step - loss: 0.5644 - accuracy: 0.8307 - val_loss: 1.0538 - val_accuracy: 0.6832\n",
      "Epoch 71/300\n",
      "32/32 [==============================] - 0s 10ms/step - loss: 0.5541 - accuracy: 0.8076 - val_loss: 0.9959 - val_accuracy: 0.6708\n",
      "Epoch 72/300\n",
      "32/32 [==============================] - 0s 10ms/step - loss: 0.5699 - accuracy: 0.8116 - val_loss: 0.9592 - val_accuracy: 0.6957\n",
      "Epoch 73/300\n",
      "32/32 [==============================] - 0s 10ms/step - loss: 0.5784 - accuracy: 0.7926 - val_loss: 1.0418 - val_accuracy: 0.6584\n",
      "Epoch 74/300\n",
      "32/32 [==============================] - 0s 10ms/step - loss: 0.5313 - accuracy: 0.8186 - val_loss: 0.9813 - val_accuracy: 0.6522\n",
      "Epoch 75/300\n",
      "32/32 [==============================] - 0s 10ms/step - loss: 0.5558 - accuracy: 0.8246 - val_loss: 1.1635 - val_accuracy: 0.6273\n",
      "Epoch 76/300\n",
      "32/32 [==============================] - 0s 10ms/step - loss: 0.5469 - accuracy: 0.8206 - val_loss: 1.0059 - val_accuracy: 0.6957\n",
      "Epoch 77/300\n",
      "32/32 [==============================] - 0s 10ms/step - loss: 0.5295 - accuracy: 0.8246 - val_loss: 0.9833 - val_accuracy: 0.6832\n",
      "Epoch 78/300\n",
      "32/32 [==============================] - 0s 10ms/step - loss: 0.5133 - accuracy: 0.8317 - val_loss: 0.9997 - val_accuracy: 0.6584\n",
      "Epoch 79/300\n",
      "32/32 [==============================] - 0s 10ms/step - loss: 0.5175 - accuracy: 0.8287 - val_loss: 1.1164 - val_accuracy: 0.6646\n",
      "Epoch 80/300\n",
      "32/32 [==============================] - 0s 10ms/step - loss: 0.5954 - accuracy: 0.8066 - val_loss: 1.2322 - val_accuracy: 0.6211\n",
      "Epoch 81/300\n",
      "32/32 [==============================] - 0s 10ms/step - loss: 0.5135 - accuracy: 0.8277 - val_loss: 1.0471 - val_accuracy: 0.6770\n",
      "Epoch 82/300\n",
      "32/32 [==============================] - 0s 10ms/step - loss: 0.4967 - accuracy: 0.8156 - val_loss: 1.0093 - val_accuracy: 0.6646\n",
      "Epoch 83/300\n",
      "32/32 [==============================] - 0s 10ms/step - loss: 0.5816 - accuracy: 0.8066 - val_loss: 0.9732 - val_accuracy: 0.6894\n",
      "Epoch 84/300\n",
      "32/32 [==============================] - 0s 10ms/step - loss: 0.5554 - accuracy: 0.8116 - val_loss: 1.1389 - val_accuracy: 0.6708\n",
      "Epoch 85/300\n",
      "32/32 [==============================] - 0s 10ms/step - loss: 0.5004 - accuracy: 0.8327 - val_loss: 1.0508 - val_accuracy: 0.6708\n",
      "Epoch 86/300\n",
      "32/32 [==============================] - 0s 10ms/step - loss: 0.5002 - accuracy: 0.8307 - val_loss: 1.0855 - val_accuracy: 0.7143\n",
      "Epoch 87/300\n",
      "32/32 [==============================] - 0s 10ms/step - loss: 0.4709 - accuracy: 0.8327 - val_loss: 1.0741 - val_accuracy: 0.7019\n",
      "Epoch 88/300\n",
      "32/32 [==============================] - 0s 12ms/step - loss: 0.5320 - accuracy: 0.8357 - val_loss: 1.0333 - val_accuracy: 0.6957\n",
      "Epoch 89/300\n",
      "32/32 [==============================] - 0s 10ms/step - loss: 0.4852 - accuracy: 0.8357 - val_loss: 1.0984 - val_accuracy: 0.6584\n",
      "Epoch 90/300\n",
      "32/32 [==============================] - 0s 10ms/step - loss: 0.5243 - accuracy: 0.8257 - val_loss: 1.0886 - val_accuracy: 0.6957\n",
      "Epoch 91/300\n",
      "32/32 [==============================] - 0s 10ms/step - loss: 0.4630 - accuracy: 0.8357 - val_loss: 1.1126 - val_accuracy: 0.7267\n",
      "Epoch 92/300\n",
      "32/32 [==============================] - 0s 10ms/step - loss: 0.4798 - accuracy: 0.8277 - val_loss: 1.0620 - val_accuracy: 0.7019\n",
      "Epoch 93/300\n",
      "32/32 [==============================] - 0s 10ms/step - loss: 0.5058 - accuracy: 0.8357 - val_loss: 1.0438 - val_accuracy: 0.7205\n",
      "Epoch 94/300\n",
      "32/32 [==============================] - 0s 10ms/step - loss: 0.5172 - accuracy: 0.8216 - val_loss: 1.0247 - val_accuracy: 0.6832\n",
      "Epoch 95/300\n",
      "32/32 [==============================] - 0s 10ms/step - loss: 0.4808 - accuracy: 0.8427 - val_loss: 1.0417 - val_accuracy: 0.6957\n",
      "Epoch 96/300\n",
      "32/32 [==============================] - 0s 10ms/step - loss: 0.4363 - accuracy: 0.8487 - val_loss: 0.9800 - val_accuracy: 0.7143\n",
      "Epoch 97/300\n",
      "32/32 [==============================] - 0s 10ms/step - loss: 0.4388 - accuracy: 0.8507 - val_loss: 1.0995 - val_accuracy: 0.6522\n",
      "Epoch 98/300\n",
      "32/32 [==============================] - 0s 10ms/step - loss: 0.4926 - accuracy: 0.8337 - val_loss: 1.0277 - val_accuracy: 0.6957\n",
      "Epoch 99/300\n",
      "32/32 [==============================] - 0s 10ms/step - loss: 0.4554 - accuracy: 0.8347 - val_loss: 1.0297 - val_accuracy: 0.7019\n",
      "Epoch 100/300\n",
      "32/32 [==============================] - 0s 10ms/step - loss: 0.4698 - accuracy: 0.8497 - val_loss: 1.0629 - val_accuracy: 0.7019\n",
      "Epoch 101/300\n",
      "32/32 [==============================] - 0s 10ms/step - loss: 0.4681 - accuracy: 0.8377 - val_loss: 1.0947 - val_accuracy: 0.6770\n",
      "Epoch 102/300\n",
      "32/32 [==============================] - 0s 10ms/step - loss: 0.4752 - accuracy: 0.8287 - val_loss: 1.0898 - val_accuracy: 0.7019\n"
     ]
    }
   ],
   "source": [
    "callbacks = [\n",
    "    tf.keras.callbacks.EarlyStopping(\n",
    "        monitor=\"val_loss\",\n",
    "        patience=30,\n",
    "        restore_best_weights=True\n",
    "    )\n",
    "]\n",
    "\n",
    "history = model.fit(\n",
    "    x=np.split(X_train, len(Config.INFERENCE_FEATURES), axis=-1),\n",
    "    y=y_train,\n",
    "    validation_data=(\n",
    "        np.split(X_test, len(Config.INFERENCE_FEATURES), axis=-1),\n",
    "        y_test\n",
    "    ),\n",
    "    batch_size=32,\n",
    "    epochs=300,\n",
    "    verbose=1,\n",
    "    callbacks=callbacks\n",
    ")"
   ]
  },
  {
   "cell_type": "code",
   "execution_count": 15,
   "metadata": {},
   "outputs": [
    {
     "name": "stdout",
     "output_type": "stream",
     "text": [
      "6/6 [==============================] - 0s 3ms/step - loss: 0.9592 - accuracy: 0.6957\n"
     ]
    },
    {
     "data": {
      "text/plain": [
       "[0.9592047929763794, 0.695652186870575]"
      ]
     },
     "execution_count": 15,
     "metadata": {},
     "output_type": "execute_result"
    }
   ],
   "source": [
    "model.evaluate(np.split(X_test, len(Config.INFERENCE_FEATURES), axis=-1), y_test)"
   ]
  },
  {
   "cell_type": "code",
   "execution_count": 16,
   "metadata": {},
   "outputs": [
    {
     "data": {
      "image/png": "[encoded data removed]",
      "text/plain": [
       "<Figure size 576x432 with 1 Axes>"
      ]
     },
     "metadata": {
      "needs_background": "light"
     },
     "output_type": "display_data"
    }
   ],
   "source": [
    "import matplotlib.pyplot as plt\n",
    "\n",
    "plt.rcParams.update({\n",
    "    # \"text.usetex\": True,\n",
    "    \"font.family\": \"serif\",\n",
    "    # \"font.serif\": [\"Computer Modern Roman\"],\n",
    "    \"font.size\": 22,\n",
    "    \"text.color\": \"#212121\",\n",
    "    \"axes.edgecolor\": \"#212121\",\n",
    "    \"xtick.color\": \"#212121\",\n",
    "    \"ytick.color\": \"#212121\",\n",
    "    \"axes.labelcolor\": \"#212121\",\n",
    "    'legend.frameon': False,\n",
    "})\n",
    "\n",
    "fig = plt.figure(figsize=(8, 6))\n",
    "ax = fig.gca()\n",
    "ax.plot(history.history[\"loss\"], \"-\", color=\"#212121\", label=\"Train Loss\")\n",
    "ax.plot(history.history[\"val_loss\"], \"--\", color=\"#212121\", label=\"Validation Loss\")\n",
    "ax.set_xlabel(\"Epoch\")\n",
    "ax.set_ylabel(\"Loss\")\n",
    "ax.spines['right'].set_visible(False)\n",
    "ax.spines['top'].set_visible(False)\n",
    "plt.title(\"Learning Curves\")\n",
    "plt.legend()\n",
    "plt.tight_layout()\n",
    "plt.show()"
   ]
  },
  {
   "cell_type": "code",
   "execution_count": 17,
   "metadata": {},
   "outputs": [],
   "source": [
    "# tf.keras.backend.clear_session()"
   ]
  },
  {
   "cell_type": "code",
   "execution_count": 21,
   "metadata": {},
   "outputs": [
    {
     "name": "stdout",
     "output_type": "stream",
     "text": [
      "6/6 [==============================] - 0s 3ms/step\n",
      "0.7220565734655066\n",
      "0.6833333333333335\n",
      "0.6775178505366982\n",
      "0.6956521739130435\n",
      "              precision    recall  f1-score   support\n",
      "\n",
      "           0       0.35      0.50      0.41        12\n",
      "           1       0.67      0.67      0.67        12\n",
      "           2       0.92      0.92      0.92        12\n",
      "           3       1.00      0.67      0.80        12\n",
      "           4       0.69      0.92      0.79        12\n",
      "           5       1.00      0.75      0.86        12\n",
      "           6       0.67      0.67      0.67        12\n",
      "           7       0.77      0.83      0.80        12\n",
      "           8       0.52      1.00      0.69        12\n",
      "           9       0.67      0.17      0.27        12\n",
      "          10       1.00      0.92      0.96        12\n",
      "          11       0.29      0.40      0.33         5\n",
      "          12       0.70      0.58      0.64        12\n",
      "          13       0.88      0.58      0.70        12\n",
      "\n",
      "    accuracy                           0.70       161\n",
      "   macro avg       0.72      0.68      0.68       161\n",
      "weighted avg       0.74      0.70      0.69       161\n",
      "\n"
     ]
    }
   ],
   "source": [
    "from sklearn.metrics import (\n",
    "    classification_report,\n",
    "    precision_score,\n",
    "    recall_score,\n",
    "    f1_score,\n",
    "    accuracy_score,\n",
    "    confusion_matrix\n",
    ")\n",
    "\n",
    "y_pred = np.argmax(model.predict(np.split(X_test, len(Config.INFERENCE_FEATURES), axis=-1)), axis=1)\n",
    "print(precision_score(y_test, y_pred, average=\"macro\"))\n",
    "print(recall_score(y_test, y_pred, average=\"macro\"))\n",
    "print(f1_score(y_test, y_pred, average=\"macro\"))\n",
    "print(accuracy_score(y_test, y_pred))\n",
    "print(classification_report(y_test, y_pred))"
   ]
  },
  {
   "cell_type": "code",
   "execution_count": 27,
   "metadata": {},
   "outputs": [
    {
     "data": {
      "text/plain": [
       "<AxesSubplot:>"
      ]
     },
     "execution_count": 27,
     "metadata": {},
     "output_type": "execute_result"
    },
    {
     "data": {
      "image/png": "[encoded data removed]",
      "text/plain": [
       "<Figure size 720x576 with 2 Axes>"
      ]
     },
     "metadata": {
      "needs_background": "light"
     },
     "output_type": "display_data"
    }
   ],
   "source": [
    "import seaborn as sns\n",
    "\n",
    "plt.figure(figsize=(10, 8))\n",
    "cm = confusion_matrix(y_test, y_pred)\n",
    "sns.heatmap(cm, xticklabels=Config.GESTURES, yticklabels=Config.GESTURES, cmap=\"summer\")"
   ]
  },
  {
   "cell_type": "code",
   "execution_count": 19,
   "metadata": {},
   "outputs": [
    {
     "name": "stderr",
     "output_type": "stream",
     "text": [
      "WARNING:absl:Found untraced functions such as _jit_compiled_convolution_op, _jit_compiled_convolution_op, _jit_compiled_convolution_op, _jit_compiled_convolution_op, _jit_compiled_convolution_op while saving (showing 5 of 24). These functions will not be directly callable after loading.\n"
     ]
    },
    {
     "name": "stdout",
     "output_type": "stream",
     "text": [
      "INFO:tensorflow:Assets written to: ../../../models/stack_cnn\\assets\n"
     ]
    },
    {
     "name": "stderr",
     "output_type": "stream",
     "text": [
      "INFO:tensorflow:Assets written to: ../../../models/stack_cnn\\assets\n"
     ]
    }
   ],
   "source": [
    "import joblib\n",
    "joblib.dump(scaler, \"../../../models/scaler.joblib\")\n",
    "model.save(\"../../../models/stack_cnn\")"
   ]
  },
  {
   "cell_type": "code",
   "execution_count": null,
   "metadata": {},
   "outputs": [],
   "source": []
  }
 ],
 "metadata": {
  "kernelspec": {
   "display_name": "Python 3.10.5 ('.env': venv)",
   "language": "python",
   "name": "python3"
  },
  "language_info": {
   "codemirror_mode": {
    "name": "ipython",
    "version": 3
   },
   "file_extension": ".py",
   "mimetype": "text/x-python",
   "name": "python",
   "nbconvert_exporter": "python",
   "pygments_lexer": "ipython3",
   "version": "3.10.5"
  },
  "orig_nbformat": 4,
  "vscode": {
   "interpreter": {
    "hash": "33bfdd0468eb2d79b6d50a81b43764fda5a309503d1a36cf94ed64a7387d8c85"
   }
  }
 },
 "nbformat": 4,
 "nbformat_minor": 2
}
