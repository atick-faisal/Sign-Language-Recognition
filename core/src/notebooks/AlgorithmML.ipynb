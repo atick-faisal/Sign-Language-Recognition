{
 "cells": [
  {
   "cell_type": "code",
   "execution_count": 1,
   "metadata": {},
   "outputs": [],
   "source": [
    "import os\n",
    "import numpy as np\n",
    "import pandas as pd\n",
    "import scipy as sp\n",
    "import librosa as lb\n",
    "import matplotlib.pyplot as plt\n",
    "\n",
    "from config import Config"
   ]
  },
  {
   "cell_type": "code",
   "execution_count": 2,
   "metadata": {},
   "outputs": [],
   "source": [
    "data_dir = \"../../../data/dataset/raw/\"\n",
    "subjects = os.listdir(data_dir)"
   ]
  },
  {
   "cell_type": "code",
   "execution_count": 3,
   "metadata": {},
   "outputs": [],
   "source": [
    "def pre_process_recording(data: pd.DataFrame) -> pd.DataFrame:\n",
    "    data.drop(columns=[\"time\"], inplace=True)\n",
    "    data.drop(0, inplace=True)  # Remove first All-0 row\n",
    "    return data - data.iloc[:10].median()  # Initial position correction"
   ]
  },
  {
   "cell_type": "code",
   "execution_count": 4,
   "metadata": {},
   "outputs": [],
   "source": [
    "def mean_crossing_rate(x):\n",
    "    return lb.feature.zero_crossing_rate(x - np.mean(x))[0, 0]\n",
    "\n",
    "\n",
    "def get_entropy(x, axis=0):\n",
    "    s = np.sum(x, axis=axis)\n",
    "    if s != 0:\n",
    "        x = x / np.sum(x, axis=axis)\n",
    "    entropy = np.sum(sp.special.entr(x), axis=axis)\n",
    "    return entropy\n",
    "\n",
    "def get_stat_features(x, axis=0, prefix=''):\n",
    "\n",
    "    # print('Calculating Features...', end = \" \")\n",
    "    min = np.min(x, axis=axis)\n",
    "    max = np.max(x, axis=axis)\n",
    "    std = np.std(x, axis=axis)\n",
    "    avg = np.mean(x, axis=axis)\n",
    "    var = np.var(x, axis=axis)\n",
    "    ptp = np.ptp(x, axis=axis)\n",
    "    mrc = np.max(np.diff(x, axis=axis), axis=axis)\n",
    "    arc = np.mean(np.diff(x, axis=axis), axis=axis)\n",
    "    src = np.std(np.diff(x, axis=axis), axis=axis)\n",
    "    mad = sp.stats.median_abs_deviation(x, axis=axis)\n",
    "    iqr = sp.stats.iqr(x, axis=axis)\n",
    "    # cor = correlation(x)\n",
    "    mcr = mean_crossing_rate(x)\n",
    "    rms = np.sum(np.square(x), axis=axis)\n",
    "    # print('Done!')\n",
    "\n",
    "    feature_names = ['min', 'max', 'std', 'avg', 'var',\n",
    "                     'ptp', 'mrc', 'arc', 'src', 'mad',\n",
    "                     'iqr', 'mcr', 'rms']\n",
    "    columnName = [prefix + '_' + sub for sub in feature_names]\n",
    "\n",
    "    stat_features = pd.DataFrame(np.array([min, max, std, avg,\n",
    "                                           var, ptp, mrc, arc,\n",
    "                                           src, mad, iqr,\n",
    "                                           mcr, rms]\n",
    "                                          ).reshape(1, -1), columns=columnName)\n",
    "\n",
    "    if (stat_features.isna().sum().sum()) > 0:\n",
    "        NaN_columnName = stat_features.columns[stat_features.isna(\n",
    "        ).any()].tolist()\n",
    "        raise ValueError(\n",
    "            f'NaN detected while calculating {prefix} stat features - {NaN_columnName}')\n",
    "\n",
    "    return stat_features\n",
    "\n",
    "\n",
    "def get_freq_features(x, axis=0, fs=100, prefix=''):\n",
    "\n",
    "    # print('Calculating Features...', end = \" \")\n",
    "    nperseg = x.shape[0]\n",
    "\n",
    "    freq, psd = sp.signal.welch(x, fs, nperseg=nperseg, axis=axis)\n",
    "    mpw = np.max(psd, axis=axis)\n",
    "    ent = get_entropy(psd, axis=axis)\n",
    "    # ctf = np.divide(np.sum((freq * psd), axis=axis), np.sum(psd, axis=axis))\n",
    "    mxf = np.argmax(psd, axis=axis)\n",
    "    enr = np.sum(np.square(psd), axis=axis) / nperseg\n",
    "    skw = sp.stats.skew(x, axis=axis)\n",
    "    kut = sp.stats.kurtosis(x, axis=axis)\n",
    "    # print('Done!')\n",
    "\n",
    "    feature_names = ['mpw', 'ent', 'mxf', 'enr', 'skw', 'kut']\n",
    "    columnName = [prefix + '_' + sub for sub in feature_names]\n",
    "\n",
    "    freq_features = pd.DataFrame(np.array([mpw, ent, mxf, enr, skw,\n",
    "                                           kut]).reshape(1, -1), columns=columnName)\n",
    "\n",
    "    if (freq_features.isna().sum().sum()) > 0:\n",
    "        NaN_columnName = freq_features.columns[freq_features.isna(\n",
    "        ).any()].tolist()\n",
    "        raise ValueError(\n",
    "            f'NaN detected while calculating {prefix} freq features - {NaN_columnName}')\n",
    "\n",
    "    return freq_features\n"
   ]
  },
  {
   "cell_type": "code",
   "execution_count": 5,
   "metadata": {},
   "outputs": [],
   "source": [
    "def extract_features(data: pd.DataFrame) -> pd.DataFrame:\n",
    "    features = pd.DataFrame()\n",
    "    for column in data.columns:\n",
    "        x = data[column].to_numpy()\n",
    "        stat_features = get_stat_features(x, prefix=column)\n",
    "        spec_features = get_freq_features(x, prefix=column)\n",
    "        features = pd.concat([features, stat_features, spec_features], axis=1)\n",
    "        \n",
    "    return features\n"
   ]
  },
  {
   "cell_type": "code",
   "execution_count": 6,
   "metadata": {},
   "outputs": [],
   "source": [
    "test_subject = \"007\""
   ]
  },
  {
   "cell_type": "code",
   "execution_count": 7,
   "metadata": {},
   "outputs": [
    {
     "name": "stdout",
     "output_type": "stream",
     "text": [
      "(998, 115)\n",
      "(161, 115)\n"
     ]
    }
   ],
   "source": [
    "train_features = pd.DataFrame()\n",
    "test_features = pd.DataFrame()\n",
    "\n",
    "for subject in subjects:\n",
    "    for gesture in Config.GESTURES:\n",
    "        gesture_dir = os.path.join(data_dir, subject, gesture)\n",
    "        recordings = os.listdir(gesture_dir)\n",
    "        for recording in recordings:\n",
    "            file_path = os.path.join(gesture_dir, recording)\n",
    "            data = pd.read_csv(file_path)\n",
    "            data = pre_process_recording(data)\n",
    "\n",
    "            if data.shape[0] == 0:\n",
    "                continue\n",
    "\n",
    "            # Features v1.0\n",
    "            data[\"drf0x\"] = data[\"rf0x\"] - data[\"rpx\"]\n",
    "            data[\"drf0y\"] = data[\"rf0y\"] - data[\"rpy\"]\n",
    "            data[\"drf0z\"] = data[\"rf0z\"] - data[\"rpz\"]\n",
    "\n",
    "            data[\"drf1x\"] = data[\"rf1x\"] - data[\"rpx\"]\n",
    "            data[\"drf1y\"] = data[\"rf1y\"] - data[\"rpy\"]\n",
    "            data[\"drf1z\"] = data[\"rf1z\"] - data[\"rpz\"]\n",
    "\n",
    "            _features = extract_features(data[Config.DIST_FEATURES])\n",
    "            _features[\"label\"] = Config.GESTURES.index(gesture)\n",
    "\n",
    "            for_training = subject != test_subject\n",
    "            if for_training:\n",
    "                train_features = pd.concat([train_features, _features])\n",
    "            else:\n",
    "                test_features = pd.concat([test_features, _features])\n",
    "\n",
    "\n",
    "print(train_features.shape)\n",
    "print(test_features.shape)\n"
   ]
  },
  {
   "cell_type": "code",
   "execution_count": 8,
   "metadata": {},
   "outputs": [],
   "source": [
    "from sklearn.model_selection import train_test_split\n",
    "from sklearn.linear_model import LogisticRegression\n",
    "from sklearn.neighbors import KNeighborsClassifier\n",
    "from sklearn.ensemble import RandomForestClassifier\n",
    "from sklearn.metrics import (\n",
    "    classification_report,\n",
    "    precision_score,\n",
    "    recall_score,\n",
    "    f1_score,\n",
    "    accuracy_score,\n",
    "    confusion_matrix\n",
    ")"
   ]
  },
  {
   "cell_type": "code",
   "execution_count": 9,
   "metadata": {},
   "outputs": [],
   "source": [
    "X_train = train_features.drop(columns=[\"label\"]).to_numpy()\n",
    "X_test = test_features.drop(columns=[\"label\"]).to_numpy()\n",
    "y_train = train_features[\"label\"].to_numpy()\n",
    "y_test = test_features[\"label\"].to_numpy()\n"
   ]
  },
  {
   "cell_type": "code",
   "execution_count": 10,
   "metadata": {},
   "outputs": [],
   "source": [
    "from sklearn.preprocessing import MinMaxScaler\n",
    "\n",
    "scaler = MinMaxScaler()\n",
    "scaler.fit(X_train)\n",
    "X_train = scaler.transform(X_train)\n",
    "X_test = scaler.transform(X_test)"
   ]
  },
  {
   "cell_type": "code",
   "execution_count": 11,
   "metadata": {},
   "outputs": [
    {
     "data": {
      "text/html": [
       "<style>#sk-container-id-1 {color: black;background-color: white;}#sk-container-id-1 pre{padding: 0;}#sk-container-id-1 div.sk-toggleable {background-color: white;}#sk-container-id-1 label.sk-toggleable__label {cursor: pointer;display: block;width: 100%;margin-bottom: 0;padding: 0.3em;box-sizing: border-box;text-align: center;}#sk-container-id-1 label.sk-toggleable__label-arrow:before {content: \"▸\";float: left;margin-right: 0.25em;color: #696969;}#sk-container-id-1 label.sk-toggleable__label-arrow:hover:before {color: black;}#sk-container-id-1 div.sk-estimator:hover label.sk-toggleable__label-arrow:before {color: black;}#sk-container-id-1 div.sk-toggleable__content {max-height: 0;max-width: 0;overflow: hidden;text-align: left;background-color: #f0f8ff;}#sk-container-id-1 div.sk-toggleable__content pre {margin: 0.2em;color: black;border-radius: 0.25em;background-color: #f0f8ff;}#sk-container-id-1 input.sk-toggleable__control:checked~div.sk-toggleable__content {max-height: 200px;max-width: 100%;overflow: auto;}#sk-container-id-1 input.sk-toggleable__control:checked~label.sk-toggleable__label-arrow:before {content: \"▾\";}#sk-container-id-1 div.sk-estimator input.sk-toggleable__control:checked~label.sk-toggleable__label {background-color: #d4ebff;}#sk-container-id-1 div.sk-label input.sk-toggleable__control:checked~label.sk-toggleable__label {background-color: #d4ebff;}#sk-container-id-1 input.sk-hidden--visually {border: 0;clip: rect(1px 1px 1px 1px);clip: rect(1px, 1px, 1px, 1px);height: 1px;margin: -1px;overflow: hidden;padding: 0;position: absolute;width: 1px;}#sk-container-id-1 div.sk-estimator {font-family: monospace;background-color: #f0f8ff;border: 1px dotted black;border-radius: 0.25em;box-sizing: border-box;margin-bottom: 0.5em;}#sk-container-id-1 div.sk-estimator:hover {background-color: #d4ebff;}#sk-container-id-1 div.sk-parallel-item::after {content: \"\";width: 100%;border-bottom: 1px solid gray;flex-grow: 1;}#sk-container-id-1 div.sk-label:hover label.sk-toggleable__label {background-color: #d4ebff;}#sk-container-id-1 div.sk-serial::before {content: \"\";position: absolute;border-left: 1px solid gray;box-sizing: border-box;top: 0;bottom: 0;left: 50%;z-index: 0;}#sk-container-id-1 div.sk-serial {display: flex;flex-direction: column;align-items: center;background-color: white;padding-right: 0.2em;padding-left: 0.2em;position: relative;}#sk-container-id-1 div.sk-item {position: relative;z-index: 1;}#sk-container-id-1 div.sk-parallel {display: flex;align-items: stretch;justify-content: center;background-color: white;position: relative;}#sk-container-id-1 div.sk-item::before, #sk-container-id-1 div.sk-parallel-item::before {content: \"\";position: absolute;border-left: 1px solid gray;box-sizing: border-box;top: 0;bottom: 0;left: 50%;z-index: -1;}#sk-container-id-1 div.sk-parallel-item {display: flex;flex-direction: column;z-index: 1;position: relative;background-color: white;}#sk-container-id-1 div.sk-parallel-item:first-child::after {align-self: flex-end;width: 50%;}#sk-container-id-1 div.sk-parallel-item:last-child::after {align-self: flex-start;width: 50%;}#sk-container-id-1 div.sk-parallel-item:only-child::after {width: 0;}#sk-container-id-1 div.sk-dashed-wrapped {border: 1px dashed gray;margin: 0 0.4em 0.5em 0.4em;box-sizing: border-box;padding-bottom: 0.4em;background-color: white;}#sk-container-id-1 div.sk-label label {font-family: monospace;font-weight: bold;display: inline-block;line-height: 1.2em;}#sk-container-id-1 div.sk-label-container {text-align: center;}#sk-container-id-1 div.sk-container {/* jupyter's `normalize.less` sets `[hidden] { display: none; }` but bootstrap.min.css set `[hidden] { display: none !important; }` so we also need the `!important` here to be able to override the default hidden behavior on the sphinx rendered scikit-learn.org. See: https://github.com/scikit-learn/scikit-learn/issues/21755 */display: inline-block !important;position: relative;}#sk-container-id-1 div.sk-text-repr-fallback {display: none;}</style><div id=\"sk-container-id-1\" class=\"sk-top-container\"><div class=\"sk-text-repr-fallback\"><pre>LogisticRegression(max_iter=1000)</pre><b>In a Jupyter environment, please rerun this cell to show the HTML representation or trust the notebook. <br />On GitHub, the HTML representation is unable to render, please try loading this page with nbviewer.org.</b></div><div class=\"sk-container\" hidden><div class=\"sk-item\"><div class=\"sk-estimator sk-toggleable\"><input class=\"sk-toggleable__control sk-hidden--visually\" id=\"sk-estimator-id-1\" type=\"checkbox\" checked><label for=\"sk-estimator-id-1\" class=\"sk-toggleable__label sk-toggleable__label-arrow\">LogisticRegression</label><div class=\"sk-toggleable__content\"><pre>LogisticRegression(max_iter=1000)</pre></div></div></div></div></div>"
      ],
      "text/plain": [
       "LogisticRegression(max_iter=1000)"
      ]
     },
     "execution_count": 11,
     "metadata": {},
     "output_type": "execute_result"
    }
   ],
   "source": [
    "# clf = KNeighborsClassifier(n_neighbors=7)\n",
    "# clf = RandomForestClassifier(n_estimators=100, max_depth=None)\n",
    "clf = LogisticRegression(max_iter=1000)\n",
    "clf.fit(X_train, y_train)"
   ]
  },
  {
   "cell_type": "code",
   "execution_count": 12,
   "metadata": {},
   "outputs": [
    {
     "name": "stdout",
     "output_type": "stream",
     "text": [
      "0.8259815348050642\n",
      "0.8035714285714286\n",
      "0.796283040407113\n",
      "0.7950310559006211\n",
      "              precision    recall  f1-score   support\n",
      "\n",
      "           0       0.40      0.17      0.24        12\n",
      "           1       1.00      0.92      0.96        12\n",
      "           2       1.00      0.92      0.96        12\n",
      "           3       1.00      0.67      0.80        12\n",
      "           4       0.92      1.00      0.96        12\n",
      "           5       1.00      0.67      0.80        12\n",
      "           6       1.00      0.92      0.96        12\n",
      "           7       1.00      0.92      0.96        12\n",
      "           8       0.35      0.50      0.41        12\n",
      "           9       1.00      0.83      0.91        12\n",
      "          10       0.41      0.75      0.53        12\n",
      "          11       0.56      1.00      0.71         5\n",
      "          12       0.92      1.00      0.96        12\n",
      "          13       1.00      1.00      1.00        12\n",
      "\n",
      "    accuracy                           0.80       161\n",
      "   macro avg       0.83      0.80      0.80       161\n",
      "weighted avg       0.84      0.80      0.80       161\n",
      "\n"
     ]
    }
   ],
   "source": [
    "y_pred = clf.predict(X_test)\n",
    "print(precision_score(y_test, y_pred, average=\"macro\"))\n",
    "print(recall_score(y_test, y_pred, average=\"macro\"))\n",
    "print(f1_score(y_test, y_pred, average=\"macro\"))\n",
    "print(accuracy_score(y_test, y_pred))\n",
    "print(classification_report(y_test, y_pred))"
   ]
  },
  {
   "cell_type": "code",
   "execution_count": 13,
   "metadata": {},
   "outputs": [
    {
     "data": {
      "text/plain": [
       "<AxesSubplot:>"
      ]
     },
     "execution_count": 13,
     "metadata": {},
     "output_type": "execute_result"
    },
    {
     "data": {
      "image/png": "[encoded data removed]",
      "text/plain": [
       "<Figure size 720x576 with 2 Axes>"
      ]
     },
     "metadata": {
      "needs_background": "light"
     },
     "output_type": "display_data"
    }
   ],
   "source": [
    "import seaborn as sns\n",
    "\n",
    "plt.figure(figsize=(10, 8))\n",
    "cm = confusion_matrix(y_test, y_pred)\n",
    "sns.heatmap(cm, xticklabels=Config.GESTURES, yticklabels=Config.GESTURES, cmap=\"summer\")"
   ]
  },
  {
   "cell_type": "code",
   "execution_count": 14,
   "metadata": {},
   "outputs": [
    {
     "data": {
      "text/plain": [
       "['../../../models/lr-clf.joblib']"
      ]
     },
     "execution_count": 14,
     "metadata": {},
     "output_type": "execute_result"
    }
   ],
   "source": [
    "import joblib\n",
    "joblib.dump(clf, \"../../../models/lr-clf.joblib\")"
   ]
  },
  {
   "cell_type": "code",
   "execution_count": null,
   "metadata": {},
   "outputs": [],
   "source": []
  }
 ],
 "metadata": {
  "kernelspec": {
   "display_name": "Python 3.10.4 ('.env': venv)",
   "language": "python",
   "name": "python3"
  },
  "language_info": {
   "codemirror_mode": {
    "name": "ipython",
    "version": 3
   },
   "file_extension": ".py",
   "mimetype": "text/x-python",
   "name": "python",
   "nbconvert_exporter": "python",
   "pygments_lexer": "ipython3",
   "version": "3.10.4"
  },
  "orig_nbformat": 4,
  "vscode": {
   "interpreter": {
    "hash": "3f0f52ed645d8567bae68a8c372449e0a23f49f10e778396b1f58fd2946c160c"
   }
  }
 },
 "nbformat": 4,
 "nbformat_minor": 2
}
