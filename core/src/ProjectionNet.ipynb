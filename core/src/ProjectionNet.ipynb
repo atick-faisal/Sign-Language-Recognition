{
 "cells": [
  {
   "cell_type": "code",
   "execution_count": 1,
   "metadata": {},
   "outputs": [
    {
     "name": "stderr",
     "output_type": "stream",
     "text": [
      "2022-06-22 06:59:09.335292: I tensorflow/core/util/util.cc:169] oneDNN custom operations are on. You may see slightly different numerical results due to floating-point round-off errors from different computation orders. To turn them off, set the environment variable `TF_ENABLE_ONEDNN_OPTS=0`.\n"
     ]
    }
   ],
   "source": [
    "import os\n",
    "import math\n",
    "import config\n",
    "import random\n",
    "import joblib\n",
    "import numpy as np\n",
    "import pandas as pd\n",
    "import tensorflow as tf\n",
    "import matplotlib.pyplot as plt\n",
    "\n",
    "from tqdm import tqdm\n",
    "\n",
    "from utils import (\n",
    "    create_img_grid,\n",
    "    create_img_stack,\n",
    "    extract_flxion_features,\n",
    "    SpatialProjection\n",
    ")\n",
    "\n",
    "from model import ProjectionNet\n",
    "\n",
    "os.environ[\"CUDA_VISIBLE_DEVICES\"] = \"-1\"\n"
   ]
  },
  {
   "cell_type": "code",
   "execution_count": 2,
   "metadata": {},
   "outputs": [],
   "source": [
    "data_dir = \"../../data/dataset/raw/\"\n",
    "subjects = os.listdir(data_dir)\n",
    "\n",
    "augmentation_levels = [11, 13, 9, 7, 0]\n",
    "sp_augment = [\n",
    "    SpatialProjection(\n",
    "    img_dir=\"../../data/dataset/images/\",\n",
    "    # img_len=math.floor(config.IMG_LEN / 3),\n",
    "    img_len=config.IMG_LEN,\n",
    "    polyfit_degree=degree\n",
    ")\n",
    "    for degree in augmentation_levels ]\n",
    "\n",
    "test_subject = \"007\"\n"
   ]
  },
  {
   "cell_type": "code",
   "execution_count": 3,
   "metadata": {},
   "outputs": [
    {
     "name": "stderr",
     "output_type": "stream",
     "text": [
      "100%|██████████| 7/7 [08:28<00:00, 72.62s/it]\n"
     ]
    }
   ],
   "source": [
    "train_features = []\n",
    "train_images = []\n",
    "train_labels = []\n",
    "test_features = []\n",
    "test_images = []\n",
    "test_labels = []\n",
    "\n",
    "for subject in tqdm(subjects):\n",
    "    for gesture in config.GESTURES:\n",
    "        gesture_dir = os.path.join(data_dir, subject, gesture)\n",
    "        recordings = os.listdir(gesture_dir)\n",
    "        for recording in recordings:\n",
    "            _images = []\n",
    "            file_path = os.path.join(gesture_dir, recording)\n",
    "\n",
    "            data = pd.read_csv(file_path)\n",
    "            data.drop(columns=[\"time\"], inplace=True)\n",
    "            data.drop(0, inplace=True)  # Remove first All-0 row\n",
    "\n",
    "            if data.shape[0] == 0:\n",
    "                continue\n",
    "\n",
    "            # Flag for determining Trainning and Testing Samples\n",
    "            for_training = random.randint(1, 100) <= 80\n",
    "\n",
    "            for sp in sp_augment:\n",
    "                for landmark in config.PROJECTION_LANDMARKS:\n",
    "                    _images.extend(\n",
    "                        sp.get_projection_images(\n",
    "                            data=data.filter(regex=landmark),\n",
    "                            subject=subject,\n",
    "                            gesture=gesture\n",
    "                        )\n",
    "                    )\n",
    "\n",
    "                _features = extract_flxion_features(data)\n",
    "\n",
    "                # img = create_img_grid(_images, config.IMG_LEN)\n",
    "                img = create_img_stack(_images[:3])\n",
    "\n",
    "                if for_training:\n",
    "                    train_features.append(_features)\n",
    "                    train_images.append(img)\n",
    "                    train_labels.append(config.GESTURES.index(gesture))\n",
    "                else:\n",
    "                    test_features.append(_features)\n",
    "                    test_images.append(img)\n",
    "                    test_labels.append(config.GESTURES.index(gesture))\n",
    "                    break\n",
    "\n",
    "    #         plt.imshow(img)\n",
    "    #         plt.savefig(\"../assets/projection_demo.pdf\")\n",
    "    #         plt.show()\n",
    "\n",
    "    #         break\n",
    "    #     break\n",
    "    # break\n"
   ]
  },
  {
   "cell_type": "markdown",
   "metadata": {},
   "source": [
    "# Stack CNN Config"
   ]
  },
  {
   "cell_type": "code",
   "execution_count": 4,
   "metadata": {},
   "outputs": [
    {
     "name": "stdout",
     "output_type": "stream",
     "text": [
      "(4555, 150, 1)\n",
      "(4555, 160, 160, 3)\n",
      "(248, 150, 1)\n",
      "(248, 160, 160, 3)\n",
      "(4555,)\n",
      "(248,)\n"
     ]
    }
   ],
   "source": [
    "train_features = np.array(train_features)\n",
    "train_images = np.array(train_images, dtype=\"uint8\")\n",
    "test_features = np.array(test_features)\n",
    "test_images = np.array(test_images, dtype=\"uint8\")\n",
    "\n",
    "X_train = np.split(train_features, 5, axis=-1) + \\\n",
    "    [np.squeeze(img) for img in np.split(train_images, 3, axis=-1)]\n",
    "\n",
    "X_test = np.split(test_features, 5, axis=-1) + \\\n",
    "    [np.squeeze(img) for img in np.split(test_images, 3, axis=-1)]\n",
    "\n",
    "y_train = np.array(train_labels, dtype=\"uint8\")\n",
    "y_test = np.array(test_labels, dtype=\"uint8\")\n",
    "\n",
    "print(X_train[0].shape)\n",
    "print(X_train[-1].shape)\n",
    "print(X_test[0].shape)\n",
    "print(X_test[-1].shape)\n",
    "print(y_train.shape)\n",
    "print(y_test.shape)\n"
   ]
  },
  {
   "cell_type": "code",
   "execution_count": 5,
   "metadata": {},
   "outputs": [],
   "source": [
    "# X = np.array(images, dtype=\"uint8\")\n",
    "# X = np.expand_dims(X[:, :, :, 0], axis=-1)\n",
    "# # X = np.repeat(np.expand_dims(X, axis=-1), 3, axis=-1)\n",
    "# y = np.array(labels, dtype=\"uint8\")\n",
    "\n",
    "# X_train = np.array(train_images, dtype=\"uint8\")\n",
    "# X_test = np.array(test_images, dtype=\"uint8\")\n",
    "\n",
    "# y_train = np.array(train_labels, dtype=\"uint8\")\n",
    "# y_test = np.array(test_labels, dtype=\"uint8\")\n",
    "\n",
    "# X_train = np.expand_dims(X_train[:, :, :, 0], axis=-1)\n",
    "# X_test = np.expand_dims(X_test[:, :, :, 0], axis=-1)\n",
    "\n",
    "# print(X_train.shape)\n",
    "# print(X_test.shape)\n",
    "# print(y_train.shape)\n",
    "# print(y_test.shape)"
   ]
  },
  {
   "cell_type": "code",
   "execution_count": 6,
   "metadata": {},
   "outputs": [
    {
     "data": {
      "text/plain": [
       "['../../data/dataset/processed/007/y_test_stack_11.joblib']"
      ]
     },
     "execution_count": 6,
     "metadata": {},
     "output_type": "execute_result"
    }
   ],
   "source": [
    "save_dir = f\"../../data/dataset/processed/{test_subject}/\"\n",
    "\n",
    "if not os.path.exists(save_dir):\n",
    "    os.makedirs(save_dir)\n",
    "\n",
    "joblib.dump(X_train, os.path.join(save_dir, \"X_train_stack_11.joblib\"))\n",
    "joblib.dump(y_train, os.path.join(save_dir, \"y_train_stcak_11.joblib\"))\n",
    "joblib.dump(X_test, os.path.join(save_dir, \"X_test_stack_11.joblib\"))\n",
    "joblib.dump(y_test, os.path.join(save_dir, \"y_test_stack_11.joblib\"))"
   ]
  },
  {
   "cell_type": "code",
   "execution_count": 7,
   "metadata": {},
   "outputs": [],
   "source": [
    "# X_train, X_test, y_train, y_test = train_test_split(\n",
    "#     X, y, test_size=0.33, random_state=42\n",
    "# )\n"
   ]
  },
  {
   "cell_type": "code",
   "execution_count": 8,
   "metadata": {},
   "outputs": [],
   "source": [
    "# preprocess_input = tf.keras.applications.mobilenet_v2.preprocess_input\n",
    "# base_model = tf.keras.applications.MobileNetV2(\n",
    "#     input_shape=(config.IMG_LEN, config.IMG_LEN, 3),\n",
    "#     include_top=False,\n",
    "#     weights=\"imagenet\"\n",
    "# )\n",
    "# base_model.trainable = True\n",
    "# global_average_layer = tf.keras.layers.GlobalAveragePooling2D()\n",
    "# prediction_layer = tf.keras.layers.Dense(len(config.GESTURES))\n",
    "\n",
    "# inputs = tf.keras.Input(shape=(config.IMG_LEN, config.IMG_LEN, 3))\n",
    "# x = preprocess_input(inputs)\n",
    "# x = base_model(x, training=True)\n",
    "# x = global_average_layer(x)\n",
    "# x = tf.keras.layers.Dropout(0.6)(x)\n",
    "# outputs = prediction_layer(x)\n",
    "# model = tf.keras.Model(inputs, outputs)\n"
   ]
  },
  {
   "cell_type": "code",
   "execution_count": 9,
   "metadata": {},
   "outputs": [],
   "source": [
    "# model = tf.keras.models.Sequential([\n",
    "#     tf.keras.layers.Rescaling(\n",
    "#         1/255.0,\n",
    "#         input_shape=(config.IMG_LEN, config.IMG_LEN, config.N_CHANNELS)\n",
    "#     ),\n",
    "#     tf.keras.layers.Conv2D(16, (3, 3), activation=\"relu\"),\n",
    "#     tf.keras.layers.MaxPool2D((2, 2)),\n",
    "#     tf.keras.layers.Conv2D(16, (3, 3), activation=\"relu\"),\n",
    "#     tf.keras.layers.MaxPool2D((2, 2)),\n",
    "#     tf.keras.layers.Conv2D(32, (3, 3), activation=\"relu\"),\n",
    "#     tf.keras.layers.MaxPool2D((2, 2)),\n",
    "#     tf.keras.layers.Conv2D(32, (3, 3), activation=\"relu\"),\n",
    "#     tf.keras.layers.MaxPool2D((2, 2)),\n",
    "#     tf.keras.layers.Dropout(0.2),\n",
    "#     tf.keras.layers.Flatten(),\n",
    "#     tf.keras.layers.Dense(128, activation=\"relu\"),\n",
    "#     tf.keras.layers.Dropout(0.5),\n",
    "#     tf.keras.layers.Dense(len(config.GESTURES))\n",
    "# ])\n"
   ]
  },
  {
   "cell_type": "code",
   "execution_count": 10,
   "metadata": {},
   "outputs": [],
   "source": [
    "# import config\n",
    "# from model import ConvMixer\n",
    "\n",
    "# model = ConvMixer(\n",
    "#     img_size=config.IMG_LEN,\n",
    "#     in_channels=1,\n",
    "#     n_classes=len(config.GESTURES),\n",
    "#     n_filters=64,\n",
    "#     depth=3,\n",
    "#     kernel_size=5,\n",
    "#     patch_size=2\n",
    "# ).model()\n",
    "\n"
   ]
  },
  {
   "cell_type": "code",
   "execution_count": 17,
   "metadata": {},
   "outputs": [],
   "source": [
    "base_model = tf.keras.applications.MobileNetV2(\n",
    "    input_shape=(config.IMG_LEN, config.IMG_LEN, 3),\n",
    "    include_top=False,\n",
    "    weights=\"imagenet\"\n",
    ")\n",
    "\n",
    "model = ProjectionNet(\n",
    "    img_size=config.IMG_LEN,\n",
    "    segment_len=150,\n",
    "    n_classes=len(config.GESTURES),\n",
    "    base_model=base_model\n",
    ").get_model()\n"
   ]
  },
  {
   "cell_type": "code",
   "execution_count": 18,
   "metadata": {},
   "outputs": [],
   "source": [
    "model.compile(\n",
    "    optimizer=tf.keras.optimizers.Adam(learning_rate=config.LEARNING_RATE),\n",
    "    loss=tf.keras.losses.SparseCategoricalCrossentropy(from_logits=False),\n",
    "    metrics=['accuracy']\n",
    ")\n"
   ]
  },
  {
   "cell_type": "code",
   "execution_count": 19,
   "metadata": {},
   "outputs": [
    {
     "name": "stdout",
     "output_type": "stream",
     "text": [
      "Epoch 1/700\n",
      "143/143 [==============================] - 73s 481ms/step - loss: 1.9331 - accuracy: 0.3677 - val_loss: 1.1336 - val_accuracy: 0.6774\n",
      "Epoch 2/700\n",
      "143/143 [==============================] - 65s 457ms/step - loss: 0.9875 - accuracy: 0.6525 - val_loss: 0.5289 - val_accuracy: 0.8306\n",
      "Epoch 3/700\n",
      "143/143 [==============================] - 65s 457ms/step - loss: 0.7277 - accuracy: 0.7445 - val_loss: 0.4229 - val_accuracy: 0.8629\n",
      "Epoch 4/700\n",
      "143/143 [==============================] - 65s 457ms/step - loss: 0.5612 - accuracy: 0.8044 - val_loss: 0.3564 - val_accuracy: 0.8952\n",
      "Epoch 5/700\n",
      "143/143 [==============================] - 66s 458ms/step - loss: 0.4560 - accuracy: 0.8406 - val_loss: 0.3211 - val_accuracy: 0.9113\n",
      "Epoch 6/700\n",
      "143/143 [==============================] - 67s 469ms/step - loss: 0.4024 - accuracy: 0.8503 - val_loss: 0.3112 - val_accuracy: 0.8992\n",
      "Epoch 7/700\n",
      "143/143 [==============================] - 66s 459ms/step - loss: 0.3642 - accuracy: 0.8711 - val_loss: 0.3016 - val_accuracy: 0.8952\n",
      "Epoch 8/700\n",
      "143/143 [==============================] - 66s 458ms/step - loss: 0.3072 - accuracy: 0.8918 - val_loss: 0.3159 - val_accuracy: 0.8952\n",
      "Epoch 9/700\n",
      "143/143 [==============================] - 66s 459ms/step - loss: 0.2817 - accuracy: 0.9021 - val_loss: 0.2876 - val_accuracy: 0.9234\n",
      "Epoch 10/700\n",
      "143/143 [==============================] - 66s 459ms/step - loss: 0.2662 - accuracy: 0.9049 - val_loss: 0.2918 - val_accuracy: 0.9073\n",
      "Epoch 11/700\n",
      "143/143 [==============================] - 66s 462ms/step - loss: 0.2356 - accuracy: 0.9190 - val_loss: 0.2798 - val_accuracy: 0.9073\n",
      "Epoch 12/700\n",
      "143/143 [==============================] - 66s 459ms/step - loss: 0.2291 - accuracy: 0.9203 - val_loss: 0.2730 - val_accuracy: 0.9153\n",
      "Epoch 13/700\n",
      "143/143 [==============================] - 66s 460ms/step - loss: 0.2082 - accuracy: 0.9227 - val_loss: 0.2841 - val_accuracy: 0.9073\n",
      "Epoch 14/700\n",
      "143/143 [==============================] - 66s 459ms/step - loss: 0.1982 - accuracy: 0.9282 - val_loss: 0.2787 - val_accuracy: 0.9073\n",
      "Epoch 15/700\n",
      "143/143 [==============================] - 66s 460ms/step - loss: 0.1862 - accuracy: 0.9313 - val_loss: 0.2680 - val_accuracy: 0.9153\n",
      "Epoch 16/700\n",
      "143/143 [==============================] - 67s 469ms/step - loss: 0.1794 - accuracy: 0.9361 - val_loss: 0.2670 - val_accuracy: 0.9234\n",
      "Epoch 17/700\n",
      "143/143 [==============================] - 66s 459ms/step - loss: 0.1688 - accuracy: 0.9383 - val_loss: 0.2857 - val_accuracy: 0.9194\n",
      "Epoch 18/700\n",
      "143/143 [==============================] - 64s 446ms/step - loss: 0.1569 - accuracy: 0.9456 - val_loss: 0.2746 - val_accuracy: 0.9113\n",
      "Epoch 19/700\n",
      "143/143 [==============================] - 65s 453ms/step - loss: 0.1596 - accuracy: 0.9436 - val_loss: 0.2659 - val_accuracy: 0.9315\n",
      "Epoch 20/700\n",
      "143/143 [==============================] - 66s 461ms/step - loss: 0.1550 - accuracy: 0.9442 - val_loss: 0.2709 - val_accuracy: 0.9194\n",
      "Epoch 21/700\n",
      "143/143 [==============================] - 67s 470ms/step - loss: 0.1570 - accuracy: 0.9460 - val_loss: 0.2720 - val_accuracy: 0.9032\n",
      "Epoch 22/700\n",
      "143/143 [==============================] - 66s 461ms/step - loss: 0.1445 - accuracy: 0.9502 - val_loss: 0.2712 - val_accuracy: 0.9113\n",
      "Epoch 23/700\n",
      "143/143 [==============================] - 66s 461ms/step - loss: 0.1491 - accuracy: 0.9504 - val_loss: 0.2647 - val_accuracy: 0.9234\n",
      "Epoch 24/700\n",
      "143/143 [==============================] - 66s 464ms/step - loss: 0.1393 - accuracy: 0.9502 - val_loss: 0.2628 - val_accuracy: 0.9194\n",
      "Epoch 25/700\n",
      "143/143 [==============================] - 66s 461ms/step - loss: 0.1317 - accuracy: 0.9517 - val_loss: 0.2750 - val_accuracy: 0.9153\n",
      "Epoch 26/700\n",
      "143/143 [==============================] - 66s 461ms/step - loss: 0.1289 - accuracy: 0.9563 - val_loss: 0.2829 - val_accuracy: 0.9274\n",
      "Epoch 27/700\n",
      "143/143 [==============================] - 66s 460ms/step - loss: 0.1343 - accuracy: 0.9513 - val_loss: 0.2592 - val_accuracy: 0.9153\n",
      "Epoch 28/700\n",
      "143/143 [==============================] - 66s 459ms/step - loss: 0.1254 - accuracy: 0.9535 - val_loss: 0.2743 - val_accuracy: 0.9073\n",
      "Epoch 29/700\n",
      "143/143 [==============================] - 66s 459ms/step - loss: 0.1212 - accuracy: 0.9589 - val_loss: 0.2733 - val_accuracy: 0.9234\n",
      "Epoch 30/700\n",
      "143/143 [==============================] - 66s 459ms/step - loss: 0.1140 - accuracy: 0.9578 - val_loss: 0.2608 - val_accuracy: 0.9315\n",
      "Epoch 31/700\n",
      "143/143 [==============================] - 66s 459ms/step - loss: 0.1085 - accuracy: 0.9633 - val_loss: 0.2651 - val_accuracy: 0.9315\n",
      "Epoch 32/700\n",
      "143/143 [==============================] - 66s 459ms/step - loss: 0.1108 - accuracy: 0.9592 - val_loss: 0.2831 - val_accuracy: 0.9234\n",
      "Epoch 33/700\n",
      "143/143 [==============================] - 68s 474ms/step - loss: 0.1170 - accuracy: 0.9594 - val_loss: 0.2718 - val_accuracy: 0.9274\n",
      "Epoch 34/700\n",
      "143/143 [==============================] - 66s 459ms/step - loss: 0.1121 - accuracy: 0.9581 - val_loss: 0.3097 - val_accuracy: 0.9073\n",
      "Epoch 35/700\n",
      "143/143 [==============================] - 66s 459ms/step - loss: 0.1130 - accuracy: 0.9600 - val_loss: 0.2972 - val_accuracy: 0.9032\n",
      "Epoch 36/700\n",
      "143/143 [==============================] - 66s 459ms/step - loss: 0.1060 - accuracy: 0.9620 - val_loss: 0.2335 - val_accuracy: 0.9395\n",
      "Epoch 37/700\n",
      "143/143 [==============================] - 66s 459ms/step - loss: 0.1072 - accuracy: 0.9581 - val_loss: 0.2849 - val_accuracy: 0.9315\n",
      "Epoch 38/700\n",
      "143/143 [==============================] - 66s 460ms/step - loss: 0.0980 - accuracy: 0.9675 - val_loss: 0.2985 - val_accuracy: 0.9274\n",
      "Epoch 39/700\n",
      "143/143 [==============================] - 66s 461ms/step - loss: 0.0976 - accuracy: 0.9633 - val_loss: 0.2880 - val_accuracy: 0.9315\n",
      "Epoch 40/700\n",
      "143/143 [==============================] - 66s 459ms/step - loss: 0.0973 - accuracy: 0.9649 - val_loss: 0.2987 - val_accuracy: 0.9194\n",
      "Epoch 41/700\n",
      "143/143 [==============================] - 66s 459ms/step - loss: 0.1003 - accuracy: 0.9640 - val_loss: 0.2994 - val_accuracy: 0.9315\n",
      "Epoch 42/700\n",
      "143/143 [==============================] - 66s 459ms/step - loss: 0.0910 - accuracy: 0.9638 - val_loss: 0.2664 - val_accuracy: 0.9234\n",
      "Epoch 43/700\n",
      "143/143 [==============================] - 66s 459ms/step - loss: 0.0926 - accuracy: 0.9668 - val_loss: 0.3320 - val_accuracy: 0.9113\n",
      "Epoch 44/700\n",
      "143/143 [==============================] - 66s 459ms/step - loss: 0.0896 - accuracy: 0.9649 - val_loss: 0.2827 - val_accuracy: 0.9194\n",
      "Epoch 45/700\n",
      "143/143 [==============================] - 66s 459ms/step - loss: 0.0944 - accuracy: 0.9638 - val_loss: 0.2592 - val_accuracy: 0.9395\n",
      "Epoch 46/700\n",
      "143/143 [==============================] - 66s 460ms/step - loss: 0.0935 - accuracy: 0.9662 - val_loss: 0.3118 - val_accuracy: 0.9194\n",
      "Epoch 47/700\n",
      "143/143 [==============================] - 67s 470ms/step - loss: 0.0830 - accuracy: 0.9673 - val_loss: 0.3062 - val_accuracy: 0.9315\n",
      "Epoch 48/700\n",
      "143/143 [==============================] - 66s 460ms/step - loss: 0.0799 - accuracy: 0.9708 - val_loss: 0.3058 - val_accuracy: 0.9194\n",
      "Epoch 49/700\n",
      "143/143 [==============================] - 66s 459ms/step - loss: 0.0921 - accuracy: 0.9662 - val_loss: 0.2650 - val_accuracy: 0.9435\n",
      "Epoch 50/700\n",
      "143/143 [==============================] - 65s 458ms/step - loss: 0.0893 - accuracy: 0.9673 - val_loss: 0.2919 - val_accuracy: 0.9355\n",
      "Epoch 51/700\n",
      "143/143 [==============================] - 66s 459ms/step - loss: 0.0830 - accuracy: 0.9695 - val_loss: 0.2692 - val_accuracy: 0.9234\n",
      "Epoch 52/700\n",
      "143/143 [==============================] - 66s 460ms/step - loss: 0.0917 - accuracy: 0.9668 - val_loss: 0.2794 - val_accuracy: 0.9355\n",
      "Epoch 53/700\n",
      "143/143 [==============================] - 66s 459ms/step - loss: 0.0796 - accuracy: 0.9693 - val_loss: 0.2823 - val_accuracy: 0.9234\n",
      "Epoch 54/700\n",
      "143/143 [==============================] - 66s 458ms/step - loss: 0.0815 - accuracy: 0.9682 - val_loss: 0.2815 - val_accuracy: 0.9274\n",
      "Epoch 55/700\n",
      "143/143 [==============================] - 66s 458ms/step - loss: 0.0821 - accuracy: 0.9697 - val_loss: 0.3090 - val_accuracy: 0.9234\n",
      "Epoch 56/700\n",
      "143/143 [==============================] - 66s 459ms/step - loss: 0.0833 - accuracy: 0.9673 - val_loss: 0.3787 - val_accuracy: 0.9073\n",
      "Epoch 57/700\n",
      "143/143 [==============================] - 66s 458ms/step - loss: 0.0786 - accuracy: 0.9697 - val_loss: 0.2854 - val_accuracy: 0.9476\n",
      "Epoch 58/700\n",
      "143/143 [==============================] - 66s 458ms/step - loss: 0.0721 - accuracy: 0.9712 - val_loss: 0.3178 - val_accuracy: 0.9315\n",
      "Epoch 59/700\n",
      "143/143 [==============================] - 66s 459ms/step - loss: 0.0782 - accuracy: 0.9721 - val_loss: 0.3129 - val_accuracy: 0.9315\n",
      "Epoch 60/700\n",
      "143/143 [==============================] - 67s 472ms/step - loss: 0.0659 - accuracy: 0.9783 - val_loss: 0.3454 - val_accuracy: 0.9476\n",
      "Epoch 61/700\n",
      "143/143 [==============================] - 66s 460ms/step - loss: 0.0803 - accuracy: 0.9679 - val_loss: 0.3232 - val_accuracy: 0.9395\n",
      "Epoch 62/700\n",
      "143/143 [==============================] - 66s 460ms/step - loss: 0.0779 - accuracy: 0.9708 - val_loss: 0.2963 - val_accuracy: 0.9274\n",
      "Epoch 63/700\n",
      "143/143 [==============================] - 66s 459ms/step - loss: 0.0682 - accuracy: 0.9739 - val_loss: 0.3055 - val_accuracy: 0.9395\n",
      "Epoch 64/700\n",
      "143/143 [==============================] - 66s 460ms/step - loss: 0.0715 - accuracy: 0.9726 - val_loss: 0.3253 - val_accuracy: 0.9274\n",
      "Epoch 65/700\n",
      "143/143 [==============================] - 66s 460ms/step - loss: 0.0770 - accuracy: 0.9693 - val_loss: 0.3384 - val_accuracy: 0.9274\n",
      "Epoch 66/700\n",
      "143/143 [==============================] - 66s 460ms/step - loss: 0.0739 - accuracy: 0.9717 - val_loss: 0.3447 - val_accuracy: 0.9234\n"
     ]
    }
   ],
   "source": [
    "callbacks = [\n",
    "    tf.keras.callbacks.EarlyStopping(\n",
    "        monitor=\"val_loss\",\n",
    "        patience=30,\n",
    "        restore_best_weights=True\n",
    "    )\n",
    "]\n",
    "\n",
    "history = model.fit(\n",
    "    x=X_train,\n",
    "    y=y_train,\n",
    "    validation_data=(X_test, y_test),\n",
    "    batch_size=32,\n",
    "    epochs=700,\n",
    "    verbose=1,\n",
    "    callbacks=callbacks\n",
    ")\n"
   ]
  },
  {
   "cell_type": "code",
   "execution_count": 20,
   "metadata": {},
   "outputs": [
    {
     "name": "stdout",
     "output_type": "stream",
     "text": [
      "8/8 [==============================] - 3s 366ms/step - loss: 0.2335 - accuracy: 0.9395\n"
     ]
    },
    {
     "data": {
      "text/plain": [
       "[0.23351506888866425, 0.9395161271095276]"
      ]
     },
     "execution_count": 20,
     "metadata": {},
     "output_type": "execute_result"
    }
   ],
   "source": [
    "model.evaluate(X_test, y_test)"
   ]
  },
  {
   "cell_type": "code",
   "execution_count": 21,
   "metadata": {},
   "outputs": [
    {
     "data": {
      "image/png": "[encoded data removed]",
      "text/plain": [
       "<Figure size 576x432 with 1 Axes>"
      ]
     },
     "metadata": {
      "needs_background": "light"
     },
     "output_type": "display_data"
    }
   ],
   "source": [
    "import matplotlib.pyplot as plt\n",
    "\n",
    "plt.rcParams.update({\n",
    "    # \"text.usetex\": True,\n",
    "    \"font.family\": \"serif\",\n",
    "    # \"font.serif\": [\"Computer Modern Roman\"],\n",
    "    \"font.size\": 22,\n",
    "    \"text.color\": \"#212121\",\n",
    "    \"axes.edgecolor\": \"#212121\",\n",
    "    \"xtick.color\": \"#212121\",\n",
    "    \"ytick.color\": \"#212121\",\n",
    "    \"axes.labelcolor\": \"#212121\",\n",
    "    'legend.frameon': False,\n",
    "})\n",
    "\n",
    "fig = plt.figure(figsize=(8, 6))\n",
    "ax = fig.gca()\n",
    "ax.plot(history.history[\"loss\"], \"-\", color=\"#212121\", label=\"Train Loss\")\n",
    "ax.plot(history.history[\"val_loss\"], \"--\",\n",
    "        color=\"#212121\", label=\"Validation Loss\")\n",
    "ax.set_xlabel(\"Epoch\")\n",
    "ax.set_ylabel(\"Loss\")\n",
    "ax.spines['right'].set_visible(False)\n",
    "ax.spines['top'].set_visible(False)\n",
    "plt.title(\"Learning Curves\")\n",
    "plt.legend()\n",
    "plt.tight_layout()\n",
    "plt.savefig(\"../assets/lc.png\")\n",
    "plt.show()\n"
   ]
  },
  {
   "cell_type": "code",
   "execution_count": 22,
   "metadata": {},
   "outputs": [],
   "source": [
    "tf.keras.backend.clear_session()\n"
   ]
  },
  {
   "cell_type": "code",
   "execution_count": null,
   "metadata": {},
   "outputs": [],
   "source": []
  }
 ],
 "metadata": {
  "kernelspec": {
   "display_name": "Python 3.10.4 ('.env': venv)",
   "language": "python",
   "name": "python3"
  },
  "language_info": {
   "codemirror_mode": {
    "name": "ipython",
    "version": 3
   },
   "file_extension": ".py",
   "mimetype": "text/x-python",
   "name": "python",
   "nbconvert_exporter": "python",
   "pygments_lexer": "ipython3",
   "version": "3.10.4"
  },
  "orig_nbformat": 4,
  "vscode": {
   "interpreter": {
    "hash": "3f0f52ed645d8567bae68a8c372449e0a23f49f10e778396b1f58fd2946c160c"
   }
  }
 },
 "nbformat": 4,
 "nbformat_minor": 2
}
