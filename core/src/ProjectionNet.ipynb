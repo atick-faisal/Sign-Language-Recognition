{
 "cells": [
  {
   "cell_type": "code",
   "execution_count": 1,
   "metadata": {},
   "outputs": [
    {
     "name": "stderr",
     "output_type": "stream",
     "text": [
      "2022-06-23 03:56:34.521903: I tensorflow/core/util/util.cc:169] oneDNN custom operations are on. You may see slightly different numerical results due to floating-point round-off errors from different computation orders. To turn them off, set the environment variable `TF_ENABLE_ONEDNN_OPTS=0`.\n"
     ]
    }
   ],
   "source": [
    "import os\n",
    "import math\n",
    "import config\n",
    "import random\n",
    "import joblib\n",
    "import numpy as np\n",
    "import pandas as pd\n",
    "import tensorflow as tf\n",
    "import matplotlib.pyplot as plt\n",
    "\n",
    "from tqdm import tqdm\n",
    "\n",
    "from utils import (\n",
    "    create_img_grid,\n",
    "    create_img_stack,\n",
    "    extract_flxion_features,\n",
    "    SpatialProjection\n",
    ")\n",
    "\n",
    "from model import ProjectionNet\n",
    "\n",
    "os.environ[\"CUDA_VISIBLE_DEVICES\"] = \"-1\"\n"
   ]
  },
  {
   "cell_type": "code",
   "execution_count": 2,
   "metadata": {},
   "outputs": [],
   "source": [
    "data_dir = \"../../data/dataset/raw/\"\n",
    "subjects = os.listdir(data_dir)\n",
    "\n",
    "augmentation_levels = [0, 9, 7, 11, 13]\n",
    "sp_augment = [\n",
    "    SpatialProjection(\n",
    "    img_dir=\"../../data/dataset/images/\",\n",
    "    # img_len=math.floor(config.IMG_LEN / 3),\n",
    "    img_len=config.IMG_LEN,\n",
    "    polyfit_degree=degree\n",
    ")\n",
    "    for degree in augmentation_levels ]\n",
    "\n",
    "test_subject = \"007\"\n"
   ]
  },
  {
   "cell_type": "code",
   "execution_count": 3,
   "metadata": {},
   "outputs": [
    {
     "name": "stderr",
     "output_type": "stream",
     "text": [
      "100%|██████████| 7/7 [09:34<00:00, 82.06s/it]\n"
     ]
    }
   ],
   "source": [
    "train_features = []\n",
    "train_images = []\n",
    "train_labels = []\n",
    "test_features = []\n",
    "test_images = []\n",
    "test_labels = []\n",
    "\n",
    "for subject in tqdm(subjects):\n",
    "    for gesture in config.GESTURES:\n",
    "        gesture_dir = os.path.join(data_dir, subject, gesture)\n",
    "        recordings = os.listdir(gesture_dir)\n",
    "        for recording in recordings:\n",
    "            file_path = os.path.join(gesture_dir, recording)\n",
    "\n",
    "            data = pd.read_csv(file_path)\n",
    "            data.drop(columns=[\"time\"], inplace=True)\n",
    "            data.drop(0, inplace=True)  # Remove first All-0 row\n",
    "\n",
    "            if data.shape[0] == 0:\n",
    "                continue\n",
    "\n",
    "            # ... Flag for determining Trainning and Testing Samples\n",
    "            for_training = random.randint(1, 100) <= 80\n",
    "\n",
    "            for sp in sp_augment:\n",
    "                _images = []\n",
    "                for landmark in config.PROJECTION_LANDMARKS:\n",
    "                    _images.extend(\n",
    "                        sp.get_projection_images(\n",
    "                            data=data.filter(regex=landmark),\n",
    "                            subject=subject,\n",
    "                            gesture=gesture\n",
    "                        )\n",
    "                    )\n",
    "\n",
    "                _features = extract_flxion_features(data)\n",
    "\n",
    "                # img = create_img_grid(_images, config.IMG_LEN)\n",
    "                img = create_img_stack(_images[:3])\n",
    "\n",
    "                if for_training:\n",
    "                    train_features.append(_features)\n",
    "                    train_images.append(img)\n",
    "                    train_labels.append(config.GESTURES.index(gesture))\n",
    "                else:\n",
    "                    test_features.append(_features)\n",
    "                    test_images.append(img)\n",
    "                    test_labels.append(config.GESTURES.index(gesture))\n",
    "                    break\n",
    "\n",
    "    #             plt.imshow(img)\n",
    "    #             # plt.savefig(\"../assets/projection_demo.pdf\")\n",
    "    #             plt.show()\n",
    "\n",
    "    #         break\n",
    "    #     break\n",
    "    # break\n"
   ]
  },
  {
   "cell_type": "code",
   "execution_count": 4,
   "metadata": {},
   "outputs": [
    {
     "data": {
      "text/plain": [
       "(4675, 150, 6)"
      ]
     },
     "execution_count": 4,
     "metadata": {},
     "output_type": "execute_result"
    }
   ],
   "source": [
    "train_features = np.array(train_features)\n",
    "train_features.shape"
   ]
  },
  {
   "cell_type": "markdown",
   "metadata": {},
   "source": [
    "# Stack CNN Config"
   ]
  },
  {
   "cell_type": "code",
   "execution_count": 5,
   "metadata": {},
   "outputs": [
    {
     "name": "stdout",
     "output_type": "stream",
     "text": [
      "(4675, 150, 1)\n",
      "(4675, 160, 160, 3)\n",
      "(224, 150, 1)\n",
      "(224, 160, 160, 3)\n",
      "(4675,)\n",
      "(224,)\n"
     ]
    }
   ],
   "source": [
    "train_features = np.array(train_features)\n",
    "train_images = np.array(train_images, dtype=\"uint8\")\n",
    "test_features = np.array(test_features)\n",
    "test_images = np.array(test_images, dtype=\"uint8\")\n",
    "\n",
    "X_train = np.split(train_features, len(config.DIST_FEATURES), axis=-1) + \\\n",
    "    [np.squeeze(img) for img in np.split(train_images, 3, axis=-1)]\n",
    "\n",
    "X_test = np.split(test_features, len(config.DIST_FEATURES), axis=-1) + \\\n",
    "    [np.squeeze(img) for img in np.split(test_images, 3, axis=-1)]\n",
    "\n",
    "y_train = np.array(train_labels, dtype=\"uint8\")\n",
    "y_test = np.array(test_labels, dtype=\"uint8\")\n",
    "\n",
    "print(X_train[0].shape)\n",
    "print(X_train[-1].shape)\n",
    "print(X_test[0].shape)\n",
    "print(X_test[-1].shape)\n",
    "print(y_train.shape)\n",
    "print(y_test.shape)\n"
   ]
  },
  {
   "cell_type": "code",
   "execution_count": 6,
   "metadata": {},
   "outputs": [],
   "source": [
    "# X = np.array(images, dtype=\"uint8\")\n",
    "# X = np.expand_dims(X[:, :, :, 0], axis=-1)\n",
    "# # X = np.repeat(np.expand_dims(X, axis=-1), 3, axis=-1)\n",
    "# y = np.array(labels, dtype=\"uint8\")\n",
    "\n",
    "# X_train = np.array(train_images, dtype=\"uint8\")\n",
    "# X_test = np.array(test_images, dtype=\"uint8\")\n",
    "\n",
    "# y_train = np.array(train_labels, dtype=\"uint8\")\n",
    "# y_test = np.array(test_labels, dtype=\"uint8\")\n",
    "\n",
    "# X_train = np.expand_dims(X_train[:, :, :, 0], axis=-1)\n",
    "# X_test = np.expand_dims(X_test[:, :, :, 0], axis=-1)\n",
    "\n",
    "# print(X_train.shape)\n",
    "# print(X_test.shape)\n",
    "# print(y_train.shape)\n",
    "# print(y_test.shape)"
   ]
  },
  {
   "cell_type": "code",
   "execution_count": 7,
   "metadata": {},
   "outputs": [
    {
     "data": {
      "text/plain": [
       "['../../data/dataset/processed/007/y_test_stack_11.joblib']"
      ]
     },
     "execution_count": 7,
     "metadata": {},
     "output_type": "execute_result"
    }
   ],
   "source": [
    "save_dir = f\"../../data/dataset/processed/{test_subject}/\"\n",
    "\n",
    "if not os.path.exists(save_dir):\n",
    "    os.makedirs(save_dir)\n",
    "\n",
    "joblib.dump(X_train, os.path.join(save_dir, \"X_train_stack_11.joblib\"))\n",
    "joblib.dump(y_train, os.path.join(save_dir, \"y_train_stcak_11.joblib\"))\n",
    "joblib.dump(X_test, os.path.join(save_dir, \"X_test_stack_11.joblib\"))\n",
    "joblib.dump(y_test, os.path.join(save_dir, \"y_test_stack_11.joblib\"))"
   ]
  },
  {
   "cell_type": "code",
   "execution_count": 8,
   "metadata": {},
   "outputs": [],
   "source": [
    "# X_train, X_test, y_train, y_test = train_test_split(\n",
    "#     X, y, test_size=0.33, random_state=42\n",
    "# )\n"
   ]
  },
  {
   "cell_type": "code",
   "execution_count": 9,
   "metadata": {},
   "outputs": [],
   "source": [
    "# preprocess_input = tf.keras.applications.mobilenet_v2.preprocess_input\n",
    "# base_model = tf.keras.applications.MobileNetV2(\n",
    "#     input_shape=(config.IMG_LEN, config.IMG_LEN, 3),\n",
    "#     include_top=False,\n",
    "#     weights=\"imagenet\"\n",
    "# )\n",
    "# base_model.trainable = True\n",
    "# global_average_layer = tf.keras.layers.GlobalAveragePooling2D()\n",
    "# prediction_layer = tf.keras.layers.Dense(len(config.GESTURES))\n",
    "\n",
    "# inputs = tf.keras.Input(shape=(config.IMG_LEN, config.IMG_LEN, 3))\n",
    "# x = preprocess_input(inputs)\n",
    "# x = base_model(x, training=True)\n",
    "# x = global_average_layer(x)\n",
    "# x = tf.keras.layers.Dropout(0.6)(x)\n",
    "# outputs = prediction_layer(x)\n",
    "# model = tf.keras.Model(inputs, outputs)\n"
   ]
  },
  {
   "cell_type": "code",
   "execution_count": 10,
   "metadata": {},
   "outputs": [],
   "source": [
    "# model = tf.keras.models.Sequential([\n",
    "#     tf.keras.layers.Rescaling(\n",
    "#         1/255.0,\n",
    "#         input_shape=(config.IMG_LEN, config.IMG_LEN, config.N_CHANNELS)\n",
    "#     ),\n",
    "#     tf.keras.layers.Conv2D(16, (3, 3), activation=\"relu\"),\n",
    "#     tf.keras.layers.MaxPool2D((2, 2)),\n",
    "#     tf.keras.layers.Conv2D(16, (3, 3), activation=\"relu\"),\n",
    "#     tf.keras.layers.MaxPool2D((2, 2)),\n",
    "#     tf.keras.layers.Conv2D(32, (3, 3), activation=\"relu\"),\n",
    "#     tf.keras.layers.MaxPool2D((2, 2)),\n",
    "#     tf.keras.layers.Conv2D(32, (3, 3), activation=\"relu\"),\n",
    "#     tf.keras.layers.MaxPool2D((2, 2)),\n",
    "#     tf.keras.layers.Dropout(0.2),\n",
    "#     tf.keras.layers.Flatten(),\n",
    "#     tf.keras.layers.Dense(128, activation=\"relu\"),\n",
    "#     tf.keras.layers.Dropout(0.5),\n",
    "#     tf.keras.layers.Dense(len(config.GESTURES))\n",
    "# ])\n"
   ]
  },
  {
   "cell_type": "code",
   "execution_count": 11,
   "metadata": {},
   "outputs": [],
   "source": [
    "# import config\n",
    "# from model import ConvMixer\n",
    "\n",
    "# model = ConvMixer(\n",
    "#     img_size=config.IMG_LEN,\n",
    "#     in_channels=1,\n",
    "#     n_classes=len(config.GESTURES),\n",
    "#     n_filters=64,\n",
    "#     depth=3,\n",
    "#     kernel_size=5,\n",
    "#     patch_size=2\n",
    "# ).model()\n",
    "\n"
   ]
  },
  {
   "cell_type": "code",
   "execution_count": 12,
   "metadata": {},
   "outputs": [
    {
     "name": "stderr",
     "output_type": "stream",
     "text": [
      "2022-06-23 04:06:15.885527: E tensorflow/stream_executor/cuda/cuda_driver.cc:271] failed call to cuInit: CUDA_ERROR_NO_DEVICE: no CUDA-capable device is detected\n",
      "2022-06-23 04:06:15.885550: I tensorflow/stream_executor/cuda/cuda_diagnostics.cc:169] retrieving CUDA diagnostic information for host: Andromeda\n",
      "2022-06-23 04:06:15.885554: I tensorflow/stream_executor/cuda/cuda_diagnostics.cc:176] hostname: Andromeda\n",
      "2022-06-23 04:06:15.885693: I tensorflow/stream_executor/cuda/cuda_diagnostics.cc:200] libcuda reported version is: 515.48.7\n",
      "2022-06-23 04:06:15.885705: I tensorflow/stream_executor/cuda/cuda_diagnostics.cc:204] kernel reported version is: 515.48.7\n",
      "2022-06-23 04:06:15.885708: I tensorflow/stream_executor/cuda/cuda_diagnostics.cc:310] kernel version seems to match DSO: 515.48.7\n",
      "2022-06-23 04:06:15.886187: I tensorflow/core/platform/cpu_feature_guard.cc:193] This TensorFlow binary is optimized with oneAPI Deep Neural Network Library (oneDNN) to use the following CPU instructions in performance-critical operations:  AVX2 AVX512F AVX512_VNNI FMA\n",
      "To enable them in other operations, rebuild TensorFlow with the appropriate compiler flags.\n"
     ]
    }
   ],
   "source": [
    "base_model = tf.keras.applications.MobileNetV2(\n",
    "    input_shape=(config.IMG_LEN, config.IMG_LEN, config.N_CHANNELS),\n",
    "    include_top=False,\n",
    "    weights=\"imagenet\"\n",
    ")\n",
    "\n",
    "model = ProjectionNet(\n",
    "    img_size=config.IMG_LEN,\n",
    "    segment_len=config.SEGMENT_LEN,\n",
    "    n_classes=len(config.GESTURES),\n",
    "    base_model=base_model\n",
    ").get_model(\n",
    "    n_projections=config.N_CHANNELS,\n",
    "    n_channels=len(config.DIST_FEATURES)\n",
    ")\n"
   ]
  },
  {
   "cell_type": "code",
   "execution_count": 13,
   "metadata": {},
   "outputs": [],
   "source": [
    "model.compile(\n",
    "    optimizer=tf.keras.optimizers.Adam(learning_rate=config.LEARNING_RATE),\n",
    "    loss=tf.keras.losses.SparseCategoricalCrossentropy(from_logits=False),\n",
    "    metrics=['accuracy']\n",
    ")\n"
   ]
  },
  {
   "cell_type": "code",
   "execution_count": 14,
   "metadata": {},
   "outputs": [
    {
     "name": "stdout",
     "output_type": "stream",
     "text": [
      "Epoch 1/700\n",
      "147/147 [==============================] - 72s 455ms/step - loss: 1.8518 - accuracy: 0.4116 - val_loss: 0.9255 - val_accuracy: 0.7991\n",
      "Epoch 2/700\n",
      "147/147 [==============================] - 66s 452ms/step - loss: 0.6977 - accuracy: 0.7805 - val_loss: 0.4131 - val_accuracy: 0.8795\n",
      "Epoch 3/700\n",
      "147/147 [==============================] - 66s 448ms/step - loss: 0.4545 - accuracy: 0.8567 - val_loss: 0.3241 - val_accuracy: 0.9241\n",
      "Epoch 4/700\n",
      "147/147 [==============================] - 66s 449ms/step - loss: 0.3760 - accuracy: 0.8809 - val_loss: 0.3215 - val_accuracy: 0.9286\n",
      "Epoch 5/700\n",
      "147/147 [==============================] - 66s 450ms/step - loss: 0.3232 - accuracy: 0.8935 - val_loss: 0.2713 - val_accuracy: 0.9286\n",
      "Epoch 6/700\n",
      "147/147 [==============================] - 66s 452ms/step - loss: 0.2770 - accuracy: 0.9052 - val_loss: 0.2932 - val_accuracy: 0.9196\n",
      "Epoch 7/700\n",
      "147/147 [==============================] - 66s 449ms/step - loss: 0.2601 - accuracy: 0.9153 - val_loss: 0.2787 - val_accuracy: 0.9286\n",
      "Epoch 8/700\n",
      "147/147 [==============================] - 66s 448ms/step - loss: 0.2268 - accuracy: 0.9253 - val_loss: 0.2577 - val_accuracy: 0.9509\n",
      "Epoch 9/700\n",
      "147/147 [==============================] - 66s 448ms/step - loss: 0.2113 - accuracy: 0.9253 - val_loss: 0.2709 - val_accuracy: 0.9509\n",
      "Epoch 10/700\n",
      "147/147 [==============================] - 66s 449ms/step - loss: 0.1839 - accuracy: 0.9348 - val_loss: 0.2836 - val_accuracy: 0.9286\n",
      "Epoch 11/700\n",
      "147/147 [==============================] - 66s 449ms/step - loss: 0.1969 - accuracy: 0.9341 - val_loss: 0.2506 - val_accuracy: 0.9330\n",
      "Epoch 12/700\n",
      "147/147 [==============================] - 66s 449ms/step - loss: 0.1714 - accuracy: 0.9414 - val_loss: 0.2845 - val_accuracy: 0.9330\n",
      "Epoch 13/700\n",
      "147/147 [==============================] - 66s 450ms/step - loss: 0.1653 - accuracy: 0.9407 - val_loss: 0.2755 - val_accuracy: 0.9375\n",
      "Epoch 14/700\n",
      "147/147 [==============================] - 66s 449ms/step - loss: 0.1527 - accuracy: 0.9461 - val_loss: 0.2511 - val_accuracy: 0.9554\n",
      "Epoch 15/700\n",
      "147/147 [==============================] - 68s 461ms/step - loss: 0.1510 - accuracy: 0.9476 - val_loss: 0.2626 - val_accuracy: 0.9509\n",
      "Epoch 16/700\n",
      "147/147 [==============================] - 66s 448ms/step - loss: 0.1425 - accuracy: 0.9525 - val_loss: 0.2636 - val_accuracy: 0.9598\n",
      "Epoch 17/700\n",
      "147/147 [==============================] - 66s 448ms/step - loss: 0.1539 - accuracy: 0.9480 - val_loss: 0.2764 - val_accuracy: 0.9554\n",
      "Epoch 18/700\n",
      "147/147 [==============================] - 66s 448ms/step - loss: 0.1391 - accuracy: 0.9521 - val_loss: 0.2757 - val_accuracy: 0.9598\n",
      "Epoch 19/700\n",
      "147/147 [==============================] - 66s 448ms/step - loss: 0.1350 - accuracy: 0.9521 - val_loss: 0.2401 - val_accuracy: 0.9420\n",
      "Epoch 20/700\n",
      "147/147 [==============================] - 66s 447ms/step - loss: 0.1221 - accuracy: 0.9557 - val_loss: 0.2550 - val_accuracy: 0.9598\n",
      "Epoch 21/700\n",
      "147/147 [==============================] - 66s 448ms/step - loss: 0.1234 - accuracy: 0.9549 - val_loss: 0.2747 - val_accuracy: 0.9598\n",
      "Epoch 22/700\n",
      "147/147 [==============================] - 66s 447ms/step - loss: 0.1254 - accuracy: 0.9542 - val_loss: 0.2893 - val_accuracy: 0.9554\n",
      "Epoch 23/700\n",
      "147/147 [==============================] - 66s 448ms/step - loss: 0.1176 - accuracy: 0.9570 - val_loss: 0.3120 - val_accuracy: 0.9598\n",
      "Epoch 24/700\n",
      "147/147 [==============================] - 66s 448ms/step - loss: 0.1033 - accuracy: 0.9626 - val_loss: 0.2865 - val_accuracy: 0.9554\n",
      "Epoch 25/700\n",
      "147/147 [==============================] - 66s 447ms/step - loss: 0.1066 - accuracy: 0.9572 - val_loss: 0.3034 - val_accuracy: 0.9598\n",
      "Epoch 26/700\n",
      "147/147 [==============================] - 66s 448ms/step - loss: 0.1114 - accuracy: 0.9576 - val_loss: 0.2669 - val_accuracy: 0.9598\n",
      "Epoch 27/700\n",
      "147/147 [==============================] - 66s 449ms/step - loss: 0.0990 - accuracy: 0.9632 - val_loss: 0.2747 - val_accuracy: 0.9554\n",
      "Epoch 28/700\n",
      "147/147 [==============================] - 66s 448ms/step - loss: 0.1039 - accuracy: 0.9604 - val_loss: 0.2369 - val_accuracy: 0.9598\n",
      "Epoch 29/700\n",
      "147/147 [==============================] - 68s 464ms/step - loss: 0.1018 - accuracy: 0.9619 - val_loss: 0.2652 - val_accuracy: 0.9554\n",
      "Epoch 30/700\n",
      "147/147 [==============================] - 66s 448ms/step - loss: 0.1037 - accuracy: 0.9647 - val_loss: 0.2645 - val_accuracy: 0.9598\n",
      "Epoch 31/700\n",
      "147/147 [==============================] - 66s 448ms/step - loss: 0.0961 - accuracy: 0.9651 - val_loss: 0.2659 - val_accuracy: 0.9554\n",
      "Epoch 32/700\n",
      "147/147 [==============================] - 66s 447ms/step - loss: 0.0929 - accuracy: 0.9686 - val_loss: 0.2859 - val_accuracy: 0.9509\n",
      "Epoch 33/700\n",
      "147/147 [==============================] - 66s 448ms/step - loss: 0.0906 - accuracy: 0.9673 - val_loss: 0.3232 - val_accuracy: 0.9554\n",
      "Epoch 34/700\n",
      "147/147 [==============================] - 66s 449ms/step - loss: 0.0914 - accuracy: 0.9653 - val_loss: 0.2853 - val_accuracy: 0.9688\n",
      "Epoch 35/700\n",
      "147/147 [==============================] - 66s 448ms/step - loss: 0.0942 - accuracy: 0.9641 - val_loss: 0.2640 - val_accuracy: 0.9643\n",
      "Epoch 36/700\n",
      "147/147 [==============================] - 66s 448ms/step - loss: 0.0902 - accuracy: 0.9696 - val_loss: 0.2784 - val_accuracy: 0.9598\n",
      "Epoch 37/700\n",
      "147/147 [==============================] - 66s 448ms/step - loss: 0.0928 - accuracy: 0.9658 - val_loss: 0.2710 - val_accuracy: 0.9643\n",
      "Epoch 38/700\n",
      "147/147 [==============================] - 66s 449ms/step - loss: 0.0832 - accuracy: 0.9677 - val_loss: 0.2698 - val_accuracy: 0.9554\n",
      "Epoch 39/700\n",
      "147/147 [==============================] - 66s 448ms/step - loss: 0.1007 - accuracy: 0.9636 - val_loss: 0.2712 - val_accuracy: 0.9643\n",
      "Epoch 40/700\n",
      "147/147 [==============================] - 66s 448ms/step - loss: 0.0853 - accuracy: 0.9705 - val_loss: 0.2762 - val_accuracy: 0.9598\n",
      "Epoch 41/700\n",
      "147/147 [==============================] - 66s 447ms/step - loss: 0.1112 - accuracy: 0.9602 - val_loss: 0.2680 - val_accuracy: 0.9643\n",
      "Epoch 42/700\n",
      "147/147 [==============================] - 67s 455ms/step - loss: 0.0701 - accuracy: 0.9743 - val_loss: 0.2957 - val_accuracy: 0.9643\n",
      "Epoch 43/700\n",
      "147/147 [==============================] - 67s 453ms/step - loss: 0.0871 - accuracy: 0.9679 - val_loss: 0.2258 - val_accuracy: 0.9643\n",
      "Epoch 44/700\n",
      "147/147 [==============================] - 66s 448ms/step - loss: 0.0835 - accuracy: 0.9692 - val_loss: 0.2639 - val_accuracy: 0.9509\n",
      "Epoch 45/700\n",
      "147/147 [==============================] - 66s 448ms/step - loss: 0.0752 - accuracy: 0.9711 - val_loss: 0.2973 - val_accuracy: 0.9643\n",
      "Epoch 46/700\n",
      "147/147 [==============================] - 66s 447ms/step - loss: 0.0797 - accuracy: 0.9724 - val_loss: 0.3124 - val_accuracy: 0.9554\n",
      "Epoch 47/700\n",
      "147/147 [==============================] - 66s 449ms/step - loss: 0.0802 - accuracy: 0.9701 - val_loss: 0.2950 - val_accuracy: 0.9598\n",
      "Epoch 48/700\n",
      "147/147 [==============================] - 66s 447ms/step - loss: 0.0810 - accuracy: 0.9707 - val_loss: 0.3026 - val_accuracy: 0.9554\n",
      "Epoch 49/700\n",
      "147/147 [==============================] - 66s 447ms/step - loss: 0.0761 - accuracy: 0.9737 - val_loss: 0.3232 - val_accuracy: 0.9554\n",
      "Epoch 50/700\n",
      "147/147 [==============================] - 66s 448ms/step - loss: 0.0863 - accuracy: 0.9722 - val_loss: 0.2839 - val_accuracy: 0.9643\n",
      "Epoch 51/700\n",
      "147/147 [==============================] - 66s 447ms/step - loss: 0.0944 - accuracy: 0.9679 - val_loss: 0.2804 - val_accuracy: 0.9643\n",
      "Epoch 52/700\n",
      "147/147 [==============================] - 66s 448ms/step - loss: 0.0666 - accuracy: 0.9748 - val_loss: 0.2962 - val_accuracy: 0.9643\n",
      "Epoch 53/700\n",
      "147/147 [==============================] - 66s 449ms/step - loss: 0.0764 - accuracy: 0.9743 - val_loss: 0.2794 - val_accuracy: 0.9598\n",
      "Epoch 54/700\n",
      "147/147 [==============================] - 66s 448ms/step - loss: 0.0768 - accuracy: 0.9716 - val_loss: 0.2314 - val_accuracy: 0.9688\n",
      "Epoch 55/700\n",
      "147/147 [==============================] - 66s 448ms/step - loss: 0.0808 - accuracy: 0.9716 - val_loss: 0.2605 - val_accuracy: 0.9732\n",
      "Epoch 56/700\n",
      "147/147 [==============================] - 68s 460ms/step - loss: 0.0807 - accuracy: 0.9733 - val_loss: 0.2624 - val_accuracy: 0.9643\n",
      "Epoch 57/700\n",
      "147/147 [==============================] - 66s 449ms/step - loss: 0.0728 - accuracy: 0.9737 - val_loss: 0.2921 - val_accuracy: 0.9688\n",
      "Epoch 58/700\n",
      "147/147 [==============================] - 66s 448ms/step - loss: 0.0784 - accuracy: 0.9692 - val_loss: 0.3164 - val_accuracy: 0.9643\n",
      "Epoch 59/700\n",
      "147/147 [==============================] - 66s 448ms/step - loss: 0.0692 - accuracy: 0.9765 - val_loss: 0.3295 - val_accuracy: 0.9688\n",
      "Epoch 60/700\n",
      "147/147 [==============================] - 66s 448ms/step - loss: 0.0738 - accuracy: 0.9739 - val_loss: 0.3611 - val_accuracy: 0.9732\n",
      "Epoch 61/700\n",
      "147/147 [==============================] - 66s 449ms/step - loss: 0.0656 - accuracy: 0.9726 - val_loss: 0.3127 - val_accuracy: 0.9732\n",
      "Epoch 62/700\n",
      "147/147 [==============================] - 66s 448ms/step - loss: 0.0620 - accuracy: 0.9756 - val_loss: 0.3557 - val_accuracy: 0.9643\n",
      "Epoch 63/700\n",
      "147/147 [==============================] - 66s 448ms/step - loss: 0.0663 - accuracy: 0.9780 - val_loss: 0.3685 - val_accuracy: 0.9688\n",
      "Epoch 64/700\n",
      "147/147 [==============================] - 66s 449ms/step - loss: 0.0789 - accuracy: 0.9722 - val_loss: 0.3237 - val_accuracy: 0.9732\n",
      "Epoch 65/700\n",
      "147/147 [==============================] - 66s 449ms/step - loss: 0.0588 - accuracy: 0.9773 - val_loss: 0.2750 - val_accuracy: 0.9732\n",
      "Epoch 66/700\n",
      "147/147 [==============================] - 66s 448ms/step - loss: 0.0644 - accuracy: 0.9782 - val_loss: 0.3368 - val_accuracy: 0.9732\n",
      "Epoch 67/700\n",
      "147/147 [==============================] - 66s 448ms/step - loss: 0.0649 - accuracy: 0.9773 - val_loss: 0.3809 - val_accuracy: 0.9732\n",
      "Epoch 68/700\n",
      "147/147 [==============================] - 66s 448ms/step - loss: 0.0673 - accuracy: 0.9758 - val_loss: 0.3745 - val_accuracy: 0.9732\n",
      "Epoch 69/700\n",
      "147/147 [==============================] - 66s 447ms/step - loss: 0.0694 - accuracy: 0.9765 - val_loss: 0.3527 - val_accuracy: 0.9688\n",
      "Epoch 70/700\n",
      "147/147 [==============================] - 68s 459ms/step - loss: 0.0572 - accuracy: 0.9790 - val_loss: 0.3597 - val_accuracy: 0.9554\n",
      "Epoch 71/700\n",
      "147/147 [==============================] - 66s 448ms/step - loss: 0.0701 - accuracy: 0.9760 - val_loss: 0.2692 - val_accuracy: 0.9688\n",
      "Epoch 72/700\n",
      "147/147 [==============================] - 66s 448ms/step - loss: 0.0550 - accuracy: 0.9793 - val_loss: 0.3973 - val_accuracy: 0.9688\n",
      "Epoch 73/700\n",
      "147/147 [==============================] - 66s 448ms/step - loss: 0.0710 - accuracy: 0.9758 - val_loss: 0.2708 - val_accuracy: 0.9688\n"
     ]
    }
   ],
   "source": [
    "callbacks = [\n",
    "    tf.keras.callbacks.EarlyStopping(\n",
    "        monitor=\"val_loss\",\n",
    "        patience=30,\n",
    "        restore_best_weights=True\n",
    "    )\n",
    "]\n",
    "\n",
    "history = model.fit(\n",
    "    x=X_train,\n",
    "    y=y_train,\n",
    "    validation_data=(X_test, y_test),\n",
    "    batch_size=32,\n",
    "    epochs=700,\n",
    "    verbose=1,\n",
    "    callbacks=callbacks\n",
    ")\n"
   ]
  },
  {
   "cell_type": "code",
   "execution_count": 15,
   "metadata": {},
   "outputs": [
    {
     "name": "stdout",
     "output_type": "stream",
     "text": [
      "7/7 [==============================] - 3s 414ms/step - loss: 0.2258 - accuracy: 0.9643\n"
     ]
    },
    {
     "data": {
      "text/plain": [
       "[0.22576606273651123, 0.9642857313156128]"
      ]
     },
     "execution_count": 15,
     "metadata": {},
     "output_type": "execute_result"
    }
   ],
   "source": [
    "model.evaluate(X_test, y_test)"
   ]
  },
  {
   "cell_type": "code",
   "execution_count": 16,
   "metadata": {},
   "outputs": [
    {
     "data": {
      "image/png": "[encoded data removed]",
      "text/plain": [
       "<Figure size 576x432 with 1 Axes>"
      ]
     },
     "metadata": {
      "needs_background": "light"
     },
     "output_type": "display_data"
    }
   ],
   "source": [
    "import matplotlib.pyplot as plt\n",
    "\n",
    "plt.rcParams.update({\n",
    "    # \"text.usetex\": True,\n",
    "    \"font.family\": \"serif\",\n",
    "    # \"font.serif\": [\"Computer Modern Roman\"],\n",
    "    \"font.size\": 22,\n",
    "    \"text.color\": \"#212121\",\n",
    "    \"axes.edgecolor\": \"#212121\",\n",
    "    \"xtick.color\": \"#212121\",\n",
    "    \"ytick.color\": \"#212121\",\n",
    "    \"axes.labelcolor\": \"#212121\",\n",
    "    'legend.frameon': False,\n",
    "})\n",
    "\n",
    "fig = plt.figure(figsize=(8, 6))\n",
    "ax = fig.gca()\n",
    "ax.plot(history.history[\"loss\"], \"-\", color=\"#212121\", label=\"Train Loss\")\n",
    "ax.plot(history.history[\"val_loss\"], \"--\",\n",
    "        color=\"#212121\", label=\"Validation Loss\")\n",
    "ax.set_xlabel(\"Epoch\")\n",
    "ax.set_ylabel(\"Loss\")\n",
    "ax.spines['right'].set_visible(False)\n",
    "ax.spines['top'].set_visible(False)\n",
    "plt.title(\"Learning Curves\")\n",
    "plt.legend()\n",
    "plt.tight_layout()\n",
    "plt.savefig(\"../assets/lc.png\")\n",
    "plt.show()\n"
   ]
  },
  {
   "cell_type": "code",
   "execution_count": 17,
   "metadata": {},
   "outputs": [],
   "source": [
    "# tf.keras.backend.clear_session()\n"
   ]
  },
  {
   "cell_type": "code",
   "execution_count": null,
   "metadata": {},
   "outputs": [],
   "source": []
  }
 ],
 "metadata": {
  "kernelspec": {
   "display_name": "Python 3.10.4 ('.env': venv)",
   "language": "python",
   "name": "python3"
  },
  "language_info": {
   "codemirror_mode": {
    "name": "ipython",
    "version": 3
   },
   "file_extension": ".py",
   "mimetype": "text/x-python",
   "name": "python",
   "nbconvert_exporter": "python",
   "pygments_lexer": "ipython3",
   "version": "3.10.5"
  },
  "orig_nbformat": 4,
  "vscode": {
   "interpreter": {
    "hash": "3f0f52ed645d8567bae68a8c372449e0a23f49f10e778396b1f58fd2946c160c"
   }
  }
 },
 "nbformat": 4,
 "nbformat_minor": 2
}
