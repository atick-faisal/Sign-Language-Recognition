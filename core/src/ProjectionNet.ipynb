{
 "cells": [
  {
   "cell_type": "code",
   "execution_count": 1,
   "metadata": {},
   "outputs": [],
   "source": [
    "import os\n",
    "import math\n",
    "import config\n",
    "import numpy as np\n",
    "import pandas as pd\n",
    "import matplotlib.pyplot as plt\n",
    "\n",
    "from utils import (\n",
    "    create_img_grid,\n",
    "    SpatialProjection\n",
    ")\n",
    "\n",
    "os.environ[\"CUDA_VISIBLE_DEVICES\"] = \"-1\"\n"
   ]
  },
  {
   "cell_type": "code",
   "execution_count": 2,
   "metadata": {},
   "outputs": [],
   "source": [
    "data_dir = \"../../data/dataset/raw/\"\n",
    "subjects = os.listdir(data_dir)\n",
    "\n",
    "sp = SpatialProjection(\n",
    "    img_dir=\"../../data/dataset/images/\",\n",
    "    img_len=math.floor(config.IMG_LEN / 3),\n",
    "    polyfit_degree=7\n",
    ")\n"
   ]
  },
  {
   "cell_type": "code",
   "execution_count": 3,
   "metadata": {},
   "outputs": [],
   "source": [
    "images = []\n",
    "labels = []\n",
    "\n",
    "for subject in subjects:\n",
    "    for gesture in config.GESTURES:\n",
    "        gesture_dir = os.path.join(data_dir, subject, gesture)\n",
    "        recordings = os.listdir(gesture_dir)\n",
    "        for recording in recordings:\n",
    "            _images = []\n",
    "            file_path = os.path.join(gesture_dir, recording)\n",
    "\n",
    "            data = pd.read_csv(file_path)\n",
    "            data.drop(columns=[\"time\"], inplace=True)\n",
    "            data.drop(0, inplace=True)  # Remove first All-0 row\n",
    "\n",
    "            for landmark in config.PROJECTION_LANDMARKS:\n",
    "                _images.extend(\n",
    "                    sp.get_projection_images(\n",
    "                        data=data.filter(regex=landmark),\n",
    "                        subject=subject,\n",
    "                        gesture=gesture\n",
    "                    )\n",
    "                )\n",
    "\n",
    "            img = create_img_grid(_images)\n",
    "\n",
    "            images.append(img)\n",
    "            labels.append(config.GESTURES.index(gesture))\n",
    "\n",
    "            # plt.imshow(img)\n",
    "            # plt.show()\n",
    "\n",
    "            # break\n",
    "    #     break\n",
    "    # break\n"
   ]
  },
  {
   "cell_type": "code",
   "execution_count": 4,
   "metadata": {},
   "outputs": [
    {
     "name": "stdout",
     "output_type": "stream",
     "text": [
      "(139, 224, 224, 3)\n",
      "(139,)\n"
     ]
    }
   ],
   "source": [
    "X = np.array(images, dtype=\"uint8\")\n",
    "# X = np.expand_dims(X[:, :, :, 0], axis=-1)\n",
    "# X = np.repeat(np.expand_dims(X, axis=-1), 3, axis=-1)\n",
    "y = np.array(labels, dtype=\"uint8\")\n",
    "\n",
    "print(X.shape)\n",
    "print(y.shape)"
   ]
  },
  {
   "cell_type": "code",
   "execution_count": 5,
   "metadata": {},
   "outputs": [
    {
     "name": "stderr",
     "output_type": "stream",
     "text": [
      "2022-06-14 20:16:08.099438: I tensorflow/core/util/util.cc:169] oneDNN custom operations are on. You may see slightly different numerical results due to floating-point round-off errors from different computation orders. To turn them off, set the environment variable `TF_ENABLE_ONEDNN_OPTS=0`.\n"
     ]
    }
   ],
   "source": [
    "import tensorflow as tf\n",
    "from sklearn.model_selection import train_test_split"
   ]
  },
  {
   "cell_type": "code",
   "execution_count": 6,
   "metadata": {},
   "outputs": [],
   "source": [
    "X_train, X_test, y_train, y_test = train_test_split(\n",
    "    X, y, test_size=0.33, random_state=42\n",
    ")\n"
   ]
  },
  {
   "cell_type": "code",
   "execution_count": 7,
   "metadata": {},
   "outputs": [
    {
     "name": "stderr",
     "output_type": "stream",
     "text": [
      "2022-06-14 20:16:09.146402: E tensorflow/stream_executor/cuda/cuda_driver.cc:271] failed call to cuInit: CUDA_ERROR_NO_DEVICE: no CUDA-capable device is detected\n",
      "2022-06-14 20:16:09.146427: I tensorflow/stream_executor/cuda/cuda_diagnostics.cc:169] retrieving CUDA diagnostic information for host: Andromeda\n",
      "2022-06-14 20:16:09.146431: I tensorflow/stream_executor/cuda/cuda_diagnostics.cc:176] hostname: Andromeda\n",
      "2022-06-14 20:16:09.146568: I tensorflow/stream_executor/cuda/cuda_diagnostics.cc:200] libcuda reported version is: 515.48.7\n",
      "2022-06-14 20:16:09.146582: I tensorflow/stream_executor/cuda/cuda_diagnostics.cc:204] kernel reported version is: 515.48.7\n",
      "2022-06-14 20:16:09.146585: I tensorflow/stream_executor/cuda/cuda_diagnostics.cc:310] kernel version seems to match DSO: 515.48.7\n",
      "2022-06-14 20:16:09.146927: I tensorflow/core/platform/cpu_feature_guard.cc:193] This TensorFlow binary is optimized with oneAPI Deep Neural Network Library (oneDNN) to use the following CPU instructions in performance-critical operations:  AVX2 AVX512F AVX512_VNNI FMA\n",
      "To enable them in other operations, rebuild TensorFlow with the appropriate compiler flags.\n"
     ]
    }
   ],
   "source": [
    "preprocess_input = tf.keras.applications.mobilenet_v2.preprocess_input\n",
    "base_model = tf.keras.applications.MobileNetV2(\n",
    "    input_shape=(config.IMG_LEN, config.IMG_LEN, 3),\n",
    "    include_top=False,\n",
    "    weights=\"imagenet\"\n",
    ")\n",
    "base_model.trainable = True\n",
    "global_average_layer = tf.keras.layers.GlobalAveragePooling2D()\n",
    "prediction_layer = tf.keras.layers.Dense(len(config.GESTURES))\n",
    "\n",
    "inputs = tf.keras.Input(shape=(config.IMG_LEN, config.IMG_LEN, 3))\n",
    "x = preprocess_input(inputs)\n",
    "x = base_model(x, training=True)\n",
    "x = global_average_layer(x)\n",
    "x = tf.keras.layers.Dropout(0.6)(x)\n",
    "outputs = prediction_layer(x)\n",
    "model = tf.keras.Model(inputs, outputs)\n"
   ]
  },
  {
   "cell_type": "code",
   "execution_count": 8,
   "metadata": {},
   "outputs": [],
   "source": [
    "# model = tf.keras.models.Sequential([\n",
    "#     tf.keras.layers.Rescaling(\n",
    "#         1/255.0,\n",
    "#         input_shape=(config.IMG_LEN, config.IMG_LEN, config.N_CHANNELS)\n",
    "#     ),\n",
    "#     tf.keras.layers.Conv2D(8, (3, 3), activation=\"relu\"),\n",
    "#     tf.keras.layers.MaxPool2D((2, 2)),\n",
    "#     tf.keras.layers.Conv2D(8, (3, 3), activation=\"relu\"),\n",
    "#     tf.keras.layers.MaxPool2D((2, 2)),\n",
    "#     tf.keras.layers.Conv2D(16, (3, 3), activation=\"relu\"),\n",
    "#     tf.keras.layers.MaxPool2D((2, 2)),\n",
    "#     tf.keras.layers.Conv2D(16, (3, 3), activation=\"relu\"),\n",
    "#     tf.keras.layers.MaxPool2D((2, 2)),\n",
    "#     tf.keras.layers.Dropout(0.2),\n",
    "#     tf.keras.layers.Flatten(),\n",
    "#     tf.keras.layers.Dense(64, activation=\"relu\"),\n",
    "#     tf.keras.layers.Dropout(0.2),\n",
    "#     tf.keras.layers.Dense(len(config.GESTURES))\n",
    "# ])\n"
   ]
  },
  {
   "cell_type": "code",
   "execution_count": 9,
   "metadata": {},
   "outputs": [],
   "source": [
    "model.compile(\n",
    "    optimizer=tf.keras.optimizers.Adam(learning_rate=config.LEARNING_RATE),\n",
    "    loss=tf.keras.losses.SparseCategoricalCrossentropy(from_logits=True),\n",
    "    metrics=['accuracy']\n",
    ")\n"
   ]
  },
  {
   "cell_type": "code",
   "execution_count": 10,
   "metadata": {},
   "outputs": [
    {
     "name": "stdout",
     "output_type": "stream",
     "text": [
      "Epoch 1/700\n",
      "3/3 [==============================] - 7s 2s/step - loss: 2.7733 - accuracy: 0.1720 - val_loss: 2.0579 - val_accuracy: 0.3261\n",
      "Epoch 2/700\n",
      "3/3 [==============================] - 4s 2s/step - loss: 1.0781 - accuracy: 0.6989 - val_loss: 1.5348 - val_accuracy: 0.6087\n",
      "Epoch 3/700\n",
      "3/3 [==============================] - 5s 2s/step - loss: 0.5194 - accuracy: 0.9247 - val_loss: 1.1836 - val_accuracy: 0.7174\n",
      "Epoch 4/700\n",
      "3/3 [==============================] - 5s 2s/step - loss: 0.2689 - accuracy: 0.9677 - val_loss: 0.9143 - val_accuracy: 0.7826\n",
      "Epoch 5/700\n",
      "3/3 [==============================] - 5s 2s/step - loss: 0.1075 - accuracy: 1.0000 - val_loss: 0.7708 - val_accuracy: 0.7826\n",
      "Epoch 6/700\n",
      "3/3 [==============================] - 5s 2s/step - loss: 0.0630 - accuracy: 1.0000 - val_loss: 0.6725 - val_accuracy: 0.8043\n",
      "Epoch 7/700\n",
      "3/3 [==============================] - 4s 2s/step - loss: 0.0331 - accuracy: 1.0000 - val_loss: 0.6104 - val_accuracy: 0.8261\n",
      "Epoch 8/700\n",
      "3/3 [==============================] - 5s 2s/step - loss: 0.0257 - accuracy: 1.0000 - val_loss: 0.5633 - val_accuracy: 0.8261\n",
      "Epoch 9/700\n",
      "3/3 [==============================] - 5s 2s/step - loss: 0.0251 - accuracy: 1.0000 - val_loss: 0.5293 - val_accuracy: 0.8261\n",
      "Epoch 10/700\n",
      "3/3 [==============================] - 5s 2s/step - loss: 0.0096 - accuracy: 1.0000 - val_loss: 0.5056 - val_accuracy: 0.8478\n",
      "Epoch 11/700\n",
      "3/3 [==============================] - 5s 2s/step - loss: 0.0095 - accuracy: 1.0000 - val_loss: 0.4896 - val_accuracy: 0.8696\n",
      "Epoch 12/700\n",
      "3/3 [==============================] - 5s 2s/step - loss: 0.0088 - accuracy: 1.0000 - val_loss: 0.4786 - val_accuracy: 0.8696\n",
      "Epoch 13/700\n",
      "3/3 [==============================] - 5s 2s/step - loss: 0.0057 - accuracy: 1.0000 - val_loss: 0.4709 - val_accuracy: 0.8696\n",
      "Epoch 14/700\n",
      "3/3 [==============================] - 5s 2s/step - loss: 0.0054 - accuracy: 1.0000 - val_loss: 0.4647 - val_accuracy: 0.8696\n",
      "Epoch 15/700\n",
      "3/3 [==============================] - 5s 2s/step - loss: 0.0041 - accuracy: 1.0000 - val_loss: 0.4603 - val_accuracy: 0.8478\n",
      "Epoch 16/700\n",
      "3/3 [==============================] - 5s 2s/step - loss: 0.0033 - accuracy: 1.0000 - val_loss: 0.4563 - val_accuracy: 0.8478\n",
      "Epoch 17/700\n",
      "3/3 [==============================] - 5s 2s/step - loss: 0.0051 - accuracy: 1.0000 - val_loss: 0.4522 - val_accuracy: 0.8478\n",
      "Epoch 18/700\n",
      "3/3 [==============================] - 5s 2s/step - loss: 0.0037 - accuracy: 1.0000 - val_loss: 0.4489 - val_accuracy: 0.8478\n",
      "Epoch 19/700\n",
      "3/3 [==============================] - 5s 2s/step - loss: 0.0024 - accuracy: 1.0000 - val_loss: 0.4446 - val_accuracy: 0.8913\n",
      "Epoch 20/700\n",
      "3/3 [==============================] - 4s 2s/step - loss: 0.0030 - accuracy: 1.0000 - val_loss: 0.4400 - val_accuracy: 0.8913\n",
      "Epoch 21/700\n",
      "3/3 [==============================] - 5s 2s/step - loss: 0.0027 - accuracy: 1.0000 - val_loss: 0.4373 - val_accuracy: 0.8913\n",
      "Epoch 22/700\n",
      "3/3 [==============================] - 4s 2s/step - loss: 0.0024 - accuracy: 1.0000 - val_loss: 0.4351 - val_accuracy: 0.8913\n",
      "Epoch 23/700\n",
      "3/3 [==============================] - 5s 2s/step - loss: 0.0015 - accuracy: 1.0000 - val_loss: 0.4331 - val_accuracy: 0.8913\n",
      "Epoch 24/700\n",
      "3/3 [==============================] - 4s 2s/step - loss: 0.0016 - accuracy: 1.0000 - val_loss: 0.4315 - val_accuracy: 0.8913\n",
      "Epoch 25/700\n",
      "3/3 [==============================] - 4s 2s/step - loss: 0.0013 - accuracy: 1.0000 - val_loss: 0.4301 - val_accuracy: 0.8913\n",
      "Epoch 26/700\n",
      "3/3 [==============================] - 4s 2s/step - loss: 0.0014 - accuracy: 1.0000 - val_loss: 0.4291 - val_accuracy: 0.8913\n",
      "Epoch 27/700\n",
      "3/3 [==============================] - 4s 2s/step - loss: 0.0011 - accuracy: 1.0000 - val_loss: 0.4280 - val_accuracy: 0.8913\n",
      "Epoch 28/700\n",
      "3/3 [==============================] - 4s 2s/step - loss: 0.0012 - accuracy: 1.0000 - val_loss: 0.4271 - val_accuracy: 0.8913\n",
      "Epoch 29/700\n",
      "3/3 [==============================] - 5s 2s/step - loss: 0.0034 - accuracy: 1.0000 - val_loss: 0.4268 - val_accuracy: 0.8913\n",
      "Epoch 30/700\n",
      "3/3 [==============================] - 4s 2s/step - loss: 0.0014 - accuracy: 1.0000 - val_loss: 0.4263 - val_accuracy: 0.8913\n",
      "Epoch 31/700\n",
      "3/3 [==============================] - 4s 2s/step - loss: 0.0017 - accuracy: 1.0000 - val_loss: 0.4254 - val_accuracy: 0.8913\n",
      "Epoch 32/700\n",
      "3/3 [==============================] - 4s 2s/step - loss: 9.5449e-04 - accuracy: 1.0000 - val_loss: 0.4245 - val_accuracy: 0.8913\n",
      "Epoch 33/700\n",
      "3/3 [==============================] - 4s 2s/step - loss: 0.0017 - accuracy: 1.0000 - val_loss: 0.4231 - val_accuracy: 0.8913\n",
      "Epoch 34/700\n",
      "3/3 [==============================] - 5s 2s/step - loss: 0.0015 - accuracy: 1.0000 - val_loss: 0.4209 - val_accuracy: 0.8913\n",
      "Epoch 35/700\n",
      "3/3 [==============================] - 5s 2s/step - loss: 0.0013 - accuracy: 1.0000 - val_loss: 0.4183 - val_accuracy: 0.8913\n",
      "Epoch 36/700\n",
      "3/3 [==============================] - 5s 2s/step - loss: 8.6272e-04 - accuracy: 1.0000 - val_loss: 0.4149 - val_accuracy: 0.8913\n",
      "Epoch 37/700\n",
      "3/3 [==============================] - 5s 2s/step - loss: 0.0013 - accuracy: 1.0000 - val_loss: 0.4122 - val_accuracy: 0.8913\n",
      "Epoch 38/700\n",
      "3/3 [==============================] - 5s 2s/step - loss: 0.0013 - accuracy: 1.0000 - val_loss: 0.4098 - val_accuracy: 0.8913\n",
      "Epoch 39/700\n",
      "3/3 [==============================] - 5s 2s/step - loss: 0.0013 - accuracy: 1.0000 - val_loss: 0.4074 - val_accuracy: 0.8913\n",
      "Epoch 40/700\n",
      "3/3 [==============================] - 4s 2s/step - loss: 0.0010 - accuracy: 1.0000 - val_loss: 0.4053 - val_accuracy: 0.8913\n",
      "Epoch 41/700\n",
      "3/3 [==============================] - 4s 2s/step - loss: 0.0011 - accuracy: 1.0000 - val_loss: 0.4035 - val_accuracy: 0.8913\n",
      "Epoch 42/700\n",
      "3/3 [==============================] - 5s 2s/step - loss: 0.0010 - accuracy: 1.0000 - val_loss: 0.4020 - val_accuracy: 0.8913\n",
      "Epoch 43/700\n",
      "3/3 [==============================] - 5s 2s/step - loss: 7.7044e-04 - accuracy: 1.0000 - val_loss: 0.4009 - val_accuracy: 0.8913\n",
      "Epoch 44/700\n",
      "3/3 [==============================] - 5s 2s/step - loss: 0.0010 - accuracy: 1.0000 - val_loss: 0.4000 - val_accuracy: 0.8913\n",
      "Epoch 45/700\n",
      "3/3 [==============================] - 5s 2s/step - loss: 7.6903e-04 - accuracy: 1.0000 - val_loss: 0.3991 - val_accuracy: 0.8913\n",
      "Epoch 46/700\n",
      "3/3 [==============================] - 5s 2s/step - loss: 0.0013 - accuracy: 1.0000 - val_loss: 0.3981 - val_accuracy: 0.8913\n",
      "Epoch 47/700\n",
      "3/3 [==============================] - 5s 2s/step - loss: 5.8759e-04 - accuracy: 1.0000 - val_loss: 0.3971 - val_accuracy: 0.8913\n",
      "Epoch 48/700\n",
      "3/3 [==============================] - 5s 2s/step - loss: 9.6956e-04 - accuracy: 1.0000 - val_loss: 0.3966 - val_accuracy: 0.8913\n",
      "Epoch 49/700\n",
      "3/3 [==============================] - 5s 2s/step - loss: 5.1344e-04 - accuracy: 1.0000 - val_loss: 0.3961 - val_accuracy: 0.8913\n",
      "Epoch 50/700\n",
      "3/3 [==============================] - 5s 2s/step - loss: 4.3270e-04 - accuracy: 1.0000 - val_loss: 0.3957 - val_accuracy: 0.8913\n",
      "Epoch 51/700\n",
      "3/3 [==============================] - 5s 2s/step - loss: 9.0506e-04 - accuracy: 1.0000 - val_loss: 0.3947 - val_accuracy: 0.8913\n",
      "Epoch 52/700\n",
      "3/3 [==============================] - 5s 2s/step - loss: 6.8941e-04 - accuracy: 1.0000 - val_loss: 0.3939 - val_accuracy: 0.8913\n",
      "Epoch 53/700\n",
      "3/3 [==============================] - 5s 2s/step - loss: 8.7068e-04 - accuracy: 1.0000 - val_loss: 0.3930 - val_accuracy: 0.8913\n",
      "Epoch 54/700\n",
      "3/3 [==============================] - 5s 2s/step - loss: 7.6905e-04 - accuracy: 1.0000 - val_loss: 0.3921 - val_accuracy: 0.8913\n",
      "Epoch 55/700\n",
      "3/3 [==============================] - 5s 2s/step - loss: 5.5240e-04 - accuracy: 1.0000 - val_loss: 0.3914 - val_accuracy: 0.8913\n",
      "Epoch 56/700\n",
      "3/3 [==============================] - 5s 2s/step - loss: 6.9746e-04 - accuracy: 1.0000 - val_loss: 0.3911 - val_accuracy: 0.8913\n",
      "Epoch 57/700\n",
      "3/3 [==============================] - 5s 2s/step - loss: 8.0794e-04 - accuracy: 1.0000 - val_loss: 0.3907 - val_accuracy: 0.8913\n",
      "Epoch 58/700\n",
      "3/3 [==============================] - 5s 2s/step - loss: 6.6687e-04 - accuracy: 1.0000 - val_loss: 0.3903 - val_accuracy: 0.8913\n",
      "Epoch 59/700\n",
      "3/3 [==============================] - 5s 2s/step - loss: 9.7188e-04 - accuracy: 1.0000 - val_loss: 0.3900 - val_accuracy: 0.8913\n",
      "Epoch 60/700\n",
      "3/3 [==============================] - 5s 2s/step - loss: 7.3471e-04 - accuracy: 1.0000 - val_loss: 0.3897 - val_accuracy: 0.8913\n",
      "Epoch 61/700\n",
      "3/3 [==============================] - 5s 2s/step - loss: 0.0010 - accuracy: 1.0000 - val_loss: 0.3895 - val_accuracy: 0.8913\n",
      "Epoch 62/700\n",
      "3/3 [==============================] - 5s 2s/step - loss: 7.4820e-04 - accuracy: 1.0000 - val_loss: 0.3894 - val_accuracy: 0.8913\n",
      "Epoch 63/700\n",
      "3/3 [==============================] - 5s 2s/step - loss: 7.8197e-04 - accuracy: 1.0000 - val_loss: 0.3894 - val_accuracy: 0.8913\n",
      "Epoch 64/700\n",
      "3/3 [==============================] - 5s 2s/step - loss: 6.4858e-04 - accuracy: 1.0000 - val_loss: 0.3892 - val_accuracy: 0.8913\n",
      "Epoch 65/700\n",
      "3/3 [==============================] - 4s 2s/step - loss: 7.9325e-04 - accuracy: 1.0000 - val_loss: 0.3889 - val_accuracy: 0.8913\n",
      "Epoch 66/700\n",
      "3/3 [==============================] - 4s 2s/step - loss: 3.7200e-04 - accuracy: 1.0000 - val_loss: 0.3890 - val_accuracy: 0.8913\n",
      "Epoch 67/700\n",
      "3/3 [==============================] - 4s 2s/step - loss: 5.1136e-04 - accuracy: 1.0000 - val_loss: 0.3892 - val_accuracy: 0.8913\n",
      "Epoch 68/700\n",
      "3/3 [==============================] - 5s 2s/step - loss: 5.3167e-04 - accuracy: 1.0000 - val_loss: 0.3894 - val_accuracy: 0.8913\n",
      "Epoch 69/700\n",
      "3/3 [==============================] - 5s 2s/step - loss: 2.9159e-04 - accuracy: 1.0000 - val_loss: 0.3895 - val_accuracy: 0.8913\n",
      "Epoch 70/700\n",
      "3/3 [==============================] - 5s 2s/step - loss: 6.1305e-04 - accuracy: 1.0000 - val_loss: 0.3894 - val_accuracy: 0.8913\n",
      "Epoch 71/700\n",
      "3/3 [==============================] - 4s 2s/step - loss: 5.1845e-04 - accuracy: 1.0000 - val_loss: 0.3890 - val_accuracy: 0.8913\n",
      "Epoch 72/700\n",
      "3/3 [==============================] - 5s 2s/step - loss: 8.4987e-04 - accuracy: 1.0000 - val_loss: 0.3889 - val_accuracy: 0.8913\n",
      "Epoch 73/700\n",
      "3/3 [==============================] - 5s 2s/step - loss: 5.9880e-04 - accuracy: 1.0000 - val_loss: 0.3895 - val_accuracy: 0.8913\n",
      "Epoch 74/700\n",
      "3/3 [==============================] - 4s 2s/step - loss: 5.9970e-04 - accuracy: 1.0000 - val_loss: 0.3902 - val_accuracy: 0.8913\n",
      "Epoch 75/700\n",
      "3/3 [==============================] - 4s 2s/step - loss: 6.7990e-04 - accuracy: 1.0000 - val_loss: 0.3909 - val_accuracy: 0.8913\n",
      "Epoch 76/700\n",
      "3/3 [==============================] - 4s 2s/step - loss: 4.8118e-04 - accuracy: 1.0000 - val_loss: 0.3913 - val_accuracy: 0.8913\n",
      "Epoch 77/700\n",
      "3/3 [==============================] - 4s 2s/step - loss: 4.2494e-04 - accuracy: 1.0000 - val_loss: 0.3917 - val_accuracy: 0.8913\n",
      "Epoch 78/700\n",
      "3/3 [==============================] - 5s 2s/step - loss: 4.2311e-04 - accuracy: 1.0000 - val_loss: 0.3922 - val_accuracy: 0.8913\n",
      "Epoch 79/700\n",
      "3/3 [==============================] - 5s 2s/step - loss: 4.2481e-04 - accuracy: 1.0000 - val_loss: 0.3926 - val_accuracy: 0.8913\n",
      "Epoch 80/700\n",
      "3/3 [==============================] - 5s 2s/step - loss: 6.3418e-04 - accuracy: 1.0000 - val_loss: 0.3927 - val_accuracy: 0.8913\n",
      "Epoch 81/700\n",
      "3/3 [==============================] - 5s 2s/step - loss: 3.8789e-04 - accuracy: 1.0000 - val_loss: 0.3928 - val_accuracy: 0.8913\n",
      "Epoch 82/700\n",
      "3/3 [==============================] - 4s 2s/step - loss: 3.4141e-04 - accuracy: 1.0000 - val_loss: 0.3928 - val_accuracy: 0.8913\n",
      "Epoch 83/700\n",
      "3/3 [==============================] - 5s 2s/step - loss: 0.0011 - accuracy: 1.0000 - val_loss: 0.3929 - val_accuracy: 0.8913\n",
      "Epoch 84/700\n",
      "3/3 [==============================] - 5s 2s/step - loss: 3.8353e-04 - accuracy: 1.0000 - val_loss: 0.3928 - val_accuracy: 0.8913\n",
      "Epoch 85/700\n",
      "3/3 [==============================] - 5s 2s/step - loss: 5.6330e-04 - accuracy: 1.0000 - val_loss: 0.3928 - val_accuracy: 0.8913\n",
      "Epoch 86/700\n",
      "3/3 [==============================] - 5s 2s/step - loss: 5.5038e-04 - accuracy: 1.0000 - val_loss: 0.3928 - val_accuracy: 0.8913\n",
      "Epoch 87/700\n",
      "3/3 [==============================] - 5s 2s/step - loss: 8.3084e-04 - accuracy: 1.0000 - val_loss: 0.3930 - val_accuracy: 0.8913\n",
      "Epoch 88/700\n",
      "3/3 [==============================] - 5s 2s/step - loss: 7.2691e-04 - accuracy: 1.0000 - val_loss: 0.3932 - val_accuracy: 0.8913\n",
      "Epoch 89/700\n",
      "3/3 [==============================] - 5s 2s/step - loss: 3.7966e-04 - accuracy: 1.0000 - val_loss: 0.3933 - val_accuracy: 0.8913\n",
      "Epoch 90/700\n",
      "3/3 [==============================] - 5s 2s/step - loss: 8.9013e-04 - accuracy: 1.0000 - val_loss: 0.3934 - val_accuracy: 0.8913\n",
      "Epoch 91/700\n",
      "3/3 [==============================] - 5s 2s/step - loss: 6.0529e-04 - accuracy: 1.0000 - val_loss: 0.3930 - val_accuracy: 0.8913\n",
      "Epoch 92/700\n",
      "3/3 [==============================] - 5s 2s/step - loss: 2.6789e-04 - accuracy: 1.0000 - val_loss: 0.3926 - val_accuracy: 0.8913\n",
      "Epoch 93/700\n",
      "3/3 [==============================] - 6s 2s/step - loss: 2.8775e-04 - accuracy: 1.0000 - val_loss: 0.3922 - val_accuracy: 0.8913\n",
      "Epoch 94/700\n",
      "3/3 [==============================] - 5s 2s/step - loss: 2.6247e-04 - accuracy: 1.0000 - val_loss: 0.3919 - val_accuracy: 0.8913\n",
      "Epoch 95/700\n",
      "3/3 [==============================] - 6s 2s/step - loss: 4.5139e-04 - accuracy: 1.0000 - val_loss: 0.3914 - val_accuracy: 0.8696\n"
     ]
    }
   ],
   "source": [
    "callbacks = [\n",
    "    tf.keras.callbacks.EarlyStopping(\n",
    "        monitor=\"val_loss\",\n",
    "        patience=30,\n",
    "        restore_best_weights=True\n",
    "    )\n",
    "]\n",
    "\n",
    "history = model.fit(\n",
    "    x=X_train,\n",
    "    y=y_train,\n",
    "    validation_data=(X_test, y_test),\n",
    "    batch_size=32,\n",
    "    epochs=700,\n",
    "    verbose=1,\n",
    "    callbacks=callbacks\n",
    ")\n"
   ]
  },
  {
   "cell_type": "code",
   "execution_count": 11,
   "metadata": {},
   "outputs": [
    {
     "name": "stdout",
     "output_type": "stream",
     "text": [
      "2/2 [==============================] - 1s 295ms/step - loss: 0.3889 - accuracy: 0.8913\n"
     ]
    },
    {
     "data": {
      "text/plain": [
       "[0.3889082968235016, 0.8913043737411499]"
      ]
     },
     "execution_count": 11,
     "metadata": {},
     "output_type": "execute_result"
    }
   ],
   "source": [
    "model.evaluate(X_test, y_test)"
   ]
  },
  {
   "cell_type": "code",
   "execution_count": 12,
   "metadata": {},
   "outputs": [
    {
     "data": {
      "image/png": "[encoded data removed]",
      "text/plain": [
       "<Figure size 576x432 with 1 Axes>"
      ]
     },
     "metadata": {
      "needs_background": "light"
     },
     "output_type": "display_data"
    }
   ],
   "source": [
    "import matplotlib.pyplot as plt\n",
    "\n",
    "plt.rcParams.update({\n",
    "    \"text.usetex\": True,\n",
    "    \"font.family\": \"serif\",\n",
    "    \"font.serif\": [\"Computer Modern Roman\"],\n",
    "    \"font.size\": 22,\n",
    "    \"text.color\": \"#212121\",\n",
    "    \"axes.edgecolor\": \"#212121\",\n",
    "    \"xtick.color\": \"#212121\",\n",
    "    \"ytick.color\": \"#212121\",\n",
    "    \"axes.labelcolor\": \"#212121\",\n",
    "    'legend.frameon': False,\n",
    "})\n",
    "\n",
    "fig = plt.figure(figsize=(8, 6))\n",
    "ax = fig.gca()\n",
    "ax.plot(history.history[\"loss\"], \"-\", color=\"#212121\", label=\"Train Loss\")\n",
    "ax.plot(history.history[\"val_loss\"], \"--\",\n",
    "        color=\"#212121\", label=\"Validation Loss\")\n",
    "ax.set_xlabel(\"Epoch\")\n",
    "ax.set_ylabel(\"Loss\")\n",
    "ax.spines['right'].set_visible(False)\n",
    "ax.spines['top'].set_visible(False)\n",
    "plt.title(\"Learning Curves\")\n",
    "plt.legend()\n",
    "plt.tight_layout()\n",
    "plt.savefig(\"../assets/lc.png\")\n",
    "plt.show()\n"
   ]
  },
  {
   "cell_type": "code",
   "execution_count": 13,
   "metadata": {},
   "outputs": [],
   "source": [
    "tf.keras.backend.clear_session()\n"
   ]
  },
  {
   "cell_type": "code",
   "execution_count": null,
   "metadata": {},
   "outputs": [],
   "source": []
  }
 ],
 "metadata": {
  "kernelspec": {
   "display_name": "Python 3.10.4 ('.env': venv)",
   "language": "python",
   "name": "python3"
  },
  "language_info": {
   "codemirror_mode": {
    "name": "ipython",
    "version": 3
   },
   "file_extension": ".py",
   "mimetype": "text/x-python",
   "name": "python",
   "nbconvert_exporter": "python",
   "pygments_lexer": "ipython3",
   "version": "3.10.5"
  },
  "orig_nbformat": 4,
  "vscode": {
   "interpreter": {
    "hash": "3f0f52ed645d8567bae68a8c372449e0a23f49f10e778396b1f58fd2946c160c"
   }
  }
 },
 "nbformat": 4,
 "nbformat_minor": 2
}
