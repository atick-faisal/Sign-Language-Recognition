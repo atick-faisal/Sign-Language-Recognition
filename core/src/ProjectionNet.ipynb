{
 "cells": [
  {
   "cell_type": "code",
   "execution_count": 1,
   "metadata": {},
   "outputs": [],
   "source": [
    "import os\n",
    "import config\n",
    "import numpy as np\n",
    "import pandas as pd\n",
    "import matplotlib.pyplot as plt\n",
    "\n",
    "from utils import get_projection_image\n",
    "\n",
    "os.environ[\"CUDA_VISIBLE_DEVICES\"] = \"-1\"\n"
   ]
  },
  {
   "cell_type": "code",
   "execution_count": 2,
   "metadata": {},
   "outputs": [],
   "source": [
    "data_dir = \"../../data/dataset/\"\n",
    "subjects = os.listdir(data_dir)\n"
   ]
  },
  {
   "cell_type": "code",
   "execution_count": 3,
   "metadata": {},
   "outputs": [],
   "source": [
    "images = []\n",
    "labels = []\n",
    "\n",
    "for subject in subjects:\n",
    "    for gesture in config.GESTURES:\n",
    "        gesture_dir = os.path.join(data_dir, subject, gesture)\n",
    "        recordings = os.listdir(gesture_dir)\n",
    "        for recording in recordings:\n",
    "            file_path = os.path.join(gesture_dir, recording)\n",
    "\n",
    "            data = pd.read_csv(file_path)\n",
    "            data.drop(columns=[\"time\"], inplace=True)\n",
    "            data.drop(0, inplace=True)  # Remove first All-0 row\n",
    "\n",
    "            img = get_projection_image(\n",
    "                data=data,\n",
    "                img_len=config.IMG_LEN\n",
    "            )\n",
    "\n",
    "            # plt.imshow(img)\n",
    "            # plt.show()\n",
    "            # plt.savefig(\"../assets/projection_demo.pdf\")\n",
    "\n",
    "            images.append(img)\n",
    "            labels.append(config.GESTURES.index(gesture))\n",
    "\n",
    "    #         break\n",
    "    #     break\n",
    "    # break\n"
   ]
  },
  {
   "cell_type": "code",
   "execution_count": 4,
   "metadata": {},
   "outputs": [],
   "source": [
    "X = np.array(images, dtype=\"uint8\")\n",
    "# X = np.repeat(np.expand_dims(X, axis=-1), 3, axis=-1)\n",
    "y = np.array(labels, dtype=\"uint8\")"
   ]
  },
  {
   "cell_type": "code",
   "execution_count": 5,
   "metadata": {},
   "outputs": [
    {
     "name": "stderr",
     "output_type": "stream",
     "text": [
      "2022-06-13 22:08:46.264724: I tensorflow/core/util/util.cc:169] oneDNN custom operations are on. You may see slightly different numerical results due to floating-point round-off errors from different computation orders. To turn them off, set the environment variable `TF_ENABLE_ONEDNN_OPTS=0`.\n"
     ]
    }
   ],
   "source": [
    "import tensorflow as tf\n",
    "from sklearn.model_selection import train_test_split"
   ]
  },
  {
   "cell_type": "code",
   "execution_count": 6,
   "metadata": {},
   "outputs": [],
   "source": [
    "X_train, X_test, y_train, y_test = train_test_split(\n",
    "    X, y, test_size=0.33, random_state=42\n",
    ")\n"
   ]
  },
  {
   "cell_type": "code",
   "execution_count": 7,
   "metadata": {},
   "outputs": [
    {
     "name": "stderr",
     "output_type": "stream",
     "text": [
      "2022-06-13 22:08:47.319270: E tensorflow/stream_executor/cuda/cuda_driver.cc:271] failed call to cuInit: CUDA_ERROR_NO_DEVICE: no CUDA-capable device is detected\n",
      "2022-06-13 22:08:47.319296: I tensorflow/stream_executor/cuda/cuda_diagnostics.cc:169] retrieving CUDA diagnostic information for host: Andromeda\n",
      "2022-06-13 22:08:47.319300: I tensorflow/stream_executor/cuda/cuda_diagnostics.cc:176] hostname: Andromeda\n",
      "2022-06-13 22:08:47.319424: I tensorflow/stream_executor/cuda/cuda_diagnostics.cc:200] libcuda reported version is: 515.48.7\n",
      "2022-06-13 22:08:47.319438: I tensorflow/stream_executor/cuda/cuda_diagnostics.cc:204] kernel reported version is: 515.48.7\n",
      "2022-06-13 22:08:47.319441: I tensorflow/stream_executor/cuda/cuda_diagnostics.cc:310] kernel version seems to match DSO: 515.48.7\n",
      "2022-06-13 22:08:47.319683: I tensorflow/core/platform/cpu_feature_guard.cc:193] This TensorFlow binary is optimized with oneAPI Deep Neural Network Library (oneDNN) to use the following CPU instructions in performance-critical operations:  AVX2 AVX512F AVX512_VNNI FMA\n",
      "To enable them in other operations, rebuild TensorFlow with the appropriate compiler flags.\n"
     ]
    }
   ],
   "source": [
    "preprocess_input = tf.keras.applications.mobilenet_v2.preprocess_input\n",
    "base_model = tf.keras.applications.MobileNetV2(\n",
    "    input_shape=(224, 224, 3),\n",
    "    include_top=False,\n",
    "    weights=\"imagenet\"\n",
    ")\n",
    "base_model.trainable = False\n",
    "global_average_layer = tf.keras.layers.GlobalAveragePooling2D()\n",
    "prediction_layer = tf.keras.layers.Dense(len(config.GESTURES))\n"
   ]
  },
  {
   "cell_type": "code",
   "execution_count": 8,
   "metadata": {},
   "outputs": [],
   "source": [
    "# inputs = tf.keras.Input(shape=(224, 224, 3))\n",
    "# x = preprocess_input(inputs)\n",
    "# x = base_model(x, training=False)\n",
    "# x = global_average_layer(x)\n",
    "# x = tf.keras.layers.Dropout(0.5)(x)\n",
    "# outputs = prediction_layer(x)\n",
    "# model = tf.keras.Model(inputs, outputs)\n",
    "\n",
    "model = tf.keras.models.Sequential([\n",
    "    tf.keras.layers.Input(shape=(224, 224, 3)),\n",
    "    tf.keras.layers.Normalization()\n",
    "])\n"
   ]
  },
  {
   "cell_type": "code",
   "execution_count": 9,
   "metadata": {},
   "outputs": [],
   "source": [
    "model.compile(\n",
    "    optimizer=tf.keras.optimizers.Adam(learning_rate=config.LEARNING_RATE),\n",
    "    loss=tf.keras.losses.SparseCategoricalCrossentropy(from_logits=True),\n",
    "    metrics=['accuracy']\n",
    ")\n"
   ]
  },
  {
   "cell_type": "code",
   "execution_count": 10,
   "metadata": {},
   "outputs": [
    {
     "name": "stdout",
     "output_type": "stream",
     "text": [
      "Epoch 1/300\n",
      "4/4 [==============================] - 4s 639ms/step - loss: 3.5962 - accuracy: 0.0849 - val_loss: 2.7906 - val_accuracy: 0.0943\n",
      "Epoch 2/300\n",
      "4/4 [==============================] - 2s 440ms/step - loss: 2.9998 - accuracy: 0.1132 - val_loss: 2.4738 - val_accuracy: 0.1509\n",
      "Epoch 3/300\n",
      "4/4 [==============================] - 2s 433ms/step - loss: 2.4626 - accuracy: 0.2075 - val_loss: 2.1922 - val_accuracy: 0.3019\n",
      "Epoch 4/300\n",
      "4/4 [==============================] - 2s 429ms/step - loss: 2.2525 - accuracy: 0.3396 - val_loss: 1.9666 - val_accuracy: 0.4151\n",
      "Epoch 5/300\n",
      "4/4 [==============================] - 2s 563ms/step - loss: 2.0303 - accuracy: 0.3113 - val_loss: 1.8020 - val_accuracy: 0.5283\n",
      "Epoch 6/300\n",
      "4/4 [==============================] - 2s 586ms/step - loss: 1.8314 - accuracy: 0.3962 - val_loss: 1.6876 - val_accuracy: 0.4528\n",
      "Epoch 7/300\n",
      "4/4 [==============================] - 2s 599ms/step - loss: 1.5986 - accuracy: 0.4340 - val_loss: 1.6154 - val_accuracy: 0.4717\n",
      "Epoch 8/300\n",
      "4/4 [==============================] - 2s 586ms/step - loss: 1.5587 - accuracy: 0.5472 - val_loss: 1.5748 - val_accuracy: 0.4906\n",
      "Epoch 9/300\n",
      "4/4 [==============================] - 2s 588ms/step - loss: 1.3954 - accuracy: 0.5000 - val_loss: 1.5351 - val_accuracy: 0.4717\n",
      "Epoch 10/300\n",
      "4/4 [==============================] - 2s 580ms/step - loss: 1.3396 - accuracy: 0.5660 - val_loss: 1.4679 - val_accuracy: 0.4717\n",
      "Epoch 11/300\n",
      "4/4 [==============================] - 2s 598ms/step - loss: 1.1841 - accuracy: 0.5849 - val_loss: 1.3953 - val_accuracy: 0.4528\n",
      "Epoch 12/300\n",
      "4/4 [==============================] - 2s 565ms/step - loss: 1.0989 - accuracy: 0.6038 - val_loss: 1.3673 - val_accuracy: 0.4906\n",
      "Epoch 13/300\n",
      "4/4 [==============================] - 2s 521ms/step - loss: 0.9556 - accuracy: 0.6887 - val_loss: 1.3025 - val_accuracy: 0.5472\n",
      "Epoch 14/300\n",
      "4/4 [==============================] - 2s 514ms/step - loss: 1.0141 - accuracy: 0.6698 - val_loss: 1.2468 - val_accuracy: 0.5094\n",
      "Epoch 15/300\n",
      "4/4 [==============================] - 2s 538ms/step - loss: 0.9073 - accuracy: 0.6792 - val_loss: 1.2026 - val_accuracy: 0.5283\n",
      "Epoch 16/300\n",
      "4/4 [==============================] - 2s 517ms/step - loss: 0.8218 - accuracy: 0.6887 - val_loss: 1.1805 - val_accuracy: 0.5472\n",
      "Epoch 17/300\n",
      "4/4 [==============================] - 2s 520ms/step - loss: 0.7532 - accuracy: 0.7736 - val_loss: 1.1486 - val_accuracy: 0.5849\n",
      "Epoch 18/300\n",
      "4/4 [==============================] - 2s 507ms/step - loss: 0.7949 - accuracy: 0.7736 - val_loss: 1.1293 - val_accuracy: 0.6415\n",
      "Epoch 19/300\n",
      "4/4 [==============================] - 2s 515ms/step - loss: 0.7251 - accuracy: 0.7925 - val_loss: 1.1072 - val_accuracy: 0.6226\n",
      "Epoch 20/300\n",
      "4/4 [==============================] - 2s 514ms/step - loss: 0.6707 - accuracy: 0.8019 - val_loss: 1.1011 - val_accuracy: 0.6038\n",
      "Epoch 21/300\n",
      "4/4 [==============================] - 2s 501ms/step - loss: 0.6340 - accuracy: 0.7925 - val_loss: 1.1126 - val_accuracy: 0.6038\n",
      "Epoch 22/300\n",
      "4/4 [==============================] - 2s 505ms/step - loss: 0.5605 - accuracy: 0.8774 - val_loss: 1.1087 - val_accuracy: 0.6226\n",
      "Epoch 23/300\n",
      "4/4 [==============================] - 2s 506ms/step - loss: 0.5790 - accuracy: 0.8491 - val_loss: 1.0913 - val_accuracy: 0.6038\n",
      "Epoch 24/300\n",
      "4/4 [==============================] - 2s 510ms/step - loss: 0.5642 - accuracy: 0.8113 - val_loss: 1.0589 - val_accuracy: 0.5660\n",
      "Epoch 25/300\n",
      "4/4 [==============================] - 2s 515ms/step - loss: 0.4522 - accuracy: 0.9434 - val_loss: 1.0343 - val_accuracy: 0.5660\n",
      "Epoch 26/300\n",
      "4/4 [==============================] - 2s 514ms/step - loss: 0.4589 - accuracy: 0.8868 - val_loss: 1.0171 - val_accuracy: 0.5849\n",
      "Epoch 27/300\n",
      "4/4 [==============================] - 2s 517ms/step - loss: 0.4466 - accuracy: 0.8868 - val_loss: 1.0099 - val_accuracy: 0.5849\n",
      "Epoch 28/300\n",
      "4/4 [==============================] - 2s 510ms/step - loss: 0.4220 - accuracy: 0.8491 - val_loss: 1.0107 - val_accuracy: 0.6226\n",
      "Epoch 29/300\n",
      "4/4 [==============================] - 2s 520ms/step - loss: 0.4218 - accuracy: 0.8585 - val_loss: 1.0063 - val_accuracy: 0.6226\n",
      "Epoch 30/300\n",
      "4/4 [==============================] - 2s 514ms/step - loss: 0.4146 - accuracy: 0.8962 - val_loss: 0.9931 - val_accuracy: 0.6226\n",
      "Epoch 31/300\n",
      "4/4 [==============================] - 2s 510ms/step - loss: 0.3560 - accuracy: 0.9434 - val_loss: 0.9989 - val_accuracy: 0.6415\n",
      "Epoch 32/300\n",
      "4/4 [==============================] - 2s 500ms/step - loss: 0.3742 - accuracy: 0.9057 - val_loss: 1.0117 - val_accuracy: 0.6415\n",
      "Epoch 33/300\n",
      "4/4 [==============================] - 2s 498ms/step - loss: 0.4137 - accuracy: 0.8774 - val_loss: 1.0203 - val_accuracy: 0.6604\n",
      "Epoch 34/300\n",
      "4/4 [==============================] - 2s 503ms/step - loss: 0.4018 - accuracy: 0.8585 - val_loss: 1.0078 - val_accuracy: 0.6415\n",
      "Epoch 35/300\n",
      "4/4 [==============================] - 2s 515ms/step - loss: 0.3316 - accuracy: 0.9434 - val_loss: 0.9889 - val_accuracy: 0.6226\n",
      "Epoch 36/300\n",
      "4/4 [==============================] - 2s 513ms/step - loss: 0.2899 - accuracy: 0.9528 - val_loss: 0.9657 - val_accuracy: 0.6415\n",
      "Epoch 37/300\n",
      "4/4 [==============================] - 2s 509ms/step - loss: 0.3456 - accuracy: 0.9151 - val_loss: 0.9457 - val_accuracy: 0.6415\n",
      "Epoch 38/300\n",
      "4/4 [==============================] - 2s 500ms/step - loss: 0.3364 - accuracy: 0.8962 - val_loss: 0.9457 - val_accuracy: 0.6226\n",
      "Epoch 39/300\n",
      "4/4 [==============================] - 2s 514ms/step - loss: 0.3091 - accuracy: 0.9340 - val_loss: 0.9618 - val_accuracy: 0.6226\n",
      "Epoch 40/300\n",
      "4/4 [==============================] - 2s 514ms/step - loss: 0.2829 - accuracy: 0.9340 - val_loss: 0.9817 - val_accuracy: 0.6038\n",
      "Epoch 41/300\n",
      "4/4 [==============================] - 2s 517ms/step - loss: 0.2271 - accuracy: 0.9340 - val_loss: 1.0012 - val_accuracy: 0.6415\n",
      "Epoch 42/300\n",
      "4/4 [==============================] - 2s 522ms/step - loss: 0.2459 - accuracy: 0.9434 - val_loss: 0.9937 - val_accuracy: 0.6604\n",
      "Epoch 43/300\n",
      "4/4 [==============================] - 2s 505ms/step - loss: 0.2783 - accuracy: 0.9528 - val_loss: 0.9585 - val_accuracy: 0.6604\n",
      "Epoch 44/300\n",
      "4/4 [==============================] - 2s 528ms/step - loss: 0.2689 - accuracy: 0.9528 - val_loss: 0.9299 - val_accuracy: 0.6604\n",
      "Epoch 45/300\n",
      "4/4 [==============================] - 2s 508ms/step - loss: 0.2005 - accuracy: 0.9528 - val_loss: 0.9218 - val_accuracy: 0.6415\n",
      "Epoch 46/300\n",
      "4/4 [==============================] - 2s 512ms/step - loss: 0.2038 - accuracy: 0.9528 - val_loss: 0.8915 - val_accuracy: 0.6981\n",
      "Epoch 47/300\n",
      "4/4 [==============================] - 2s 513ms/step - loss: 0.1936 - accuracy: 0.9717 - val_loss: 0.8692 - val_accuracy: 0.6792\n",
      "Epoch 48/300\n",
      "4/4 [==============================] - 2s 510ms/step - loss: 0.2139 - accuracy: 0.9623 - val_loss: 0.8593 - val_accuracy: 0.6981\n",
      "Epoch 49/300\n",
      "4/4 [==============================] - 2s 505ms/step - loss: 0.2509 - accuracy: 0.9245 - val_loss: 0.8643 - val_accuracy: 0.6792\n",
      "Epoch 50/300\n",
      "4/4 [==============================] - 2s 509ms/step - loss: 0.2442 - accuracy: 0.9340 - val_loss: 0.8843 - val_accuracy: 0.6415\n",
      "Epoch 51/300\n",
      "4/4 [==============================] - 2s 502ms/step - loss: 0.2158 - accuracy: 0.9528 - val_loss: 0.9200 - val_accuracy: 0.6415\n",
      "Epoch 52/300\n",
      "4/4 [==============================] - 2s 511ms/step - loss: 0.1927 - accuracy: 0.9717 - val_loss: 0.9304 - val_accuracy: 0.6415\n",
      "Epoch 53/300\n",
      "4/4 [==============================] - 2s 499ms/step - loss: 0.1736 - accuracy: 0.9811 - val_loss: 0.9322 - val_accuracy: 0.6226\n",
      "Epoch 54/300\n",
      "4/4 [==============================] - 2s 503ms/step - loss: 0.1625 - accuracy: 0.9717 - val_loss: 0.9277 - val_accuracy: 0.6415\n",
      "Epoch 55/300\n",
      "4/4 [==============================] - 2s 506ms/step - loss: 0.1755 - accuracy: 0.9717 - val_loss: 0.9307 - val_accuracy: 0.6604\n",
      "Epoch 56/300\n",
      "4/4 [==============================] - 2s 511ms/step - loss: 0.1944 - accuracy: 0.9623 - val_loss: 0.9161 - val_accuracy: 0.6981\n",
      "Epoch 57/300\n",
      "4/4 [==============================] - 2s 506ms/step - loss: 0.1900 - accuracy: 0.9717 - val_loss: 0.9140 - val_accuracy: 0.6792\n",
      "Epoch 58/300\n",
      "4/4 [==============================] - 2s 512ms/step - loss: 0.1859 - accuracy: 0.9717 - val_loss: 0.9168 - val_accuracy: 0.6604\n",
      "Epoch 59/300\n",
      "4/4 [==============================] - 2s 511ms/step - loss: 0.1445 - accuracy: 0.9906 - val_loss: 0.9185 - val_accuracy: 0.6415\n",
      "Epoch 60/300\n",
      "4/4 [==============================] - 2s 505ms/step - loss: 0.1569 - accuracy: 0.9717 - val_loss: 0.9123 - val_accuracy: 0.6604\n",
      "Epoch 61/300\n",
      "4/4 [==============================] - 2s 504ms/step - loss: 0.1423 - accuracy: 0.9906 - val_loss: 0.9040 - val_accuracy: 0.6604\n",
      "Epoch 62/300\n",
      "4/4 [==============================] - 2s 510ms/step - loss: 0.1448 - accuracy: 0.9811 - val_loss: 0.8973 - val_accuracy: 0.6604\n",
      "Epoch 63/300\n",
      "4/4 [==============================] - 2s 504ms/step - loss: 0.1543 - accuracy: 0.9717 - val_loss: 0.8876 - val_accuracy: 0.6792\n",
      "Epoch 64/300\n",
      "4/4 [==============================] - 2s 504ms/step - loss: 0.1511 - accuracy: 0.9906 - val_loss: 0.8801 - val_accuracy: 0.6792\n",
      "Epoch 65/300\n",
      "4/4 [==============================] - 2s 502ms/step - loss: 0.2151 - accuracy: 0.9623 - val_loss: 0.8722 - val_accuracy: 0.6604\n",
      "Epoch 66/300\n",
      "4/4 [==============================] - 2s 525ms/step - loss: 0.1358 - accuracy: 0.9906 - val_loss: 0.8682 - val_accuracy: 0.6604\n",
      "Epoch 67/300\n",
      "4/4 [==============================] - 2s 505ms/step - loss: 0.1068 - accuracy: 1.0000 - val_loss: 0.8711 - val_accuracy: 0.6604\n",
      "Epoch 68/300\n",
      "4/4 [==============================] - 2s 509ms/step - loss: 0.1763 - accuracy: 0.9623 - val_loss: 0.8631 - val_accuracy: 0.6792\n",
      "Epoch 69/300\n",
      "4/4 [==============================] - 2s 509ms/step - loss: 0.1208 - accuracy: 0.9811 - val_loss: 0.8477 - val_accuracy: 0.6981\n",
      "Epoch 70/300\n",
      "4/4 [==============================] - 2s 541ms/step - loss: 0.1373 - accuracy: 0.9717 - val_loss: 0.8369 - val_accuracy: 0.6792\n",
      "Epoch 71/300\n",
      "4/4 [==============================] - 2s 515ms/step - loss: 0.1101 - accuracy: 0.9811 - val_loss: 0.8379 - val_accuracy: 0.6792\n",
      "Epoch 72/300\n",
      "4/4 [==============================] - 2s 512ms/step - loss: 0.1126 - accuracy: 0.9811 - val_loss: 0.8470 - val_accuracy: 0.7170\n",
      "Epoch 73/300\n",
      "4/4 [==============================] - 2s 515ms/step - loss: 0.1359 - accuracy: 0.9623 - val_loss: 0.8600 - val_accuracy: 0.6792\n",
      "Epoch 74/300\n",
      "4/4 [==============================] - 2s 505ms/step - loss: 0.1660 - accuracy: 0.9434 - val_loss: 0.8633 - val_accuracy: 0.6792\n",
      "Epoch 75/300\n",
      "4/4 [==============================] - 2s 503ms/step - loss: 0.1271 - accuracy: 0.9811 - val_loss: 0.8725 - val_accuracy: 0.6604\n",
      "Epoch 76/300\n",
      "4/4 [==============================] - 2s 507ms/step - loss: 0.0997 - accuracy: 1.0000 - val_loss: 0.8785 - val_accuracy: 0.6415\n",
      "Epoch 77/300\n",
      "4/4 [==============================] - 2s 504ms/step - loss: 0.1121 - accuracy: 0.9623 - val_loss: 0.8593 - val_accuracy: 0.6604\n",
      "Epoch 78/300\n",
      "4/4 [==============================] - 2s 506ms/step - loss: 0.0998 - accuracy: 0.9717 - val_loss: 0.8480 - val_accuracy: 0.6604\n",
      "Epoch 79/300\n",
      "4/4 [==============================] - 2s 504ms/step - loss: 0.1390 - accuracy: 0.9717 - val_loss: 0.8461 - val_accuracy: 0.6604\n",
      "Epoch 80/300\n",
      "4/4 [==============================] - 2s 511ms/step - loss: 0.1190 - accuracy: 0.9717 - val_loss: 0.8434 - val_accuracy: 0.6604\n",
      "Epoch 81/300\n",
      "4/4 [==============================] - 2s 515ms/step - loss: 0.0885 - accuracy: 1.0000 - val_loss: 0.8403 - val_accuracy: 0.6792\n",
      "Epoch 82/300\n",
      "4/4 [==============================] - 2s 509ms/step - loss: 0.1244 - accuracy: 0.9906 - val_loss: 0.8412 - val_accuracy: 0.6792\n",
      "Epoch 83/300\n",
      "4/4 [==============================] - 2s 510ms/step - loss: 0.1113 - accuracy: 0.9717 - val_loss: 0.8451 - val_accuracy: 0.7358\n",
      "Epoch 84/300\n",
      "4/4 [==============================] - 2s 509ms/step - loss: 0.0943 - accuracy: 0.9811 - val_loss: 0.8501 - val_accuracy: 0.7358\n",
      "Epoch 85/300\n",
      "4/4 [==============================] - 2s 501ms/step - loss: 0.1251 - accuracy: 0.9623 - val_loss: 0.8514 - val_accuracy: 0.7358\n",
      "Epoch 86/300\n",
      "4/4 [==============================] - 2s 508ms/step - loss: 0.1398 - accuracy: 0.9623 - val_loss: 0.8528 - val_accuracy: 0.7358\n",
      "Epoch 87/300\n",
      "4/4 [==============================] - 2s 505ms/step - loss: 0.1052 - accuracy: 0.9811 - val_loss: 0.8594 - val_accuracy: 0.6981\n",
      "Epoch 88/300\n",
      "4/4 [==============================] - 2s 510ms/step - loss: 0.0869 - accuracy: 0.9906 - val_loss: 0.8675 - val_accuracy: 0.6792\n",
      "Epoch 89/300\n",
      "4/4 [==============================] - 2s 492ms/step - loss: 0.0920 - accuracy: 0.9906 - val_loss: 0.8715 - val_accuracy: 0.6604\n",
      "Epoch 90/300\n",
      "4/4 [==============================] - 2s 529ms/step - loss: 0.0750 - accuracy: 0.9906 - val_loss: 0.8733 - val_accuracy: 0.6415\n",
      "Epoch 91/300\n",
      "4/4 [==============================] - 2s 504ms/step - loss: 0.0927 - accuracy: 0.9906 - val_loss: 0.8716 - val_accuracy: 0.6226\n",
      "Epoch 92/300\n",
      "4/4 [==============================] - 2s 499ms/step - loss: 0.1167 - accuracy: 0.9811 - val_loss: 0.8704 - val_accuracy: 0.6226\n",
      "Epoch 93/300\n",
      "4/4 [==============================] - 2s 508ms/step - loss: 0.0928 - accuracy: 0.9811 - val_loss: 0.8648 - val_accuracy: 0.6415\n",
      "Epoch 94/300\n",
      "4/4 [==============================] - 2s 500ms/step - loss: 0.0784 - accuracy: 1.0000 - val_loss: 0.8733 - val_accuracy: 0.6415\n",
      "Epoch 95/300\n",
      "4/4 [==============================] - 2s 508ms/step - loss: 0.0970 - accuracy: 0.9717 - val_loss: 0.8813 - val_accuracy: 0.6604\n",
      "Epoch 96/300\n",
      "4/4 [==============================] - 2s 501ms/step - loss: 0.1084 - accuracy: 0.9811 - val_loss: 0.8796 - val_accuracy: 0.6415\n",
      "Epoch 97/300\n",
      "4/4 [==============================] - 2s 523ms/step - loss: 0.1032 - accuracy: 0.9811 - val_loss: 0.8650 - val_accuracy: 0.6981\n",
      "Epoch 98/300\n",
      "4/4 [==============================] - 2s 502ms/step - loss: 0.0873 - accuracy: 0.9906 - val_loss: 0.8578 - val_accuracy: 0.6981\n",
      "Epoch 99/300\n",
      "4/4 [==============================] - 2s 505ms/step - loss: 0.0703 - accuracy: 0.9811 - val_loss: 0.8586 - val_accuracy: 0.6981\n",
      "Epoch 100/300\n",
      "4/4 [==============================] - 2s 525ms/step - loss: 0.1144 - accuracy: 0.9811 - val_loss: 0.8702 - val_accuracy: 0.6792\n"
     ]
    }
   ],
   "source": [
    "callbacks = [\n",
    "    tf.keras.callbacks.EarlyStopping(\n",
    "        monitor=\"val_loss\",\n",
    "        patience=30,\n",
    "        restore_best_weights=True\n",
    "    )\n",
    "]\n",
    "\n",
    "history = model.fit(\n",
    "    x=X_train,\n",
    "    y=y_train,\n",
    "    validation_data=(X_test, y_test),\n",
    "    batch_size=32,\n",
    "    epochs=300,\n",
    "    verbose=1,\n",
    "    callbacks=callbacks\n",
    ")\n"
   ]
  },
  {
   "cell_type": "code",
   "execution_count": 11,
   "metadata": {},
   "outputs": [
    {
     "name": "stdout",
     "output_type": "stream",
     "text": [
      "2/2 [==============================] - 1s 256ms/step - loss: 0.8369 - accuracy: 0.6792\n"
     ]
    },
    {
     "data": {
      "text/plain": [
       "[0.8368750810623169, 0.6792452931404114]"
      ]
     },
     "execution_count": 11,
     "metadata": {},
     "output_type": "execute_result"
    }
   ],
   "source": [
    "model.evaluate(X_test, y_test)"
   ]
  },
  {
   "cell_type": "code",
   "execution_count": 12,
   "metadata": {},
   "outputs": [
    {
     "data": {
      "image/png": "[encoded data removed]",
      "text/plain": [
       "<Figure size 576x432 with 1 Axes>"
      ]
     },
     "metadata": {
      "needs_background": "light"
     },
     "output_type": "display_data"
    }
   ],
   "source": [
    "import matplotlib.pyplot as plt\n",
    "\n",
    "plt.rcParams.update({\n",
    "    \"text.usetex\": True,\n",
    "    \"font.family\": \"serif\",\n",
    "    \"font.serif\": [\"Computer Modern Roman\"],\n",
    "    \"font.size\": 22,\n",
    "    \"text.color\": \"#212121\",\n",
    "    \"axes.edgecolor\": \"#212121\",\n",
    "    \"xtick.color\": \"#212121\",\n",
    "    \"ytick.color\": \"#212121\",\n",
    "    \"axes.labelcolor\": \"#212121\",\n",
    "    'legend.frameon': False,\n",
    "})\n",
    "\n",
    "fig = plt.figure(figsize=(8, 6))\n",
    "ax = fig.gca()\n",
    "ax.plot(history.history[\"loss\"], \"-\", color=\"#212121\", label=\"Train Loss\")\n",
    "ax.plot(history.history[\"val_loss\"], \"--\",\n",
    "        color=\"#212121\", label=\"Validation Loss\")\n",
    "ax.set_xlabel(\"Epoch\")\n",
    "ax.set_ylabel(\"Loss\")\n",
    "ax.spines['right'].set_visible(False)\n",
    "ax.spines['top'].set_visible(False)\n",
    "plt.title(\"Learning Curves\")\n",
    "plt.legend()\n",
    "plt.tight_layout()\n",
    "plt.savefig(\"../assets/lc.png\")\n",
    "plt.show()\n"
   ]
  },
  {
   "cell_type": "code",
   "execution_count": 13,
   "metadata": {},
   "outputs": [],
   "source": [
    "tf.keras.backend.clear_session()\n"
   ]
  }
 ],
 "metadata": {
  "kernelspec": {
   "display_name": "Python 3.10.4 ('.env': venv)",
   "language": "python",
   "name": "python3"
  },
  "language_info": {
   "codemirror_mode": {
    "name": "ipython",
    "version": 3
   },
   "file_extension": ".py",
   "mimetype": "text/x-python",
   "name": "python",
   "nbconvert_exporter": "python",
   "pygments_lexer": "ipython3",
   "version": "3.10.4"
  },
  "orig_nbformat": 4,
  "vscode": {
   "interpreter": {
    "hash": "3f0f52ed645d8567bae68a8c372449e0a23f49f10e778396b1f58fd2946c160c"
   }
  }
 },
 "nbformat": 4,
 "nbformat_minor": 2
}
