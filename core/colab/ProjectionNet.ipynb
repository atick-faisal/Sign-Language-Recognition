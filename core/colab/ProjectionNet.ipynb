{
  "cells": [
    {
      "cell_type": "markdown",
      "metadata": {
        "id": "view-in-github",
        "colab_type": "text"
      },
      "source": [
        "<a href=\"https://colab.research.google.com/github/atick-faisal/Sign-Language-Recognition/blob/main/core/colab/ProjectionNet.ipynb\" target=\"_parent\"><img src=\"https://colab.research.google.com/assets/colab-badge.svg\" alt=\"Open In Colab\"/></a>"
      ]
    },
    {
      "cell_type": "code",
      "source": [
        "!gdown \"1XG0u9AUABi_nKrWs5D4LGfP7v1KUFdD6\"\n",
        "!tar -xvf \"lmc_dataset.tar.xz\""
      ],
      "metadata": {
        "id": "7sh6bFYl_bJu",
        "outputId": "39213df8-5890-4c30-8bb1-cc378d5bc835",
        "colab": {
          "base_uri": "https://localhost:8080/"
        }
      },
      "execution_count": 1,
      "outputs": [
        {
          "output_type": "stream",
          "name": "stdout",
          "text": [
            "Downloading...\n",
            "From: https://drive.google.com/uc?id=1XG0u9AUABi_nKrWs5D4LGfP7v1KUFdD6\n",
            "To: /content/lmc_dataset.tar.xz\n",
            "\r  0% 0.00/26.3M [00:00<?, ?B/s]\r 98% 25.7M/26.3M [00:00<00:00, 256MB/s]\r100% 26.3M/26.3M [00:00<00:00, 256MB/s]\n",
            "X_test.joblib\n",
            "X_train.joblib\n",
            "y_test.joblib\n",
            "y_train.joblib\n"
          ]
        }
      ]
    },
    {
      "cell_type": "code",
      "execution_count": 2,
      "metadata": {
        "id": "qOtkluZD-l0Q"
      },
      "outputs": [],
      "source": [
        "import os\n",
        "import math\n",
        "import joblib\n",
        "import random\n",
        "import numpy as np\n",
        "import pandas as pd\n",
        "import tensorflow as tf\n",
        "import matplotlib.pyplot as plt\n",
        "\n",
        "from tqdm import tqdm\n"
      ]
    },
    {
      "cell_type": "markdown",
      "metadata": {
        "id": "sSis6GXi-l0T"
      },
      "source": [
        "# Configuration"
      ]
    },
    {
      "cell_type": "code",
      "execution_count": 3,
      "metadata": {
        "id": "LHMP-S6Q-l0U"
      },
      "outputs": [],
      "source": [
        "class config(object):\n",
        "    INFERENCE_TIME = 3.0  # ... Segment duration\n",
        "    HOLD_TIME = 2.0  # ... Time before next prediction session\n",
        "    SEGMENT_LEN = 256\n",
        "    IMG_LEN = 224  # 1/9 of the 224x224 image\n",
        "    N_CHANNELS = 1\n",
        "    LEARNING_RATE = 0.001\n",
        "    PROJECTION_LANDMARKS = [\"rp\", \"rf0\", \"rf1\"]\n",
        "    INFERENCE_FEATURES = [\n",
        "        \"rpx\",\n",
        "        \"rpy\",\n",
        "        \"rpz\",\n",
        "        \"rf0x\",\n",
        "        \"rf0y\",\n",
        "        \"rf0z\",\n",
        "        \"rf1x\",\n",
        "        \"rf1y\",\n",
        "        \"rf1z\"\n",
        "    ]\n",
        "    MODEL_PREDICTION = \"dev.atick.slr.model.prediction\"\n",
        "    FRAME_EVENT = \"dev.atick.slr.frame\"\n",
        "    GESTURES = [\"Good\", \"Bad\", \"Fine\", \"Hello\", \"Yes\", \"Deaf\", \"Me\",\n",
        "                \"No\", \"Please\", \"Sorry\", \"Thank You\", \"You\", \"Hungry\", \"Goodbye\"]\n",
        "    FEATURE_NAMES = [\n",
        "        \"time\",\n",
        "        \"rpx\",\n",
        "        \"rpy\",\n",
        "        \"rpz\",\n",
        "        \"lpx\",\n",
        "        \"lpy\",\n",
        "        \"lpz\",\n",
        "        \"rf0x\",\n",
        "        \"rf0y\",\n",
        "        \"rf0z\",\n",
        "        \"rf1x\",\n",
        "        \"rf1y\",\n",
        "        \"rf1z\",\n",
        "        \"rf2x\",\n",
        "        \"rf2y\",\n",
        "        \"rf2z\",\n",
        "        \"rf3x\",\n",
        "        \"rf3y\",\n",
        "        \"rf3z\",\n",
        "        \"rf4x\",\n",
        "        \"rf4y\",\n",
        "        \"rf4z\",\n",
        "        \"lf0x\",\n",
        "        \"lf0y\",\n",
        "        \"lf0z\",\n",
        "        \"lf1x\",\n",
        "        \"lf1y\",\n",
        "        \"lf1z\",\n",
        "        \"lf2x\",\n",
        "        \"lf2y\",\n",
        "        \"lf2z\",\n",
        "        \"lf3x\",\n",
        "        \"lf3y\",\n",
        "        \"lf3z\",\n",
        "        \"lf4x\",\n",
        "        \"lf4y\",\n",
        "        \"lf4z\",\n",
        "    ]\n"
      ]
    },
    {
      "cell_type": "markdown",
      "metadata": {
        "id": "cnEyjvT--l0V"
      },
      "source": [
        "# Normalization"
      ]
    },
    {
      "cell_type": "code",
      "execution_count": 4,
      "metadata": {
        "id": "bM1_fF7s-l0V"
      },
      "outputs": [],
      "source": [
        "import numpy as np\n",
        "\n",
        "\n",
        "def normalize(x: np.ndarray) -> np.ndarray:\n",
        "    try:\n",
        "        return (x - np.min(x)) / (np.max(x) - np.min(x))\n",
        "    except ZeroDivisionError:\n",
        "        return x\n"
      ]
    },
    {
      "cell_type": "markdown",
      "metadata": {
        "id": "RuI0m1JL-l0W"
      },
      "source": [
        "# Low-Pass Filter"
      ]
    },
    {
      "cell_type": "code",
      "execution_count": 5,
      "metadata": {
        "id": "hmKpGGDX-l0W"
      },
      "outputs": [],
      "source": [
        "import numpy as np\n",
        "from scipy.signal import butter, lfilter\n",
        "\n",
        "\n",
        "class LowPassFilter(object):\n",
        "    def butter_lowpass(\n",
        "        cutoff: int,\n",
        "        fs: int,\n",
        "        order: int\n",
        "    ):\n",
        "        nyq = 0.5 * fs\n",
        "        normal_cutoff = cutoff / nyq\n",
        "        b, a = butter(order, normal_cutoff, btype=\"low\", analog=False)\n",
        "        return b, a\n",
        "\n",
        "    def apply(\n",
        "        data: np.ndarray,\n",
        "        cutoff: int = 6,\n",
        "        fs: int = 100,\n",
        "        order: int = 2\n",
        "    ):\n",
        "        b, a = LowPassFilter.butter_lowpass(cutoff, fs, order)\n",
        "        y = lfilter(b, a, data)\n",
        "        return y\n"
      ]
    },
    {
      "cell_type": "markdown",
      "metadata": {
        "id": "5CyVaF-G-l0X"
      },
      "source": [
        "# Spatical Projection"
      ]
    },
    {
      "cell_type": "code",
      "execution_count": 6,
      "metadata": {
        "id": "HgJRtt5M-l0X"
      },
      "outputs": [],
      "source": [
        "import os\n",
        "import cv2\n",
        "import numpy as np\n",
        "import pandas as pd\n",
        "\n",
        "from typing import List\n",
        "from random import randint\n",
        "from matplotlib.backends.backend_agg import FigureCanvasAgg as FigureCanvas\n",
        "from matplotlib.ticker import NullLocator\n",
        "from matplotlib.figure import Figure\n",
        "\n",
        "\n",
        "class SpatialProjection():\n",
        "    def __init__(\n",
        "        self,\n",
        "        img_dir: str,\n",
        "        img_len: int,\n",
        "        polyfit_degree: int = 0\n",
        "    ):\n",
        "        self.img_dir = img_dir\n",
        "        self.img_len = img_len\n",
        "        self.polyfit_degree = polyfit_degree\n",
        "\n",
        "    @staticmethod\n",
        "    def __write_image(\n",
        "        img: np.ndarray,\n",
        "        write_dir: str,\n",
        "        plane: str,\n",
        "        name: str\n",
        "    ):\n",
        "        path = os.path.join(write_dir, plane)\n",
        "        if not os.path.exists(path):\n",
        "            os.makedirs(path)\n",
        "        cv2.imwrite(os.path.join(path, name + \".jpg\"), img)\n",
        "\n",
        "    def __get_preocessed_data(\n",
        "        self,\n",
        "        data: pd.Series\n",
        "    ) -> np.ndarray:\n",
        "        processed_data = data.to_numpy().ravel()\n",
        "\n",
        "        if self.polyfit_degree == 0:\n",
        "            # ... First few (10) datapoints contains filter artifacts\n",
        "            processed_data = LowPassFilter.apply(processed_data)[10:]\n",
        "        else:\n",
        "            t = np.linspace(0, 1, processed_data.shape[0])\n",
        "            f = np.poly1d(np.polyfit(t, processed_data, self.polyfit_degree))\n",
        "            processed_data = f(t)\n",
        "\n",
        "        return processed_data\n",
        "\n",
        "    def __generate_projection_image(\n",
        "        self,\n",
        "        x: np.ndarray,\n",
        "        y: np.ndarray\n",
        "    ) -> np.ndarray:\n",
        "        img_len_inch = self.img_len / 100.0  # 100 is the Figure DPI value\n",
        "        fig = Figure(figsize=(img_len_inch, img_len_inch))\n",
        "        width, height = fig.get_size_inches() * fig.get_dpi()\n",
        "\n",
        "        canvas = FigureCanvas(fig)\n",
        "        ax = fig.gca()\n",
        "        ax.plot(x, y, \"-k\", linewidth=2)\n",
        "        ax.axis(\"off\")\n",
        "        ax.xaxis.set_major_locator(NullLocator())\n",
        "        ax.yaxis.set_major_locator(NullLocator())\n",
        "        # fig.tight_layout()\n",
        "        canvas.draw()\n",
        "\n",
        "        image = np.frombuffer(canvas.tostring_rgb(), dtype=\"uint8\")\n",
        "        return image.reshape(int(height), int(width), 3)\n",
        "\n",
        "    def get_projection_images(\n",
        "        self,\n",
        "        data: pd.DataFrame,\n",
        "        subject: str,\n",
        "        gesture: str,\n",
        "        write_image: bool = False\n",
        "    ) -> List[np.ndarray]:\n",
        "        landmark = data.columns[0][:-1]\n",
        "        name = str(randint(100000, 999999))\n",
        "        write_dir = os.path.join(self.img_dir, subject, gesture, landmark)\n",
        "\n",
        "        x = self.__get_preocessed_data(data.filter(regex=\"x\"))\n",
        "        y = self.__get_preocessed_data(data.filter(regex=\"y\"))\n",
        "        z = self.__get_preocessed_data(data.filter(regex=\"z\"))\n",
        "\n",
        "        img_xy = self.__generate_projection_image(x, y)\n",
        "        img_yz = self.__generate_projection_image(y, z)\n",
        "        img_zx = self.__generate_projection_image(z, x)\n",
        "\n",
        "        if write_image == True:\n",
        "            self.__write_image(img_xy, write_dir, \"xy\", name)\n",
        "            self.__write_image(img_yz, write_dir, \"yz\", name)\n",
        "            self.__write_image(img_zx, write_dir, \"zx\", name)\n",
        "\n",
        "        return [img_xy, img_yz, img_zx]\n"
      ]
    },
    {
      "cell_type": "markdown",
      "metadata": {
        "id": "j-YekhXi-l0Z"
      },
      "source": [
        "# Setup"
      ]
    },
    {
      "cell_type": "code",
      "execution_count": 7,
      "metadata": {
        "id": "kikTLk44-l0a"
      },
      "outputs": [],
      "source": [
        "augmentation_levels = [0, 7, 9, 11, 13]\n",
        "sp_augment = [\n",
        "    SpatialProjection(\n",
        "    img_dir=\"images/\",\n",
        "    img_len=math.floor(config.IMG_LEN / 3),\n",
        "    polyfit_degree=degree\n",
        ")\n",
        "    for degree in augmentation_levels ]\n",
        "\n"
      ]
    },
    {
      "cell_type": "code",
      "execution_count": 8,
      "metadata": {
        "id": "8yz5PmRJ-l0a",
        "outputId": "5df76eab-9010-4f24-c5d5-a04b9faa3f67",
        "colab": {
          "base_uri": "https://localhost:8080/"
        }
      },
      "outputs": [
        {
          "output_type": "stream",
          "name": "stdout",
          "text": [
            "(4535, 224, 224, 1)\n",
            "(252, 224, 224, 1)\n",
            "(4535,)\n",
            "(252,)\n"
          ]
        }
      ],
      "source": [
        "X_train = joblib.load(\"X_train.joblib\")\n",
        "y_train = joblib.load(\"y_train.joblib\")\n",
        "X_test = joblib.load(\"X_test.joblib\")\n",
        "y_test = joblib.load(\"y_test.joblib\")\n",
        "\n",
        "print(X_train.shape)\n",
        "print(X_test.shape)\n",
        "print(y_train.shape)\n",
        "print(y_test.shape)"
      ]
    },
    {
      "cell_type": "markdown",
      "metadata": {
        "id": "ygCO2p0d-l0a"
      },
      "source": [
        "# Pretrained Nets"
      ]
    },
    {
      "cell_type": "code",
      "execution_count": 9,
      "metadata": {
        "id": "0CaWac8O-l0a"
      },
      "outputs": [],
      "source": [
        "# X_train = np.repeat(X_train, 3, axis=-1)\n",
        "# X_test = np.repeat(X_test, 3, axis=-1)\n",
        "\n",
        "# preprocess_input = tf.keras.applications.mobilenet_v2.preprocess_input\n",
        "# base_model = tf.keras.applications.MobileNetV2(\n",
        "#     input_shape=(config.IMG_LEN, config.IMG_LEN, 3),\n",
        "#     include_top=False,\n",
        "#     weights=\"imagenet\"\n",
        "# )\n",
        "# base_model.trainable = False\n",
        "# global_average_layer = tf.keras.layers.GlobalAveragePooling2D()\n",
        "# prediction_layer = tf.keras.layers.Dense(len(config.GESTURES))\n",
        "\n",
        "# inputs = tf.keras.Input(shape=(config.IMG_LEN, config.IMG_LEN, 3))\n",
        "# x = preprocess_input(inputs)\n",
        "# x = base_model(x, training=False)\n",
        "# x = global_average_layer(x)\n",
        "# x = tf.keras.layers.Dropout(0.2)(x)\n",
        "# outputs = prediction_layer(x)\n",
        "# model = tf.keras.Model(inputs, outputs)"
      ]
    },
    {
      "cell_type": "markdown",
      "source": [
        "# ViT"
      ],
      "metadata": {
        "id": "Y26bj3rDJ5wE"
      }
    },
    {
      "cell_type": "code",
      "source": [
        "!pip install -U tensorflow-addons\n",
        "\n",
        "import numpy as np\n",
        "import tensorflow as tf\n",
        "from tensorflow import keras\n",
        "from tensorflow.keras import layers\n",
        "import tensorflow_addons as tfa\n",
        "\n",
        "learning_rate = 0.001\n",
        "weight_decay = 0.0001\n",
        "batch_size = 256\n",
        "num_epochs = 100\n",
        "image_size = 144  # We'll resize input images to this size\n",
        "patch_size = 12  # Size of the patches to be extract from the input images\n",
        "num_patches = (image_size // patch_size) ** 2\n",
        "projection_dim = 64\n",
        "num_heads = 4\n",
        "transformer_units = [\n",
        "    projection_dim * 2,\n",
        "    projection_dim,\n",
        "]  # Size of the transformer layers\n",
        "transformer_layers = 8\n",
        "mlp_head_units = [2048, 1024] \n",
        "\n",
        "def mlp(x, hidden_units, dropout_rate):\n",
        "    for units in hidden_units:\n",
        "        x = layers.Dense(units, activation=tf.nn.gelu)(x)\n",
        "        x = layers.Dropout(dropout_rate)(x)\n",
        "    return x\n",
        "\n",
        "class Patches(layers.Layer):\n",
        "    def __init__(self, patch_size):\n",
        "        super(Patches, self).__init__()\n",
        "        self.patch_size = patch_size\n",
        "\n",
        "    def call(self, images):\n",
        "        batch_size = tf.shape(images)[0]\n",
        "        patches = tf.image.extract_patches(\n",
        "            images=images,\n",
        "            sizes=[1, self.patch_size, self.patch_size, 1],\n",
        "            strides=[1, self.patch_size, self.patch_size, 1],\n",
        "            rates=[1, 1, 1, 1],\n",
        "            padding=\"VALID\",\n",
        "        )\n",
        "        patch_dims = patches.shape[-1]\n",
        "        patches = tf.reshape(patches, [batch_size, -1, patch_dims])\n",
        "        return patches\n",
        "\n",
        "class PatchEncoder(layers.Layer):\n",
        "    def __init__(self, num_patches, projection_dim):\n",
        "        super(PatchEncoder, self).__init__()\n",
        "        self.num_patches = num_patches\n",
        "        self.projection = layers.Dense(units=projection_dim)\n",
        "        self.position_embedding = layers.Embedding(\n",
        "            input_dim=num_patches, output_dim=projection_dim\n",
        "        )\n",
        "\n",
        "    def call(self, patch):\n",
        "        positions = tf.range(start=0, limit=self.num_patches, delta=1)\n",
        "        encoded = self.projection(patch) + self.position_embedding(positions)\n",
        "        return encoded\n",
        "\n",
        "data_augmentation = keras.Sequential(\n",
        "    [\n",
        "        layers.Normalization(),\n",
        "        layers.Resizing(image_size, image_size),\n",
        "        # layers.RandomFlip(\"horizontal\"),\n",
        "        # layers.RandomRotation(factor=0.02),\n",
        "        # layers.RandomZoom(\n",
        "        #     height_factor=0.2, width_factor=0.2\n",
        "        # ),\n",
        "    ],\n",
        "    name=\"data_augmentation\",\n",
        ")\n",
        "\n",
        "data_augmentation.layers[0].adapt(X_train)\n",
        "\n",
        "def create_vit_classifier():\n",
        "    inputs = layers.Input(shape=(224, 224, 1))\n",
        "    # Augment data.\n",
        "    augmented = data_augmentation(inputs)\n",
        "    # Create patches.\n",
        "    patches = Patches(patch_size)(augmented)\n",
        "    # Encode patches.\n",
        "    encoded_patches = PatchEncoder(num_patches, projection_dim)(patches)\n",
        "\n",
        "    # Create multiple layers of the Transformer block.\n",
        "    for _ in range(transformer_layers):\n",
        "        # Layer normalization 1.\n",
        "        x1 = layers.LayerNormalization(epsilon=1e-6)(encoded_patches)\n",
        "        # Create a multi-head attention layer.\n",
        "        attention_output = layers.MultiHeadAttention(\n",
        "            num_heads=num_heads, key_dim=projection_dim, dropout=0.2\n",
        "        )(x1, x1)\n",
        "        # Skip connection 1.\n",
        "        x2 = layers.Add()([attention_output, encoded_patches])\n",
        "        # Layer normalization 2.\n",
        "        x3 = layers.LayerNormalization(epsilon=1e-6)(x2)\n",
        "        # MLP.\n",
        "        x3 = mlp(x3, hidden_units=transformer_units, dropout_rate=0.2)\n",
        "        # Skip connection 2.\n",
        "        encoded_patches = layers.Add()([x3, x2])\n",
        "\n",
        "    # Create a [batch_size, projection_dim] tensor.\n",
        "    representation = layers.LayerNormalization(epsilon=1e-6)(encoded_patches)\n",
        "    representation = layers.Flatten()(representation)\n",
        "    representation = layers.Dropout(0.5)(representation)\n",
        "    # Add MLP.\n",
        "    features = mlp(representation, hidden_units=mlp_head_units, dropout_rate=0.5)\n",
        "    # Classify outputs.\n",
        "    logits = layers.Dense(len(config.GESTURES))(features)\n",
        "    # Create the Keras model.\n",
        "    model = keras.Model(inputs=inputs, outputs=logits)\n",
        "    return model\n",
        "\n",
        "model = create_vit_classifier()\n",
        "\n",
        "optimizer = tfa.optimizers.AdamW(\n",
        "    learning_rate=learning_rate, weight_decay=weight_decay\n",
        ")\n",
        "\n",
        "model.compile(\n",
        "    optimizer=optimizer,\n",
        "    loss=keras.losses.SparseCategoricalCrossentropy(from_logits=True),\n",
        "    metrics=[\n",
        "        keras.metrics.SparseCategoricalAccuracy(name=\"accuracy\"),\n",
        "        keras.metrics.SparseTopKCategoricalAccuracy(5, name=\"top-5-accuracy\"),\n",
        "    ],\n",
        ")\n"
      ],
      "metadata": {
        "id": "6AQ93yp3J7du",
        "outputId": "d50c31c8-ddbf-4a08-f2d8-2549245891d9",
        "colab": {
          "base_uri": "https://localhost:8080/"
        }
      },
      "execution_count": 10,
      "outputs": [
        {
          "output_type": "stream",
          "name": "stdout",
          "text": [
            "Looking in indexes: https://pypi.org/simple, https://us-python.pkg.dev/colab-wheels/public/simple/\n",
            "Requirement already satisfied: tensorflow-addons in /usr/local/lib/python3.7/dist-packages (0.17.1)\n",
            "Requirement already satisfied: typeguard>=2.7 in /usr/local/lib/python3.7/dist-packages (from tensorflow-addons) (2.7.1)\n",
            "Requirement already satisfied: packaging in /usr/local/lib/python3.7/dist-packages (from tensorflow-addons) (21.3)\n",
            "Requirement already satisfied: pyparsing!=3.0.5,>=2.0.2 in /usr/local/lib/python3.7/dist-packages (from packaging->tensorflow-addons) (3.0.9)\n"
          ]
        }
      ]
    },
    {
      "cell_type": "markdown",
      "metadata": {
        "id": "3Gnjr4rM-l0a"
      },
      "source": [
        "# ConvNet"
      ]
    },
    {
      "cell_type": "code",
      "execution_count": 11,
      "metadata": {
        "id": "z_6skMCu-l0b"
      },
      "outputs": [],
      "source": [
        "# model = tf.keras.models.Sequential([\n",
        "#     tf.keras.layers.Rescaling(\n",
        "#         1/255.0,\n",
        "#         input_shape=(config.IMG_LEN, config.IMG_LEN, config.N_CHANNELS)\n",
        "#     ),\n",
        "#     tf.keras.layers.Conv2D(16, (3, 3), activation=\"relu\"),\n",
        "#     tf.keras.layers.MaxPool2D((2, 2)),\n",
        "#     tf.keras.layers.Conv2D(16, (3, 3), activation=\"relu\"),\n",
        "#     tf.keras.layers.MaxPool2D((2, 2)),\n",
        "#     tf.keras.layers.Conv2D(32, (3, 3), activation=\"relu\"),\n",
        "#     tf.keras.layers.MaxPool2D((2, 2)),\n",
        "#     tf.keras.layers.Conv2D(32, (3, 3), activation=\"relu\"),\n",
        "#     tf.keras.layers.MaxPool2D((2, 2)),\n",
        "#     tf.keras.layers.Dropout(0.2),\n",
        "#     tf.keras.layers.Flatten(),\n",
        "#     tf.keras.layers.Dense(128, activation=\"relu\"),\n",
        "#     tf.keras.layers.Dropout(0.5),\n",
        "#     tf.keras.layers.Dense(len(config.GESTURES))\n",
        "# ])\n"
      ]
    },
    {
      "cell_type": "markdown",
      "metadata": {
        "id": "uC86dgDz-l0b"
      },
      "source": [
        "# Training"
      ]
    },
    {
      "cell_type": "code",
      "execution_count": 12,
      "metadata": {
        "id": "dne2773G-l0b",
        "outputId": "31517d04-0727-46bd-d061-cb2e36950e8d",
        "colab": {
          "base_uri": "https://localhost:8080/"
        }
      },
      "outputs": [
        {
          "output_type": "stream",
          "name": "stdout",
          "text": [
            "Epoch 1/100\n",
            "18/18 [==============================] - 26s 545ms/step - loss: 2.9754 - accuracy: 0.2620 - top-5-accuracy: 0.6503 - val_loss: 1.6224 - val_accuracy: 0.5595 - val_top-5-accuracy: 0.9405\n",
            "Epoch 2/100\n",
            "18/18 [==============================] - 7s 376ms/step - loss: 1.1608 - accuracy: 0.6271 - top-5-accuracy: 0.9270 - val_loss: 0.7997 - val_accuracy: 0.7738 - val_top-5-accuracy: 0.9643\n",
            "Epoch 3/100\n",
            "18/18 [==============================] - 7s 370ms/step - loss: 0.6941 - accuracy: 0.7841 - top-5-accuracy: 0.9709 - val_loss: 0.4862 - val_accuracy: 0.8770 - val_top-5-accuracy: 0.9881\n",
            "Epoch 4/100\n",
            "18/18 [==============================] - 7s 372ms/step - loss: 0.4392 - accuracy: 0.8639 - top-5-accuracy: 0.9846 - val_loss: 0.3751 - val_accuracy: 0.8968 - val_top-5-accuracy: 0.9802\n",
            "Epoch 5/100\n",
            "18/18 [==============================] - 7s 374ms/step - loss: 0.3425 - accuracy: 0.8805 - top-5-accuracy: 0.9850 - val_loss: 0.3390 - val_accuracy: 0.8929 - val_top-5-accuracy: 0.9841\n",
            "Epoch 6/100\n",
            "18/18 [==============================] - 7s 374ms/step - loss: 0.2690 - accuracy: 0.9144 - top-5-accuracy: 0.9894 - val_loss: 0.3017 - val_accuracy: 0.8968 - val_top-5-accuracy: 0.9802\n",
            "Epoch 7/100\n",
            "18/18 [==============================] - 7s 370ms/step - loss: 0.2462 - accuracy: 0.9173 - top-5-accuracy: 0.9890 - val_loss: 0.3057 - val_accuracy: 0.8929 - val_top-5-accuracy: 0.9881\n",
            "Epoch 8/100\n",
            "18/18 [==============================] - 7s 377ms/step - loss: 0.2122 - accuracy: 0.9275 - top-5-accuracy: 0.9921 - val_loss: 0.2643 - val_accuracy: 0.9008 - val_top-5-accuracy: 0.9881\n",
            "Epoch 9/100\n",
            "18/18 [==============================] - 7s 379ms/step - loss: 0.2033 - accuracy: 0.9314 - top-5-accuracy: 0.9916 - val_loss: 0.2367 - val_accuracy: 0.9246 - val_top-5-accuracy: 0.9841\n",
            "Epoch 10/100\n",
            "18/18 [==============================] - 7s 374ms/step - loss: 0.1845 - accuracy: 0.9385 - top-5-accuracy: 0.9918 - val_loss: 0.2403 - val_accuracy: 0.9127 - val_top-5-accuracy: 0.9881\n",
            "Epoch 11/100\n",
            "18/18 [==============================] - 7s 383ms/step - loss: 0.1712 - accuracy: 0.9402 - top-5-accuracy: 0.9905 - val_loss: 0.2059 - val_accuracy: 0.9246 - val_top-5-accuracy: 0.9841\n",
            "Epoch 12/100\n",
            "18/18 [==============================] - 7s 382ms/step - loss: 0.1583 - accuracy: 0.9438 - top-5-accuracy: 0.9940 - val_loss: 0.1965 - val_accuracy: 0.9286 - val_top-5-accuracy: 0.9881\n",
            "Epoch 13/100\n",
            "18/18 [==============================] - 7s 379ms/step - loss: 0.1515 - accuracy: 0.9442 - top-5-accuracy: 0.9932 - val_loss: 0.2336 - val_accuracy: 0.9167 - val_top-5-accuracy: 0.9881\n",
            "Epoch 14/100\n",
            "18/18 [==============================] - 7s 385ms/step - loss: 0.1531 - accuracy: 0.9466 - top-5-accuracy: 0.9934 - val_loss: 0.2022 - val_accuracy: 0.9167 - val_top-5-accuracy: 0.9881\n",
            "Epoch 15/100\n",
            "18/18 [==============================] - 7s 379ms/step - loss: 0.1432 - accuracy: 0.9449 - top-5-accuracy: 0.9943 - val_loss: 0.2297 - val_accuracy: 0.9246 - val_top-5-accuracy: 0.9881\n",
            "Epoch 16/100\n",
            "18/18 [==============================] - 7s 378ms/step - loss: 0.1470 - accuracy: 0.9453 - top-5-accuracy: 0.9945 - val_loss: 0.2083 - val_accuracy: 0.9206 - val_top-5-accuracy: 0.9921\n",
            "Epoch 17/100\n",
            "18/18 [==============================] - 7s 378ms/step - loss: 0.1401 - accuracy: 0.9486 - top-5-accuracy: 0.9938 - val_loss: 0.2084 - val_accuracy: 0.9206 - val_top-5-accuracy: 0.9921\n",
            "Epoch 18/100\n",
            "18/18 [==============================] - 7s 382ms/step - loss: 0.1273 - accuracy: 0.9524 - top-5-accuracy: 0.9932 - val_loss: 0.1738 - val_accuracy: 0.9405 - val_top-5-accuracy: 0.9881\n",
            "Epoch 19/100\n",
            "18/18 [==============================] - 7s 377ms/step - loss: 0.1318 - accuracy: 0.9504 - top-5-accuracy: 0.9938 - val_loss: 0.1796 - val_accuracy: 0.9286 - val_top-5-accuracy: 0.9921\n",
            "Epoch 20/100\n",
            "18/18 [==============================] - 7s 376ms/step - loss: 0.1303 - accuracy: 0.9499 - top-5-accuracy: 0.9956 - val_loss: 0.2044 - val_accuracy: 0.9365 - val_top-5-accuracy: 0.9881\n",
            "Epoch 21/100\n",
            "18/18 [==============================] - 7s 379ms/step - loss: 0.1295 - accuracy: 0.9502 - top-5-accuracy: 0.9932 - val_loss: 0.1962 - val_accuracy: 0.9246 - val_top-5-accuracy: 0.9881\n",
            "Epoch 22/100\n",
            "18/18 [==============================] - 7s 377ms/step - loss: 0.1340 - accuracy: 0.9482 - top-5-accuracy: 0.9945 - val_loss: 0.2648 - val_accuracy: 0.8929 - val_top-5-accuracy: 0.9921\n",
            "Epoch 23/100\n",
            "18/18 [==============================] - 7s 378ms/step - loss: 0.1221 - accuracy: 0.9546 - top-5-accuracy: 0.9940 - val_loss: 0.2234 - val_accuracy: 0.9365 - val_top-5-accuracy: 0.9921\n",
            "Epoch 24/100\n",
            "18/18 [==============================] - 7s 377ms/step - loss: 0.1252 - accuracy: 0.9550 - top-5-accuracy: 0.9947 - val_loss: 0.2684 - val_accuracy: 0.9206 - val_top-5-accuracy: 0.9881\n",
            "Epoch 25/100\n",
            "18/18 [==============================] - 7s 377ms/step - loss: 0.1306 - accuracy: 0.9519 - top-5-accuracy: 0.9951 - val_loss: 0.2206 - val_accuracy: 0.9325 - val_top-5-accuracy: 0.9881\n",
            "Epoch 26/100\n",
            "18/18 [==============================] - 7s 377ms/step - loss: 0.1325 - accuracy: 0.9502 - top-5-accuracy: 0.9938 - val_loss: 0.2134 - val_accuracy: 0.9246 - val_top-5-accuracy: 0.9921\n",
            "Epoch 27/100\n",
            "18/18 [==============================] - 7s 377ms/step - loss: 0.1201 - accuracy: 0.9530 - top-5-accuracy: 0.9960 - val_loss: 0.2180 - val_accuracy: 0.9286 - val_top-5-accuracy: 0.9881\n",
            "Epoch 28/100\n",
            "18/18 [==============================] - 7s 377ms/step - loss: 0.1263 - accuracy: 0.9524 - top-5-accuracy: 0.9954 - val_loss: 0.1872 - val_accuracy: 0.9325 - val_top-5-accuracy: 0.9881\n",
            "Epoch 29/100\n",
            "18/18 [==============================] - 7s 378ms/step - loss: 0.1202 - accuracy: 0.9548 - top-5-accuracy: 0.9951 - val_loss: 0.2293 - val_accuracy: 0.9246 - val_top-5-accuracy: 0.9881\n",
            "Epoch 30/100\n",
            "18/18 [==============================] - 7s 379ms/step - loss: 0.1191 - accuracy: 0.9559 - top-5-accuracy: 0.9951 - val_loss: 0.2249 - val_accuracy: 0.9246 - val_top-5-accuracy: 0.9921\n",
            "Epoch 31/100\n",
            "18/18 [==============================] - 7s 378ms/step - loss: 0.1147 - accuracy: 0.9557 - top-5-accuracy: 0.9940 - val_loss: 0.3095 - val_accuracy: 0.9246 - val_top-5-accuracy: 0.9960\n",
            "Epoch 32/100\n",
            "18/18 [==============================] - 7s 378ms/step - loss: 0.1142 - accuracy: 0.9577 - top-5-accuracy: 0.9954 - val_loss: 0.1789 - val_accuracy: 0.9246 - val_top-5-accuracy: 0.9921\n",
            "Epoch 33/100\n",
            "18/18 [==============================] - 7s 378ms/step - loss: 0.1260 - accuracy: 0.9517 - top-5-accuracy: 0.9960 - val_loss: 0.2345 - val_accuracy: 0.9127 - val_top-5-accuracy: 0.9881\n",
            "Epoch 34/100\n",
            "18/18 [==============================] - 7s 377ms/step - loss: 0.1167 - accuracy: 0.9563 - top-5-accuracy: 0.9965 - val_loss: 0.2050 - val_accuracy: 0.9246 - val_top-5-accuracy: 0.9921\n",
            "Epoch 35/100\n",
            "18/18 [==============================] - 7s 378ms/step - loss: 0.1073 - accuracy: 0.9570 - top-5-accuracy: 0.9956 - val_loss: 0.1992 - val_accuracy: 0.9365 - val_top-5-accuracy: 0.9921\n",
            "Epoch 36/100\n",
            "18/18 [==============================] - 7s 377ms/step - loss: 0.1196 - accuracy: 0.9577 - top-5-accuracy: 0.9960 - val_loss: 0.1949 - val_accuracy: 0.9206 - val_top-5-accuracy: 0.9960\n",
            "Epoch 37/100\n",
            "18/18 [==============================] - 7s 383ms/step - loss: 0.1272 - accuracy: 0.9535 - top-5-accuracy: 0.9956 - val_loss: 0.1736 - val_accuracy: 0.9325 - val_top-5-accuracy: 0.9921\n",
            "Epoch 38/100\n",
            "18/18 [==============================] - 7s 377ms/step - loss: 0.1107 - accuracy: 0.9596 - top-5-accuracy: 0.9967 - val_loss: 0.1979 - val_accuracy: 0.9246 - val_top-5-accuracy: 0.9921\n",
            "Epoch 39/100\n",
            "18/18 [==============================] - 7s 377ms/step - loss: 0.1059 - accuracy: 0.9592 - top-5-accuracy: 0.9958 - val_loss: 0.2588 - val_accuracy: 0.9087 - val_top-5-accuracy: 0.9881\n",
            "Epoch 40/100\n",
            "18/18 [==============================] - 7s 377ms/step - loss: 0.1123 - accuracy: 0.9577 - top-5-accuracy: 0.9954 - val_loss: 0.2353 - val_accuracy: 0.9246 - val_top-5-accuracy: 0.9921\n",
            "Epoch 41/100\n",
            "18/18 [==============================] - 7s 378ms/step - loss: 0.1030 - accuracy: 0.9583 - top-5-accuracy: 0.9965 - val_loss: 0.2456 - val_accuracy: 0.9206 - val_top-5-accuracy: 0.9921\n",
            "Epoch 42/100\n",
            "18/18 [==============================] - 7s 377ms/step - loss: 0.1049 - accuracy: 0.9610 - top-5-accuracy: 0.9949 - val_loss: 0.2099 - val_accuracy: 0.9286 - val_top-5-accuracy: 0.9881\n",
            "Epoch 43/100\n",
            "18/18 [==============================] - 7s 378ms/step - loss: 0.1018 - accuracy: 0.9607 - top-5-accuracy: 0.9958 - val_loss: 0.2155 - val_accuracy: 0.9246 - val_top-5-accuracy: 0.9841\n",
            "Epoch 44/100\n",
            "18/18 [==============================] - 7s 378ms/step - loss: 0.1039 - accuracy: 0.9590 - top-5-accuracy: 0.9967 - val_loss: 0.1869 - val_accuracy: 0.9365 - val_top-5-accuracy: 0.9881\n",
            "Epoch 45/100\n",
            "18/18 [==============================] - 7s 377ms/step - loss: 0.1030 - accuracy: 0.9601 - top-5-accuracy: 0.9958 - val_loss: 0.2042 - val_accuracy: 0.9325 - val_top-5-accuracy: 0.9881\n",
            "Epoch 46/100\n",
            "18/18 [==============================] - 7s 381ms/step - loss: 0.1056 - accuracy: 0.9599 - top-5-accuracy: 0.9949 - val_loss: 0.1653 - val_accuracy: 0.9444 - val_top-5-accuracy: 0.9881\n",
            "Epoch 47/100\n",
            "18/18 [==============================] - 7s 378ms/step - loss: 0.0999 - accuracy: 0.9592 - top-5-accuracy: 0.9974 - val_loss: 0.1765 - val_accuracy: 0.9365 - val_top-5-accuracy: 0.9921\n",
            "Epoch 48/100\n",
            "18/18 [==============================] - 7s 377ms/step - loss: 0.1003 - accuracy: 0.9585 - top-5-accuracy: 0.9967 - val_loss: 0.2261 - val_accuracy: 0.9325 - val_top-5-accuracy: 0.9881\n",
            "Epoch 49/100\n",
            "18/18 [==============================] - 7s 377ms/step - loss: 0.1085 - accuracy: 0.9616 - top-5-accuracy: 0.9949 - val_loss: 0.2625 - val_accuracy: 0.9167 - val_top-5-accuracy: 0.9921\n",
            "Epoch 50/100\n",
            "18/18 [==============================] - 7s 379ms/step - loss: 0.1107 - accuracy: 0.9594 - top-5-accuracy: 0.9960 - val_loss: 0.2040 - val_accuracy: 0.9127 - val_top-5-accuracy: 0.9881\n",
            "Epoch 51/100\n",
            "18/18 [==============================] - 7s 377ms/step - loss: 0.1016 - accuracy: 0.9583 - top-5-accuracy: 0.9949 - val_loss: 0.2837 - val_accuracy: 0.9167 - val_top-5-accuracy: 0.9921\n",
            "Epoch 52/100\n",
            "18/18 [==============================] - 7s 377ms/step - loss: 0.1067 - accuracy: 0.9596 - top-5-accuracy: 0.9951 - val_loss: 0.2989 - val_accuracy: 0.9167 - val_top-5-accuracy: 0.9881\n",
            "Epoch 53/100\n",
            "18/18 [==============================] - 7s 377ms/step - loss: 0.0970 - accuracy: 0.9594 - top-5-accuracy: 0.9967 - val_loss: 0.2222 - val_accuracy: 0.9246 - val_top-5-accuracy: 0.9921\n",
            "Epoch 54/100\n",
            "18/18 [==============================] - 7s 378ms/step - loss: 0.1029 - accuracy: 0.9579 - top-5-accuracy: 0.9960 - val_loss: 0.2129 - val_accuracy: 0.9286 - val_top-5-accuracy: 0.9960\n",
            "Epoch 55/100\n",
            "18/18 [==============================] - 7s 383ms/step - loss: 0.1024 - accuracy: 0.9590 - top-5-accuracy: 0.9963 - val_loss: 0.1580 - val_accuracy: 0.9405 - val_top-5-accuracy: 0.9921\n",
            "Epoch 56/100\n",
            "18/18 [==============================] - 7s 379ms/step - loss: 0.0968 - accuracy: 0.9621 - top-5-accuracy: 0.9954 - val_loss: 0.1805 - val_accuracy: 0.9365 - val_top-5-accuracy: 0.9881\n",
            "Epoch 57/100\n",
            "18/18 [==============================] - 7s 379ms/step - loss: 0.1043 - accuracy: 0.9592 - top-5-accuracy: 0.9960 - val_loss: 0.1625 - val_accuracy: 0.9444 - val_top-5-accuracy: 0.9921\n",
            "Epoch 58/100\n",
            "18/18 [==============================] - 7s 382ms/step - loss: 0.0976 - accuracy: 0.9610 - top-5-accuracy: 0.9969 - val_loss: 0.1509 - val_accuracy: 0.9444 - val_top-5-accuracy: 0.9960\n",
            "Epoch 59/100\n",
            "18/18 [==============================] - 7s 382ms/step - loss: 0.0985 - accuracy: 0.9621 - top-5-accuracy: 0.9956 - val_loss: 0.1441 - val_accuracy: 0.9405 - val_top-5-accuracy: 0.9960\n",
            "Epoch 60/100\n",
            "18/18 [==============================] - 7s 378ms/step - loss: 0.0966 - accuracy: 0.9630 - top-5-accuracy: 0.9960 - val_loss: 0.1946 - val_accuracy: 0.9365 - val_top-5-accuracy: 0.9921\n",
            "Epoch 61/100\n",
            "18/18 [==============================] - 7s 377ms/step - loss: 0.0945 - accuracy: 0.9634 - top-5-accuracy: 0.9960 - val_loss: 0.1814 - val_accuracy: 0.9365 - val_top-5-accuracy: 0.9921\n",
            "Epoch 62/100\n",
            "18/18 [==============================] - 7s 377ms/step - loss: 0.1039 - accuracy: 0.9590 - top-5-accuracy: 0.9954 - val_loss: 0.2775 - val_accuracy: 0.9246 - val_top-5-accuracy: 0.9921\n",
            "Epoch 63/100\n",
            "18/18 [==============================] - 7s 378ms/step - loss: 0.1059 - accuracy: 0.9583 - top-5-accuracy: 0.9965 - val_loss: 0.1709 - val_accuracy: 0.9365 - val_top-5-accuracy: 0.9921\n",
            "Epoch 64/100\n",
            "18/18 [==============================] - 7s 378ms/step - loss: 0.0988 - accuracy: 0.9623 - top-5-accuracy: 0.9949 - val_loss: 0.2649 - val_accuracy: 0.9087 - val_top-5-accuracy: 0.9921\n",
            "Epoch 65/100\n",
            "18/18 [==============================] - 7s 377ms/step - loss: 0.0998 - accuracy: 0.9607 - top-5-accuracy: 0.9965 - val_loss: 0.3631 - val_accuracy: 0.8968 - val_top-5-accuracy: 0.9921\n",
            "Epoch 66/100\n",
            "18/18 [==============================] - 7s 377ms/step - loss: 0.1058 - accuracy: 0.9621 - top-5-accuracy: 0.9965 - val_loss: 0.1622 - val_accuracy: 0.9484 - val_top-5-accuracy: 0.9881\n",
            "Epoch 67/100\n",
            "18/18 [==============================] - 7s 378ms/step - loss: 0.1055 - accuracy: 0.9583 - top-5-accuracy: 0.9969 - val_loss: 0.1811 - val_accuracy: 0.9484 - val_top-5-accuracy: 0.9921\n",
            "Epoch 68/100\n",
            "18/18 [==============================] - 7s 378ms/step - loss: 0.1151 - accuracy: 0.9596 - top-5-accuracy: 0.9949 - val_loss: 0.3053 - val_accuracy: 0.9048 - val_top-5-accuracy: 0.9921\n",
            "Epoch 69/100\n",
            "18/18 [==============================] - 7s 379ms/step - loss: 0.1020 - accuracy: 0.9607 - top-5-accuracy: 0.9965 - val_loss: 0.2364 - val_accuracy: 0.9206 - val_top-5-accuracy: 0.9881\n",
            "Epoch 70/100\n",
            "18/18 [==============================] - 7s 379ms/step - loss: 0.1068 - accuracy: 0.9585 - top-5-accuracy: 0.9954 - val_loss: 0.2167 - val_accuracy: 0.9206 - val_top-5-accuracy: 0.9960\n",
            "Epoch 71/100\n",
            "18/18 [==============================] - 7s 378ms/step - loss: 0.1076 - accuracy: 0.9605 - top-5-accuracy: 0.9958 - val_loss: 0.2148 - val_accuracy: 0.9167 - val_top-5-accuracy: 0.9881\n",
            "Epoch 72/100\n",
            "18/18 [==============================] - 7s 379ms/step - loss: 0.1045 - accuracy: 0.9590 - top-5-accuracy: 0.9947 - val_loss: 0.2083 - val_accuracy: 0.9325 - val_top-5-accuracy: 0.9921\n",
            "Epoch 73/100\n",
            "18/18 [==============================] - 7s 379ms/step - loss: 0.1100 - accuracy: 0.9577 - top-5-accuracy: 0.9958 - val_loss: 0.2869 - val_accuracy: 0.9167 - val_top-5-accuracy: 0.9881\n",
            "Epoch 74/100\n",
            "18/18 [==============================] - 7s 379ms/step - loss: 0.0998 - accuracy: 0.9605 - top-5-accuracy: 0.9971 - val_loss: 0.3102 - val_accuracy: 0.9206 - val_top-5-accuracy: 0.9921\n",
            "Epoch 75/100\n",
            "18/18 [==============================] - 7s 378ms/step - loss: 0.0994 - accuracy: 0.9599 - top-5-accuracy: 0.9958 - val_loss: 0.2087 - val_accuracy: 0.9246 - val_top-5-accuracy: 0.9960\n",
            "Epoch 76/100\n",
            "18/18 [==============================] - 7s 378ms/step - loss: 0.1200 - accuracy: 0.9577 - top-5-accuracy: 0.9951 - val_loss: 0.2762 - val_accuracy: 0.9127 - val_top-5-accuracy: 0.9960\n",
            "Epoch 77/100\n",
            "18/18 [==============================] - 7s 379ms/step - loss: 0.0999 - accuracy: 0.9610 - top-5-accuracy: 0.9960 - val_loss: 0.3347 - val_accuracy: 0.9206 - val_top-5-accuracy: 0.9841\n",
            "Epoch 78/100\n",
            "18/18 [==============================] - 7s 379ms/step - loss: 0.1076 - accuracy: 0.9583 - top-5-accuracy: 0.9971 - val_loss: 0.5398 - val_accuracy: 0.8929 - val_top-5-accuracy: 0.9881\n",
            "Epoch 79/100\n",
            "18/18 [==============================] - 7s 380ms/step - loss: 0.1139 - accuracy: 0.9572 - top-5-accuracy: 0.9967 - val_loss: 0.3490 - val_accuracy: 0.9167 - val_top-5-accuracy: 0.9921\n",
            "Epoch 80/100\n",
            "18/18 [==============================] - 7s 379ms/step - loss: 0.1086 - accuracy: 0.9594 - top-5-accuracy: 0.9971 - val_loss: 0.2155 - val_accuracy: 0.9325 - val_top-5-accuracy: 0.9881\n",
            "Epoch 81/100\n",
            "18/18 [==============================] - 7s 378ms/step - loss: 0.1015 - accuracy: 0.9590 - top-5-accuracy: 0.9960 - val_loss: 0.2313 - val_accuracy: 0.9246 - val_top-5-accuracy: 0.9881\n",
            "Epoch 82/100\n",
            "18/18 [==============================] - 7s 378ms/step - loss: 0.0981 - accuracy: 0.9599 - top-5-accuracy: 0.9949 - val_loss: 0.2986 - val_accuracy: 0.9286 - val_top-5-accuracy: 0.9921\n",
            "Epoch 83/100\n",
            "18/18 [==============================] - 7s 379ms/step - loss: 0.1122 - accuracy: 0.9570 - top-5-accuracy: 0.9976 - val_loss: 0.2292 - val_accuracy: 0.9286 - val_top-5-accuracy: 0.9881\n",
            "Epoch 84/100\n",
            "18/18 [==============================] - 7s 379ms/step - loss: 0.0979 - accuracy: 0.9599 - top-5-accuracy: 0.9960 - val_loss: 0.2287 - val_accuracy: 0.9206 - val_top-5-accuracy: 0.9881\n",
            "Epoch 85/100\n",
            "18/18 [==============================] - 7s 378ms/step - loss: 0.1030 - accuracy: 0.9577 - top-5-accuracy: 0.9965 - val_loss: 0.2732 - val_accuracy: 0.9246 - val_top-5-accuracy: 0.9881\n",
            "Epoch 86/100\n",
            "18/18 [==============================] - 7s 380ms/step - loss: 0.0999 - accuracy: 0.9596 - top-5-accuracy: 0.9971 - val_loss: 0.2254 - val_accuracy: 0.9405 - val_top-5-accuracy: 0.9881\n",
            "Epoch 87/100\n",
            "18/18 [==============================] - 7s 379ms/step - loss: 0.1075 - accuracy: 0.9572 - top-5-accuracy: 0.9960 - val_loss: 0.1957 - val_accuracy: 0.9325 - val_top-5-accuracy: 0.9881\n",
            "Epoch 88/100\n",
            "18/18 [==============================] - 7s 380ms/step - loss: 0.0979 - accuracy: 0.9623 - top-5-accuracy: 0.9974 - val_loss: 0.1958 - val_accuracy: 0.9405 - val_top-5-accuracy: 0.9881\n",
            "Epoch 89/100\n",
            "18/18 [==============================] - 7s 382ms/step - loss: 0.0974 - accuracy: 0.9627 - top-5-accuracy: 0.9971 - val_loss: 0.2323 - val_accuracy: 0.9286 - val_top-5-accuracy: 0.9881\n"
          ]
        }
      ],
      "source": [
        "# model.compile(\n",
        "#     optimizer=tf.keras.optimizers.Adam(learning_rate=config.LEARNING_RATE),\n",
        "#     loss=tf.keras.losses.SparseCategoricalCrossentropy(from_logits=True),\n",
        "#     metrics=['accuracy']\n",
        "# )\n",
        "\n",
        "callbacks = [\n",
        "    tf.keras.callbacks.EarlyStopping(\n",
        "        monitor=\"val_loss\",\n",
        "        patience=30,\n",
        "        restore_best_weights=True\n",
        "    )\n",
        "]\n",
        "\n",
        "history = model.fit(\n",
        "    x=X_train,\n",
        "    y=y_train,\n",
        "    validation_data=(X_test, y_test),\n",
        "    batch_size=batch_size,\n",
        "    epochs=num_epochs,\n",
        "    verbose=1,\n",
        "    callbacks=callbacks\n",
        ")"
      ]
    },
    {
      "cell_type": "code",
      "execution_count": 13,
      "metadata": {
        "id": "ZI-yVWUU-l0b",
        "outputId": "3d0c0602-a7c3-4739-9956-972f995137c1",
        "colab": {
          "base_uri": "https://localhost:8080/",
          "height": 415
        }
      },
      "outputs": [
        {
          "output_type": "display_data",
          "data": {
            "text/plain": [
              "<Figure size 576x432 with 1 Axes>"
            ],
            "image/png": "[encoded data removed]"
          },
          "metadata": {
            "needs_background": "light"
          }
        }
      ],
      "source": [
        "import matplotlib.pyplot as plt\n",
        "\n",
        "plt.rcParams.update({\n",
        "    # \"text.usetex\": True,\n",
        "    \"font.family\": \"serif\",\n",
        "    # \"font.serif\": [\"Computer Modern Roman\"],\n",
        "    \"font.size\": 22,\n",
        "    \"text.color\": \"#212121\",\n",
        "    \"axes.edgecolor\": \"#212121\",\n",
        "    \"xtick.color\": \"#212121\",\n",
        "    \"ytick.color\": \"#212121\",\n",
        "    \"axes.labelcolor\": \"#212121\",\n",
        "    'legend.frameon': False,\n",
        "})\n",
        "\n",
        "fig = plt.figure(figsize=(8, 6))\n",
        "ax = fig.gca()\n",
        "ax.plot(history.history[\"loss\"], \"-\", color=\"#212121\", label=\"Train Loss\")\n",
        "ax.plot(history.history[\"val_loss\"], \"--\",\n",
        "        color=\"#212121\", label=\"Validation Loss\")\n",
        "ax.set_xlabel(\"Epoch\")\n",
        "ax.set_ylabel(\"Loss\")\n",
        "ax.spines['right'].set_visible(False)\n",
        "ax.spines['top'].set_visible(False)\n",
        "plt.title(\"Learning Curves\")\n",
        "plt.legend()\n",
        "plt.tight_layout()\n",
        "# plt.savefig(\"../assets/lc.png\")\n",
        "plt.show()\n"
      ]
    },
    {
      "cell_type": "markdown",
      "metadata": {
        "id": "V42iaYRm-l0b"
      },
      "source": [
        "# Evaluation"
      ]
    },
    {
      "cell_type": "code",
      "execution_count": 14,
      "metadata": {
        "id": "4xLKP5HZ-l0b",
        "outputId": "e5d26910-10fa-4173-f69c-aeee55eea421",
        "colab": {
          "base_uri": "https://localhost:8080/"
        }
      },
      "outputs": [
        {
          "output_type": "stream",
          "name": "stdout",
          "text": [
            "8/8 [==============================] - 0s 27ms/step - loss: 0.1441 - accuracy: 0.9405 - top-5-accuracy: 0.9960\n"
          ]
        },
        {
          "output_type": "execute_result",
          "data": {
            "text/plain": [
              "[0.14409616589546204, 0.9404761791229248, 0.9960317611694336]"
            ]
          },
          "metadata": {},
          "execution_count": 14
        }
      ],
      "source": [
        "model.evaluate(X_test, y_test)"
      ]
    },
    {
      "cell_type": "code",
      "execution_count": 15,
      "metadata": {
        "id": "eyWk237y-l0c",
        "outputId": "fa59c559-8ebc-4a57-955c-4e4152b0ea69",
        "colab": {
          "base_uri": "https://localhost:8080/"
        }
      },
      "outputs": [
        {
          "output_type": "stream",
          "name": "stdout",
          "text": [
            "              precision    recall  f1-score   support\n",
            "\n",
            "           0       1.00      0.87      0.93        15\n",
            "           1       1.00      0.87      0.93        15\n",
            "           2       1.00      0.94      0.97        18\n",
            "           3       1.00      0.84      0.91        19\n",
            "           4       1.00      0.86      0.93        22\n",
            "           5       1.00      0.94      0.97        16\n",
            "           6       1.00      0.94      0.97        17\n",
            "           7       1.00      1.00      1.00        17\n",
            "           8       0.81      0.95      0.88        22\n",
            "           9       1.00      1.00      1.00        22\n",
            "          10       0.72      1.00      0.84        13\n",
            "          11       0.91      1.00      0.95        21\n",
            "          12       0.94      1.00      0.97        17\n",
            "          13       0.89      0.94      0.92        18\n",
            "\n",
            "    accuracy                           0.94       252\n",
            "   macro avg       0.95      0.94      0.94       252\n",
            "weighted avg       0.95      0.94      0.94       252\n",
            "\n"
          ]
        }
      ],
      "source": [
        "from sklearn.metrics import classification_report\n",
        "\n",
        "y_pred = np.argmax(model.predict(X_test), axis=1)\n",
        "print(classification_report(y_test, y_pred))"
      ]
    },
    {
      "cell_type": "code",
      "source": [
        "import seaborn as sns\n",
        "from sklearn.metrics import confusion_matrix\n",
        "\n",
        "plt.figure(figsize=(12, 10))\n",
        "cm = confusion_matrix(y_test, y_pred, normalize=\"true\")\n",
        "sns.heatmap(cm, cmap=\"summer\")\n",
        "plt.xticks(np.arange(len(config.GESTURES)) + 0.5, config.GESTURES, rotation=90)\n",
        "plt.yticks(np.arange(len(config.GESTURES)) + 0.5, config.GESTURES, rotation=0)\n",
        "plt.tight_layout()\n",
        "plt.savefig(\"cm.svg\")"
      ],
      "metadata": {
        "id": "_nE_hlbRCogk",
        "outputId": "30d8e61d-4e5f-4e67-9f25-39d7b7669994",
        "colab": {
          "base_uri": "https://localhost:8080/",
          "height": 703
        }
      },
      "execution_count": 16,
      "outputs": [
        {
          "output_type": "display_data",
          "data": {
            "text/plain": [
              "<Figure size 864x720 with 2 Axes>"
            ],
            "image/png": "[encoded data removed]"
          },
          "metadata": {
            "needs_background": "light"
          }
        }
      ]
    },
    {
      "cell_type": "code",
      "source": [
        ""
      ],
      "metadata": {
        "id": "YWHAKvg7Dxe-"
      },
      "execution_count": 16,
      "outputs": []
    }
  ],
  "metadata": {
    "kernelspec": {
      "display_name": "Python 3.10.4 ('.env': venv)",
      "language": "python",
      "name": "python3"
    },
    "language_info": {
      "codemirror_mode": {
        "name": "ipython",
        "version": 3
      },
      "file_extension": ".py",
      "mimetype": "text/x-python",
      "name": "python",
      "nbconvert_exporter": "python",
      "pygments_lexer": "ipython3",
      "version": "3.10.5"
    },
    "orig_nbformat": 4,
    "vscode": {
      "interpreter": {
        "hash": "3f0f52ed645d8567bae68a8c372449e0a23f49f10e778396b1f58fd2946c160c"
      }
    },
    "colab": {
      "name": "ProjectionNet.ipynb",
      "provenance": [],
      "include_colab_link": true
    },
    "accelerator": "GPU",
    "gpuClass": "standard"
  },
  "nbformat": 4,
  "nbformat_minor": 0
}