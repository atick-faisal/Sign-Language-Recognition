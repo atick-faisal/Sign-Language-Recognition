{
  "cells": [
    {
      "cell_type": "markdown",
      "metadata": {
        "colab_type": "text",
        "id": "view-in-github"
      },
      "source": [
        "<a href=\"https://colab.research.google.com/github/atick-faisal/Sign-Language-Recognition/blob/main/core/colab/ProjectionNet.ipynb\" target=\"_parent\"><img src=\"https://colab.research.google.com/assets/colab-badge.svg\" alt=\"Open In Colab\"/></a>"
      ]
    },
    {
      "cell_type": "code",
      "execution_count": null,
      "metadata": {
        "colab": {
          "base_uri": "https://localhost:8080/"
        },
        "id": "7sh6bFYl_bJu",
        "outputId": "39213df8-5890-4c30-8bb1-cc378d5bc835"
      },
      "outputs": [],
      "source": [
        "!gdown \"1XG0u9AUABi_nKrWs5D4LGfP7v1KUFdD6\"\n",
        "!tar -xvf \"lmc_dataset.tar.xz\""
      ]
    },
    {
      "cell_type": "code",
      "execution_count": null,
      "metadata": {
        "id": "qOtkluZD-l0Q"
      },
      "outputs": [],
      "source": [
        "import os\n",
        "import joblib\n",
        "import numpy as np\n",
        "import tensorflow as tf\n",
        "import matplotlib.pyplot as plt\n",
        "\n",
        "from tensorflow.keras import layers, models\n"
      ]
    },
    {
      "cell_type": "markdown",
      "metadata": {
        "id": "sSis6GXi-l0T"
      },
      "source": [
        "# Configuration"
      ]
    },
    {
      "cell_type": "code",
      "execution_count": null,
      "metadata": {
        "id": "LHMP-S6Q-l0U"
      },
      "outputs": [],
      "source": [
        "class config(object):\n",
        "    INFERENCE_TIME = 3.0  # ... Segment duration\n",
        "    HOLD_TIME = 2.0  # ... Time before next prediction session\n",
        "    SEGMENT_LEN = 256\n",
        "    IMG_LEN = 160  # 1/9 of the 224x224 image\n",
        "    N_CHANNELS = 3\n",
        "    LEARNING_RATE = 0.001\n",
        "    BATCH_SIZE = 32\n",
        "    N_EPOCHS = 100\n",
        "    PATIENCE = 10\n",
        "    PROJECTION_LANDMARKS = [\"rp\", \"rf0\", \"rf1\"]\n",
        "    INFERENCE_FEATURES = [\n",
        "        \"rpx\",\n",
        "        \"rpy\",\n",
        "        \"rpz\",\n",
        "        \"rf0x\",\n",
        "        \"rf0y\",\n",
        "        \"rf0z\",\n",
        "        \"rf1x\",\n",
        "        \"rf1y\",\n",
        "        \"rf1z\"\n",
        "    ]\n",
        "    MODEL_PREDICTION = \"dev.atick.slr.model.prediction\"\n",
        "    FRAME_EVENT = \"dev.atick.slr.frame\"\n",
        "    GESTURES = [\"Good\", \"Bad\", \"Fine\", \"Hello\", \"Yes\", \"Deaf\", \"Me\",\n",
        "                \"No\", \"Please\", \"Sorry\", \"Thank You\", \"You\", \"Hungry\", \"Goodbye\"]\n",
        "    FEATURE_NAMES = [\n",
        "        \"time\",\n",
        "        \"rpx\",\n",
        "        \"rpy\",\n",
        "        \"rpz\",\n",
        "        \"lpx\",\n",
        "        \"lpy\",\n",
        "        \"lpz\",\n",
        "        \"rf0x\",\n",
        "        \"rf0y\",\n",
        "        \"rf0z\",\n",
        "        \"rf1x\",\n",
        "        \"rf1y\",\n",
        "        \"rf1z\",\n",
        "        \"rf2x\",\n",
        "        \"rf2y\",\n",
        "        \"rf2z\",\n",
        "        \"rf3x\",\n",
        "        \"rf3y\",\n",
        "        \"rf3z\",\n",
        "        \"rf4x\",\n",
        "        \"rf4y\",\n",
        "        \"rf4z\",\n",
        "        \"lf0x\",\n",
        "        \"lf0y\",\n",
        "        \"lf0z\",\n",
        "        \"lf1x\",\n",
        "        \"lf1y\",\n",
        "        \"lf1z\",\n",
        "        \"lf2x\",\n",
        "        \"lf2y\",\n",
        "        \"lf2z\",\n",
        "        \"lf3x\",\n",
        "        \"lf3y\",\n",
        "        \"lf3z\",\n",
        "        \"lf4x\",\n",
        "        \"lf4y\",\n",
        "        \"lf4z\",\n",
        "    ]\n"
      ]
    },
    {
      "cell_type": "markdown",
      "metadata": {},
      "source": [
        "# Load Dataset"
      ]
    },
    {
      "cell_type": "code",
      "execution_count": null,
      "metadata": {
        "colab": {
          "base_uri": "https://localhost:8080/"
        },
        "id": "8yz5PmRJ-l0a",
        "outputId": "5df76eab-9010-4f24-c5d5-a04b9faa3f67"
      },
      "outputs": [],
      "source": [
        "X_train = joblib.load(\"X_train.joblib\")\n",
        "y_train = joblib.load(\"y_train.joblib\")\n",
        "X_test = joblib.load(\"X_test.joblib\")\n",
        "y_test = joblib.load(\"y_test.joblib\")\n",
        "\n",
        "print(X_train.shape)\n",
        "print(X_test.shape)\n",
        "print(y_train.shape)\n",
        "print(y_test.shape)"
      ]
    },
    {
      "cell_type": "markdown",
      "metadata": {},
      "source": [
        "# Model Construction"
      ]
    },
    {
      "cell_type": "code",
      "execution_count": null,
      "metadata": {},
      "outputs": [],
      "source": [
        "class ProjectionNet():\n",
        "    def __init__(\n",
        "        self,\n",
        "        n_classes: int,\n",
        "        base_model: tf.keras.Model,\n",
        "        feature_vector_shape: tuple = (150, 1),\n",
        "        projection_img_shape: tuple = (160, 160, 3),\n",
        "        n_feature_vectors: int = 6,\n",
        "        n_projections: int = 3\n",
        "    ):\n",
        "        self.projection_img_shape = projection_img_shape\n",
        "        self.feature_vector_shape = feature_vector_shape\n",
        "        self.n_feature_vectors = n_feature_vectors\n",
        "        self.n_projections = n_projections\n",
        "        self.base_model = base_model\n",
        "        self.base_model.trainable = False\n",
        "\n",
        "        self.dropout = layers.Dropout(0.5)\n",
        "\n",
        "        self.mlp1 = layers.Dense(\n",
        "            units=128,\n",
        "            activation=\"relu\"\n",
        "        )\n",
        "\n",
        "        self.mlp2 = layers.Dense(\n",
        "            units=n_classes,\n",
        "            activation=\"softmax\"\n",
        "        )\n",
        "\n",
        "    def conv_block_1d(self):\n",
        "        inputs = layers.Input(shape=self.feature_vector_shape)\n",
        "        x = layers.BatchNormalization()(inputs)\n",
        "        x = layers.Conv1D(8, 3, activation=\"selu\")(x)\n",
        "        x = layers.Conv1D(8, 3, activation=\"selu\")(x)\n",
        "        x = layers.MaxPool1D(2)(x)\n",
        "        x = layers.Conv1D(16, 3, activation=\"selu\")(x)\n",
        "        x = layers.Conv1D(16, 3, activation=\"selu\")(x)\n",
        "        x = layers.MaxPool1D(2)(x)\n",
        "        x = layers.Flatten()(x)\n",
        "        output = layers.Dense(32)(x)\n",
        "\n",
        "        return inputs, output\n",
        "\n",
        "    def conv_block_2d(self):\n",
        "        preprocess = layers.experimental.preprocessing.Rescaling(\n",
        "            scale=1.0/127.5,\n",
        "            offset=-1\n",
        "        )\n",
        "        inputs = layers.Input(shape=self.projection_img_shape)\n",
        "        x = preprocess(inputs)\n",
        "        x = self.base_model(x, training=False)\n",
        "        output = layers.GlobalAveragePooling2D()(x)\n",
        "\n",
        "        return inputs, output\n",
        "\n",
        "    def model(self):\n",
        "\n",
        "        inputs = []\n",
        "        features = []\n",
        "\n",
        "        for _ in range(self.n_feature_vectors):\n",
        "            input_1d, features_1d = self.conv_block_1d()\n",
        "            inputs.append(input_1d)\n",
        "            features.append(features_1d)\n",
        "\n",
        "        for _ in range(self.n_projections):\n",
        "            input_2d, features_2d = self.conv_block_2d()\n",
        "            inputs.append(input_2d)\n",
        "            features.append(features_2d)\n",
        "\n",
        "        x = layers.concatenate(features, axis=-1)\n",
        "        x = self.dropout(x)\n",
        "        x = self.mlp1(x)\n",
        "        x = self.dropout(x)\n",
        "        output = self.mlp2(x)\n",
        "\n",
        "        return models.Model(inputs, output)"
      ]
    },
    {
      "cell_type": "markdown",
      "metadata": {
        "id": "uC86dgDz-l0b"
      },
      "source": [
        "# Training"
      ]
    },
    {
      "cell_type": "code",
      "execution_count": null,
      "metadata": {
        "colab": {
          "base_uri": "https://localhost:8080/"
        },
        "id": "dne2773G-l0b",
        "outputId": "31517d04-0727-46bd-d061-cb2e36950e8d"
      },
      "outputs": [],
      "source": [
        "base_model = tf.keras.applications.MobileNetV2(\n",
        "    input_shape=(config.IMG_LEN, config.IMG_LEN, config.N_CHANNELS),\n",
        "    include_top=False,\n",
        "    weights=\"imagenet\"\n",
        ")\n",
        "\n",
        "model = ProjectionNet(\n",
        "    n_classes=len(config.GESTURES),\n",
        "    base_model=base_model\n",
        ").model()\n",
        "\n",
        "model.compile(\n",
        "    optimizer=tf.keras.optimizers.Adam(learning_rate=config.LEARNING_RATE),\n",
        "    loss=tf.keras.losses.SparseCategoricalCrossentropy(from_logits=True),\n",
        "    metrics=['accuracy']\n",
        ")\n",
        "\n",
        "callbacks = [\n",
        "    tf.keras.callbacks.EarlyStopping(\n",
        "        monitor=\"val_loss\",\n",
        "        patience=config.PATIENCE,\n",
        "        restore_best_weights=True\n",
        "    )\n",
        "]\n",
        "\n",
        "history = model.fit(\n",
        "    x=X_train,\n",
        "    y=y_train,\n",
        "    validation_data=(X_test, y_test),\n",
        "    batch_size=config.BATCH_SIZE,\n",
        "    epochs=config.N_EPOCHS,\n",
        "    verbose=1,\n",
        "    callbacks=callbacks\n",
        ")"
      ]
    },
    {
      "cell_type": "code",
      "execution_count": null,
      "metadata": {
        "colab": {
          "base_uri": "https://localhost:8080/",
          "height": 415
        },
        "id": "ZI-yVWUU-l0b",
        "outputId": "3d0c0602-a7c3-4739-9956-972f995137c1"
      },
      "outputs": [],
      "source": [
        "import matplotlib.pyplot as plt\n",
        "\n",
        "plt.rcParams.update({\n",
        "    # \"text.usetex\": True,\n",
        "    \"font.family\": \"serif\",\n",
        "    # \"font.serif\": [\"Computer Modern Roman\"],\n",
        "    \"font.size\": 22,\n",
        "    \"text.color\": \"#212121\",\n",
        "    \"axes.edgecolor\": \"#212121\",\n",
        "    \"xtick.color\": \"#212121\",\n",
        "    \"ytick.color\": \"#212121\",\n",
        "    \"axes.labelcolor\": \"#212121\",\n",
        "    'legend.frameon': False,\n",
        "})\n",
        "\n",
        "fig = plt.figure(figsize=(8, 6))\n",
        "ax = fig.gca()\n",
        "ax.plot(history.history[\"loss\"], \"-\", color=\"#212121\", label=\"Train Loss\")\n",
        "ax.plot(history.history[\"val_loss\"], \"--\",\n",
        "        color=\"#212121\", label=\"Validation Loss\")\n",
        "ax.set_xlabel(\"Epoch\")\n",
        "ax.set_ylabel(\"Loss\")\n",
        "ax.spines['right'].set_visible(False)\n",
        "ax.spines['top'].set_visible(False)\n",
        "plt.title(\"Learning Curves\")\n",
        "plt.legend()\n",
        "plt.tight_layout()\n",
        "# plt.savefig(\"../assets/lc.png\")\n",
        "plt.show()\n"
      ]
    },
    {
      "cell_type": "markdown",
      "metadata": {
        "id": "V42iaYRm-l0b"
      },
      "source": [
        "# Evaluation"
      ]
    },
    {
      "cell_type": "code",
      "execution_count": null,
      "metadata": {
        "colab": {
          "base_uri": "https://localhost:8080/"
        },
        "id": "4xLKP5HZ-l0b",
        "outputId": "e5d26910-10fa-4173-f69c-aeee55eea421"
      },
      "outputs": [],
      "source": [
        "model.evaluate(X_test, y_test)"
      ]
    },
    {
      "cell_type": "code",
      "execution_count": null,
      "metadata": {
        "colab": {
          "base_uri": "https://localhost:8080/"
        },
        "id": "eyWk237y-l0c",
        "outputId": "fa59c559-8ebc-4a57-955c-4e4152b0ea69"
      },
      "outputs": [],
      "source": [
        "from sklearn.metrics import classification_report\n",
        "\n",
        "y_pred = np.argmax(model.predict(X_test), axis=1)\n",
        "print(classification_report(y_test, y_pred))"
      ]
    },
    {
      "cell_type": "code",
      "execution_count": null,
      "metadata": {
        "colab": {
          "base_uri": "https://localhost:8080/",
          "height": 703
        },
        "id": "_nE_hlbRCogk",
        "outputId": "30d8e61d-4e5f-4e67-9f25-39d7b7669994"
      },
      "outputs": [],
      "source": [
        "import seaborn as sns\n",
        "from sklearn.metrics import confusion_matrix\n",
        "\n",
        "plt.figure(figsize=(12, 10))\n",
        "cm = confusion_matrix(y_test, y_pred, normalize=\"true\")\n",
        "sns.heatmap(cm, cmap=\"summer\")\n",
        "plt.xticks(np.arange(len(config.GESTURES)) + 0.5, config.GESTURES, rotation=90)\n",
        "plt.yticks(np.arange(len(config.GESTURES)) + 0.5, config.GESTURES, rotation=0)\n",
        "plt.tight_layout()\n",
        "plt.savefig(\"cm.svg\")"
      ]
    },
    {
      "cell_type": "code",
      "execution_count": null,
      "metadata": {
        "id": "YWHAKvg7Dxe-"
      },
      "outputs": [],
      "source": []
    }
  ],
  "metadata": {
    "accelerator": "GPU",
    "colab": {
      "include_colab_link": true,
      "name": "ProjectionNet.ipynb",
      "provenance": []
    },
    "gpuClass": "standard",
    "kernelspec": {
      "display_name": "Python 3.10.4 ('.env': venv)",
      "language": "python",
      "name": "python3"
    },
    "language_info": {
      "codemirror_mode": {
        "name": "ipython",
        "version": 3
      },
      "file_extension": ".py",
      "mimetype": "text/x-python",
      "name": "python",
      "nbconvert_exporter": "python",
      "pygments_lexer": "ipython3",
      "version": "3.10.5"
    },
    "orig_nbformat": 4,
    "vscode": {
      "interpreter": {
        "hash": "3f0f52ed645d8567bae68a8c372449e0a23f49f10e778396b1f58fd2946c160c"
      }
    }
  },
  "nbformat": 4,
  "nbformat_minor": 0
}
